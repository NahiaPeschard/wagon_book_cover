{
 "cells": [
  {
   "cell_type": "code",
   "execution_count": 37,
   "metadata": {},
   "outputs": [],
   "source": [
    "from google.cloud import vision\n",
    "import io\n",
    "import pandas as pd\n",
    "import os\n",
    "import cv2\n",
    "from textblob import TextBlob"
   ]
  },
  {
   "cell_type": "code",
   "execution_count": 2,
   "metadata": {},
   "outputs": [],
   "source": [
    "# authenticate client \n",
    "client = vision.ImageAnnotatorClient.from_service_account_json('XXXX.json')"
   ]
  },
  {
   "cell_type": "code",
   "execution_count": 5,
   "metadata": {},
   "outputs": [],
   "source": [
    "X = pd.read_csv(\"../raw_data/train_x.csv\", delimiter=\" \", index_col=\"Id\")"
   ]
  },
  {
   "cell_type": "code",
   "execution_count": 8,
   "metadata": {},
   "outputs": [],
   "source": [
    "image_path = os.path.join(\"../raw_data/Images/\", X['Image_name'][1])\n",
    "#image = cv2.imread(image_path)"
   ]
  },
  {
   "cell_type": "code",
   "execution_count": 9,
   "metadata": {},
   "outputs": [],
   "source": [
    "with io.open(image_path, 'rb') as image_file:\n",
    "    content = image_file.read()\n",
    "\n",
    "image = vision.Image(content=content)"
   ]
  },
  {
   "cell_type": "code",
   "execution_count": 14,
   "metadata": {},
   "outputs": [
    {
     "name": "stdout",
     "output_type": "stream",
     "text": [
      "Title: Maghets\n",
      "Pulling Together\n",
      "Pushing Apart\n"
     ]
    }
   ],
   "source": [
    "response = client.text_detection(image=image)\n",
    "texts = response.text_annotations\n",
    "text_content = ''\n",
    "\n",
    "if texts:\n",
    "    title = texts[0].description\n",
    "else:\n",
    "    title = '' \n",
    "    \n",
    "print('Title:', title)\n"
   ]
  },
  {
   "cell_type": "code",
   "execution_count": 24,
   "metadata": {},
   "outputs": [
    {
     "name": "stdout",
     "output_type": "stream",
     "text": [
      "           Image_name                                              Title\n",
      "0      1588345297.jpg  Colet example, and SA sported ronals Gentl Twi...\n",
      "1      1404803335.jpg             Maghets Pulling Together Pushing Apart\n",
      "2      1446276082.jpg  ENERGY SECURITY VOLUME SAGE LIBRARY OF INTERNA...\n",
      "3      1491522666.jpg  AUDIOBOOK MP3-CD Insert Transfer Listen! TREES...\n",
      "4      0970096410.jpg       City of Rocks Idaho A Climber's Guide untale\n",
      "...               ...                                                ...\n",
      "51295  0399176055.jpg  JOHN SANDFORD NEW YORK TIMES-BESTSELLING AUTHO...\n",
      "51296  0719816629.jpg  SECOND EDITION THE CRIME WRITER'S GUIDE TO POL...\n",
      "51297  0385353596.jpg             THE JEZEBEL REMEDY A Nord MARTIN CLARK\n",
      "51298  1475988559.jpg                                STARTUP GLENN OGURA\n",
      "51299  045147483X.jpg  Bad karaden The Mystery Mystery Ender KILLER T...\n",
      "\n",
      "[51300 rows x 2 columns]\n"
     ]
    }
   ],
   "source": [
    "# Create an empty DataFrame to store the extracted text\n",
    "data = []\n",
    "\n",
    "for i in range(len(X['Image_name'])):\n",
    "    image_path = os.path.join(\"../raw_data/Images/\", X['Image_name'][i])\n",
    "    with io.open(image_path, 'rb') as image_file:\n",
    "        content = image_file.read()\n",
    "\n",
    "    image = vision.Image(content=content)\n",
    "    response = client.text_detection(image=image)\n",
    "    texts = response.text_annotations\n",
    "\n",
    "    if texts:\n",
    "        title = texts[0].description.replace('\\n', ' ')\n",
    "    else:\n",
    "        title = ''\n",
    "        \n",
    "    title = title.strip() \n",
    "\n",
    "    # Append the extracted text to the DataFrame\n",
    "    data.append({'Image_name': X['Image_name'][i], 'Title': title})\n",
    "\n",
    "# Print the DataFrame with the extracted text\n",
    "df = pd.DataFrame(data)\n",
    "\n",
    "print(df) "
   ]
  },
  {
   "cell_type": "code",
   "execution_count": 43,
   "metadata": {},
   "outputs": [
    {
     "data": {
      "text/html": [
       "<div>\n",
       "<style scoped>\n",
       "    .dataframe tbody tr th:only-of-type {\n",
       "        vertical-align: middle;\n",
       "    }\n",
       "\n",
       "    .dataframe tbody tr th {\n",
       "        vertical-align: top;\n",
       "    }\n",
       "\n",
       "    .dataframe thead th {\n",
       "        text-align: right;\n",
       "    }\n",
       "</style>\n",
       "<table border=\"1\" class=\"dataframe\">\n",
       "  <thead>\n",
       "    <tr style=\"text-align: right;\">\n",
       "      <th></th>\n",
       "      <th>Image_name</th>\n",
       "      <th>Title</th>\n",
       "    </tr>\n",
       "  </thead>\n",
       "  <tbody>\n",
       "    <tr>\n",
       "      <th>0</th>\n",
       "      <td>1588345297.jpg</td>\n",
       "      <td>Colet example, and SA sported ronals Gentl Twi...</td>\n",
       "    </tr>\n",
       "    <tr>\n",
       "      <th>1</th>\n",
       "      <td>1404803335.jpg</td>\n",
       "      <td>Maghets Pulling Together Pushing Apart</td>\n",
       "    </tr>\n",
       "    <tr>\n",
       "      <th>2</th>\n",
       "      <td>1446276082.jpg</td>\n",
       "      <td>ENERGY SECURITY VOLUME SAGE LIBRARY OF INTERNA...</td>\n",
       "    </tr>\n",
       "    <tr>\n",
       "      <th>3</th>\n",
       "      <td>1491522666.jpg</td>\n",
       "      <td>AUDIOBOOK MP3-CD Insert Transfer Listen! TREES...</td>\n",
       "    </tr>\n",
       "    <tr>\n",
       "      <th>4</th>\n",
       "      <td>0970096410.jpg</td>\n",
       "      <td>City of Rocks Idaho A Climber's Guide untale</td>\n",
       "    </tr>\n",
       "    <tr>\n",
       "      <th>...</th>\n",
       "      <td>...</td>\n",
       "      <td>...</td>\n",
       "    </tr>\n",
       "    <tr>\n",
       "      <th>51295</th>\n",
       "      <td>0399176055.jpg</td>\n",
       "      <td>JOHN SANDFORD NEW YORK TIMES-BESTSELLING AUTHO...</td>\n",
       "    </tr>\n",
       "    <tr>\n",
       "      <th>51296</th>\n",
       "      <td>0719816629.jpg</td>\n",
       "      <td>SECOND EDITION THE CRIME WRITER'S GUIDE TO POL...</td>\n",
       "    </tr>\n",
       "    <tr>\n",
       "      <th>51297</th>\n",
       "      <td>0385353596.jpg</td>\n",
       "      <td>THE JEZEBEL REMEDY A Nord MARTIN CLARK</td>\n",
       "    </tr>\n",
       "    <tr>\n",
       "      <th>51298</th>\n",
       "      <td>1475988559.jpg</td>\n",
       "      <td>STARTUP GLENN OGURA</td>\n",
       "    </tr>\n",
       "    <tr>\n",
       "      <th>51299</th>\n",
       "      <td>045147483X.jpg</td>\n",
       "      <td>Bad karaden The Mystery Mystery Ender KILLER T...</td>\n",
       "    </tr>\n",
       "  </tbody>\n",
       "</table>\n",
       "<p>51300 rows × 2 columns</p>\n",
       "</div>"
      ],
      "text/plain": [
       "           Image_name                                              Title\n",
       "0      1588345297.jpg  Colet example, and SA sported ronals Gentl Twi...\n",
       "1      1404803335.jpg             Maghets Pulling Together Pushing Apart\n",
       "2      1446276082.jpg  ENERGY SECURITY VOLUME SAGE LIBRARY OF INTERNA...\n",
       "3      1491522666.jpg  AUDIOBOOK MP3-CD Insert Transfer Listen! TREES...\n",
       "4      0970096410.jpg       City of Rocks Idaho A Climber's Guide untale\n",
       "...               ...                                                ...\n",
       "51295  0399176055.jpg  JOHN SANDFORD NEW YORK TIMES-BESTSELLING AUTHO...\n",
       "51296  0719816629.jpg  SECOND EDITION THE CRIME WRITER'S GUIDE TO POL...\n",
       "51297  0385353596.jpg             THE JEZEBEL REMEDY A Nord MARTIN CLARK\n",
       "51298  1475988559.jpg                                STARTUP GLENN OGURA\n",
       "51299  045147483X.jpg  Bad karaden The Mystery Mystery Ender KILLER T...\n",
       "\n",
       "[51300 rows x 2 columns]"
      ]
     },
     "execution_count": 43,
     "metadata": {},
     "output_type": "execute_result"
    }
   ],
   "source": [
    "df"
   ]
  },
  {
   "cell_type": "code",
   "execution_count": 36,
   "metadata": {},
   "outputs": [],
   "source": [
    "df.to_csv('../raw_data/titles_data/titles_train.csv', index=False)\n"
   ]
  },
  {
   "cell_type": "code",
   "execution_count": 27,
   "metadata": {},
   "outputs": [],
   "source": [
    "empty = 0\n",
    "for i in data:\n",
    "    if not any(i):\n",
    "        empty += 1"
   ]
  },
  {
   "cell_type": "code",
   "execution_count": 28,
   "metadata": {},
   "outputs": [
    {
     "data": {
      "text/plain": [
       "0"
      ]
     },
     "execution_count": 28,
     "metadata": {},
     "output_type": "execute_result"
    }
   ],
   "source": [
    "empty"
   ]
  },
  {
   "cell_type": "markdown",
   "metadata": {},
   "source": [
    "## Test Set"
   ]
  },
  {
   "cell_type": "code",
   "execution_count": 38,
   "metadata": {},
   "outputs": [],
   "source": [
    "X_test = pd.read_csv(\"../raw_data/test_x.csv\", delimiter=\" \", index_col=\"Id\")"
   ]
  },
  {
   "cell_type": "code",
   "execution_count": 40,
   "metadata": {},
   "outputs": [
    {
     "data": {
      "text/html": [
       "<div>\n",
       "<style scoped>\n",
       "    .dataframe tbody tr th:only-of-type {\n",
       "        vertical-align: middle;\n",
       "    }\n",
       "\n",
       "    .dataframe tbody tr th {\n",
       "        vertical-align: top;\n",
       "    }\n",
       "\n",
       "    .dataframe thead th {\n",
       "        text-align: right;\n",
       "    }\n",
       "</style>\n",
       "<table border=\"1\" class=\"dataframe\">\n",
       "  <thead>\n",
       "    <tr style=\"text-align: right;\">\n",
       "      <th></th>\n",
       "      <th>Image_name</th>\n",
       "      <th>Title</th>\n",
       "    </tr>\n",
       "    <tr>\n",
       "      <th>Id</th>\n",
       "      <th></th>\n",
       "      <th></th>\n",
       "    </tr>\n",
       "  </thead>\n",
       "  <tbody>\n",
       "    <tr>\n",
       "      <th>0</th>\n",
       "      <td>044310073X.jpg</td>\n",
       "      <td>Oral and Maxillofacial Surgery: An Objective-B...</td>\n",
       "    </tr>\n",
       "    <tr>\n",
       "      <th>1</th>\n",
       "      <td>1438005687.jpg</td>\n",
       "      <td>Barron's GRE, 21st Edition</td>\n",
       "    </tr>\n",
       "    <tr>\n",
       "      <th>2</th>\n",
       "      <td>0060750715.jpg</td>\n",
       "      <td>George Balanchine: The Ballet Maker (Eminent L...</td>\n",
       "    </tr>\n",
       "    <tr>\n",
       "      <th>3</th>\n",
       "      <td>1580237959.jpg</td>\n",
       "      <td>A Partner in Holiness: Deepening Mindfulness, ...</td>\n",
       "    </tr>\n",
       "    <tr>\n",
       "      <th>4</th>\n",
       "      <td>0135137829.jpg</td>\n",
       "      <td>Construction Scheduling: Principles and Practi...</td>\n",
       "    </tr>\n",
       "    <tr>\n",
       "      <th>...</th>\n",
       "      <td>...</td>\n",
       "      <td>...</td>\n",
       "    </tr>\n",
       "    <tr>\n",
       "      <th>5695</th>\n",
       "      <td>0399174680.jpg</td>\n",
       "      <td>Scandalous Behavior (A Stone Barrington Novel)</td>\n",
       "    </tr>\n",
       "    <tr>\n",
       "      <th>5696</th>\n",
       "      <td>1939454654.jpg</td>\n",
       "      <td>Age of Distraction: The Island</td>\n",
       "    </tr>\n",
       "    <tr>\n",
       "      <th>5697</th>\n",
       "      <td>1604601604.jpg</td>\n",
       "      <td>The Ghostly Quilts on Main (Colebridge Communi...</td>\n",
       "    </tr>\n",
       "    <tr>\n",
       "      <th>5698</th>\n",
       "      <td>0399166726.jpg</td>\n",
       "      <td>Saving Jason (A Jason Stafford Novel)</td>\n",
       "    </tr>\n",
       "    <tr>\n",
       "      <th>5699</th>\n",
       "      <td>0062073508.jpg</td>\n",
       "      <td>Murder on the Orient Express: A Hercule Poirot...</td>\n",
       "    </tr>\n",
       "  </tbody>\n",
       "</table>\n",
       "<p>5700 rows × 2 columns</p>\n",
       "</div>"
      ],
      "text/plain": [
       "          Image_name                                              Title\n",
       "Id                                                                     \n",
       "0     044310073X.jpg  Oral and Maxillofacial Surgery: An Objective-B...\n",
       "1     1438005687.jpg                         Barron's GRE, 21st Edition\n",
       "2     0060750715.jpg  George Balanchine: The Ballet Maker (Eminent L...\n",
       "3     1580237959.jpg  A Partner in Holiness: Deepening Mindfulness, ...\n",
       "4     0135137829.jpg  Construction Scheduling: Principles and Practi...\n",
       "...              ...                                                ...\n",
       "5695  0399174680.jpg     Scandalous Behavior (A Stone Barrington Novel)\n",
       "5696  1939454654.jpg                     Age of Distraction: The Island\n",
       "5697  1604601604.jpg  The Ghostly Quilts on Main (Colebridge Communi...\n",
       "5698  0399166726.jpg              Saving Jason (A Jason Stafford Novel)\n",
       "5699  0062073508.jpg  Murder on the Orient Express: A Hercule Poirot...\n",
       "\n",
       "[5700 rows x 2 columns]"
      ]
     },
     "execution_count": 40,
     "metadata": {},
     "output_type": "execute_result"
    }
   ],
   "source": [
    "X_test"
   ]
  },
  {
   "cell_type": "code",
   "execution_count": 44,
   "metadata": {},
   "outputs": [
    {
     "name": "stdout",
     "output_type": "stream",
     "text": [
      "          Image_name                                              Title\n",
      "0     044310073X.jpg  Sereed Camion Oral and Maxillofacial Surgery A...\n",
      "1     1438005687.jpg  BARRON'S The Leader in Test Preparation GRE MO...\n",
      "2     0060750715.jpg  The Ballet Maker wwww. George Balanchine Rober...\n",
      "3     1580237959.jpg  INSTITUTE FOR JEWISH SPIRITUALITY SERIES A PAR...\n",
      "4     0135137829.jpg  Tu Oce P and P and Co acred Construction Sched...\n",
      "...              ...                                                ...\n",
      "5695  0399174680.jpg  #1 NEW YORK TIMES BESTSELLING AUTHOR STUART WO...\n",
      "5696  1939454654.jpg  STORIES FROM THE AGE OF DISTRACTION VOLUME ONE...\n",
      "5697  1604601604.jpg  Fifth Moved in the Culasidge Community Series ...\n",
      "5698  0399166726.jpg  WX -LIBA Saving Jason MICHAEL SEARS BLACK FRIDAYS\n",
      "5699  0062073508.jpg  THE QUEEN OF MYSTERY gatha Christie C MURDER O...\n",
      "\n",
      "[5700 rows x 2 columns]\n"
     ]
    }
   ],
   "source": [
    "# Create an empty DataFrame to store the extracted text\n",
    "data_test = []\n",
    "\n",
    "for i in range(len(X_test['Image_name'])):\n",
    "    image_path = os.path.join(\"../raw_data/Images/\", X_test['Image_name'][i])\n",
    "    with io.open(image_path, 'rb') as image_file:\n",
    "        content = image_file.read()\n",
    "\n",
    "    image = vision.Image(content=content)\n",
    "    response = client.text_detection(image=image)\n",
    "    texts = response.text_annotations\n",
    "\n",
    "    if texts:\n",
    "        title = texts[0].description.replace('\\n', ' ')\n",
    "    else:\n",
    "        title = ''\n",
    "        \n",
    "    title = title.strip() \n",
    "\n",
    "    # Append the extracted text to the DataFrame\n",
    "    data_test.append({'Image_name': X_test['Image_name'][i], 'Title': title})\n",
    "\n",
    "# Print the DataFrame with the extracted text\n",
    "df_test = pd.DataFrame(data_test)\n",
    "\n",
    "print(df_test) "
   ]
  },
  {
   "cell_type": "code",
   "execution_count": 45,
   "metadata": {},
   "outputs": [],
   "source": [
    "empty = 0\n",
    "for i in data_test:\n",
    "    if not any(i):\n",
    "        empty += 1"
   ]
  },
  {
   "cell_type": "code",
   "execution_count": 46,
   "metadata": {},
   "outputs": [
    {
     "data": {
      "text/plain": [
       "0"
      ]
     },
     "execution_count": 46,
     "metadata": {},
     "output_type": "execute_result"
    }
   ],
   "source": [
    "empty"
   ]
  },
  {
   "cell_type": "code",
   "execution_count": 48,
   "metadata": {},
   "outputs": [],
   "source": [
    "df_test.to_csv('../raw_data/titles_data/titles_test.csv', index=False)"
   ]
  },
  {
   "cell_type": "code",
   "execution_count": 49,
   "metadata": {},
   "outputs": [
    {
     "data": {
      "text/plain": [
       "(51300, 5700)"
      ]
     },
     "execution_count": 49,
     "metadata": {},
     "output_type": "execute_result"
    }
   ],
   "source": [
    "len(df), len(df_test)"
   ]
  },
  {
   "cell_type": "code",
   "execution_count": null,
   "metadata": {},
   "outputs": [],
   "source": []
  }
 ],
 "metadata": {
  "kernelspec": {
   "display_name": "Python 3 (ipykernel)",
   "language": "python",
   "name": "python3"
  },
  "language_info": {
   "codemirror_mode": {
    "name": "ipython",
    "version": 3
   },
   "file_extension": ".py",
   "mimetype": "text/x-python",
   "name": "python",
   "nbconvert_exporter": "python",
   "pygments_lexer": "ipython3",
   "version": "3.10.6"
  },
  "toc": {
   "base_numbering": 1,
   "nav_menu": {},
   "number_sections": true,
   "sideBar": true,
   "skip_h1_title": false,
   "title_cell": "Table of Contents",
   "title_sidebar": "Contents",
   "toc_cell": false,
   "toc_position": {},
   "toc_section_display": true,
   "toc_window_display": false
  }
 },
 "nbformat": 4,
 "nbformat_minor": 2
}

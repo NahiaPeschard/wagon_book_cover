{
 "cells": [
  {
   "attachments": {},
   "cell_type": "markdown",
   "id": "87630df1",
   "metadata": {},
   "source": [
    "# Imports"
   ]
  },
  {
   "cell_type": "code",
   "execution_count": 1,
   "id": "0591f9e3",
   "metadata": {},
   "outputs": [],
   "source": [
    "import pandas as pd\n",
    "import numpy as np\n",
    "from PIL import Image\n",
    "import os\n",
    "\n",
    "import string \n",
    "\n",
    "from sklearn.pipeline import Pipeline\n",
    "from sklearn.base import BaseEstimator, TransformerMixin\n",
    "from sklearn.compose import ColumnTransformer\n",
    "from sklearn.preprocessing import MinMaxScaler\n",
    "from sklearn.model_selection import cross_validate\n",
    "\n",
    "from sklearn.svm import LinearSVC\n",
    "\n",
    "import gensim\n",
    "from gensim.models import Word2Vec\n",
    "from tensorflow.keras.preprocessing.text import text_to_word_sequence\n",
    "\n",
    "from joblib import dump"
   ]
  },
  {
   "attachments": {},
   "cell_type": "markdown",
   "id": "25857924",
   "metadata": {},
   "source": [
    "# Exploration"
   ]
  },
  {
   "attachments": {},
   "cell_type": "markdown",
   "id": "9aafa16f",
   "metadata": {},
   "source": [
    "## Raw data import "
   ]
  },
  {
   "cell_type": "code",
   "execution_count": 10,
   "id": "a4c0339a",
   "metadata": {},
   "outputs": [],
   "source": [
    "X = pd.read_csv(\"../raw_data/train_x.csv\", delimiter=\" \", index_col=\"Id\")\n",
    "y = pd.read_csv(\"../raw_data/train_y.csv\", delimiter=\" \", index_col=\"Id\")\n",
    "y_umbr = np.load(\"../raw_data/tmp_data/y_train_umbr.npy\", encoding='bytes', allow_pickle=True)"
   ]
  },
  {
   "cell_type": "code",
   "execution_count": 3,
   "id": "7a2ebc7c",
   "metadata": {},
   "outputs": [
    {
     "data": {
      "text/html": [
       "<div>\n",
       "<style scoped>\n",
       "    .dataframe tbody tr th:only-of-type {\n",
       "        vertical-align: middle;\n",
       "    }\n",
       "\n",
       "    .dataframe tbody tr th {\n",
       "        vertical-align: top;\n",
       "    }\n",
       "\n",
       "    .dataframe thead th {\n",
       "        text-align: right;\n",
       "    }\n",
       "</style>\n",
       "<table border=\"1\" class=\"dataframe\">\n",
       "  <thead>\n",
       "    <tr style=\"text-align: right;\">\n",
       "      <th></th>\n",
       "      <th>Image_name</th>\n",
       "      <th>Title</th>\n",
       "    </tr>\n",
       "    <tr>\n",
       "      <th>Id</th>\n",
       "      <th></th>\n",
       "      <th></th>\n",
       "    </tr>\n",
       "  </thead>\n",
       "  <tbody>\n",
       "    <tr>\n",
       "      <th>0</th>\n",
       "      <td>1588345297.jpg</td>\n",
       "      <td>With Schwarzkopf: Life Lessons of The Bear</td>\n",
       "    </tr>\n",
       "    <tr>\n",
       "      <th>1</th>\n",
       "      <td>1404803335.jpg</td>\n",
       "      <td>Magnets: Pulling Together, Pushing Apart (Amaz...</td>\n",
       "    </tr>\n",
       "    <tr>\n",
       "      <th>2</th>\n",
       "      <td>1446276082.jpg</td>\n",
       "      <td>Energy Security (SAGE Library of International...</td>\n",
       "    </tr>\n",
       "    <tr>\n",
       "      <th>3</th>\n",
       "      <td>1491522666.jpg</td>\n",
       "      <td>An Amish Gathering: Life in Lancaster County</td>\n",
       "    </tr>\n",
       "    <tr>\n",
       "      <th>4</th>\n",
       "      <td>0970096410.jpg</td>\n",
       "      <td>City of Rocks Idaho: A Climber's Guide (Region...</td>\n",
       "    </tr>\n",
       "    <tr>\n",
       "      <th>...</th>\n",
       "      <td>...</td>\n",
       "      <td>...</td>\n",
       "    </tr>\n",
       "    <tr>\n",
       "      <th>51295</th>\n",
       "      <td>0399176055.jpg</td>\n",
       "      <td>Extreme Prey</td>\n",
       "    </tr>\n",
       "    <tr>\n",
       "      <th>51296</th>\n",
       "      <td>0719816629.jpg</td>\n",
       "      <td>The Crime Writer's Guide to Police Practice an...</td>\n",
       "    </tr>\n",
       "    <tr>\n",
       "      <th>51297</th>\n",
       "      <td>0385353596.jpg</td>\n",
       "      <td>The Jezebel Remedy: A novel</td>\n",
       "    </tr>\n",
       "    <tr>\n",
       "      <th>51298</th>\n",
       "      <td>1475988559.jpg</td>\n",
       "      <td>Startup</td>\n",
       "    </tr>\n",
       "    <tr>\n",
       "      <th>51299</th>\n",
       "      <td>045147483X.jpg</td>\n",
       "      <td>Killer Takeout: A Key West Food Critic Mystery</td>\n",
       "    </tr>\n",
       "  </tbody>\n",
       "</table>\n",
       "<p>51300 rows × 2 columns</p>\n",
       "</div>"
      ],
      "text/plain": [
       "           Image_name                                              Title\n",
       "Id                                                                      \n",
       "0      1588345297.jpg         With Schwarzkopf: Life Lessons of The Bear\n",
       "1      1404803335.jpg  Magnets: Pulling Together, Pushing Apart (Amaz...\n",
       "2      1446276082.jpg  Energy Security (SAGE Library of International...\n",
       "3      1491522666.jpg       An Amish Gathering: Life in Lancaster County\n",
       "4      0970096410.jpg  City of Rocks Idaho: A Climber's Guide (Region...\n",
       "...               ...                                                ...\n",
       "51295  0399176055.jpg                                       Extreme Prey\n",
       "51296  0719816629.jpg  The Crime Writer's Guide to Police Practice an...\n",
       "51297  0385353596.jpg                        The Jezebel Remedy: A novel\n",
       "51298  1475988559.jpg                                            Startup\n",
       "51299  045147483X.jpg     Killer Takeout: A Key West Food Critic Mystery\n",
       "\n",
       "[51300 rows x 2 columns]"
      ]
     },
     "execution_count": 3,
     "metadata": {},
     "output_type": "execute_result"
    }
   ],
   "source": [
    "X"
   ]
  },
  {
   "cell_type": "code",
   "execution_count": 11,
   "id": "b199b261",
   "metadata": {},
   "outputs": [
    {
     "data": {
      "text/html": [
       "<div>\n",
       "<style scoped>\n",
       "    .dataframe tbody tr th:only-of-type {\n",
       "        vertical-align: middle;\n",
       "    }\n",
       "\n",
       "    .dataframe tbody tr th {\n",
       "        vertical-align: top;\n",
       "    }\n",
       "\n",
       "    .dataframe thead th {\n",
       "        text-align: right;\n",
       "    }\n",
       "</style>\n",
       "<table border=\"1\" class=\"dataframe\">\n",
       "  <thead>\n",
       "    <tr style=\"text-align: right;\">\n",
       "      <th></th>\n",
       "      <th>Genre_id</th>\n",
       "      <th>Genre_name</th>\n",
       "      <th>Genre_umbr_name</th>\n",
       "      <th>Genre_umbr_id</th>\n",
       "    </tr>\n",
       "  </thead>\n",
       "  <tbody>\n",
       "    <tr>\n",
       "      <th>0</th>\n",
       "      <td>1</td>\n",
       "      <td>Biographies &amp; Memoirs</td>\n",
       "      <td>History &amp; Religion</td>\n",
       "      <td>1</td>\n",
       "    </tr>\n",
       "    <tr>\n",
       "      <th>1</th>\n",
       "      <td>4</td>\n",
       "      <td>Children's Books</td>\n",
       "      <td>Relationships &amp; Children</td>\n",
       "      <td>2</td>\n",
       "    </tr>\n",
       "    <tr>\n",
       "      <th>2</th>\n",
       "      <td>10</td>\n",
       "      <td>Engineering &amp; Transportation</td>\n",
       "      <td>Academic - Science</td>\n",
       "      <td>3</td>\n",
       "    </tr>\n",
       "    <tr>\n",
       "      <th>3</th>\n",
       "      <td>9</td>\n",
       "      <td>Christian Books &amp; Bibles</td>\n",
       "      <td>History &amp; Religion</td>\n",
       "      <td>1</td>\n",
       "    </tr>\n",
       "    <tr>\n",
       "      <th>4</th>\n",
       "      <td>26</td>\n",
       "      <td>Sports &amp; Outdoors</td>\n",
       "      <td>Lifestyle &amp; Fitness</td>\n",
       "      <td>4</td>\n",
       "    </tr>\n",
       "    <tr>\n",
       "      <th>...</th>\n",
       "      <td>...</td>\n",
       "      <td>...</td>\n",
       "      <td>...</td>\n",
       "      <td>...</td>\n",
       "    </tr>\n",
       "    <tr>\n",
       "      <th>51295</th>\n",
       "      <td>17</td>\n",
       "      <td>Mystery, Thriller &amp; Suspense</td>\n",
       "      <td>Literature &amp; Entertainment</td>\n",
       "      <td>5</td>\n",
       "    </tr>\n",
       "    <tr>\n",
       "      <th>51296</th>\n",
       "      <td>17</td>\n",
       "      <td>Mystery, Thriller &amp; Suspense</td>\n",
       "      <td>Literature &amp; Entertainment</td>\n",
       "      <td>5</td>\n",
       "    </tr>\n",
       "    <tr>\n",
       "      <th>51297</th>\n",
       "      <td>17</td>\n",
       "      <td>Mystery, Thriller &amp; Suspense</td>\n",
       "      <td>Literature &amp; Entertainment</td>\n",
       "      <td>5</td>\n",
       "    </tr>\n",
       "    <tr>\n",
       "      <th>51298</th>\n",
       "      <td>17</td>\n",
       "      <td>Mystery, Thriller &amp; Suspense</td>\n",
       "      <td>Literature &amp; Entertainment</td>\n",
       "      <td>5</td>\n",
       "    </tr>\n",
       "    <tr>\n",
       "      <th>51299</th>\n",
       "      <td>17</td>\n",
       "      <td>Mystery, Thriller &amp; Suspense</td>\n",
       "      <td>Literature &amp; Entertainment</td>\n",
       "      <td>5</td>\n",
       "    </tr>\n",
       "  </tbody>\n",
       "</table>\n",
       "<p>51300 rows × 4 columns</p>\n",
       "</div>"
      ],
      "text/plain": [
       "      Genre_id                    Genre_name             Genre_umbr_name  \\\n",
       "0            1         Biographies & Memoirs          History & Religion   \n",
       "1            4              Children's Books    Relationships & Children   \n",
       "2           10  Engineering & Transportation          Academic - Science   \n",
       "3            9      Christian Books & Bibles          History & Religion   \n",
       "4           26             Sports & Outdoors         Lifestyle & Fitness   \n",
       "...        ...                           ...                         ...   \n",
       "51295       17  Mystery, Thriller & Suspense  Literature & Entertainment   \n",
       "51296       17  Mystery, Thriller & Suspense  Literature & Entertainment   \n",
       "51297       17  Mystery, Thriller & Suspense  Literature & Entertainment   \n",
       "51298       17  Mystery, Thriller & Suspense  Literature & Entertainment   \n",
       "51299       17  Mystery, Thriller & Suspense  Literature & Entertainment   \n",
       "\n",
       "      Genre_umbr_id  \n",
       "0                 1  \n",
       "1                 2  \n",
       "2                 3  \n",
       "3                 1  \n",
       "4                 4  \n",
       "...             ...  \n",
       "51295             5  \n",
       "51296             5  \n",
       "51297             5  \n",
       "51298             5  \n",
       "51299             5  \n",
       "\n",
       "[51300 rows x 4 columns]"
      ]
     },
     "execution_count": 11,
     "metadata": {},
     "output_type": "execute_result"
    }
   ],
   "source": [
    "y_umbr_df = pd.DataFrame(y_umbr)\n",
    "y_umbr_df = y_umbr_df.rename(columns={\n",
    "    y_umbr_df.columns[0]: 'Genre_id',\n",
    "    y_umbr_df.columns[1]: 'Genre_name',\n",
    "    y_umbr_df.columns[2]: 'Genre_umbr_name',\n",
    "    y_umbr_df.columns[3]: 'Genre_umbr_id'\n",
    "})\n",
    "\n",
    "#y_umbr = y_umbr.rename_axis('Genre_id')\n",
    "y_umbr_df"
   ]
  },
  {
   "cell_type": "code",
   "execution_count": 12,
   "id": "f8f5c804",
   "metadata": {},
   "outputs": [
    {
     "name": "stderr",
     "output_type": "stream",
     "text": [
      "/Users/ellipalaiologou/.pyenv/versions/3.10.6/envs/lewagon/lib/python3.10/site-packages/pandas/core/indexes/base.py:6999: FutureWarning: In a future version, the Index constructor will not infer numeric dtypes when passed object-dtype sequences (matching Series behavior)\n",
      "  return Index(sequences[0], name=names)\n"
     ]
    },
    {
     "data": {
      "text/plain": [
       "{1: 'History & Religion',\n",
       " 2: 'Relationships & Children',\n",
       " 3: 'Academic - Science',\n",
       " 4: 'Lifestyle & Fitness',\n",
       " 6: 'Academic - Humanities',\n",
       " 7: 'Arts & Hobbies',\n",
       " 5: 'Literature & Entertainment',\n",
       " 8: 'Academic - Pure'}"
      ]
     },
     "execution_count": 12,
     "metadata": {},
     "output_type": "execute_result"
    }
   ],
   "source": [
    "genre_dict = y_umbr_df.set_index('Genre_umbr_id')['Genre_umbr_name'].to_dict()\n",
    "genre_dict"
   ]
  },
  {
   "attachments": {},
   "cell_type": "markdown",
   "id": "ae63210d",
   "metadata": {},
   "source": [
    "## Preliminary Data Preprocessing"
   ]
  },
  {
   "cell_type": "code",
   "execution_count": 13,
   "id": "42869fc2",
   "metadata": {},
   "outputs": [
    {
     "name": "stdout",
     "output_type": "stream",
     "text": [
      "[92 97 74] [144.03354193 144.52836017 126.17757494]\n",
      "[105 183 222] [121.7903978  155.68775909 171.20017538]\n",
      "[147   3   3] [121.54918686   8.1564493    7.39793925]\n",
      "[7 0 0] [193.15625    182.0331832  103.95565609]\n",
      "[ 81 123 205] [112.07995855 136.00370695 169.8401427 ]\n",
      "[[ 92.  97.  74.]\n",
      " [105. 183. 222.]\n",
      " [147.   3.   3.]\n",
      " [  7.   0.   0.]\n",
      " [ 81. 123. 205.]]\n"
     ]
    }
   ],
   "source": [
    "array_test = np.array([])\n",
    "\n",
    "for image_name in X['Image_name'][:5]:\n",
    "    image_path = os.path.join(\"../raw_data/Images/\", image_name)\n",
    "    image = Image.open(image_path)\n",
    "    image_array = np.array(image)\n",
    "\n",
    "    flattened_pixels = image_array.reshape(-1, 3)\n",
    "    average_color = np.mean(flattened_pixels, axis=0)\n",
    "    unique, counts = np.unique(flattened_pixels, return_counts=True, axis=0)\n",
    "    most_frequent_index = np.argmax(counts)\n",
    "    most_frequent_color = unique[most_frequent_index]\n",
    "    print(most_frequent_color, average_color)\n",
    "\n",
    "    array_test = np.append(array_test, most_frequent_color)\n",
    "\n",
    "print(array_test.reshape(-1, 3))"
   ]
  },
  {
   "cell_type": "code",
   "execution_count": 14,
   "id": "29d58fc5",
   "metadata": {},
   "outputs": [],
   "source": [
    "average_colors = []\n",
    "most_frequent_colors = []\n",
    "\n",
    "for image_name in X['Image_name']:\n",
    "    image_path = os.path.join(\"../raw_data/Images/\", image_name)\n",
    "    image = Image.open(image_path)\n",
    "    image = image.resize((100, 100))\n",
    "    image_array = np.array(image)\n",
    "\n",
    "    flattened_pixels = image_array.reshape(-1, 3)\n",
    "    average_color = np.mean(flattened_pixels, axis=0)\n",
    "    unique, counts = np.unique(flattened_pixels, return_counts=True, axis=0)\n",
    "    most_frequent_index = np.argmax(counts)\n",
    "    most_frequent_color = unique[most_frequent_index]\n",
    "\n",
    "    average_colors.append(average_color)\n",
    "    most_frequent_colors.append(most_frequent_color)\n",
    "    \n",
    "average_colors = np.array(average_colors)\n",
    "most_frequent_colors = np.array(most_frequent_colors)"
   ]
  },
  {
   "cell_type": "code",
   "execution_count": 15,
   "id": "ef6b703d",
   "metadata": {},
   "outputs": [],
   "source": [
    "colors = np.hstack((average_colors, most_frequent_colors))\n",
    "extracted_features = pd.DataFrame(colors, columns=[\"average_r\", \"average_g\", \"average_b\", \"most_freq_r\", \"most_freq_g\", \"most_freq_b\"])"
   ]
  },
  {
   "cell_type": "code",
   "execution_count": 16,
   "id": "c2ee7123",
   "metadata": {},
   "outputs": [],
   "source": [
    "title_words = np.array(X[\"Title\"].str.split())\n",
    "\n",
    "count_words = np.array([len(x) for x in title_words])\n",
    "extracted_features[\"word_counts\"] = count_words"
   ]
  },
  {
   "cell_type": "code",
   "execution_count": 17,
   "id": "0cba9c07",
   "metadata": {},
   "outputs": [
    {
     "data": {
      "text/plain": [
       "array([7, 7, 7, ..., 5, 1, 8])"
      ]
     },
     "execution_count": 17,
     "metadata": {},
     "output_type": "execute_result"
    }
   ],
   "source": [
    "count_words"
   ]
  },
  {
   "cell_type": "code",
   "execution_count": 18,
   "id": "4a6343da",
   "metadata": {},
   "outputs": [],
   "source": [
    "count_capital_letters = lambda s: sum(1 for c in s if c.isupper())"
   ]
  },
  {
   "cell_type": "code",
   "execution_count": 19,
   "id": "8cef8016",
   "metadata": {},
   "outputs": [],
   "source": [
    "capital_counts = X[\"Title\"].apply(count_capital_letters)\n",
    "\n",
    "capital_ratio = np.array(capital_counts/count_words)\n",
    "\n",
    "extracted_features[\"capital_ratio\"] = capital_ratio"
   ]
  },
  {
   "cell_type": "code",
   "execution_count": 20,
   "id": "f9a28e98",
   "metadata": {},
   "outputs": [],
   "source": [
    "count_letters = lambda s: sum(1 for c in s if c.isalpha())"
   ]
  },
  {
   "cell_type": "code",
   "execution_count": 21,
   "id": "78848a0b",
   "metadata": {},
   "outputs": [],
   "source": [
    "letter_counts = X[\"Title\"].apply(count_letters)\n",
    "\n",
    "letter_ratio = np.array(letter_counts/count_words)\n",
    "\n",
    "extracted_features[\"letter_ratio\"] = letter_ratio "
   ]
  },
  {
   "cell_type": "code",
   "execution_count": 22,
   "id": "b6de7f08",
   "metadata": {},
   "outputs": [],
   "source": [
    "count_punctuation = lambda s: sum(1 for c in s if c in string.punctuation)"
   ]
  },
  {
   "cell_type": "code",
   "execution_count": 23,
   "id": "b464df66",
   "metadata": {},
   "outputs": [],
   "source": [
    "punct_counts = X[\"Title\"].apply(count_punctuation)\n",
    "extracted_features[\"punct_counts\"] = punct_counts"
   ]
  },
  {
   "cell_type": "code",
   "execution_count": 24,
   "id": "8804015e",
   "metadata": {},
   "outputs": [
    {
     "data": {
      "text/html": [
       "<div>\n",
       "<style scoped>\n",
       "    .dataframe tbody tr th:only-of-type {\n",
       "        vertical-align: middle;\n",
       "    }\n",
       "\n",
       "    .dataframe tbody tr th {\n",
       "        vertical-align: top;\n",
       "    }\n",
       "\n",
       "    .dataframe thead th {\n",
       "        text-align: right;\n",
       "    }\n",
       "</style>\n",
       "<table border=\"1\" class=\"dataframe\">\n",
       "  <thead>\n",
       "    <tr style=\"text-align: right;\">\n",
       "      <th></th>\n",
       "      <th>average_r</th>\n",
       "      <th>average_g</th>\n",
       "      <th>average_b</th>\n",
       "      <th>most_freq_r</th>\n",
       "      <th>most_freq_g</th>\n",
       "      <th>most_freq_b</th>\n",
       "      <th>word_counts</th>\n",
       "      <th>capital_ratio</th>\n",
       "      <th>letter_ratio</th>\n",
       "      <th>punct_counts</th>\n",
       "    </tr>\n",
       "  </thead>\n",
       "  <tbody>\n",
       "    <tr>\n",
       "      <th>0</th>\n",
       "      <td>143.9203</td>\n",
       "      <td>144.4273</td>\n",
       "      <td>126.1171</td>\n",
       "      <td>92.0</td>\n",
       "      <td>97.0</td>\n",
       "      <td>74.0</td>\n",
       "      <td>7</td>\n",
       "      <td>0.857143</td>\n",
       "      <td>5.000000</td>\n",
       "      <td>1</td>\n",
       "    </tr>\n",
       "    <tr>\n",
       "      <th>1</th>\n",
       "      <td>121.6648</td>\n",
       "      <td>155.5735</td>\n",
       "      <td>171.1021</td>\n",
       "      <td>105.0</td>\n",
       "      <td>183.0</td>\n",
       "      <td>222.0</td>\n",
       "      <td>7</td>\n",
       "      <td>1.000000</td>\n",
       "      <td>6.857143</td>\n",
       "      <td>4</td>\n",
       "    </tr>\n",
       "    <tr>\n",
       "      <th>2</th>\n",
       "      <td>121.4898</td>\n",
       "      <td>8.0966</td>\n",
       "      <td>7.3227</td>\n",
       "      <td>147.0</td>\n",
       "      <td>3.0</td>\n",
       "      <td>3.0</td>\n",
       "      <td>7</td>\n",
       "      <td>1.285714</td>\n",
       "      <td>6.857143</td>\n",
       "      <td>2</td>\n",
       "    </tr>\n",
       "    <tr>\n",
       "      <th>3</th>\n",
       "      <td>193.1224</td>\n",
       "      <td>181.9881</td>\n",
       "      <td>103.9752</td>\n",
       "      <td>254.0</td>\n",
       "      <td>134.0</td>\n",
       "      <td>37.0</td>\n",
       "      <td>7</td>\n",
       "      <td>0.857143</td>\n",
       "      <td>5.285714</td>\n",
       "      <td>1</td>\n",
       "    </tr>\n",
       "    <tr>\n",
       "      <th>4</th>\n",
       "      <td>112.0715</td>\n",
       "      <td>136.0007</td>\n",
       "      <td>169.8334</td>\n",
       "      <td>81.0</td>\n",
       "      <td>123.0</td>\n",
       "      <td>205.0</td>\n",
       "      <td>11</td>\n",
       "      <td>0.909091</td>\n",
       "      <td>5.090909</td>\n",
       "      <td>4</td>\n",
       "    </tr>\n",
       "    <tr>\n",
       "      <th>...</th>\n",
       "      <td>...</td>\n",
       "      <td>...</td>\n",
       "      <td>...</td>\n",
       "      <td>...</td>\n",
       "      <td>...</td>\n",
       "      <td>...</td>\n",
       "      <td>...</td>\n",
       "      <td>...</td>\n",
       "      <td>...</td>\n",
       "      <td>...</td>\n",
       "    </tr>\n",
       "    <tr>\n",
       "      <th>51295</th>\n",
       "      <td>144.2605</td>\n",
       "      <td>98.0033</td>\n",
       "      <td>80.7424</td>\n",
       "      <td>255.0</td>\n",
       "      <td>255.0</td>\n",
       "      <td>255.0</td>\n",
       "      <td>2</td>\n",
       "      <td>1.000000</td>\n",
       "      <td>5.500000</td>\n",
       "      <td>0</td>\n",
       "    </tr>\n",
       "    <tr>\n",
       "      <th>51296</th>\n",
       "      <td>91.7243</td>\n",
       "      <td>81.9982</td>\n",
       "      <td>50.0007</td>\n",
       "      <td>25.0</td>\n",
       "      <td>23.0</td>\n",
       "      <td>44.0</td>\n",
       "      <td>9</td>\n",
       "      <td>0.777778</td>\n",
       "      <td>5.333333</td>\n",
       "      <td>1</td>\n",
       "    </tr>\n",
       "    <tr>\n",
       "      <th>51297</th>\n",
       "      <td>68.6990</td>\n",
       "      <td>63.3906</td>\n",
       "      <td>72.7776</td>\n",
       "      <td>19.0</td>\n",
       "      <td>22.0</td>\n",
       "      <td>27.0</td>\n",
       "      <td>5</td>\n",
       "      <td>0.800000</td>\n",
       "      <td>4.400000</td>\n",
       "      <td>1</td>\n",
       "    </tr>\n",
       "    <tr>\n",
       "      <th>51298</th>\n",
       "      <td>118.8070</td>\n",
       "      <td>82.1060</td>\n",
       "      <td>69.3474</td>\n",
       "      <td>56.0</td>\n",
       "      <td>52.0</td>\n",
       "      <td>51.0</td>\n",
       "      <td>1</td>\n",
       "      <td>1.000000</td>\n",
       "      <td>7.000000</td>\n",
       "      <td>0</td>\n",
       "    </tr>\n",
       "    <tr>\n",
       "      <th>51299</th>\n",
       "      <td>175.3491</td>\n",
       "      <td>117.5339</td>\n",
       "      <td>89.3145</td>\n",
       "      <td>224.0</td>\n",
       "      <td>66.0</td>\n",
       "      <td>39.0</td>\n",
       "      <td>8</td>\n",
       "      <td>1.000000</td>\n",
       "      <td>4.750000</td>\n",
       "      <td>1</td>\n",
       "    </tr>\n",
       "  </tbody>\n",
       "</table>\n",
       "<p>51300 rows × 10 columns</p>\n",
       "</div>"
      ],
      "text/plain": [
       "       average_r  average_g  average_b  most_freq_r  most_freq_g  most_freq_b  \\\n",
       "0       143.9203   144.4273   126.1171         92.0         97.0         74.0   \n",
       "1       121.6648   155.5735   171.1021        105.0        183.0        222.0   \n",
       "2       121.4898     8.0966     7.3227        147.0          3.0          3.0   \n",
       "3       193.1224   181.9881   103.9752        254.0        134.0         37.0   \n",
       "4       112.0715   136.0007   169.8334         81.0        123.0        205.0   \n",
       "...          ...        ...        ...          ...          ...          ...   \n",
       "51295   144.2605    98.0033    80.7424        255.0        255.0        255.0   \n",
       "51296    91.7243    81.9982    50.0007         25.0         23.0         44.0   \n",
       "51297    68.6990    63.3906    72.7776         19.0         22.0         27.0   \n",
       "51298   118.8070    82.1060    69.3474         56.0         52.0         51.0   \n",
       "51299   175.3491   117.5339    89.3145        224.0         66.0         39.0   \n",
       "\n",
       "       word_counts  capital_ratio  letter_ratio  punct_counts  \n",
       "0                7       0.857143      5.000000             1  \n",
       "1                7       1.000000      6.857143             4  \n",
       "2                7       1.285714      6.857143             2  \n",
       "3                7       0.857143      5.285714             1  \n",
       "4               11       0.909091      5.090909             4  \n",
       "...            ...            ...           ...           ...  \n",
       "51295            2       1.000000      5.500000             0  \n",
       "51296            9       0.777778      5.333333             1  \n",
       "51297            5       0.800000      4.400000             1  \n",
       "51298            1       1.000000      7.000000             0  \n",
       "51299            8       1.000000      4.750000             1  \n",
       "\n",
       "[51300 rows x 10 columns]"
      ]
     },
     "execution_count": 24,
     "metadata": {},
     "output_type": "execute_result"
    }
   ],
   "source": [
    "extracted_features"
   ]
  },
  {
   "attachments": {},
   "cell_type": "markdown",
   "id": "5d9367fc",
   "metadata": {},
   "source": [
    "# Pipeline"
   ]
  },
  {
   "attachments": {},
   "cell_type": "markdown",
   "id": "1a7b26d5",
   "metadata": {},
   "source": [
    "## Preprocessing Pipeline"
   ]
  },
  {
   "cell_type": "code",
   "execution_count": 25,
   "id": "6b41f5f9",
   "metadata": {},
   "outputs": [],
   "source": [
    "# CREATING CLASS AND ADDING TO PIPELINE\n",
    "class EmbeddingFeatureExtractor(BaseEstimator, TransformerMixin):\n",
    "    def __init__(self, vector_size=10, min_count=10, window=5):\n",
    "        self.vector_size = vector_size\n",
    "        self.min_count = min_count\n",
    "        self.window = window\n",
    "        #self.word2vec_model = None\n",
    "\n",
    "    def fit(self, X, y=None):\n",
    "        #self.X_embed = [text_to_word_sequence(str(title)) for title in X['Title']]\n",
    "        #self.word2vec_model = Word2Vec(vector_size=self.vector_size, min_count=self.min_count, window=self.window)\n",
    "        #self.word2vec_model.build_vocab(X_embed)\n",
    "        return self\n",
    "    \n",
    "    def transform(self, X):\n",
    "        X_embed = [text_to_word_sequence(str(title)) for title in X['Title']]\n",
    "        word2vec = Word2Vec(sentences=X_embed, vector_size=self.vector_size, min_count=self.min_count, window=self.window)\n",
    "        title_embeddings_avg = []\n",
    "        \n",
    "        for title in X_embed:\n",
    "            title_embedding = []\n",
    "            \n",
    "            for word in title:\n",
    "                if word in word2vec.wv.key_to_index:\n",
    "                    word_embedding = word2vec.wv[word]\n",
    "                    title_embedding.append(word_embedding)\n",
    "            \n",
    "            if title_embedding:\n",
    "                title_embedding_avg = np.mean(title_embedding, axis=0)\n",
    "                title_embeddings_avg.append(title_embedding_avg)\n",
    "            else:\n",
    "                title_embeddings_avg.append(np.zeros(word2vec.vector_size))\n",
    "                \n",
    "        title_embeddings_avg = np.array(title_embeddings_avg)\n",
    "        \n",
    "        return title_embeddings_avg"
   ]
  },
  {
   "cell_type": "code",
   "execution_count": 26,
   "id": "bbe9b581",
   "metadata": {},
   "outputs": [],
   "source": [
    "class ImageFeatureExtractor(BaseEstimator, TransformerMixin):\n",
    "    def __init__(self):\n",
    "        pass\n",
    "    \n",
    "    def fit(self, X, y=None):\n",
    "        return self\n",
    "    \n",
    "    def transform(self, X):\n",
    "        average_colors = []\n",
    "        most_frequent_colors = []\n",
    "\n",
    "        for image_name in X['Image_name']:\n",
    "            image_path = os.path.join(\"../raw_data/Images/\", image_name)\n",
    "            image = Image.open(image_path)\n",
    "            image = image.resize((100, 100))\n",
    "            image_array = np.array(image)\n",
    "\n",
    "            flattened_pixels = image_array.reshape(-1, 3)\n",
    "            average_color = np.mean(flattened_pixels, axis=0)\n",
    "            unique, counts = np.unique(flattened_pixels, return_counts=True, axis=0)\n",
    "            most_frequent_index = np.argmax(counts)\n",
    "            most_frequent_color = unique[most_frequent_index]\n",
    "\n",
    "            average_colors.append(average_color)\n",
    "            most_frequent_colors.append(most_frequent_color)\n",
    "\n",
    "        average_colors = np.array(average_colors)\n",
    "        most_frequent_colors = np.array(most_frequent_colors)\n",
    "        \n",
    "        return np.hstack((average_colors, most_frequent_colors))/255"
   ]
  },
  {
   "cell_type": "code",
   "execution_count": 27,
   "id": "0236785b",
   "metadata": {},
   "outputs": [],
   "source": [
    "class TitleFeatureExtractor(BaseEstimator, TransformerMixin):\n",
    "    def __init__(self):\n",
    "        self.count_words = lambda s: len(s.split())\n",
    "        self.count_capital_letters = lambda s: sum(1 for c in s if c.isupper())\n",
    "        self.count_letters = lambda s: sum(1 for c in s if c.isalpha())\n",
    "        self.count_punctuation = lambda s: sum(1 for c in s if c in string.punctuation)\n",
    "        self.count_special_chars = lambda s: sum(1 for c in s if c == ':' or c == '-')\n",
    "    \n",
    "    def fit(self, X, y=None):\n",
    "        return self\n",
    "    \n",
    "    def transform(self, X):\n",
    "        extracted_features = pd.DataFrame()\n",
    "        extracted_features['count_words'] = X['Title'].apply(self.count_words)\n",
    "        extracted_features['capital_ratio'] = X['Title'].apply(lambda s: self.count_capital_letters(s) / self.count_words(s))\n",
    "        extracted_features['letter_ratio'] = X['Title'].apply(lambda s: self.count_letters(s) / self.count_words(s))\n",
    "        extracted_features['punct_counts'] = X['Title'].apply(self.count_punctuation)\n",
    "        extracted_features['special_chars_ratio'] = X['Title'].apply(lambda s: self.count_special_chars(s) / self.count_words(s))\n",
    "        \n",
    "        return extracted_features.values"
   ]
  },
  {
   "cell_type": "code",
   "execution_count": 28,
   "id": "3a6cc143",
   "metadata": {},
   "outputs": [],
   "source": [
    "\n",
    "image_pipeline = Pipeline([\n",
    "    ('image_features', ImageFeatureExtractor()),\n",
    "])\n",
    "\n",
    "title_pipeline = Pipeline([\n",
    "    ('title_features', TitleFeatureExtractor()),\n",
    "    ('normalize_text', MinMaxScaler())\n",
    "])\n",
    "\n",
    "embeddings = Pipeline([\n",
    "    ('title_embeddings', EmbeddingFeatureExtractor())\n",
    "])\n",
    "\n",
    "preprocessing = ColumnTransformer([\n",
    "    (\"image\", image_pipeline, [\"Image_name\"]),\n",
    "    (\"title\", title_pipeline, [\"Title\"]),\n",
    "    (\"embeddings\", embeddings, [\"Title\"])\n",
    "])"
   ]
  },
  {
   "cell_type": "code",
   "execution_count": 29,
   "id": "3f9d71f3",
   "metadata": {},
   "outputs": [
    {
     "data": {
      "text/html": [
       "<style>#sk-container-id-1 {color: black;background-color: white;}#sk-container-id-1 pre{padding: 0;}#sk-container-id-1 div.sk-toggleable {background-color: white;}#sk-container-id-1 label.sk-toggleable__label {cursor: pointer;display: block;width: 100%;margin-bottom: 0;padding: 0.3em;box-sizing: border-box;text-align: center;}#sk-container-id-1 label.sk-toggleable__label-arrow:before {content: \"▸\";float: left;margin-right: 0.25em;color: #696969;}#sk-container-id-1 label.sk-toggleable__label-arrow:hover:before {color: black;}#sk-container-id-1 div.sk-estimator:hover label.sk-toggleable__label-arrow:before {color: black;}#sk-container-id-1 div.sk-toggleable__content {max-height: 0;max-width: 0;overflow: hidden;text-align: left;background-color: #f0f8ff;}#sk-container-id-1 div.sk-toggleable__content pre {margin: 0.2em;color: black;border-radius: 0.25em;background-color: #f0f8ff;}#sk-container-id-1 input.sk-toggleable__control:checked~div.sk-toggleable__content {max-height: 200px;max-width: 100%;overflow: auto;}#sk-container-id-1 input.sk-toggleable__control:checked~label.sk-toggleable__label-arrow:before {content: \"▾\";}#sk-container-id-1 div.sk-estimator input.sk-toggleable__control:checked~label.sk-toggleable__label {background-color: #d4ebff;}#sk-container-id-1 div.sk-label input.sk-toggleable__control:checked~label.sk-toggleable__label {background-color: #d4ebff;}#sk-container-id-1 input.sk-hidden--visually {border: 0;clip: rect(1px 1px 1px 1px);clip: rect(1px, 1px, 1px, 1px);height: 1px;margin: -1px;overflow: hidden;padding: 0;position: absolute;width: 1px;}#sk-container-id-1 div.sk-estimator {font-family: monospace;background-color: #f0f8ff;border: 1px dotted black;border-radius: 0.25em;box-sizing: border-box;margin-bottom: 0.5em;}#sk-container-id-1 div.sk-estimator:hover {background-color: #d4ebff;}#sk-container-id-1 div.sk-parallel-item::after {content: \"\";width: 100%;border-bottom: 1px solid gray;flex-grow: 1;}#sk-container-id-1 div.sk-label:hover label.sk-toggleable__label {background-color: #d4ebff;}#sk-container-id-1 div.sk-serial::before {content: \"\";position: absolute;border-left: 1px solid gray;box-sizing: border-box;top: 0;bottom: 0;left: 50%;z-index: 0;}#sk-container-id-1 div.sk-serial {display: flex;flex-direction: column;align-items: center;background-color: white;padding-right: 0.2em;padding-left: 0.2em;position: relative;}#sk-container-id-1 div.sk-item {position: relative;z-index: 1;}#sk-container-id-1 div.sk-parallel {display: flex;align-items: stretch;justify-content: center;background-color: white;position: relative;}#sk-container-id-1 div.sk-item::before, #sk-container-id-1 div.sk-parallel-item::before {content: \"\";position: absolute;border-left: 1px solid gray;box-sizing: border-box;top: 0;bottom: 0;left: 50%;z-index: -1;}#sk-container-id-1 div.sk-parallel-item {display: flex;flex-direction: column;z-index: 1;position: relative;background-color: white;}#sk-container-id-1 div.sk-parallel-item:first-child::after {align-self: flex-end;width: 50%;}#sk-container-id-1 div.sk-parallel-item:last-child::after {align-self: flex-start;width: 50%;}#sk-container-id-1 div.sk-parallel-item:only-child::after {width: 0;}#sk-container-id-1 div.sk-dashed-wrapped {border: 1px dashed gray;margin: 0 0.4em 0.5em 0.4em;box-sizing: border-box;padding-bottom: 0.4em;background-color: white;}#sk-container-id-1 div.sk-label label {font-family: monospace;font-weight: bold;display: inline-block;line-height: 1.2em;}#sk-container-id-1 div.sk-label-container {text-align: center;}#sk-container-id-1 div.sk-container {/* jupyter's `normalize.less` sets `[hidden] { display: none; }` but bootstrap.min.css set `[hidden] { display: none !important; }` so we also need the `!important` here to be able to override the default hidden behavior on the sphinx rendered scikit-learn.org. See: https://github.com/scikit-learn/scikit-learn/issues/21755 */display: inline-block !important;position: relative;}#sk-container-id-1 div.sk-text-repr-fallback {display: none;}</style><div id=\"sk-container-id-1\" class=\"sk-top-container\"><div class=\"sk-text-repr-fallback\"><pre>ColumnTransformer(transformers=[(&#x27;image&#x27;,\n",
       "                                 Pipeline(steps=[(&#x27;image_features&#x27;,\n",
       "                                                  ImageFeatureExtractor())]),\n",
       "                                 [&#x27;Image_name&#x27;]),\n",
       "                                (&#x27;title&#x27;,\n",
       "                                 Pipeline(steps=[(&#x27;title_features&#x27;,\n",
       "                                                  TitleFeatureExtractor()),\n",
       "                                                 (&#x27;normalize_text&#x27;,\n",
       "                                                  MinMaxScaler())]),\n",
       "                                 [&#x27;Title&#x27;]),\n",
       "                                (&#x27;embeddings&#x27;,\n",
       "                                 Pipeline(steps=[(&#x27;title_embeddings&#x27;,\n",
       "                                                  EmbeddingFeatureExtractor())]),\n",
       "                                 [&#x27;Title&#x27;])])</pre><b>In a Jupyter environment, please rerun this cell to show the HTML representation or trust the notebook. <br />On GitHub, the HTML representation is unable to render, please try loading this page with nbviewer.org.</b></div><div class=\"sk-container\" hidden><div class=\"sk-item sk-dashed-wrapped\"><div class=\"sk-label-container\"><div class=\"sk-label sk-toggleable\"><input class=\"sk-toggleable__control sk-hidden--visually\" id=\"sk-estimator-id-1\" type=\"checkbox\" ><label for=\"sk-estimator-id-1\" class=\"sk-toggleable__label sk-toggleable__label-arrow\">ColumnTransformer</label><div class=\"sk-toggleable__content\"><pre>ColumnTransformer(transformers=[(&#x27;image&#x27;,\n",
       "                                 Pipeline(steps=[(&#x27;image_features&#x27;,\n",
       "                                                  ImageFeatureExtractor())]),\n",
       "                                 [&#x27;Image_name&#x27;]),\n",
       "                                (&#x27;title&#x27;,\n",
       "                                 Pipeline(steps=[(&#x27;title_features&#x27;,\n",
       "                                                  TitleFeatureExtractor()),\n",
       "                                                 (&#x27;normalize_text&#x27;,\n",
       "                                                  MinMaxScaler())]),\n",
       "                                 [&#x27;Title&#x27;]),\n",
       "                                (&#x27;embeddings&#x27;,\n",
       "                                 Pipeline(steps=[(&#x27;title_embeddings&#x27;,\n",
       "                                                  EmbeddingFeatureExtractor())]),\n",
       "                                 [&#x27;Title&#x27;])])</pre></div></div></div><div class=\"sk-parallel\"><div class=\"sk-parallel-item\"><div class=\"sk-item\"><div class=\"sk-label-container\"><div class=\"sk-label sk-toggleable\"><input class=\"sk-toggleable__control sk-hidden--visually\" id=\"sk-estimator-id-2\" type=\"checkbox\" ><label for=\"sk-estimator-id-2\" class=\"sk-toggleable__label sk-toggleable__label-arrow\">image</label><div class=\"sk-toggleable__content\"><pre>[&#x27;Image_name&#x27;]</pre></div></div></div><div class=\"sk-serial\"><div class=\"sk-item\"><div class=\"sk-serial\"><div class=\"sk-item\"><div class=\"sk-estimator sk-toggleable\"><input class=\"sk-toggleable__control sk-hidden--visually\" id=\"sk-estimator-id-3\" type=\"checkbox\" ><label for=\"sk-estimator-id-3\" class=\"sk-toggleable__label sk-toggleable__label-arrow\">ImageFeatureExtractor</label><div class=\"sk-toggleable__content\"><pre>ImageFeatureExtractor()</pre></div></div></div></div></div></div></div></div><div class=\"sk-parallel-item\"><div class=\"sk-item\"><div class=\"sk-label-container\"><div class=\"sk-label sk-toggleable\"><input class=\"sk-toggleable__control sk-hidden--visually\" id=\"sk-estimator-id-4\" type=\"checkbox\" ><label for=\"sk-estimator-id-4\" class=\"sk-toggleable__label sk-toggleable__label-arrow\">title</label><div class=\"sk-toggleable__content\"><pre>[&#x27;Title&#x27;]</pre></div></div></div><div class=\"sk-serial\"><div class=\"sk-item\"><div class=\"sk-serial\"><div class=\"sk-item\"><div class=\"sk-estimator sk-toggleable\"><input class=\"sk-toggleable__control sk-hidden--visually\" id=\"sk-estimator-id-5\" type=\"checkbox\" ><label for=\"sk-estimator-id-5\" class=\"sk-toggleable__label sk-toggleable__label-arrow\">TitleFeatureExtractor</label><div class=\"sk-toggleable__content\"><pre>TitleFeatureExtractor()</pre></div></div></div><div class=\"sk-item\"><div class=\"sk-estimator sk-toggleable\"><input class=\"sk-toggleable__control sk-hidden--visually\" id=\"sk-estimator-id-6\" type=\"checkbox\" ><label for=\"sk-estimator-id-6\" class=\"sk-toggleable__label sk-toggleable__label-arrow\">MinMaxScaler</label><div class=\"sk-toggleable__content\"><pre>MinMaxScaler()</pre></div></div></div></div></div></div></div></div><div class=\"sk-parallel-item\"><div class=\"sk-item\"><div class=\"sk-label-container\"><div class=\"sk-label sk-toggleable\"><input class=\"sk-toggleable__control sk-hidden--visually\" id=\"sk-estimator-id-7\" type=\"checkbox\" ><label for=\"sk-estimator-id-7\" class=\"sk-toggleable__label sk-toggleable__label-arrow\">embeddings</label><div class=\"sk-toggleable__content\"><pre>[&#x27;Title&#x27;]</pre></div></div></div><div class=\"sk-serial\"><div class=\"sk-item\"><div class=\"sk-serial\"><div class=\"sk-item\"><div class=\"sk-estimator sk-toggleable\"><input class=\"sk-toggleable__control sk-hidden--visually\" id=\"sk-estimator-id-8\" type=\"checkbox\" ><label for=\"sk-estimator-id-8\" class=\"sk-toggleable__label sk-toggleable__label-arrow\">EmbeddingFeatureExtractor</label><div class=\"sk-toggleable__content\"><pre>EmbeddingFeatureExtractor()</pre></div></div></div></div></div></div></div></div></div></div></div></div>"
      ],
      "text/plain": [
       "ColumnTransformer(transformers=[('image',\n",
       "                                 Pipeline(steps=[('image_features',\n",
       "                                                  ImageFeatureExtractor())]),\n",
       "                                 ['Image_name']),\n",
       "                                ('title',\n",
       "                                 Pipeline(steps=[('title_features',\n",
       "                                                  TitleFeatureExtractor()),\n",
       "                                                 ('normalize_text',\n",
       "                                                  MinMaxScaler())]),\n",
       "                                 ['Title']),\n",
       "                                ('embeddings',\n",
       "                                 Pipeline(steps=[('title_embeddings',\n",
       "                                                  EmbeddingFeatureExtractor())]),\n",
       "                                 ['Title'])])"
      ]
     },
     "execution_count": 29,
     "metadata": {},
     "output_type": "execute_result"
    }
   ],
   "source": [
    "preprocessing"
   ]
  },
  {
   "cell_type": "code",
   "execution_count": 30,
   "id": "8065f20e",
   "metadata": {},
   "outputs": [],
   "source": [
    "X_preproc = preprocessing.fit_transform(X)"
   ]
  },
  {
   "cell_type": "code",
   "execution_count": 55,
   "id": "57ac7a6c",
   "metadata": {},
   "outputs": [],
   "source": [
    "y_preproc = y[\"Genre_id\"]\n",
    "y_preproc_umbr = y_umbr_df['Genre_umbr_id'].astype(int)"
   ]
  },
  {
   "cell_type": "code",
   "execution_count": 56,
   "id": "bce798a3",
   "metadata": {},
   "outputs": [
    {
     "name": "stdout",
     "output_type": "stream",
     "text": [
      "(51300, 21)\n",
      "0        1\n",
      "1        2\n",
      "2        3\n",
      "3        1\n",
      "4        4\n",
      "        ..\n",
      "51295    5\n",
      "51296    5\n",
      "51297    5\n",
      "51298    5\n",
      "51299    5\n",
      "Name: Genre_umbr_id, Length: 51300, dtype: int64\n"
     ]
    }
   ],
   "source": [
    "print(X_preproc.shape)\n",
    "print(y_preproc_umbr)"
   ]
  },
  {
   "attachments": {},
   "cell_type": "markdown",
   "id": "162e8e5e",
   "metadata": {},
   "source": [
    "# Model"
   ]
  },
  {
   "attachments": {},
   "cell_type": "markdown",
   "id": "5f012f29",
   "metadata": {},
   "source": [
    "## Cross Validate"
   ]
  },
  {
   "cell_type": "code",
   "execution_count": 46,
   "id": "d7f4a114",
   "metadata": {},
   "outputs": [],
   "source": [
    "model = LinearSVC(max_iter=10000)"
   ]
  },
  {
   "cell_type": "code",
   "execution_count": 57,
   "id": "442aee25",
   "metadata": {},
   "outputs": [],
   "source": [
    "scores = cross_validate(model, X_preproc, y_preproc_umbr, cv=5)"
   ]
  },
  {
   "cell_type": "code",
   "execution_count": 58,
   "id": "6e25236b",
   "metadata": {},
   "outputs": [
    {
     "name": "stdout",
     "output_type": "stream",
     "text": [
      "Mean Umbrella Score: 40.51%\n"
     ]
    }
   ],
   "source": [
    "# 8 categories\n",
    "score = scores[\"test_score\"].mean()\n",
    "print(f'Mean Umbrella Score: {score*100:.2f}%')"
   ]
  },
  {
   "cell_type": "code",
   "execution_count": 48,
   "id": "4f1e89c5",
   "metadata": {},
   "outputs": [
    {
     "name": "stdout",
     "output_type": "stream",
     "text": [
      "Mean Score: 22.94%\n"
     ]
    }
   ],
   "source": [
    "# 30 categories\n",
    "score = scores[\"test_score\"].mean()\n",
    "print(f'Mean Score: {score*100:.2f}%')"
   ]
  },
  {
   "attachments": {},
   "cell_type": "markdown",
   "id": "1310ccdc",
   "metadata": {},
   "source": [
    "## Train and save model"
   ]
  },
  {
   "cell_type": "code",
   "execution_count": 14,
   "id": "8c069828",
   "metadata": {},
   "outputs": [],
   "source": [
    "model = LinearSVC()"
   ]
  },
  {
   "cell_type": "code",
   "execution_count": 59,
   "id": "971554a6",
   "metadata": {},
   "outputs": [
    {
     "data": {
      "text/html": [
       "<style>#sk-container-id-2 {color: black;background-color: white;}#sk-container-id-2 pre{padding: 0;}#sk-container-id-2 div.sk-toggleable {background-color: white;}#sk-container-id-2 label.sk-toggleable__label {cursor: pointer;display: block;width: 100%;margin-bottom: 0;padding: 0.3em;box-sizing: border-box;text-align: center;}#sk-container-id-2 label.sk-toggleable__label-arrow:before {content: \"▸\";float: left;margin-right: 0.25em;color: #696969;}#sk-container-id-2 label.sk-toggleable__label-arrow:hover:before {color: black;}#sk-container-id-2 div.sk-estimator:hover label.sk-toggleable__label-arrow:before {color: black;}#sk-container-id-2 div.sk-toggleable__content {max-height: 0;max-width: 0;overflow: hidden;text-align: left;background-color: #f0f8ff;}#sk-container-id-2 div.sk-toggleable__content pre {margin: 0.2em;color: black;border-radius: 0.25em;background-color: #f0f8ff;}#sk-container-id-2 input.sk-toggleable__control:checked~div.sk-toggleable__content {max-height: 200px;max-width: 100%;overflow: auto;}#sk-container-id-2 input.sk-toggleable__control:checked~label.sk-toggleable__label-arrow:before {content: \"▾\";}#sk-container-id-2 div.sk-estimator input.sk-toggleable__control:checked~label.sk-toggleable__label {background-color: #d4ebff;}#sk-container-id-2 div.sk-label input.sk-toggleable__control:checked~label.sk-toggleable__label {background-color: #d4ebff;}#sk-container-id-2 input.sk-hidden--visually {border: 0;clip: rect(1px 1px 1px 1px);clip: rect(1px, 1px, 1px, 1px);height: 1px;margin: -1px;overflow: hidden;padding: 0;position: absolute;width: 1px;}#sk-container-id-2 div.sk-estimator {font-family: monospace;background-color: #f0f8ff;border: 1px dotted black;border-radius: 0.25em;box-sizing: border-box;margin-bottom: 0.5em;}#sk-container-id-2 div.sk-estimator:hover {background-color: #d4ebff;}#sk-container-id-2 div.sk-parallel-item::after {content: \"\";width: 100%;border-bottom: 1px solid gray;flex-grow: 1;}#sk-container-id-2 div.sk-label:hover label.sk-toggleable__label {background-color: #d4ebff;}#sk-container-id-2 div.sk-serial::before {content: \"\";position: absolute;border-left: 1px solid gray;box-sizing: border-box;top: 0;bottom: 0;left: 50%;z-index: 0;}#sk-container-id-2 div.sk-serial {display: flex;flex-direction: column;align-items: center;background-color: white;padding-right: 0.2em;padding-left: 0.2em;position: relative;}#sk-container-id-2 div.sk-item {position: relative;z-index: 1;}#sk-container-id-2 div.sk-parallel {display: flex;align-items: stretch;justify-content: center;background-color: white;position: relative;}#sk-container-id-2 div.sk-item::before, #sk-container-id-2 div.sk-parallel-item::before {content: \"\";position: absolute;border-left: 1px solid gray;box-sizing: border-box;top: 0;bottom: 0;left: 50%;z-index: -1;}#sk-container-id-2 div.sk-parallel-item {display: flex;flex-direction: column;z-index: 1;position: relative;background-color: white;}#sk-container-id-2 div.sk-parallel-item:first-child::after {align-self: flex-end;width: 50%;}#sk-container-id-2 div.sk-parallel-item:last-child::after {align-self: flex-start;width: 50%;}#sk-container-id-2 div.sk-parallel-item:only-child::after {width: 0;}#sk-container-id-2 div.sk-dashed-wrapped {border: 1px dashed gray;margin: 0 0.4em 0.5em 0.4em;box-sizing: border-box;padding-bottom: 0.4em;background-color: white;}#sk-container-id-2 div.sk-label label {font-family: monospace;font-weight: bold;display: inline-block;line-height: 1.2em;}#sk-container-id-2 div.sk-label-container {text-align: center;}#sk-container-id-2 div.sk-container {/* jupyter's `normalize.less` sets `[hidden] { display: none; }` but bootstrap.min.css set `[hidden] { display: none !important; }` so we also need the `!important` here to be able to override the default hidden behavior on the sphinx rendered scikit-learn.org. See: https://github.com/scikit-learn/scikit-learn/issues/21755 */display: inline-block !important;position: relative;}#sk-container-id-2 div.sk-text-repr-fallback {display: none;}</style><div id=\"sk-container-id-2\" class=\"sk-top-container\"><div class=\"sk-text-repr-fallback\"><pre>LinearSVC(max_iter=10000)</pre><b>In a Jupyter environment, please rerun this cell to show the HTML representation or trust the notebook. <br />On GitHub, the HTML representation is unable to render, please try loading this page with nbviewer.org.</b></div><div class=\"sk-container\" hidden><div class=\"sk-item\"><div class=\"sk-estimator sk-toggleable\"><input class=\"sk-toggleable__control sk-hidden--visually\" id=\"sk-estimator-id-9\" type=\"checkbox\" checked><label for=\"sk-estimator-id-9\" class=\"sk-toggleable__label sk-toggleable__label-arrow\">LinearSVC</label><div class=\"sk-toggleable__content\"><pre>LinearSVC(max_iter=10000)</pre></div></div></div></div></div>"
      ],
      "text/plain": [
       "LinearSVC(max_iter=10000)"
      ]
     },
     "execution_count": 59,
     "metadata": {},
     "output_type": "execute_result"
    }
   ],
   "source": [
    "model.fit(X_preproc, y_preproc_umbr)"
   ]
  },
  {
   "cell_type": "code",
   "execution_count": 24,
   "id": "1aa48286",
   "metadata": {},
   "outputs": [
    {
     "data": {
      "text/plain": [
       "['../models/baseline_svc_v1.pkl']"
      ]
     },
     "execution_count": 24,
     "metadata": {},
     "output_type": "execute_result"
    }
   ],
   "source": [
    "#dump(model, \"../models/baseline_svc_v1.pkl\")"
   ]
  },
  {
   "cell_type": "code",
   "execution_count": null,
   "id": "3a3d8690",
   "metadata": {},
   "outputs": [],
   "source": []
  }
 ],
 "metadata": {
  "kernelspec": {
   "display_name": "Python 3 (ipykernel)",
   "language": "python",
   "name": "python3"
  },
  "language_info": {
   "codemirror_mode": {
    "name": "ipython",
    "version": 3
   },
   "file_extension": ".py",
   "mimetype": "text/x-python",
   "name": "python",
   "nbconvert_exporter": "python",
   "pygments_lexer": "ipython3",
   "version": "3.10.6"
  },
  "toc": {
   "base_numbering": 1,
   "nav_menu": {},
   "number_sections": true,
   "sideBar": true,
   "skip_h1_title": false,
   "title_cell": "Table of Contents",
   "title_sidebar": "Contents",
   "toc_cell": false,
   "toc_position": {},
   "toc_section_display": true,
   "toc_window_display": false
  }
 },
 "nbformat": 4,
 "nbformat_minor": 5
}

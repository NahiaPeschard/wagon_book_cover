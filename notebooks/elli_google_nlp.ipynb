{
 "cells": [
  {
   "cell_type": "code",
   "execution_count": 1,
   "id": "03688aa8",
   "metadata": {},
   "outputs": [],
   "source": [
    "import pandas as pd\n",
    "import string\n",
    "import re\n",
    "from textblob import TextBlob\n",
    "from nltk.stem import PorterStemmer\n",
    "from nltk.corpus import stopwords"
   ]
  },
  {
   "cell_type": "code",
   "execution_count": 26,
   "id": "64b1331b",
   "metadata": {},
   "outputs": [],
   "source": [
    "import numpy as np\n",
    "import matplotlib.pyplot as plt\n",
    "from PIL import Image\n",
    "import os\n",
    "\n",
    "from sklearn.pipeline import Pipeline\n",
    "from sklearn.base import BaseEstimator, TransformerMixin\n",
    "from sklearn.compose import ColumnTransformer\n",
    "from sklearn.preprocessing import MinMaxScaler\n",
    "from sklearn.model_selection import cross_validate\n",
    "\n",
    "import tensorflow as tf\n",
    "from tensorflow.keras.preprocessing.text import Tokenizer\n",
    "from tensorflow.keras.preprocessing.sequence import pad_sequences\n",
    "from tensorflow.keras import layers, Sequential\n",
    "from tensorflow.keras.callbacks import EarlyStopping\n",
    "from tensorflow.keras.utils import to_categorical"
   ]
  },
  {
   "cell_type": "code",
   "execution_count": 36,
   "id": "2e3585db",
   "metadata": {},
   "outputs": [],
   "source": [
    "from gensim.models import Word2Vec\n",
    "from tensorflow.keras.preprocessing.text import text_to_word_sequence\n"
   ]
  },
  {
   "cell_type": "code",
   "execution_count": 2,
   "metadata": {},
   "outputs": [],
   "source": [
    "df_test = pd.read_csv('../raw_data/titles_data/titles_test.csv')\n",
    "df_train = pd.read_csv('../raw_data/titles_data/titles_train.csv')\n"
   ]
  },
  {
   "cell_type": "code",
   "execution_count": 28,
   "id": "fc8ef361",
   "metadata": {},
   "outputs": [
    {
     "data": {
      "text/html": [
       "<div>\n",
       "<style scoped>\n",
       "    .dataframe tbody tr th:only-of-type {\n",
       "        vertical-align: middle;\n",
       "    }\n",
       "\n",
       "    .dataframe tbody tr th {\n",
       "        vertical-align: top;\n",
       "    }\n",
       "\n",
       "    .dataframe thead th {\n",
       "        text-align: right;\n",
       "    }\n",
       "</style>\n",
       "<table border=\"1\" class=\"dataframe\">\n",
       "  <thead>\n",
       "    <tr style=\"text-align: right;\">\n",
       "      <th></th>\n",
       "      <th>Image_name</th>\n",
       "      <th>Title</th>\n",
       "    </tr>\n",
       "  </thead>\n",
       "  <tbody>\n",
       "    <tr>\n",
       "      <th>0</th>\n",
       "      <td>044310073X.jpg</td>\n",
       "      <td>Sereed Camion Oral and Maxillofacial Surgery A...</td>\n",
       "    </tr>\n",
       "    <tr>\n",
       "      <th>1</th>\n",
       "      <td>1438005687.jpg</td>\n",
       "      <td>BARRON'S The Leader in Test Preparation GRE MO...</td>\n",
       "    </tr>\n",
       "    <tr>\n",
       "      <th>2</th>\n",
       "      <td>0060750715.jpg</td>\n",
       "      <td>The Ballet Maker wwww. George Balanchine Rober...</td>\n",
       "    </tr>\n",
       "    <tr>\n",
       "      <th>3</th>\n",
       "      <td>1580237959.jpg</td>\n",
       "      <td>INSTITUTE FOR JEWISH SPIRITUALITY SERIES A PAR...</td>\n",
       "    </tr>\n",
       "    <tr>\n",
       "      <th>4</th>\n",
       "      <td>0135137829.jpg</td>\n",
       "      <td>Tu Oce P and P and Co acred Construction Sched...</td>\n",
       "    </tr>\n",
       "    <tr>\n",
       "      <th>...</th>\n",
       "      <td>...</td>\n",
       "      <td>...</td>\n",
       "    </tr>\n",
       "    <tr>\n",
       "      <th>5695</th>\n",
       "      <td>0399174680.jpg</td>\n",
       "      <td>#1 NEW YORK TIMES BESTSELLING AUTHOR STUART WO...</td>\n",
       "    </tr>\n",
       "    <tr>\n",
       "      <th>5696</th>\n",
       "      <td>1939454654.jpg</td>\n",
       "      <td>STORIES FROM THE AGE OF DISTRACTION VOLUME ONE...</td>\n",
       "    </tr>\n",
       "    <tr>\n",
       "      <th>5697</th>\n",
       "      <td>1604601604.jpg</td>\n",
       "      <td>Fifth Moved in the Culasidge Community Series ...</td>\n",
       "    </tr>\n",
       "    <tr>\n",
       "      <th>5698</th>\n",
       "      <td>0399166726.jpg</td>\n",
       "      <td>WX -LIBA Saving Jason MICHAEL SEARS BLACK FRIDAYS</td>\n",
       "    </tr>\n",
       "    <tr>\n",
       "      <th>5699</th>\n",
       "      <td>0062073508.jpg</td>\n",
       "      <td>THE QUEEN OF MYSTERY gatha Christie C MURDER O...</td>\n",
       "    </tr>\n",
       "  </tbody>\n",
       "</table>\n",
       "<p>5700 rows × 2 columns</p>\n",
       "</div>"
      ],
      "text/plain": [
       "          Image_name                                              Title\n",
       "0     044310073X.jpg  Sereed Camion Oral and Maxillofacial Surgery A...\n",
       "1     1438005687.jpg  BARRON'S The Leader in Test Preparation GRE MO...\n",
       "2     0060750715.jpg  The Ballet Maker wwww. George Balanchine Rober...\n",
       "3     1580237959.jpg  INSTITUTE FOR JEWISH SPIRITUALITY SERIES A PAR...\n",
       "4     0135137829.jpg  Tu Oce P and P and Co acred Construction Sched...\n",
       "...              ...                                                ...\n",
       "5695  0399174680.jpg  #1 NEW YORK TIMES BESTSELLING AUTHOR STUART WO...\n",
       "5696  1939454654.jpg  STORIES FROM THE AGE OF DISTRACTION VOLUME ONE...\n",
       "5697  1604601604.jpg  Fifth Moved in the Culasidge Community Series ...\n",
       "5698  0399166726.jpg  WX -LIBA Saving Jason MICHAEL SEARS BLACK FRIDAYS\n",
       "5699  0062073508.jpg  THE QUEEN OF MYSTERY gatha Christie C MURDER O...\n",
       "\n",
       "[5700 rows x 2 columns]"
      ]
     },
     "execution_count": 28,
     "metadata": {},
     "output_type": "execute_result"
    }
   ],
   "source": [
    "df_test"
   ]
  },
  {
   "cell_type": "code",
   "execution_count": 24,
   "id": "ef3a75c7",
   "metadata": {},
   "outputs": [],
   "source": [
    "def preprocessed_title(titles):\n",
    "    output = titles.str.lower()\n",
    "    output = output.apply(lambda x: \"\".join([i for i in x if i not in string.punctuation]))\n",
    "    output = output.apply(lambda x: \"\".join([i for i in x if i not in string.digits]))\n",
    "    output = output.apply(lambda x: re.split('\\W+', x))\n",
    "    #output = output.apply(lambda x: [str(TextBlob(word).correct()) for word in x])\n",
    "    porter_stemmer = PorterStemmer()\n",
    "    output = output.apply(lambda x: [porter_stemmer.stem(word) for word in x])\n",
    "    stops = set(stopwords.words('english'))\n",
    "    output = output.apply(lambda x: [word for word in x if word not in stops])\n",
    "\n",
    "    return output"
   ]
  },
  {
   "cell_type": "code",
   "execution_count": 27,
   "id": "6501e09e",
   "metadata": {},
   "outputs": [],
   "source": [
    "X_train_preproc = preprocessed_title(df_train['Title'].fillna(''))"
   ]
  },
  {
   "cell_type": "code",
   "execution_count": 29,
   "id": "64803cf2",
   "metadata": {},
   "outputs": [],
   "source": [
    "X_test_preproc = preprocessed_title(df_test['Title'].fillna(''))"
   ]
  },
  {
   "cell_type": "code",
   "execution_count": 37,
   "id": "6317b698",
   "metadata": {},
   "outputs": [
    {
     "data": {
      "text/plain": [
       "0        [colet, exampl, sa, sport, ronal, gentl, twitt...\n",
       "1                      [maghet, pull, togeth, push, apart]\n",
       "2        [energi, secur, volum, sage, librari, intern, ...\n",
       "3        [audiobook, mpcd, insert, transfer, listen, tr...\n",
       "4                [citi, rock, idaho, climber, guid, untal]\n",
       "                               ...                        \n",
       "51295    [john, sandford, new, york, timesbestsel, auth...\n",
       "51296    [second, edit, crime, writer, guid, polic, pra...\n",
       "51297               [jezebel, remedi, nord, martin, clark]\n",
       "51298                              [startup, glenn, ogura]\n",
       "51299    [bad, karaden, mysteri, mysteri, ender, killer...\n",
       "Name: Title, Length: 51300, dtype: object"
      ]
     },
     "execution_count": 37,
     "metadata": {},
     "output_type": "execute_result"
    }
   ],
   "source": [
    "X_train_preproc"
   ]
  },
  {
   "attachments": {},
   "cell_type": "markdown",
   "id": "9d305ef3",
   "metadata": {},
   "source": [
    "## Word2vec - pretrained"
   ]
  },
  {
   "cell_type": "code",
   "execution_count": 31,
   "id": "616eea1e",
   "metadata": {},
   "outputs": [
    {
     "name": "stdout",
     "output_type": "stream",
     "text": [
      "gensim==4.2.0\n"
     ]
    }
   ],
   "source": [
    "!pip freeze | grep gensim"
   ]
  },
  {
   "cell_type": "code",
   "execution_count": 32,
   "id": "66f88e34",
   "metadata": {},
   "outputs": [
    {
     "name": "stdout",
     "output_type": "stream",
     "text": [
      "tensorflow==2.13.0rc1\n",
      "tensorflow-datasets==4.6.0\n",
      "tensorflow-estimator==2.13.0rc0\n",
      "tensorflow-macos==2.13.0rc1\n",
      "tensorflow-metadata==1.10.0\n"
     ]
    }
   ],
   "source": [
    "!pip freeze | grep tensorflow"
   ]
  },
  {
   "cell_type": "code",
   "execution_count": 64,
   "id": "56ddaad2",
   "metadata": {},
   "outputs": [
    {
     "ename": "AttributeError",
     "evalue": "'list' object has no attribute 'split'",
     "output_type": "error",
     "traceback": [
      "\u001b[0;31m---------------------------------------------------------------------------\u001b[0m",
      "\u001b[0;31mAttributeError\u001b[0m                            Traceback (most recent call last)",
      "\u001b[1;32m/Users/ellipalaiologou/code/NahiaPeschard/wagon_book_cover/notebooks/elli_google_nlp.ipynb Cell 13\u001b[0m in \u001b[0;36m1\n\u001b[0;32m----> <a href='vscode-notebook-cell:/Users/ellipalaiologou/code/NahiaPeschard/wagon_book_cover/notebooks/elli_google_nlp.ipynb#X22sZmlsZQ%3D%3D?line=0'>1</a>\u001b[0m X_train_embed \u001b[39m=\u001b[39m [title\u001b[39m.\u001b[39msplit() \u001b[39mfor\u001b[39;00m title \u001b[39min\u001b[39;00m X_train_preproc]\n",
      "\u001b[1;32m/Users/ellipalaiologou/code/NahiaPeschard/wagon_book_cover/notebooks/elli_google_nlp.ipynb Cell 13\u001b[0m in \u001b[0;36m1\n\u001b[0;32m----> <a href='vscode-notebook-cell:/Users/ellipalaiologou/code/NahiaPeschard/wagon_book_cover/notebooks/elli_google_nlp.ipynb#X22sZmlsZQ%3D%3D?line=0'>1</a>\u001b[0m X_train_embed \u001b[39m=\u001b[39m [title\u001b[39m.\u001b[39;49msplit() \u001b[39mfor\u001b[39;00m title \u001b[39min\u001b[39;00m X_train_preproc]\n",
      "\u001b[0;31mAttributeError\u001b[0m: 'list' object has no attribute 'split'"
     ]
    }
   ],
   "source": [
    "#X_train_embed = [text_to_word_sequence(str(title)) for title in X_train_preproc]"
   ]
  },
  {
   "cell_type": "code",
   "execution_count": 65,
   "id": "f2fff015",
   "metadata": {},
   "outputs": [
    {
     "data": {
      "text/plain": [
       "51300"
      ]
     },
     "execution_count": 65,
     "metadata": {},
     "output_type": "execute_result"
    }
   ],
   "source": [
    "len(X_train_preproc)"
   ]
  },
  {
   "cell_type": "code",
   "execution_count": 95,
   "id": "940fc981",
   "metadata": {},
   "outputs": [
    {
     "data": {
      "text/plain": [
       "0        [colet, exampl, sa, sport, ronal, gentl, twitt...\n",
       "1                      [maghet, pull, togeth, push, apart]\n",
       "2        [energi, secur, volum, sage, librari, intern, ...\n",
       "3        [audiobook, mpcd, insert, transfer, listen, tr...\n",
       "4                [citi, rock, idaho, climber, guid, untal]\n",
       "                               ...                        \n",
       "51295    [john, sandford, new, york, timesbestsel, auth...\n",
       "51296    [second, edit, crime, writer, guid, polic, pra...\n",
       "51297               [jezebel, remedi, nord, martin, clark]\n",
       "51298                              [startup, glenn, ogura]\n",
       "51299    [bad, karaden, mysteri, mysteri, ender, killer...\n",
       "Name: Title, Length: 51300, dtype: object"
      ]
     },
     "execution_count": 95,
     "metadata": {},
     "output_type": "execute_result"
    }
   ],
   "source": [
    "X_train_preproc"
   ]
  },
  {
   "cell_type": "code",
   "execution_count": 110,
   "id": "9a8ad366",
   "metadata": {},
   "outputs": [],
   "source": [
    "word2vec = Word2Vec(sentences=X_train_preproc, min_count=10, vector_size=20, window=3) \n",
    "#wv = word2vec.wv"
   ]
  },
  {
   "cell_type": "code",
   "execution_count": 111,
   "id": "4c2ee589",
   "metadata": {},
   "outputs": [
    {
     "name": "stdout",
     "output_type": "stream",
     "text": [
      "[-0.17825377  0.48358867  0.27253163 -0.19101048 -0.9312971  -0.15243877\n",
      " -0.29092497  0.5761052  -0.6898378   0.08620487  0.83036035  0.42400408\n",
      "  0.47332236 -0.68770665 -0.01304691  0.16790017  0.35935917 -0.11217155\n",
      " -0.917654   -0.7011325 ]\n"
     ]
    }
   ],
   "source": [
    "print(word2vec.wv['leadership'])\n"
   ]
  },
  {
   "cell_type": "code",
   "execution_count": 112,
   "id": "91111e4d",
   "metadata": {},
   "outputs": [
    {
     "data": {
      "text/plain": [
       "[('origin', 0.9635210633277893),\n",
       " ('fiction', 0.946500837802887),\n",
       " ('short', 0.9432647228240967),\n",
       " ('fantasi', 0.9432392716407776),\n",
       " ('ancient', 0.9120355844497681),\n",
       " ('detect', 0.9112628102302551),\n",
       " ('major', 0.9039660692214966),\n",
       " ('christian', 0.9032929539680481),\n",
       " ('western', 0.9029826521873474),\n",
       " ('prison', 0.9023937582969666)]"
      ]
     },
     "execution_count": 112,
     "metadata": {},
     "output_type": "execute_result"
    }
   ],
   "source": [
    "word2vec.wv.most_similar('crime')"
   ]
  },
  {
   "cell_type": "code",
   "execution_count": 99,
   "id": "8094a987",
   "metadata": {},
   "outputs": [
    {
     "data": {
      "text/plain": [
       "(7275, 20)"
      ]
     },
     "execution_count": 99,
     "metadata": {},
     "output_type": "execute_result"
    }
   ],
   "source": [
    "word2vec.wv.vectors.shape"
   ]
  },
  {
   "cell_type": "code",
   "execution_count": null,
   "id": "5833bb10",
   "metadata": {},
   "outputs": [],
   "source": []
  }
 ],
 "metadata": {
  "kernelspec": {
   "display_name": "lewagon",
   "language": "python",
   "name": "python3"
  },
  "language_info": {
   "codemirror_mode": {
    "name": "ipython",
    "version": 3
   },
   "file_extension": ".py",
   "mimetype": "text/x-python",
   "name": "python",
   "nbconvert_exporter": "python",
   "pygments_lexer": "ipython3",
   "version": "3.10.6"
  }
 },
 "nbformat": 4,
 "nbformat_minor": 5
}

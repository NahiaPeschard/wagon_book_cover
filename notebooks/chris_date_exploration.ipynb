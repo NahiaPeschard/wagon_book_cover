{
 "cells": [
  {
   "cell_type": "markdown",
   "id": "87630df1",
   "metadata": {
    "heading_collapsed": true
   },
   "source": [
    "# Imports"
   ]
  },
  {
   "cell_type": "code",
   "execution_count": 218,
   "id": "0591f9e3",
   "metadata": {
    "hidden": true
   },
   "outputs": [],
   "source": [
    "import pandas as pd\n",
    "import numpy as np\n",
    "from PIL import Image\n",
    "import os\n",
    "\n",
    "import string \n",
    "\n",
    "from sklearn.pipeline import Pipeline\n",
    "from sklearn.base import BaseEstimator, TransformerMixin\n",
    "from sklearn.compose import ColumnTransformer\n",
    "from sklearn.preprocessing import MinMaxScaler\n",
    "from sklearn.model_selection import cross_validate\n",
    "\n",
    "from sklearn.svm import LinearSVC"
   ]
  },
  {
   "cell_type": "markdown",
   "id": "25857924",
   "metadata": {
    "heading_collapsed": true
   },
   "source": [
    "# Exploration"
   ]
  },
  {
   "cell_type": "markdown",
   "id": "9aafa16f",
   "metadata": {
    "heading_collapsed": true,
    "hidden": true
   },
   "source": [
    "## Raw data import "
   ]
  },
  {
   "cell_type": "code",
   "execution_count": 32,
   "id": "a4c0339a",
   "metadata": {
    "hidden": true
   },
   "outputs": [],
   "source": [
    "X = pd.read_csv(\"../raw_data/train_x.csv\", delimiter=\" \", index_col=\"Id\")\n",
    "y = pd.read_csv(\"../raw_data/train_y.csv\", delimiter=\" \", index_col=\"Id\")"
   ]
  },
  {
   "cell_type": "code",
   "execution_count": 33,
   "id": "7a2ebc7c",
   "metadata": {
    "hidden": true
   },
   "outputs": [
    {
     "data": {
      "text/html": [
       "<div>\n",
       "<style scoped>\n",
       "    .dataframe tbody tr th:only-of-type {\n",
       "        vertical-align: middle;\n",
       "    }\n",
       "\n",
       "    .dataframe tbody tr th {\n",
       "        vertical-align: top;\n",
       "    }\n",
       "\n",
       "    .dataframe thead th {\n",
       "        text-align: right;\n",
       "    }\n",
       "</style>\n",
       "<table border=\"1\" class=\"dataframe\">\n",
       "  <thead>\n",
       "    <tr style=\"text-align: right;\">\n",
       "      <th></th>\n",
       "      <th>Image_name</th>\n",
       "      <th>Title</th>\n",
       "    </tr>\n",
       "    <tr>\n",
       "      <th>Id</th>\n",
       "      <th></th>\n",
       "      <th></th>\n",
       "    </tr>\n",
       "  </thead>\n",
       "  <tbody>\n",
       "    <tr>\n",
       "      <th>0</th>\n",
       "      <td>1588345297.jpg</td>\n",
       "      <td>With Schwarzkopf: Life Lessons of The Bear</td>\n",
       "    </tr>\n",
       "    <tr>\n",
       "      <th>1</th>\n",
       "      <td>1404803335.jpg</td>\n",
       "      <td>Magnets: Pulling Together, Pushing Apart (Amaz...</td>\n",
       "    </tr>\n",
       "    <tr>\n",
       "      <th>2</th>\n",
       "      <td>1446276082.jpg</td>\n",
       "      <td>Energy Security (SAGE Library of International...</td>\n",
       "    </tr>\n",
       "    <tr>\n",
       "      <th>3</th>\n",
       "      <td>1491522666.jpg</td>\n",
       "      <td>An Amish Gathering: Life in Lancaster County</td>\n",
       "    </tr>\n",
       "    <tr>\n",
       "      <th>4</th>\n",
       "      <td>0970096410.jpg</td>\n",
       "      <td>City of Rocks Idaho: A Climber's Guide (Region...</td>\n",
       "    </tr>\n",
       "    <tr>\n",
       "      <th>...</th>\n",
       "      <td>...</td>\n",
       "      <td>...</td>\n",
       "    </tr>\n",
       "    <tr>\n",
       "      <th>51295</th>\n",
       "      <td>0399176055.jpg</td>\n",
       "      <td>Extreme Prey</td>\n",
       "    </tr>\n",
       "    <tr>\n",
       "      <th>51296</th>\n",
       "      <td>0719816629.jpg</td>\n",
       "      <td>The Crime Writer's Guide to Police Practice an...</td>\n",
       "    </tr>\n",
       "    <tr>\n",
       "      <th>51297</th>\n",
       "      <td>0385353596.jpg</td>\n",
       "      <td>The Jezebel Remedy: A novel</td>\n",
       "    </tr>\n",
       "    <tr>\n",
       "      <th>51298</th>\n",
       "      <td>1475988559.jpg</td>\n",
       "      <td>Startup</td>\n",
       "    </tr>\n",
       "    <tr>\n",
       "      <th>51299</th>\n",
       "      <td>045147483X.jpg</td>\n",
       "      <td>Killer Takeout: A Key West Food Critic Mystery</td>\n",
       "    </tr>\n",
       "  </tbody>\n",
       "</table>\n",
       "<p>51300 rows × 2 columns</p>\n",
       "</div>"
      ],
      "text/plain": [
       "           Image_name                                              Title\n",
       "Id                                                                      \n",
       "0      1588345297.jpg         With Schwarzkopf: Life Lessons of The Bear\n",
       "1      1404803335.jpg  Magnets: Pulling Together, Pushing Apart (Amaz...\n",
       "2      1446276082.jpg  Energy Security (SAGE Library of International...\n",
       "3      1491522666.jpg       An Amish Gathering: Life in Lancaster County\n",
       "4      0970096410.jpg  City of Rocks Idaho: A Climber's Guide (Region...\n",
       "...               ...                                                ...\n",
       "51295  0399176055.jpg                                       Extreme Prey\n",
       "51296  0719816629.jpg  The Crime Writer's Guide to Police Practice an...\n",
       "51297  0385353596.jpg                        The Jezebel Remedy: A novel\n",
       "51298  1475988559.jpg                                            Startup\n",
       "51299  045147483X.jpg     Killer Takeout: A Key West Food Critic Mystery\n",
       "\n",
       "[51300 rows x 2 columns]"
      ]
     },
     "execution_count": 33,
     "metadata": {},
     "output_type": "execute_result"
    }
   ],
   "source": [
    "X"
   ]
  },
  {
   "cell_type": "code",
   "execution_count": 34,
   "id": "b199b261",
   "metadata": {
    "hidden": true
   },
   "outputs": [
    {
     "data": {
      "text/html": [
       "<div>\n",
       "<style scoped>\n",
       "    .dataframe tbody tr th:only-of-type {\n",
       "        vertical-align: middle;\n",
       "    }\n",
       "\n",
       "    .dataframe tbody tr th {\n",
       "        vertical-align: top;\n",
       "    }\n",
       "\n",
       "    .dataframe thead th {\n",
       "        text-align: right;\n",
       "    }\n",
       "</style>\n",
       "<table border=\"1\" class=\"dataframe\">\n",
       "  <thead>\n",
       "    <tr style=\"text-align: right;\">\n",
       "      <th></th>\n",
       "      <th>Genre_id</th>\n",
       "      <th>Genre_name</th>\n",
       "    </tr>\n",
       "    <tr>\n",
       "      <th>Id</th>\n",
       "      <th></th>\n",
       "      <th></th>\n",
       "    </tr>\n",
       "  </thead>\n",
       "  <tbody>\n",
       "    <tr>\n",
       "      <th>0</th>\n",
       "      <td>1</td>\n",
       "      <td>Biographies &amp; Memoirs</td>\n",
       "    </tr>\n",
       "    <tr>\n",
       "      <th>1</th>\n",
       "      <td>4</td>\n",
       "      <td>Children's Books</td>\n",
       "    </tr>\n",
       "    <tr>\n",
       "      <th>2</th>\n",
       "      <td>10</td>\n",
       "      <td>Engineering &amp; Transportation</td>\n",
       "    </tr>\n",
       "    <tr>\n",
       "      <th>3</th>\n",
       "      <td>9</td>\n",
       "      <td>Christian Books &amp; Bibles</td>\n",
       "    </tr>\n",
       "    <tr>\n",
       "      <th>4</th>\n",
       "      <td>26</td>\n",
       "      <td>Sports &amp; Outdoors</td>\n",
       "    </tr>\n",
       "    <tr>\n",
       "      <th>...</th>\n",
       "      <td>...</td>\n",
       "      <td>...</td>\n",
       "    </tr>\n",
       "    <tr>\n",
       "      <th>51295</th>\n",
       "      <td>17</td>\n",
       "      <td>Mystery, Thriller &amp; Suspense</td>\n",
       "    </tr>\n",
       "    <tr>\n",
       "      <th>51296</th>\n",
       "      <td>17</td>\n",
       "      <td>Mystery, Thriller &amp; Suspense</td>\n",
       "    </tr>\n",
       "    <tr>\n",
       "      <th>51297</th>\n",
       "      <td>17</td>\n",
       "      <td>Mystery, Thriller &amp; Suspense</td>\n",
       "    </tr>\n",
       "    <tr>\n",
       "      <th>51298</th>\n",
       "      <td>17</td>\n",
       "      <td>Mystery, Thriller &amp; Suspense</td>\n",
       "    </tr>\n",
       "    <tr>\n",
       "      <th>51299</th>\n",
       "      <td>17</td>\n",
       "      <td>Mystery, Thriller &amp; Suspense</td>\n",
       "    </tr>\n",
       "  </tbody>\n",
       "</table>\n",
       "<p>51300 rows × 2 columns</p>\n",
       "</div>"
      ],
      "text/plain": [
       "       Genre_id                    Genre_name\n",
       "Id                                           \n",
       "0             1         Biographies & Memoirs\n",
       "1             4              Children's Books\n",
       "2            10  Engineering & Transportation\n",
       "3             9      Christian Books & Bibles\n",
       "4            26             Sports & Outdoors\n",
       "...         ...                           ...\n",
       "51295        17  Mystery, Thriller & Suspense\n",
       "51296        17  Mystery, Thriller & Suspense\n",
       "51297        17  Mystery, Thriller & Suspense\n",
       "51298        17  Mystery, Thriller & Suspense\n",
       "51299        17  Mystery, Thriller & Suspense\n",
       "\n",
       "[51300 rows x 2 columns]"
      ]
     },
     "execution_count": 34,
     "metadata": {},
     "output_type": "execute_result"
    }
   ],
   "source": [
    "y"
   ]
  },
  {
   "cell_type": "code",
   "execution_count": 35,
   "id": "f8f5c804",
   "metadata": {
    "hidden": true
   },
   "outputs": [],
   "source": [
    "genre_dict = y.set_index('Genre_id')['Genre_name'].to_dict()"
   ]
  },
  {
   "cell_type": "markdown",
   "id": "ae63210d",
   "metadata": {
    "heading_collapsed": true,
    "hidden": true
   },
   "source": [
    "## Preliminary Data Preprocessing"
   ]
  },
  {
   "cell_type": "code",
   "execution_count": 170,
   "id": "eadc817c",
   "metadata": {
    "hidden": true
   },
   "outputs": [],
   "source": [
    "average_colors = []\n",
    "most_frequent_colors = []\n",
    "missing_images = []\n",
    "\n",
    "\n",
    "for image_name in X['Image_name']:\n",
    "    image_path = os.path.join(\"../raw_data/Images/\", image_name)\n",
    "    image = Image.open(image_path)\n",
    "    image_array = np.array(image)\n",
    "    average_color = image_array.mean(axis=(0, 1))\n",
    "    \n",
    "    flattened_pixels = image_array.reshape(-1, 3)\n",
    "    color_counts = np.bincount(flattened_pixels.argmax(axis=1))\n",
    "    most_frequent_color_idx = color_counts.argmax()\n",
    "    most_frequent_color = flattened_pixels[flattened_pixels.argmax(axis=1) == most_frequent_color_idx][0]\n",
    "\n",
    "    average_colors.append(average_color)\n",
    "    most_frequent_colors.append(most_frequent_color)\n",
    "    \n",
    "    \n",
    "average_colors = np.array(average_colors)\n",
    "most_frequent_colors = np.array(most_frequent_colors)"
   ]
  },
  {
   "cell_type": "code",
   "execution_count": 230,
   "id": "ef6b703d",
   "metadata": {
    "hidden": true
   },
   "outputs": [],
   "source": [
    "colors = np.hstack((average_colors, most_frequent_colors))\n",
    "extracted_features = pd.DataFrame(colors, columns=[\"average_r\", \"average_g\", \"average_b\", \"most_freq_r\", \"most_freq_g\", \"most_freq_b\"])"
   ]
  },
  {
   "cell_type": "code",
   "execution_count": 231,
   "id": "c2ee7123",
   "metadata": {
    "hidden": true
   },
   "outputs": [],
   "source": [
    "title_words = np.array(X[\"Title\"].str.split())\n",
    "\n",
    "count_words = np.array([len(x) for x in title_words])\n",
    "extracted_features[\"word_counts\"] = count_words"
   ]
  },
  {
   "cell_type": "code",
   "execution_count": 232,
   "id": "0cba9c07",
   "metadata": {
    "hidden": true
   },
   "outputs": [
    {
     "data": {
      "text/plain": [
       "array([7, 7, 7, ..., 5, 1, 8])"
      ]
     },
     "execution_count": 232,
     "metadata": {},
     "output_type": "execute_result"
    }
   ],
   "source": [
    "count_words"
   ]
  },
  {
   "cell_type": "code",
   "execution_count": 233,
   "id": "4a6343da",
   "metadata": {
    "hidden": true
   },
   "outputs": [],
   "source": [
    "count_capital_letters = lambda s: sum(1 for c in s if c.isupper())"
   ]
  },
  {
   "cell_type": "code",
   "execution_count": 234,
   "id": "8cef8016",
   "metadata": {
    "hidden": true
   },
   "outputs": [],
   "source": [
    "capital_counts = X[\"Title\"].apply(count_capital_letters)\n",
    "\n",
    "capital_ratio = np.array(capital_counts/count_words)\n",
    "\n",
    "extracted_features[\"capital_ratio\"] = capital_ratio"
   ]
  },
  {
   "cell_type": "code",
   "execution_count": 235,
   "id": "f9a28e98",
   "metadata": {
    "hidden": true
   },
   "outputs": [],
   "source": [
    "count_letters = lambda s: sum(1 for c in s if c.isalpha())"
   ]
  },
  {
   "cell_type": "code",
   "execution_count": 236,
   "id": "78848a0b",
   "metadata": {
    "hidden": true
   },
   "outputs": [],
   "source": [
    "letter_counts = X[\"Title\"].apply(count_letters)\n",
    "\n",
    "letter_ratio = np.array(letter_counts/count_words)\n",
    "\n",
    "extracted_features[\"letter_ratio\"] = letter_ratio "
   ]
  },
  {
   "cell_type": "code",
   "execution_count": 237,
   "id": "b6de7f08",
   "metadata": {
    "hidden": true
   },
   "outputs": [],
   "source": [
    "count_punctuation = lambda s: sum(1 for c in s if c in string.punctuation)"
   ]
  },
  {
   "cell_type": "code",
   "execution_count": 238,
   "id": "b464df66",
   "metadata": {
    "hidden": true
   },
   "outputs": [],
   "source": [
    "punct_counts = X[\"Title\"].apply(count_punctuation)\n",
    "extracted_features[\"punct_counts\"] = punct_counts"
   ]
  },
  {
   "cell_type": "code",
   "execution_count": 245,
   "id": "8804015e",
   "metadata": {
    "hidden": true
   },
   "outputs": [
    {
     "data": {
      "text/html": [
       "<div>\n",
       "<style scoped>\n",
       "    .dataframe tbody tr th:only-of-type {\n",
       "        vertical-align: middle;\n",
       "    }\n",
       "\n",
       "    .dataframe tbody tr th {\n",
       "        vertical-align: top;\n",
       "    }\n",
       "\n",
       "    .dataframe thead th {\n",
       "        text-align: right;\n",
       "    }\n",
       "</style>\n",
       "<table border=\"1\" class=\"dataframe\">\n",
       "  <thead>\n",
       "    <tr style=\"text-align: right;\">\n",
       "      <th></th>\n",
       "      <th>average_r</th>\n",
       "      <th>average_g</th>\n",
       "      <th>average_b</th>\n",
       "      <th>most_freq_r</th>\n",
       "      <th>most_freq_g</th>\n",
       "      <th>most_freq_b</th>\n",
       "      <th>word_counts</th>\n",
       "      <th>capital_ratio</th>\n",
       "      <th>letter_ratio</th>\n",
       "      <th>punct_counts</th>\n",
       "    </tr>\n",
       "  </thead>\n",
       "  <tbody>\n",
       "    <tr>\n",
       "      <th>0</th>\n",
       "      <td>144.033542</td>\n",
       "      <td>144.528360</td>\n",
       "      <td>126.177575</td>\n",
       "      <td>201.0</td>\n",
       "      <td>195.0</td>\n",
       "      <td>171.0</td>\n",
       "      <td>7</td>\n",
       "      <td>0.857143</td>\n",
       "      <td>5.000000</td>\n",
       "      <td>1</td>\n",
       "    </tr>\n",
       "    <tr>\n",
       "      <th>1</th>\n",
       "      <td>121.790398</td>\n",
       "      <td>155.687759</td>\n",
       "      <td>171.200175</td>\n",
       "      <td>138.0</td>\n",
       "      <td>211.0</td>\n",
       "      <td>246.0</td>\n",
       "      <td>7</td>\n",
       "      <td>1.000000</td>\n",
       "      <td>6.857143</td>\n",
       "      <td>4</td>\n",
       "    </tr>\n",
       "    <tr>\n",
       "      <th>2</th>\n",
       "      <td>121.549187</td>\n",
       "      <td>8.156449</td>\n",
       "      <td>7.397939</td>\n",
       "      <td>175.0</td>\n",
       "      <td>147.0</td>\n",
       "      <td>126.0</td>\n",
       "      <td>7</td>\n",
       "      <td>1.285714</td>\n",
       "      <td>6.857143</td>\n",
       "      <td>2</td>\n",
       "    </tr>\n",
       "    <tr>\n",
       "      <th>3</th>\n",
       "      <td>193.156250</td>\n",
       "      <td>182.033183</td>\n",
       "      <td>103.955656</td>\n",
       "      <td>0.0</td>\n",
       "      <td>3.0</td>\n",
       "      <td>0.0</td>\n",
       "      <td>7</td>\n",
       "      <td>0.857143</td>\n",
       "      <td>5.285714</td>\n",
       "      <td>1</td>\n",
       "    </tr>\n",
       "    <tr>\n",
       "      <th>4</th>\n",
       "      <td>112.079959</td>\n",
       "      <td>136.003707</td>\n",
       "      <td>169.840143</td>\n",
       "      <td>66.0</td>\n",
       "      <td>85.0</td>\n",
       "      <td>177.0</td>\n",
       "      <td>11</td>\n",
       "      <td>0.909091</td>\n",
       "      <td>5.090909</td>\n",
       "      <td>4</td>\n",
       "    </tr>\n",
       "    <tr>\n",
       "      <th>...</th>\n",
       "      <td>...</td>\n",
       "      <td>...</td>\n",
       "      <td>...</td>\n",
       "      <td>...</td>\n",
       "      <td>...</td>\n",
       "      <td>...</td>\n",
       "      <td>...</td>\n",
       "      <td>...</td>\n",
       "      <td>...</td>\n",
       "      <td>...</td>\n",
       "    </tr>\n",
       "    <tr>\n",
       "      <th>51295</th>\n",
       "      <td>144.386420</td>\n",
       "      <td>98.107721</td>\n",
       "      <td>80.842494</td>\n",
       "      <td>53.0</td>\n",
       "      <td>39.0</td>\n",
       "      <td>52.0</td>\n",
       "      <td>2</td>\n",
       "      <td>1.000000</td>\n",
       "      <td>5.500000</td>\n",
       "      <td>0</td>\n",
       "    </tr>\n",
       "    <tr>\n",
       "      <th>51296</th>\n",
       "      <td>91.739557</td>\n",
       "      <td>81.838090</td>\n",
       "      <td>49.942841</td>\n",
       "      <td>25.0</td>\n",
       "      <td>23.0</td>\n",
       "      <td>44.0</td>\n",
       "      <td>9</td>\n",
       "      <td>0.777778</td>\n",
       "      <td>5.333333</td>\n",
       "      <td>1</td>\n",
       "    </tr>\n",
       "    <tr>\n",
       "      <th>51297</th>\n",
       "      <td>68.825335</td>\n",
       "      <td>63.520069</td>\n",
       "      <td>72.904835</td>\n",
       "      <td>158.0</td>\n",
       "      <td>161.0</td>\n",
       "      <td>166.0</td>\n",
       "      <td>5</td>\n",
       "      <td>0.800000</td>\n",
       "      <td>4.400000</td>\n",
       "      <td>1</td>\n",
       "    </tr>\n",
       "    <tr>\n",
       "      <th>51298</th>\n",
       "      <td>118.814274</td>\n",
       "      <td>82.102240</td>\n",
       "      <td>69.356844</td>\n",
       "      <td>62.0</td>\n",
       "      <td>61.0</td>\n",
       "      <td>59.0</td>\n",
       "      <td>1</td>\n",
       "      <td>1.000000</td>\n",
       "      <td>7.000000</td>\n",
       "      <td>0</td>\n",
       "    </tr>\n",
       "    <tr>\n",
       "      <th>51299</th>\n",
       "      <td>175.357661</td>\n",
       "      <td>117.538425</td>\n",
       "      <td>89.318300</td>\n",
       "      <td>208.0</td>\n",
       "      <td>50.0</td>\n",
       "      <td>23.0</td>\n",
       "      <td>8</td>\n",
       "      <td>1.000000</td>\n",
       "      <td>4.750000</td>\n",
       "      <td>1</td>\n",
       "    </tr>\n",
       "  </tbody>\n",
       "</table>\n",
       "<p>51300 rows × 10 columns</p>\n",
       "</div>"
      ],
      "text/plain": [
       "        average_r   average_g   average_b  most_freq_r  most_freq_g  \\\n",
       "0      144.033542  144.528360  126.177575        201.0        195.0   \n",
       "1      121.790398  155.687759  171.200175        138.0        211.0   \n",
       "2      121.549187    8.156449    7.397939        175.0        147.0   \n",
       "3      193.156250  182.033183  103.955656          0.0          3.0   \n",
       "4      112.079959  136.003707  169.840143         66.0         85.0   \n",
       "...           ...         ...         ...          ...          ...   \n",
       "51295  144.386420   98.107721   80.842494         53.0         39.0   \n",
       "51296   91.739557   81.838090   49.942841         25.0         23.0   \n",
       "51297   68.825335   63.520069   72.904835        158.0        161.0   \n",
       "51298  118.814274   82.102240   69.356844         62.0         61.0   \n",
       "51299  175.357661  117.538425   89.318300        208.0         50.0   \n",
       "\n",
       "       most_freq_b  word_counts  capital_ratio  letter_ratio  punct_counts  \n",
       "0            171.0            7       0.857143      5.000000             1  \n",
       "1            246.0            7       1.000000      6.857143             4  \n",
       "2            126.0            7       1.285714      6.857143             2  \n",
       "3              0.0            7       0.857143      5.285714             1  \n",
       "4            177.0           11       0.909091      5.090909             4  \n",
       "...            ...          ...            ...           ...           ...  \n",
       "51295         52.0            2       1.000000      5.500000             0  \n",
       "51296         44.0            9       0.777778      5.333333             1  \n",
       "51297        166.0            5       0.800000      4.400000             1  \n",
       "51298         59.0            1       1.000000      7.000000             0  \n",
       "51299         23.0            8       1.000000      4.750000             1  \n",
       "\n",
       "[51300 rows x 10 columns]"
      ]
     },
     "execution_count": 245,
     "metadata": {},
     "output_type": "execute_result"
    }
   ],
   "source": [
    "extracted_features"
   ]
  },
  {
   "cell_type": "markdown",
   "id": "5d9367fc",
   "metadata": {
    "heading_collapsed": true
   },
   "source": [
    "# Pipeline"
   ]
  },
  {
   "cell_type": "markdown",
   "id": "1a7b26d5",
   "metadata": {
    "heading_collapsed": true,
    "hidden": true
   },
   "source": [
    "## Preprocessing Pipeline"
   ]
  },
  {
   "cell_type": "code",
   "execution_count": 197,
   "id": "bbe9b581",
   "metadata": {
    "hidden": true
   },
   "outputs": [],
   "source": [
    "class ImageFeatureExtractor(BaseEstimator, TransformerMixin):\n",
    "    def __init__(self):\n",
    "        pass\n",
    "    \n",
    "    def fit(self, X, y=None):\n",
    "        return self\n",
    "    \n",
    "    def transform(self, X):\n",
    "        average_colors = []\n",
    "        most_frequent_colors = []\n",
    "        \n",
    "        for image_name in X['Image_name']:\n",
    "            image_path = os.path.join(\"../raw_data/Images/\", image_name)\n",
    "            image = Image.open(image_path)\n",
    "            image_array = np.array(image)\n",
    "            average_color = image_array.mean(axis=(0, 1))\n",
    "\n",
    "            flattened_pixels = image_array.reshape(-1, 3)\n",
    "            color_counts = np.bincount(flattened_pixels.argmax(axis=1))\n",
    "            most_common_color_idx = color_counts.argmax()\n",
    "            most_common_color = flattened_pixels[flattened_pixels.argmax(axis=1) == most_common_color_idx][0]\n",
    "\n",
    "            average_colors.append(average_color)\n",
    "            most_frequent_colors.append(most_common_color)\n",
    "\n",
    "        \n",
    "        average_colors = np.array(average_colors)\n",
    "        most_frequent_colors = np.array(most_frequent_colors)\n",
    "        \n",
    "        return np.hstack((average_colors, most_frequent_colors))/255"
   ]
  },
  {
   "cell_type": "code",
   "execution_count": 198,
   "id": "0236785b",
   "metadata": {
    "hidden": true
   },
   "outputs": [],
   "source": [
    "class TitleFeatureExtractor(BaseEstimator, TransformerMixin):\n",
    "    def __init__(self):\n",
    "        self.count_words = lambda s: len(s.split())\n",
    "        self.count_capital_letters = lambda s: sum(1 for c in s if c.isupper())\n",
    "        self.count_letters = lambda s: sum(1 for c in s if c.isalpha())\n",
    "        self.count_punctuation = lambda s: sum(1 for c in s if c in string.punctuation)\n",
    "    \n",
    "    def fit(self, X, y=None):\n",
    "        return self\n",
    "    \n",
    "    def transform(self, X):\n",
    "        extracted_features = pd.DataFrame()\n",
    "        extracted_features['count_words'] = X['Title'].apply(self.count_words)\n",
    "        extracted_features['capital_ratio'] = X['Title'].apply(lambda s: self.count_capital_letters(s) / self.count_words(s))\n",
    "        extracted_features['letter_ratio'] = X['Title'].apply(lambda s: self.count_letters(s) / self.count_words(s))\n",
    "        extracted_features['punct_counts'] = X['Title'].apply(self.count_punctuation)\n",
    "        \n",
    "        return extracted_features.values"
   ]
  },
  {
   "cell_type": "code",
   "execution_count": 207,
   "id": "3a6cc143",
   "metadata": {
    "hidden": true
   },
   "outputs": [],
   "source": [
    "image_pipeline = Pipeline([\n",
    "    ('image_features', ImageFeatureExtractor()),\n",
    "])\n",
    "\n",
    "title_pipeline = Pipeline([\n",
    "    ('title_features', TitleFeatureExtractor()),\n",
    "    ('normalize_text', MinMaxScaler())\n",
    "])\n",
    "\n",
    "preprocessing = ColumnTransformer([\n",
    "    (\"image\", image_pipeline, [\"Image_name\"]),\n",
    "    (\"title\", title_pipeline, [\"Title\"])\n",
    "])"
   ]
  },
  {
   "cell_type": "code",
   "execution_count": 208,
   "id": "3f9d71f3",
   "metadata": {
    "hidden": true
   },
   "outputs": [
    {
     "data": {
      "text/html": [
       "<style>#sk-container-id-2 {color: black;background-color: white;}#sk-container-id-2 pre{padding: 0;}#sk-container-id-2 div.sk-toggleable {background-color: white;}#sk-container-id-2 label.sk-toggleable__label {cursor: pointer;display: block;width: 100%;margin-bottom: 0;padding: 0.3em;box-sizing: border-box;text-align: center;}#sk-container-id-2 label.sk-toggleable__label-arrow:before {content: \"▸\";float: left;margin-right: 0.25em;color: #696969;}#sk-container-id-2 label.sk-toggleable__label-arrow:hover:before {color: black;}#sk-container-id-2 div.sk-estimator:hover label.sk-toggleable__label-arrow:before {color: black;}#sk-container-id-2 div.sk-toggleable__content {max-height: 0;max-width: 0;overflow: hidden;text-align: left;background-color: #f0f8ff;}#sk-container-id-2 div.sk-toggleable__content pre {margin: 0.2em;color: black;border-radius: 0.25em;background-color: #f0f8ff;}#sk-container-id-2 input.sk-toggleable__control:checked~div.sk-toggleable__content {max-height: 200px;max-width: 100%;overflow: auto;}#sk-container-id-2 input.sk-toggleable__control:checked~label.sk-toggleable__label-arrow:before {content: \"▾\";}#sk-container-id-2 div.sk-estimator input.sk-toggleable__control:checked~label.sk-toggleable__label {background-color: #d4ebff;}#sk-container-id-2 div.sk-label input.sk-toggleable__control:checked~label.sk-toggleable__label {background-color: #d4ebff;}#sk-container-id-2 input.sk-hidden--visually {border: 0;clip: rect(1px 1px 1px 1px);clip: rect(1px, 1px, 1px, 1px);height: 1px;margin: -1px;overflow: hidden;padding: 0;position: absolute;width: 1px;}#sk-container-id-2 div.sk-estimator {font-family: monospace;background-color: #f0f8ff;border: 1px dotted black;border-radius: 0.25em;box-sizing: border-box;margin-bottom: 0.5em;}#sk-container-id-2 div.sk-estimator:hover {background-color: #d4ebff;}#sk-container-id-2 div.sk-parallel-item::after {content: \"\";width: 100%;border-bottom: 1px solid gray;flex-grow: 1;}#sk-container-id-2 div.sk-label:hover label.sk-toggleable__label {background-color: #d4ebff;}#sk-container-id-2 div.sk-serial::before {content: \"\";position: absolute;border-left: 1px solid gray;box-sizing: border-box;top: 0;bottom: 0;left: 50%;z-index: 0;}#sk-container-id-2 div.sk-serial {display: flex;flex-direction: column;align-items: center;background-color: white;padding-right: 0.2em;padding-left: 0.2em;position: relative;}#sk-container-id-2 div.sk-item {position: relative;z-index: 1;}#sk-container-id-2 div.sk-parallel {display: flex;align-items: stretch;justify-content: center;background-color: white;position: relative;}#sk-container-id-2 div.sk-item::before, #sk-container-id-2 div.sk-parallel-item::before {content: \"\";position: absolute;border-left: 1px solid gray;box-sizing: border-box;top: 0;bottom: 0;left: 50%;z-index: -1;}#sk-container-id-2 div.sk-parallel-item {display: flex;flex-direction: column;z-index: 1;position: relative;background-color: white;}#sk-container-id-2 div.sk-parallel-item:first-child::after {align-self: flex-end;width: 50%;}#sk-container-id-2 div.sk-parallel-item:last-child::after {align-self: flex-start;width: 50%;}#sk-container-id-2 div.sk-parallel-item:only-child::after {width: 0;}#sk-container-id-2 div.sk-dashed-wrapped {border: 1px dashed gray;margin: 0 0.4em 0.5em 0.4em;box-sizing: border-box;padding-bottom: 0.4em;background-color: white;}#sk-container-id-2 div.sk-label label {font-family: monospace;font-weight: bold;display: inline-block;line-height: 1.2em;}#sk-container-id-2 div.sk-label-container {text-align: center;}#sk-container-id-2 div.sk-container {/* jupyter's `normalize.less` sets `[hidden] { display: none; }` but bootstrap.min.css set `[hidden] { display: none !important; }` so we also need the `!important` here to be able to override the default hidden behavior on the sphinx rendered scikit-learn.org. See: https://github.com/scikit-learn/scikit-learn/issues/21755 */display: inline-block !important;position: relative;}#sk-container-id-2 div.sk-text-repr-fallback {display: none;}</style><div id=\"sk-container-id-2\" class=\"sk-top-container\"><div class=\"sk-text-repr-fallback\"><pre>ColumnTransformer(transformers=[(&#x27;image&#x27;,\n",
       "                                 Pipeline(steps=[(&#x27;image_features&#x27;,\n",
       "                                                  ImageFeatureExtractor())]),\n",
       "                                 [&#x27;Image_name&#x27;]),\n",
       "                                (&#x27;title&#x27;,\n",
       "                                 Pipeline(steps=[(&#x27;title_features&#x27;,\n",
       "                                                  TitleFeatureExtractor()),\n",
       "                                                 (&#x27;normalize_text&#x27;,\n",
       "                                                  MinMaxScaler())]),\n",
       "                                 [&#x27;Title&#x27;])])</pre><b>In a Jupyter environment, please rerun this cell to show the HTML representation or trust the notebook. <br />On GitHub, the HTML representation is unable to render, please try loading this page with nbviewer.org.</b></div><div class=\"sk-container\" hidden><div class=\"sk-item sk-dashed-wrapped\"><div class=\"sk-label-container\"><div class=\"sk-label sk-toggleable\"><input class=\"sk-toggleable__control sk-hidden--visually\" id=\"sk-estimator-id-7\" type=\"checkbox\" ><label for=\"sk-estimator-id-7\" class=\"sk-toggleable__label sk-toggleable__label-arrow\">ColumnTransformer</label><div class=\"sk-toggleable__content\"><pre>ColumnTransformer(transformers=[(&#x27;image&#x27;,\n",
       "                                 Pipeline(steps=[(&#x27;image_features&#x27;,\n",
       "                                                  ImageFeatureExtractor())]),\n",
       "                                 [&#x27;Image_name&#x27;]),\n",
       "                                (&#x27;title&#x27;,\n",
       "                                 Pipeline(steps=[(&#x27;title_features&#x27;,\n",
       "                                                  TitleFeatureExtractor()),\n",
       "                                                 (&#x27;normalize_text&#x27;,\n",
       "                                                  MinMaxScaler())]),\n",
       "                                 [&#x27;Title&#x27;])])</pre></div></div></div><div class=\"sk-parallel\"><div class=\"sk-parallel-item\"><div class=\"sk-item\"><div class=\"sk-label-container\"><div class=\"sk-label sk-toggleable\"><input class=\"sk-toggleable__control sk-hidden--visually\" id=\"sk-estimator-id-8\" type=\"checkbox\" ><label for=\"sk-estimator-id-8\" class=\"sk-toggleable__label sk-toggleable__label-arrow\">image</label><div class=\"sk-toggleable__content\"><pre>[&#x27;Image_name&#x27;]</pre></div></div></div><div class=\"sk-serial\"><div class=\"sk-item\"><div class=\"sk-serial\"><div class=\"sk-item\"><div class=\"sk-estimator sk-toggleable\"><input class=\"sk-toggleable__control sk-hidden--visually\" id=\"sk-estimator-id-9\" type=\"checkbox\" ><label for=\"sk-estimator-id-9\" class=\"sk-toggleable__label sk-toggleable__label-arrow\">ImageFeatureExtractor</label><div class=\"sk-toggleable__content\"><pre>ImageFeatureExtractor()</pre></div></div></div></div></div></div></div></div><div class=\"sk-parallel-item\"><div class=\"sk-item\"><div class=\"sk-label-container\"><div class=\"sk-label sk-toggleable\"><input class=\"sk-toggleable__control sk-hidden--visually\" id=\"sk-estimator-id-10\" type=\"checkbox\" ><label for=\"sk-estimator-id-10\" class=\"sk-toggleable__label sk-toggleable__label-arrow\">title</label><div class=\"sk-toggleable__content\"><pre>[&#x27;Title&#x27;]</pre></div></div></div><div class=\"sk-serial\"><div class=\"sk-item\"><div class=\"sk-serial\"><div class=\"sk-item\"><div class=\"sk-estimator sk-toggleable\"><input class=\"sk-toggleable__control sk-hidden--visually\" id=\"sk-estimator-id-11\" type=\"checkbox\" ><label for=\"sk-estimator-id-11\" class=\"sk-toggleable__label sk-toggleable__label-arrow\">TitleFeatureExtractor</label><div class=\"sk-toggleable__content\"><pre>TitleFeatureExtractor()</pre></div></div></div><div class=\"sk-item\"><div class=\"sk-estimator sk-toggleable\"><input class=\"sk-toggleable__control sk-hidden--visually\" id=\"sk-estimator-id-12\" type=\"checkbox\" ><label for=\"sk-estimator-id-12\" class=\"sk-toggleable__label sk-toggleable__label-arrow\">MinMaxScaler</label><div class=\"sk-toggleable__content\"><pre>MinMaxScaler()</pre></div></div></div></div></div></div></div></div></div></div></div></div>"
      ],
      "text/plain": [
       "ColumnTransformer(transformers=[('image',\n",
       "                                 Pipeline(steps=[('image_features',\n",
       "                                                  ImageFeatureExtractor())]),\n",
       "                                 ['Image_name']),\n",
       "                                ('title',\n",
       "                                 Pipeline(steps=[('title_features',\n",
       "                                                  TitleFeatureExtractor()),\n",
       "                                                 ('normalize_text',\n",
       "                                                  MinMaxScaler())]),\n",
       "                                 ['Title'])])"
      ]
     },
     "execution_count": 208,
     "metadata": {},
     "output_type": "execute_result"
    }
   ],
   "source": [
    "preprocessing"
   ]
  },
  {
   "cell_type": "code",
   "execution_count": 210,
   "id": "8065f20e",
   "metadata": {
    "hidden": true
   },
   "outputs": [],
   "source": [
    "X_preproc = preprocessing.fit_transform(X)\n",
    "y_preproc = y[\"Genre_id\"]"
   ]
  },
  {
   "cell_type": "code",
   "execution_count": 219,
   "id": "bce798a3",
   "metadata": {
    "hidden": true
   },
   "outputs": [
    {
     "data": {
      "text/plain": [
       "array([[0.56483742, 0.56677788, 0.49481402, ..., 0.08571429, 0.23809524,\n",
       "        0.02777778],\n",
       "       [0.4776094 , 0.61054023, 0.67137324, ..., 0.1       , 0.32653061,\n",
       "        0.11111111],\n",
       "       [0.47666348, 0.03198608, 0.02901153, ..., 0.12857143, 0.32653061,\n",
       "        0.05555556],\n",
       "       ...,\n",
       "       [0.26990327, 0.24909831, 0.28590131, ..., 0.08      , 0.20952381,\n",
       "        0.02777778],\n",
       "       [0.46593833, 0.32196957, 0.27198762, ..., 0.1       , 0.33333333,\n",
       "        0.        ],\n",
       "       [0.6876771 , 0.460935  , 0.35026784, ..., 0.1       , 0.22619048,\n",
       "        0.02777778]])"
      ]
     },
     "execution_count": 219,
     "metadata": {},
     "output_type": "execute_result"
    }
   ],
   "source": [
    "X_preproc"
   ]
  },
  {
   "cell_type": "markdown",
   "id": "162e8e5e",
   "metadata": {
    "heading_collapsed": true
   },
   "source": [
    "# Model"
   ]
  },
  {
   "cell_type": "code",
   "execution_count": 212,
   "id": "d7f4a114",
   "metadata": {
    "hidden": true
   },
   "outputs": [],
   "source": [
    "model = LinearSVC()"
   ]
  },
  {
   "cell_type": "code",
   "execution_count": 246,
   "id": "442aee25",
   "metadata": {
    "hidden": true
   },
   "outputs": [],
   "source": [
    "scores = cross_validate(model, X_preproc, y_preproc, cv=5)"
   ]
  },
  {
   "cell_type": "code",
   "execution_count": 247,
   "id": "4f1e89c5",
   "metadata": {
    "hidden": true
   },
   "outputs": [
    {
     "data": {
      "text/plain": [
       "0.10315789473684212"
      ]
     },
     "execution_count": 247,
     "metadata": {},
     "output_type": "execute_result"
    }
   ],
   "source": [
    "score = scores[\"test_score\"].mean()\n",
    "score"
   ]
  }
 ],
 "metadata": {
  "kernelspec": {
   "display_name": "Python 3 (ipykernel)",
   "language": "python",
   "name": "python3"
  },
  "language_info": {
   "codemirror_mode": {
    "name": "ipython",
    "version": 3
   },
   "file_extension": ".py",
   "mimetype": "text/x-python",
   "name": "python",
   "nbconvert_exporter": "python",
   "pygments_lexer": "ipython3",
   "version": "3.10.6"
  },
  "toc": {
   "base_numbering": 1,
   "nav_menu": {},
   "number_sections": true,
   "sideBar": true,
   "skip_h1_title": false,
   "title_cell": "Table of Contents",
   "title_sidebar": "Contents",
   "toc_cell": false,
   "toc_position": {},
   "toc_section_display": true,
   "toc_window_display": false
  }
 },
 "nbformat": 4,
 "nbformat_minor": 5
}

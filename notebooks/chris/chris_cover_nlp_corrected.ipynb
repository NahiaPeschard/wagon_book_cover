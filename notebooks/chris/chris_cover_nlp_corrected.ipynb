{
 "cells": [
  {
   "cell_type": "code",
   "execution_count": 199,
   "id": "c35545b1",
   "metadata": {},
   "outputs": [],
   "source": [
    "import pandas as pd\n",
    "import numpy as np\n",
    "import matplotlib.pyplot as plt\n",
    "from PIL import Image\n",
    "import os\n",
    "import re\n",
    "\n",
    "import string\n",
    "\n",
    "from sklearn.pipeline import Pipeline\n",
    "from sklearn.base import BaseEstimator, TransformerMixin\n",
    "from sklearn.compose import ColumnTransformer\n",
    "from sklearn.preprocessing import MinMaxScaler\n",
    "from sklearn.model_selection import cross_validate\n",
    "from sklearn.metrics import top_k_accuracy_score, accuracy_score\n",
    "from textblob import TextBlob \n",
    "from textblob import Word\n",
    "\n",
    "import tensorflow as tf\n",
    "from tensorflow.keras.preprocessing.text import Tokenizer\n",
    "from tensorflow.keras.preprocessing.sequence import pad_sequences\n",
    "from tensorflow.keras import layers, Sequential\n",
    "from tensorflow.keras.callbacks import EarlyStopping\n",
    "from tensorflow.keras.utils import to_categorical\n",
    "\n",
    "from langdetect import detect\n",
    "from deep_translator import GoogleTranslator  \n",
    "\n",
    "from joblib import dump, load\n",
    "\n",
    "from nltk.stem.porter import PorterStemmer\n",
    "from nltk.corpus import stopwords"
   ]
  },
  {
   "cell_type": "code",
   "execution_count": 200,
   "id": "7f11c3b5",
   "metadata": {},
   "outputs": [],
   "source": [
    "def plot_history(history, title='', axs=None, exp_name=\"\"):\n",
    "    if axs is not None:\n",
    "        ax1, ax2 = axs\n",
    "    else:\n",
    "        f, (ax1, ax2) = plt.subplots(1, 2, figsize=(12, 4))\n",
    "\n",
    "    if len(exp_name) > 0 and exp_name[0] != '_':\n",
    "        exp_name = '_' + exp_name\n",
    "    ax1.plot(history.history['loss'], label = 'train' + exp_name)\n",
    "    ax1.plot(history.history['val_loss'], label = 'val' + exp_name)\n",
    "    ax1.set_ylim(0., 3)\n",
    "    ax1.set_title('loss')\n",
    "    ax1.legend()\n",
    "\n",
    "    ax2.plot(history.history['accuracy'], label='train accuracy'  + exp_name)\n",
    "    ax2.plot(history.history['val_accuracy'], label='val accuracy'  + exp_name)\n",
    "    ax2.set_ylim(0., 1.0)\n",
    "    ax2.set_title('Accuracy')\n",
    "    ax2.legend()\n",
    "    return (ax1, ax2)"
   ]
  },
  {
   "cell_type": "code",
   "execution_count": 260,
   "id": "786b495e",
   "metadata": {},
   "outputs": [],
   "source": [
    "X_train = pd.read_csv(\"../../raw_data/X_train_fully_pp.csv\")[\"spellchecked_title\"].astype(str)\n",
    "y_train = pd.read_csv(\"../../raw_data/train_y.csv\", delimiter=\" \", index_col=\"Id\")['Genre_id']\n",
    "X_test = pd.read_csv(\"../../raw_data/X_test_fully_pp.csv\")[\"spellchecked_title\"].astype(str)\n",
    "y_test = pd.read_csv(\"../../raw_data/test_y.csv\", delimiter=\" \", index_col=\"Id\")['Genre_id']"
   ]
  },
  {
   "cell_type": "code",
   "execution_count": 232,
   "id": "f10b0850",
   "metadata": {},
   "outputs": [],
   "source": [
    "def preprocessed_title(titles):\n",
    "#     output = titles.str.lower()\n",
    "#     output = output.apply(lambda x: \"\".join([i for i in x if i not in string.punctuation]))\n",
    "#     output = output.apply(lambda x: \"\".join([i for i in x if i not in string.digits]))\n",
    "#     output = output.apply(lambda x: re.split('\\W+', x))\n",
    "    #output = output.apply(lambda x: [str(TextBlob(word).correct()) for word in x])\n",
    "    output = titles.str.split()\n",
    "    porter_stemmer = PorterStemmer()\n",
    "    output = output.apply(lambda x: [porter_stemmer.stem(word) for word in x])\n",
    "    stops = set(stopwords.words('english'))\n",
    "    output = output.apply(lambda x: [word for word in x if word not in stops])\n",
    "    output = output.apply(lambda x: [word for word in x if len(word) > 2])\n",
    "\n",
    "    return output"
   ]
  },
  {
   "cell_type": "code",
   "execution_count": 233,
   "id": "0b9ff043",
   "metadata": {},
   "outputs": [],
   "source": [
    "X_train_preproc = preprocessed_title(X_train)\n",
    "X_test_preproc= preprocessed_title(X_test)"
   ]
  },
  {
   "cell_type": "code",
   "execution_count": 234,
   "id": "0b8c6b1a",
   "metadata": {},
   "outputs": [
    {
     "data": {
      "text/plain": [
       "0        comet example and sa sported royals gentle twi...\n",
       "1                   magnets pulling together pushing apart\n",
       "2        energy security volume sage library of interna...\n",
       "3        audiobook mpcd insert transfer listen trees an...\n",
       "4              city of rocks idaho a climbers guide untale\n",
       "                               ...                        \n",
       "51295    john sanford new york timesbestselling author ...\n",
       "51296    second edition the crime writers guide to poli...\n",
       "51297               the jezebel remedy a nord martin clark\n",
       "51298                                 glenn oguras startup\n",
       "51299    bad karaden the mystery mystery ender killer t...\n",
       "Name: spellchecked_title, Length: 51300, dtype: object"
      ]
     },
     "execution_count": 234,
     "metadata": {},
     "output_type": "execute_result"
    }
   ],
   "source": [
    "X_train"
   ]
  },
  {
   "cell_type": "code",
   "execution_count": 235,
   "id": "c4898e33",
   "metadata": {},
   "outputs": [],
   "source": [
    "tokenizer = Tokenizer()\n",
    "tokenizer.fit_on_texts(X_train_preproc)\n",
    "X_train_token = tokenizer.texts_to_sequences(X_train_preproc)\n",
    "X_test_token = tokenizer.texts_to_sequences(X_test_preproc)"
   ]
  },
  {
   "cell_type": "code",
   "execution_count": 236,
   "id": "b6a678cc",
   "metadata": {},
   "outputs": [],
   "source": [
    "# dump(tokenizer, \"../../models/vectorizers/basic_tokenizer.pkl\")"
   ]
  },
  {
   "cell_type": "code",
   "execution_count": 237,
   "id": "ff19ee9b",
   "metadata": {},
   "outputs": [
    {
     "data": {
      "text/plain": [
       "(51300, 60)"
      ]
     },
     "execution_count": 237,
     "metadata": {},
     "output_type": "execute_result"
    }
   ],
   "source": [
    "X_train_pad = pad_sequences(X_train_token, dtype='float32', padding='post', value=0, maxlen=60)\n",
    "X_test_pad = pad_sequences(X_test_token, dtype='float32', padding='post', value=0, maxlen=60)\n",
    "X_train_pad.shape"
   ]
  },
  {
   "cell_type": "code",
   "execution_count": 238,
   "id": "43d92c37",
   "metadata": {},
   "outputs": [
    {
     "data": {
      "text/plain": [
       "(51300, 30)"
      ]
     },
     "execution_count": 238,
     "metadata": {},
     "output_type": "execute_result"
    }
   ],
   "source": [
    "y_train_cat = to_categorical(y_train, num_classes=30)\n",
    "y_test_cat = to_categorical(y_test, num_classes=30)\n",
    "y_train_cat.shape"
   ]
  },
  {
   "cell_type": "code",
   "execution_count": 239,
   "id": "4f7ba38d",
   "metadata": {},
   "outputs": [
    {
     "data": {
      "text/plain": [
       "59220"
      ]
     },
     "execution_count": 239,
     "metadata": {},
     "output_type": "execute_result"
    }
   ],
   "source": [
    "vocab_size = len(tokenizer.word_counts)\n",
    "vocab_size"
   ]
  },
  {
   "cell_type": "code",
   "execution_count": 240,
   "id": "22755161",
   "metadata": {},
   "outputs": [],
   "source": [
    "def initialize_model():\n",
    "    model = Sequential()\n",
    "    model.add(layers.Embedding(\n",
    "        input_dim=vocab_size+1, # 16 +1 for the 0 padding\n",
    "        output_dim=100,\n",
    "        input_length=60,\n",
    "        mask_zero=True, # Built-in masking layer :)\n",
    "    ))\n",
    "\n",
    "    model.add(layers.Conv1D(100, kernel_size=3))\n",
    "\n",
    "    model.add(layers.Flatten())\n",
    "    \n",
    "    model.add(layers.Dense(100, activation=\"relu\", kernel_regularizer=\"l2\"))\n",
    "    model.add(layers.Dropout(0.35))\n",
    "\n",
    "    model.add(layers.Dense(30, activation=\"softmax\"))\n",
    "\n",
    "    model.compile(loss=\"categorical_crossentropy\", optimizer=\"rmsprop\", metrics=[\"accuracy\"])\n",
    "\n",
    "    return model"
   ]
  },
  {
   "cell_type": "code",
   "execution_count": 241,
   "id": "916e6953",
   "metadata": {},
   "outputs": [
    {
     "name": "stdout",
     "output_type": "stream",
     "text": [
      "Epoch 1/1000\n",
      "2886/2886 [==============================] - 70s 24ms/step - loss: 3.0833 - accuracy: 0.1225 - val_loss: 2.8147 - val_accuracy: 0.1509\n",
      "Epoch 2/1000\n",
      "2886/2886 [==============================] - 59s 21ms/step - loss: 2.6881 - accuracy: 0.2314 - val_loss: 2.7585 - val_accuracy: 0.1858\n",
      "Epoch 3/1000\n",
      "2886/2886 [==============================] - 54s 19ms/step - loss: 2.5101 - accuracy: 0.2982 - val_loss: 2.6845 - val_accuracy: 0.2314\n",
      "Epoch 4/1000\n",
      "2886/2886 [==============================] - 52s 18ms/step - loss: 2.3520 - accuracy: 0.3577 - val_loss: 2.7411 - val_accuracy: 0.2606\n",
      "Epoch 5/1000\n",
      "2886/2886 [==============================] - 66s 23ms/step - loss: 2.2142 - accuracy: 0.4128 - val_loss: 2.8468 - val_accuracy: 0.2786\n",
      "Epoch 6/1000\n",
      "2886/2886 [==============================] - 61s 21ms/step - loss: 2.0827 - accuracy: 0.4606 - val_loss: 2.7833 - val_accuracy: 0.2885\n",
      "Epoch 7/1000\n",
      "2886/2886 [==============================] - 51s 18ms/step - loss: 1.9460 - accuracy: 0.5038 - val_loss: 2.9284 - val_accuracy: 0.3099\n",
      "Epoch 8/1000\n",
      "2886/2886 [==============================] - 55s 19ms/step - loss: 1.8106 - accuracy: 0.5460 - val_loss: 3.1342 - val_accuracy: 0.3400\n",
      "Epoch 9/1000\n",
      "2886/2886 [==============================] - 57s 20ms/step - loss: 1.6815 - accuracy: 0.5884 - val_loss: 3.4299 - val_accuracy: 0.3150\n",
      "Epoch 10/1000\n",
      "2886/2886 [==============================] - 57s 20ms/step - loss: 1.5513 - accuracy: 0.6245 - val_loss: 3.6450 - val_accuracy: 0.3359\n",
      "Epoch 11/1000\n",
      "2886/2886 [==============================] - 56s 20ms/step - loss: 1.4387 - accuracy: 0.6609 - val_loss: 3.9006 - val_accuracy: 0.3400\n",
      "Epoch 12/1000\n",
      "2886/2886 [==============================] - 57s 20ms/step - loss: 1.3325 - accuracy: 0.6889 - val_loss: 4.2561 - val_accuracy: 0.3324\n",
      "Epoch 13/1000\n",
      "2886/2886 [==============================] - 76s 26ms/step - loss: 1.2472 - accuracy: 0.7131 - val_loss: 4.5093 - val_accuracy: 0.3294\n",
      "The accuracy evaluated on the test set is of 35.404%\n"
     ]
    }
   ],
   "source": [
    "model_cnn = initialize_model()\n",
    "\n",
    "es = EarlyStopping(patience=5, restore_best_weights=True, monitor=\"val_accuracy\")\n",
    "\n",
    "history = model_cnn.fit(X_train_pad, y_train_cat,\n",
    "              epochs=1000,\n",
    "              batch_size=16,\n",
    "              validation_split=0.1,\n",
    "              callbacks=[es]\n",
    "             )\n",
    "\n",
    "\n",
    "res = model_cnn.evaluate(X_test_pad, y_test_cat, verbose=0)\n",
    "\n",
    "print(f'The accuracy evaluated on the test set is of {res[1]*100:.3f}%')"
   ]
  },
  {
   "cell_type": "code",
   "execution_count": 242,
   "id": "3fea7c34",
   "metadata": {},
   "outputs": [
    {
     "data": {
      "text/plain": [
       "(<AxesSubplot:title={'center':'loss'}>,\n",
       " <AxesSubplot:title={'center':'Accuracy'}>)"
      ]
     },
     "execution_count": 242,
     "metadata": {},
     "output_type": "execute_result"
    },
    {
     "data": {
      "image/png": "[encoded data removed]",
      "text/plain": [
       "<Figure size 1200x400 with 2 Axes>"
      ]
     },
     "metadata": {},
     "output_type": "display_data"
    }
   ],
   "source": [
    "plot_history(history)"
   ]
  },
  {
   "cell_type": "code",
   "execution_count": 246,
   "id": "88b19623",
   "metadata": {},
   "outputs": [
    {
     "name": "stdout",
     "output_type": "stream",
     "text": [
      "179/179 [==============================] - 1s 3ms/step\n"
     ]
    }
   ],
   "source": [
    "y_pred_full = model_cnn.predict(X_test_pad)\n",
    "y_pred = np.argmax(y_pred_full, axis=1)"
   ]
  },
  {
   "cell_type": "code",
   "execution_count": 247,
   "id": "db151553",
   "metadata": {},
   "outputs": [
    {
     "name": "stdout",
     "output_type": "stream",
     "text": [
      "Top 3 accuracy: 55.82%\n"
     ]
    }
   ],
   "source": [
    "top_k_accuracy = top_k_accuracy_score(y_test, y_pred_full, k=3)\n",
    "print(f'Top 3 accuracy: {top_k_accuracy*100:.2f}%')"
   ]
  },
  {
   "cell_type": "code",
   "execution_count": 248,
   "id": "0de0b8ae",
   "metadata": {},
   "outputs": [
    {
     "data": {
      "text/plain": [
       "['../../models/cover_nlp.pkl']"
      ]
     },
     "execution_count": 248,
     "metadata": {},
     "output_type": "execute_result"
    }
   ],
   "source": [
    "dump(model_cnn, \"../../models/cover_nlp.pkl\")"
   ]
  },
  {
   "cell_type": "code",
   "execution_count": 249,
   "id": "2086be3e",
   "metadata": {},
   "outputs": [],
   "source": [
    "text = X_train[0]"
   ]
  },
  {
   "cell_type": "code",
   "execution_count": 250,
   "id": "bf2dd394",
   "metadata": {},
   "outputs": [],
   "source": [
    "nltk_results = ne_chunk(pos_tag(word_tokenize(text)))\n",
    "for nltk_result in nltk_results:\n",
    "\n",
    "    if isinstance(nltk_result, nltk.Tree):\n",
    "        name = ''\n",
    "        type(nltk_result)\n",
    "        for nltk_result_leaf in nltk_result.leaves():\n",
    "            name += nltk_result_leaf[0] + ' '\n",
    "        print ('Type: ', nltk_result.label(), 'Name: ', name)"
   ]
  },
  {
   "cell_type": "code",
   "execution_count": null,
   "id": "4ba18085",
   "metadata": {},
   "outputs": [],
   "source": [
    "nltk_results"
   ]
  },
  {
   "cell_type": "code",
   "execution_count": null,
   "id": "fa1142bc",
   "metadata": {},
   "outputs": [],
   "source": [
    "def translate(text):\n",
    "    try:\n",
    "        result_lang = detect(text.lower())\n",
    "        if result_lang != \"en\":\n",
    "            translator = GoogleTranslator(source='auto', target='en')\n",
    "            text = translator.translate(text)\n",
    "        return text\n",
    "    except: \n",
    "        return text\n",
    "\n",
    "X_train_translated = X_train.apply(translate)\n",
    "X_train_translated"
   ]
  },
  {
   "cell_type": "code",
   "execution_count": 202,
   "id": "cac2ead1",
   "metadata": {},
   "outputs": [
    {
     "ename": "NameError",
     "evalue": "name 'X_train_translated' is not defined",
     "output_type": "error",
     "traceback": [
      "\u001b[0;31m---------------------------------------------------------------------------\u001b[0m",
      "\u001b[0;31mNameError\u001b[0m                                 Traceback (most recent call last)",
      "Cell \u001b[0;32mIn [202], line 3\u001b[0m\n\u001b[1;32m      1\u001b[0m X_train_full \u001b[38;5;241m=\u001b[39m pd\u001b[38;5;241m.\u001b[39mread_csv(\u001b[38;5;124m\"\u001b[39m\u001b[38;5;124m../../raw_data/titles_train.csv\u001b[39m\u001b[38;5;124m\"\u001b[39m)\n\u001b[0;32m----> 3\u001b[0m X_train_full[\u001b[38;5;124m\"\u001b[39m\u001b[38;5;124mtranslated_title\u001b[39m\u001b[38;5;124m\"\u001b[39m] \u001b[38;5;241m=\u001b[39m \u001b[43mX_train_translated\u001b[49m\n\u001b[1;32m      5\u001b[0m X_train_full\u001b[38;5;241m.\u001b[39mto_csv(\u001b[38;5;124m\"\u001b[39m\u001b[38;5;124m../../raw_data/titles_train.csv\u001b[39m\u001b[38;5;124m\"\u001b[39m, header\u001b[38;5;241m=\u001b[39m\u001b[38;5;28;01mTrue\u001b[39;00m, index\u001b[38;5;241m=\u001b[39m\u001b[38;5;28;01mFalse\u001b[39;00m)\n",
      "\u001b[0;31mNameError\u001b[0m: name 'X_train_translated' is not defined"
     ]
    }
   ],
   "source": [
    "X_train_full = pd.read_csv(\"../../raw_data/titles_train.csv\")\n",
    "\n",
    "X_train_full[\"translated_title\"] = X_train_translated\n",
    "\n",
    "X_train_full.to_csv(\"../../raw_data/titles_train.csv\", header=True, index=False)"
   ]
  },
  {
   "cell_type": "code",
   "execution_count": 203,
   "id": "f85780da",
   "metadata": {},
   "outputs": [],
   "source": [
    "X_train_test = X_train[:10]"
   ]
  },
  {
   "cell_type": "code",
   "execution_count": 204,
   "id": "b098a851",
   "metadata": {},
   "outputs": [],
   "source": [
    "import logging\n",
    "import sys\n",
    "from urllib.parse import quote\n",
    "\n",
    "from selenium import webdriver\n",
    "from selenium.common.exceptions import NoSuchElementException\n",
    "from selenium.webdriver.chrome.options import Options\n",
    "from selenium.webdriver.common.by import By\n",
    "\n",
    "options = Options()\n",
    "options.add_argument('--headless')\n",
    "\n",
    "# logging.basicConfig(level=logging.INFO)\n",
    "log = logging.getLogger()\n",
    "\n",
    "def did_you_mean(query, source_language=\"auto\"):\n",
    "    \"\"\"\n",
    "    Spell-checks a sentence.\n",
    "\n",
    "    :param query: an input sentence to spellcheck.\n",
    "    :param source_language: a specific language to translate from. Defaults to automated language detection.\n",
    "\n",
    "    :return: the query after applying suggestions, or unmodified if none is found.\n",
    "    \"\"\"\n",
    "\n",
    "    driver = webdriver.Chrome(options=options)\n",
    "    query = str(query).strip()\n",
    "    url = \"https://translate.google.com/#view=home&op=translate&sl=%s&tl=en&text=\" % source_language + quote(query)\n",
    "\n",
    "    driver.get(url)\n",
    "    # log.debug(driver.execute_script(\"return document.documentElement.outerHTML;\"))\n",
    "    div = driver.find_element(By.ID, \"spelling-correction\")\n",
    "    log.info(\"<div>: [%s]\" % div.get_attribute('innerHTML'))\n",
    "    try:\n",
    "        a = div.find_element_by_tag_name(\"a\")\n",
    "        a_html = a.get_attribute('innerHTML')\n",
    "        log.info(\"<a>: [%s]\" % a_html)\n",
    "        if len(a_html):\n",
    "            div = a\n",
    "    except NoSuchElementException:\n",
    "        pass\n",
    "    suggestion = div.text.replace(\"Did you mean:\", \"\").strip()\n",
    "    log.info(\"Suggestion: %s\" % suggestion)\n",
    "    return suggestion if len(suggestion) else query"
   ]
  },
  {
   "cell_type": "code",
   "execution_count": 205,
   "id": "79c37bf0",
   "metadata": {},
   "outputs": [
    {
     "data": {
      "text/plain": [
       "'comet example and sa sported royals gentle twitter festive effective mary m vice and ng book greet gr energy and ww wherever example as captured welling gen barry b caffrey usa ree women schwarzkopf life lessons of the bear by gus lee bestselling author of courage the backbone of leadership'"
      ]
     },
     "execution_count": 205,
     "metadata": {},
     "output_type": "execute_result"
    }
   ],
   "source": [
    "X_train[0]"
   ]
  },
  {
   "cell_type": "code",
   "execution_count": 206,
   "id": "6c6e00e6",
   "metadata": {},
   "outputs": [
    {
     "ename": "NoSuchElementException",
     "evalue": "Message: no such element: Unable to locate element: {\"method\":\"css selector\",\"selector\":\"[id=\"spelling-correction\"]\"}\n  (Session info: headless chrome=114.0.5735.133); For documentation on this error, please visit: https://www.selenium.dev/documentation/webdriver/troubleshooting/errors#no-such-element-exception\nStacktrace:\n#0 0x55a3d33704e3 <unknown>\n#1 0x55a3d309fc76 <unknown>\n#2 0x55a3d30dbc96 <unknown>\n#3 0x55a3d30dbdc1 <unknown>\n#4 0x55a3d31157f4 <unknown>\n#5 0x55a3d30fb03d <unknown>\n#6 0x55a3d311330e <unknown>\n#7 0x55a3d30fade3 <unknown>\n#8 0x55a3d30d02dd <unknown>\n#9 0x55a3d30d134e <unknown>\n#10 0x55a3d33303e4 <unknown>\n#11 0x55a3d33343d7 <unknown>\n#12 0x55a3d333eb20 <unknown>\n#13 0x55a3d3335023 <unknown>\n#14 0x55a3d33031aa <unknown>\n#15 0x55a3d33596b8 <unknown>\n#16 0x55a3d3359847 <unknown>\n#17 0x55a3d3369243 <unknown>\n#18 0x7f3a50495b43 <unknown>\n",
     "output_type": "error",
     "traceback": [
      "\u001b[0;31m---------------------------------------------------------------------------\u001b[0m",
      "\u001b[0;31mNoSuchElementException\u001b[0m                    Traceback (most recent call last)",
      "Cell \u001b[0;32mIn [206], line 1\u001b[0m\n\u001b[0;32m----> 1\u001b[0m \u001b[43mdid_you_mean\u001b[49m\u001b[43m(\u001b[49m\u001b[43mX_train\u001b[49m\u001b[43m[\u001b[49m\u001b[38;5;241;43m1\u001b[39;49m\u001b[43m]\u001b[49m\u001b[43m)\u001b[49m\n",
      "Cell \u001b[0;32mIn [204], line 32\u001b[0m, in \u001b[0;36mdid_you_mean\u001b[0;34m(query, source_language)\u001b[0m\n\u001b[1;32m     30\u001b[0m driver\u001b[38;5;241m.\u001b[39mget(url)\n\u001b[1;32m     31\u001b[0m \u001b[38;5;66;03m# log.debug(driver.execute_script(\"return document.documentElement.outerHTML;\"))\u001b[39;00m\n\u001b[0;32m---> 32\u001b[0m div \u001b[38;5;241m=\u001b[39m \u001b[43mdriver\u001b[49m\u001b[38;5;241;43m.\u001b[39;49m\u001b[43mfind_element\u001b[49m\u001b[43m(\u001b[49m\u001b[43mBy\u001b[49m\u001b[38;5;241;43m.\u001b[39;49m\u001b[43mID\u001b[49m\u001b[43m,\u001b[49m\u001b[43m \u001b[49m\u001b[38;5;124;43m\"\u001b[39;49m\u001b[38;5;124;43mspelling-correction\u001b[39;49m\u001b[38;5;124;43m\"\u001b[39;49m\u001b[43m)\u001b[49m\n\u001b[1;32m     33\u001b[0m log\u001b[38;5;241m.\u001b[39minfo(\u001b[38;5;124m\"\u001b[39m\u001b[38;5;124m<div>: [\u001b[39m\u001b[38;5;132;01m%s\u001b[39;00m\u001b[38;5;124m]\u001b[39m\u001b[38;5;124m\"\u001b[39m \u001b[38;5;241m%\u001b[39m div\u001b[38;5;241m.\u001b[39mget_attribute(\u001b[38;5;124m'\u001b[39m\u001b[38;5;124minnerHTML\u001b[39m\u001b[38;5;124m'\u001b[39m))\n\u001b[1;32m     34\u001b[0m \u001b[38;5;28;01mtry\u001b[39;00m:\n",
      "File \u001b[0;32m~/.pyenv/versions/3.10.6/envs/lewagon/lib/python3.10/site-packages/selenium/webdriver/remote/webdriver.py:740\u001b[0m, in \u001b[0;36mWebDriver.find_element\u001b[0;34m(self, by, value)\u001b[0m\n\u001b[1;32m    737\u001b[0m     by \u001b[38;5;241m=\u001b[39m By\u001b[38;5;241m.\u001b[39mCSS_SELECTOR\n\u001b[1;32m    738\u001b[0m     value \u001b[38;5;241m=\u001b[39m \u001b[38;5;124mf\u001b[39m\u001b[38;5;124m'\u001b[39m\u001b[38;5;124m[name=\u001b[39m\u001b[38;5;124m\"\u001b[39m\u001b[38;5;132;01m{\u001b[39;00mvalue\u001b[38;5;132;01m}\u001b[39;00m\u001b[38;5;124m\"\u001b[39m\u001b[38;5;124m]\u001b[39m\u001b[38;5;124m'\u001b[39m\n\u001b[0;32m--> 740\u001b[0m \u001b[38;5;28;01mreturn\u001b[39;00m \u001b[38;5;28;43mself\u001b[39;49m\u001b[38;5;241;43m.\u001b[39;49m\u001b[43mexecute\u001b[49m\u001b[43m(\u001b[49m\u001b[43mCommand\u001b[49m\u001b[38;5;241;43m.\u001b[39;49m\u001b[43mFIND_ELEMENT\u001b[49m\u001b[43m,\u001b[49m\u001b[43m \u001b[49m\u001b[43m{\u001b[49m\u001b[38;5;124;43m\"\u001b[39;49m\u001b[38;5;124;43musing\u001b[39;49m\u001b[38;5;124;43m\"\u001b[39;49m\u001b[43m:\u001b[49m\u001b[43m \u001b[49m\u001b[43mby\u001b[49m\u001b[43m,\u001b[49m\u001b[43m \u001b[49m\u001b[38;5;124;43m\"\u001b[39;49m\u001b[38;5;124;43mvalue\u001b[39;49m\u001b[38;5;124;43m\"\u001b[39;49m\u001b[43m:\u001b[49m\u001b[43m \u001b[49m\u001b[43mvalue\u001b[49m\u001b[43m}\u001b[49m\u001b[43m)\u001b[49m[\u001b[38;5;124m\"\u001b[39m\u001b[38;5;124mvalue\u001b[39m\u001b[38;5;124m\"\u001b[39m]\n",
      "File \u001b[0;32m~/.pyenv/versions/3.10.6/envs/lewagon/lib/python3.10/site-packages/selenium/webdriver/remote/webdriver.py:346\u001b[0m, in \u001b[0;36mWebDriver.execute\u001b[0;34m(self, driver_command, params)\u001b[0m\n\u001b[1;32m    344\u001b[0m response \u001b[38;5;241m=\u001b[39m \u001b[38;5;28mself\u001b[39m\u001b[38;5;241m.\u001b[39mcommand_executor\u001b[38;5;241m.\u001b[39mexecute(driver_command, params)\n\u001b[1;32m    345\u001b[0m \u001b[38;5;28;01mif\u001b[39;00m response:\n\u001b[0;32m--> 346\u001b[0m     \u001b[38;5;28;43mself\u001b[39;49m\u001b[38;5;241;43m.\u001b[39;49m\u001b[43merror_handler\u001b[49m\u001b[38;5;241;43m.\u001b[39;49m\u001b[43mcheck_response\u001b[49m\u001b[43m(\u001b[49m\u001b[43mresponse\u001b[49m\u001b[43m)\u001b[49m\n\u001b[1;32m    347\u001b[0m     response[\u001b[38;5;124m\"\u001b[39m\u001b[38;5;124mvalue\u001b[39m\u001b[38;5;124m\"\u001b[39m] \u001b[38;5;241m=\u001b[39m \u001b[38;5;28mself\u001b[39m\u001b[38;5;241m.\u001b[39m_unwrap_value(response\u001b[38;5;241m.\u001b[39mget(\u001b[38;5;124m\"\u001b[39m\u001b[38;5;124mvalue\u001b[39m\u001b[38;5;124m\"\u001b[39m, \u001b[38;5;28;01mNone\u001b[39;00m))\n\u001b[1;32m    348\u001b[0m     \u001b[38;5;28;01mreturn\u001b[39;00m response\n",
      "File \u001b[0;32m~/.pyenv/versions/3.10.6/envs/lewagon/lib/python3.10/site-packages/selenium/webdriver/remote/errorhandler.py:245\u001b[0m, in \u001b[0;36mErrorHandler.check_response\u001b[0;34m(self, response)\u001b[0m\n\u001b[1;32m    243\u001b[0m         alert_text \u001b[38;5;241m=\u001b[39m value[\u001b[38;5;124m\"\u001b[39m\u001b[38;5;124malert\u001b[39m\u001b[38;5;124m\"\u001b[39m]\u001b[38;5;241m.\u001b[39mget(\u001b[38;5;124m\"\u001b[39m\u001b[38;5;124mtext\u001b[39m\u001b[38;5;124m\"\u001b[39m)\n\u001b[1;32m    244\u001b[0m     \u001b[38;5;28;01mraise\u001b[39;00m exception_class(message, screen, stacktrace, alert_text)  \u001b[38;5;66;03m# type: ignore[call-arg]  # mypy is not smart enough here\u001b[39;00m\n\u001b[0;32m--> 245\u001b[0m \u001b[38;5;28;01mraise\u001b[39;00m exception_class(message, screen, stacktrace)\n",
      "\u001b[0;31mNoSuchElementException\u001b[0m: Message: no such element: Unable to locate element: {\"method\":\"css selector\",\"selector\":\"[id=\"spelling-correction\"]\"}\n  (Session info: headless chrome=114.0.5735.133); For documentation on this error, please visit: https://www.selenium.dev/documentation/webdriver/troubleshooting/errors#no-such-element-exception\nStacktrace:\n#0 0x55a3d33704e3 <unknown>\n#1 0x55a3d309fc76 <unknown>\n#2 0x55a3d30dbc96 <unknown>\n#3 0x55a3d30dbdc1 <unknown>\n#4 0x55a3d31157f4 <unknown>\n#5 0x55a3d30fb03d <unknown>\n#6 0x55a3d311330e <unknown>\n#7 0x55a3d30fade3 <unknown>\n#8 0x55a3d30d02dd <unknown>\n#9 0x55a3d30d134e <unknown>\n#10 0x55a3d33303e4 <unknown>\n#11 0x55a3d33343d7 <unknown>\n#12 0x55a3d333eb20 <unknown>\n#13 0x55a3d3335023 <unknown>\n#14 0x55a3d33031aa <unknown>\n#15 0x55a3d33596b8 <unknown>\n#16 0x55a3d3359847 <unknown>\n#17 0x55a3d3369243 <unknown>\n#18 0x7f3a50495b43 <unknown>\n"
     ]
    }
   ],
   "source": [
    "did_you_mean(X_train[1])"
   ]
  },
  {
   "cell_type": "code",
   "execution_count": 32,
   "id": "ca42c1be",
   "metadata": {},
   "outputs": [
    {
     "data": {
      "text/plain": [
       "numpy.ndarray"
      ]
     },
     "execution_count": 32,
     "metadata": {},
     "output_type": "execute_result"
    }
   ],
   "source": [
    "type(X_test_pad[10])"
   ]
  },
  {
   "cell_type": "code",
   "execution_count": 34,
   "id": "21ee130e",
   "metadata": {},
   "outputs": [
    {
     "data": {
      "text/plain": [
       "(60,)"
      ]
     },
     "execution_count": 34,
     "metadata": {},
     "output_type": "execute_result"
    }
   ],
   "source": [
    "X_test_pad[10].shape"
   ]
  },
  {
   "cell_type": "code",
   "execution_count": 40,
   "id": "12256ec1",
   "metadata": {},
   "outputs": [],
   "source": [
    "input_sample = np.reshape(X_test_pad[10], (1, 60))"
   ]
  },
  {
   "cell_type": "code",
   "execution_count": 41,
   "id": "112172e7",
   "metadata": {},
   "outputs": [
    {
     "name": "stdout",
     "output_type": "stream",
     "text": [
      "1/1 [==============================] - 0s 17ms/step\n"
     ]
    },
    {
     "data": {
      "text/plain": [
       "array([[1.0171208e-10, 2.5049408e-06, 1.1682365e-06, 4.3379714e-12,\n",
       "        5.4545660e-11, 3.2455358e-11, 3.6580172e-10, 8.2595146e-12,\n",
       "        3.2490341e-08, 9.4794674e-04, 2.8215767e-12, 1.4276843e-01,\n",
       "        7.7457363e-10, 2.6433878e-07, 1.4791925e-08, 3.3638412e-07,\n",
       "        4.3764588e-04, 7.5999321e-07, 3.9532414e-01, 1.1573813e-04,\n",
       "        3.8469352e-07, 7.7600154e-04, 3.7985749e-06, 5.5556043e-08,\n",
       "        3.5050868e-11, 4.5565626e-01, 8.5859809e-12, 3.9596371e-03,\n",
       "        4.9694650e-06, 1.9614892e-15]], dtype=float32)"
      ]
     },
     "execution_count": 41,
     "metadata": {},
     "output_type": "execute_result"
    }
   ],
   "source": [
    "model_cnn.predict(input_sample)"
   ]
  },
  {
   "cell_type": "code",
   "execution_count": 12,
   "id": "471df74d",
   "metadata": {},
   "outputs": [],
   "source": [
    "from selenium import webdriver\n",
    "import chromedriver_binary\n",
    "\n",
    "driver = webdriver.Chrome()\n",
    "driver.get(\"https://recipes.lewagon.com/recipes/advanced\")"
   ]
  },
  {
   "cell_type": "code",
   "execution_count": null,
   "id": "75311172",
   "metadata": {},
   "outputs": [],
   "source": [
    "from math import log\n",
    "\n",
    "# Build a cost dictionary, assuming Zipf's law and cost = -math.log(probability).\n",
    "words = open(\"words-by-frequency.txt\").read().split()\n",
    "wordcost = dict((k, log((i+1)*log(len(words)))) for i,k in enumerate(words))\n",
    "maxword = max(len(x) for x in words)\n",
    "\n",
    "def infer_spaces(s):\n",
    "    \"\"\"Uses dynamic programming to infer the location of spaces in a string\n",
    "    without spaces.\"\"\"\n",
    "\n",
    "    # Find the best match for the i first characters, assuming cost has\n",
    "    # been built for the i-1 first characters.\n",
    "    # Returns a pair (match_cost, match_length).\n",
    "    def best_match(i):\n",
    "        candidates = enumerate(reversed(cost[max(0, i-maxword):i]))\n",
    "        return min((c + wordcost.get(s[i-k-1:i], 9e999), k+1) for k,c in candidates)\n",
    "\n",
    "    # Build the cost array.\n",
    "    cost = [0]\n",
    "    for i in range(1,len(s)+1):\n",
    "        c,k = best_match(i)\n",
    "        cost.append(c)\n",
    "\n",
    "    # Backtrack to recover the minimal-cost string.\n",
    "    out = []\n",
    "    i = len(s)\n",
    "    while i>0:\n",
    "        c,k = best_match(i)\n",
    "        assert c == cost[i]\n",
    "        out.append(s[i-k:i])\n",
    "        i -= k\n",
    "\n",
    "    return \" \".join(reversed(out))"
   ]
  },
  {
   "cell_type": "code",
   "execution_count": 47,
   "id": "a5c402f9",
   "metadata": {},
   "outputs": [],
   "source": [
    "def preprocessed_title_test(titles):\n",
    "    output = titles.str.lower()\n",
    "    output = output.apply(lambda x: \"\".join([i for i in x if i not in string.punctuation]))\n",
    "    output = output.apply(lambda x: \"\".join([i for i in x if i not in string.digits]))\n",
    "    output = output.apply(lambda x: re.split('\\W+', x))\n",
    "#     porter_stemmer = PorterStemmer()\n",
    "#     output = output.apply(lambda x: [porter_stemmer.stem(word) for word in x])\n",
    "#     stops = set(stopwords.words('english'))\n",
    "#     output = output.apply(lambda x: [word for word in x if word not in stops])\n",
    "\n",
    "    return output"
   ]
  },
  {
   "cell_type": "code",
   "execution_count": 10,
   "id": "ce15202a",
   "metadata": {},
   "outputs": [],
   "source": [
    "from spellchecker import SpellChecker"
   ]
  },
  {
   "cell_type": "code",
   "execution_count": 11,
   "id": "b44a588b",
   "metadata": {},
   "outputs": [],
   "source": [
    "spell = SpellChecker()"
   ]
  },
  {
   "cell_type": "code",
   "execution_count": 21,
   "id": "ee642402",
   "metadata": {},
   "outputs": [
    {
     "data": {
      "text/plain": [
       "{'carsten', \"ireland's\", 'krieger'}"
      ]
     },
     "execution_count": 21,
     "metadata": {},
     "output_type": "execute_result"
    }
   ],
   "source": [
    "misspelled = spell.unknown(X_train[9].split())\n",
    "misspelled"
   ]
  },
  {
   "cell_type": "code",
   "execution_count": 22,
   "id": "f5a1bab4",
   "metadata": {},
   "outputs": [
    {
     "name": "stdout",
     "output_type": "stream",
     "text": [
      "island's\n",
      "{'ireland', \"roland's\", \"island's\", \"leland's\"}\n",
      "trigger\n",
      "{'ringer', 'rigger', 'trigger', 'wringer', 'briefer', 'bringer'}\n",
      "cartel\n",
      "{'fasten', 'caster', 'austen', 'chasten', 'casted', 'cartel', 'larsen', 'carter', 'carted', 'kirsten', 'hasten', 'marten', 'carmen', 'castes', 'carte', 'oarsmen', 'careen', 'carson', 'christen', 'caste', 'carlton', 'carton'}\n"
     ]
    }
   ],
   "source": [
    "for word in misspelled:\n",
    "    # Get the one `most likely` answer\n",
    "    print(spell.correction(word))\n",
    "\n",
    "    # Get a list of `likely` options\n",
    "    print(spell.candidates(word))"
   ]
  },
  {
   "cell_type": "code",
   "execution_count": 56,
   "id": "bf92d9b2",
   "metadata": {},
   "outputs": [],
   "source": [
    "preproc = preprocessed_title_test(X_train[:10])"
   ]
  },
  {
   "cell_type": "code",
   "execution_count": 130,
   "id": "c4665798",
   "metadata": {},
   "outputs": [],
   "source": [
    "def spell_check(text):\n",
    "    spell = SpellChecker()\n",
    "    misspelled = spell.unknown(text)\n",
    "\n",
    "    fixed_words = []\n",
    "    for word in misspelled:\n",
    "        candidates = spell.candidates(word)\n",
    "        if candidates is not None and len(candidates) <= 5:\n",
    "            correction = spell.correction(word)\n",
    "            text = [correction if token == word else token for token in text]\n",
    "            fixed_words.append(word)\n",
    "\n",
    "    misspelled.difference_update(fixed_words)\n",
    "\n",
    "    text_copy = text.copy()\n",
    "    for i, word in enumerate(text_copy[:-1]):\n",
    "        if word in misspelled and text_copy[i+1] in misspelled:\n",
    "            combo_word = word + text_copy[i+1]\n",
    "            candidates = spell.candidates(combo_word)\n",
    "            if candidates is not None and len(candidates) <= 3:\n",
    "                text[i] = spell.correction(combo_word)\n",
    "                text[i+1] = \"\"\n",
    "\n",
    "    text = [word for word in text if word != \"\"]\n",
    "    return text"
   ]
  },
  {
   "cell_type": "code",
   "execution_count": 131,
   "id": "314ccb75",
   "metadata": {},
   "outputs": [
    {
     "data": {
      "text/plain": [
       "['comet',\n",
       " 'example',\n",
       " 'and',\n",
       " 'sa',\n",
       " 'sported',\n",
       " 'royals',\n",
       " 'gentle',\n",
       " 'twitter',\n",
       " 'festive',\n",
       " 'effective',\n",
       " 'mary',\n",
       " 'm',\n",
       " 'vice',\n",
       " 'and',\n",
       " 'ng',\n",
       " 'book',\n",
       " 'greet',\n",
       " 'gr',\n",
       " 'energy',\n",
       " 'and',\n",
       " 'ww',\n",
       " 'wherever',\n",
       " 'example',\n",
       " 'as',\n",
       " 'captured',\n",
       " 'welling',\n",
       " 'gen',\n",
       " 'barry',\n",
       " 'b',\n",
       " 'caffrey',\n",
       " 'usa',\n",
       " 'ree',\n",
       " 'women',\n",
       " 'schwarzkopf',\n",
       " 'life',\n",
       " 'lessons',\n",
       " 'of',\n",
       " 'the',\n",
       " 'bear',\n",
       " 'by',\n",
       " 'gus',\n",
       " 'lee',\n",
       " 'bestselling',\n",
       " 'author',\n",
       " 'of',\n",
       " 'courage',\n",
       " 'the',\n",
       " 'backbone',\n",
       " 'of',\n",
       " 'leadership']"
      ]
     },
     "execution_count": 131,
     "metadata": {},
     "output_type": "execute_result"
    }
   ],
   "source": [
    "spell_check(preproc[0])"
   ]
  },
  {
   "cell_type": "code",
   "execution_count": 132,
   "id": "a3c1e67f",
   "metadata": {},
   "outputs": [
    {
     "data": {
      "text/plain": [
       "['Colet',\n",
       " 'example,',\n",
       " 'and',\n",
       " 'SA',\n",
       " 'sported',\n",
       " 'ronals',\n",
       " 'Gentl',\n",
       " 'Twitte',\n",
       " 'festive)',\n",
       " 'efetive',\n",
       " 'mary',\n",
       " 'm',\n",
       " 'vice',\n",
       " 'and',\n",
       " 'ng',\n",
       " 'book',\n",
       " 'greet',\n",
       " 'gr',\n",
       " 'energ',\n",
       " 'and',\n",
       " 'ww.',\n",
       " 'wheredar',\n",
       " 'exampl',\n",
       " 'as',\n",
       " 'captured',\n",
       " 'wellin',\n",
       " 'GEN,',\n",
       " 'BARRY',\n",
       " 'B.',\n",
       " 'MCCAFFREY,',\n",
       " 'USA',\n",
       " 'REE',\n",
       " 'WONEN',\n",
       " 'Schwarzkopf',\n",
       " '***',\n",
       " 'Life',\n",
       " 'Lessons',\n",
       " 'of',\n",
       " 'The',\n",
       " 'BEAR',\n",
       " 'by',\n",
       " 'GUS',\n",
       " 'LEE',\n",
       " 'Best-selling',\n",
       " 'author',\n",
       " 'of',\n",
       " 'Courage:',\n",
       " 'The',\n",
       " 'Backbone',\n",
       " 'of',\n",
       " 'Leadership']"
      ]
     },
     "execution_count": 132,
     "metadata": {},
     "output_type": "execute_result"
    }
   ],
   "source": [
    "X_train[0].split()"
   ]
  },
  {
   "cell_type": "code",
   "execution_count": 256,
   "id": "2ba7a286",
   "metadata": {},
   "outputs": [],
   "source": [
    "train_file_path = '../../raw_data/tmp_data/y_train_umbr.npy'\n",
    "test_file_path = '../../raw_data/tmp_data/y_test_umbr.npy'\n",
    "y_train_um = np.load(train_file_path, allow_pickle=True)[:, 3].astype(int)\n",
    "y_test_um = np.load(test_file_path, allow_pickle=True)[:, 3].astype(int)"
   ]
  },
  {
   "cell_type": "code",
   "execution_count": 257,
   "id": "128953d2",
   "metadata": {},
   "outputs": [
    {
     "data": {
      "text/plain": [
       "(51300, 30)"
      ]
     },
     "execution_count": 257,
     "metadata": {},
     "output_type": "execute_result"
    }
   ],
   "source": [
    "y_train_cat_um = to_categorical(y_train_um, num_classes=30)\n",
    "y_test_cat_um = to_categorical(y_test_um, num_classes=30)\n",
    "y_train_cat_um.shape"
   ]
  },
  {
   "cell_type": "code",
   "execution_count": 258,
   "id": "add3eb17",
   "metadata": {},
   "outputs": [],
   "source": [
    "def initialize_model():\n",
    "    model = Sequential()\n",
    "    model.add(layers.Embedding(\n",
    "        input_dim=vocab_size+1, # 16 +1 for the 0 padding\n",
    "        output_dim=100,\n",
    "        input_length=60,\n",
    "        mask_zero=True, # Built-in masking layer :)\n",
    "    ))\n",
    "\n",
    "    model.add(layers.Conv1D(100, kernel_size=3))\n",
    "\n",
    "    model.add(layers.Flatten())\n",
    "    \n",
    "    model.add(layers.Dense(100, activation=\"relu\", kernel_regularizer=\"l2\"))\n",
    "    model.add(layers.Dropout(0.35))\n",
    "\n",
    "    model.add(layers.Dense(8, activation=\"softmax\"))\n",
    "\n",
    "    model.compile(loss=\"categorical_crossentropy\", optimizer=\"rmsprop\", metrics=[\"accuracy\"])\n",
    "\n",
    "    return model"
   ]
  },
  {
   "cell_type": "code",
   "execution_count": 259,
   "id": "8355e299",
   "metadata": {},
   "outputs": [
    {
     "name": "stdout",
     "output_type": "stream",
     "text": [
      "Epoch 1/1000\n"
     ]
    },
    {
     "ename": "ValueError",
     "evalue": "in user code:\n\n    File \"/home/chris/.pyenv/versions/3.10.6/envs/lewagon/lib/python3.10/site-packages/keras/engine/training.py\", line 1284, in train_function  *\n        return step_function(self, iterator)\n    File \"/home/chris/.pyenv/versions/3.10.6/envs/lewagon/lib/python3.10/site-packages/keras/engine/training.py\", line 1268, in step_function  **\n        outputs = model.distribute_strategy.run(run_step, args=(data,))\n    File \"/home/chris/.pyenv/versions/3.10.6/envs/lewagon/lib/python3.10/site-packages/keras/engine/training.py\", line 1249, in run_step  **\n        outputs = model.train_step(data)\n    File \"/home/chris/.pyenv/versions/3.10.6/envs/lewagon/lib/python3.10/site-packages/keras/engine/training.py\", line 1051, in train_step\n        loss = self.compute_loss(x, y, y_pred, sample_weight)\n    File \"/home/chris/.pyenv/versions/3.10.6/envs/lewagon/lib/python3.10/site-packages/keras/engine/training.py\", line 1109, in compute_loss\n        return self.compiled_loss(\n    File \"/home/chris/.pyenv/versions/3.10.6/envs/lewagon/lib/python3.10/site-packages/keras/engine/compile_utils.py\", line 265, in __call__\n        loss_value = loss_obj(y_t, y_p, sample_weight=sw)\n    File \"/home/chris/.pyenv/versions/3.10.6/envs/lewagon/lib/python3.10/site-packages/keras/losses.py\", line 142, in __call__\n        losses = call_fn(y_true, y_pred)\n    File \"/home/chris/.pyenv/versions/3.10.6/envs/lewagon/lib/python3.10/site-packages/keras/losses.py\", line 268, in call  **\n        return ag_fn(y_true, y_pred, **self._fn_kwargs)\n    File \"/home/chris/.pyenv/versions/3.10.6/envs/lewagon/lib/python3.10/site-packages/keras/losses.py\", line 1984, in categorical_crossentropy\n        return backend.categorical_crossentropy(\n    File \"/home/chris/.pyenv/versions/3.10.6/envs/lewagon/lib/python3.10/site-packages/keras/backend.py\", line 5559, in categorical_crossentropy\n        target.shape.assert_is_compatible_with(output.shape)\n\n    ValueError: Shapes (None, 30) and (None, 8) are incompatible\n",
     "output_type": "error",
     "traceback": [
      "\u001b[0;31m---------------------------------------------------------------------------\u001b[0m",
      "\u001b[0;31mValueError\u001b[0m                                Traceback (most recent call last)",
      "Cell \u001b[0;32mIn [259], line 5\u001b[0m\n\u001b[1;32m      1\u001b[0m model_cnn \u001b[38;5;241m=\u001b[39m initialize_model()\n\u001b[1;32m      3\u001b[0m es \u001b[38;5;241m=\u001b[39m EarlyStopping(patience\u001b[38;5;241m=\u001b[39m\u001b[38;5;241m5\u001b[39m, restore_best_weights\u001b[38;5;241m=\u001b[39m\u001b[38;5;28;01mTrue\u001b[39;00m, monitor\u001b[38;5;241m=\u001b[39m\u001b[38;5;124m\"\u001b[39m\u001b[38;5;124mval_accuracy\u001b[39m\u001b[38;5;124m\"\u001b[39m)\n\u001b[0;32m----> 5\u001b[0m history \u001b[38;5;241m=\u001b[39m \u001b[43mmodel_cnn\u001b[49m\u001b[38;5;241;43m.\u001b[39;49m\u001b[43mfit\u001b[49m\u001b[43m(\u001b[49m\u001b[43mX_train_pad\u001b[49m\u001b[43m,\u001b[49m\u001b[43m \u001b[49m\u001b[43my_train_cat_um\u001b[49m\u001b[43m,\u001b[49m\n\u001b[1;32m      6\u001b[0m \u001b[43m              \u001b[49m\u001b[43mepochs\u001b[49m\u001b[38;5;241;43m=\u001b[39;49m\u001b[38;5;241;43m1000\u001b[39;49m\u001b[43m,\u001b[49m\n\u001b[1;32m      7\u001b[0m \u001b[43m              \u001b[49m\u001b[43mbatch_size\u001b[49m\u001b[38;5;241;43m=\u001b[39;49m\u001b[38;5;241;43m16\u001b[39;49m\u001b[43m,\u001b[49m\n\u001b[1;32m      8\u001b[0m \u001b[43m              \u001b[49m\u001b[43mvalidation_split\u001b[49m\u001b[38;5;241;43m=\u001b[39;49m\u001b[38;5;241;43m0.1\u001b[39;49m\u001b[43m,\u001b[49m\n\u001b[1;32m      9\u001b[0m \u001b[43m              \u001b[49m\u001b[43mcallbacks\u001b[49m\u001b[38;5;241;43m=\u001b[39;49m\u001b[43m[\u001b[49m\u001b[43mes\u001b[49m\u001b[43m]\u001b[49m\n\u001b[1;32m     10\u001b[0m \u001b[43m             \u001b[49m\u001b[43m)\u001b[49m\n\u001b[1;32m     13\u001b[0m res \u001b[38;5;241m=\u001b[39m model_cnn\u001b[38;5;241m.\u001b[39mevaluate(X_test_pad, y_test_cat_um, verbose\u001b[38;5;241m=\u001b[39m\u001b[38;5;241m0\u001b[39m)\n\u001b[1;32m     15\u001b[0m \u001b[38;5;28mprint\u001b[39m(\u001b[38;5;124mf\u001b[39m\u001b[38;5;124m'\u001b[39m\u001b[38;5;124mThe accuracy evaluated on the test set is of \u001b[39m\u001b[38;5;132;01m{\u001b[39;00mres[\u001b[38;5;241m1\u001b[39m]\u001b[38;5;241m*\u001b[39m\u001b[38;5;241m100\u001b[39m\u001b[38;5;132;01m:\u001b[39;00m\u001b[38;5;124m.3f\u001b[39m\u001b[38;5;132;01m}\u001b[39;00m\u001b[38;5;124m%\u001b[39m\u001b[38;5;124m'\u001b[39m)\n",
      "File \u001b[0;32m~/.pyenv/versions/3.10.6/envs/lewagon/lib/python3.10/site-packages/keras/utils/traceback_utils.py:70\u001b[0m, in \u001b[0;36mfilter_traceback.<locals>.error_handler\u001b[0;34m(*args, **kwargs)\u001b[0m\n\u001b[1;32m     67\u001b[0m     filtered_tb \u001b[38;5;241m=\u001b[39m _process_traceback_frames(e\u001b[38;5;241m.\u001b[39m__traceback__)\n\u001b[1;32m     68\u001b[0m     \u001b[38;5;66;03m# To get the full stack trace, call:\u001b[39;00m\n\u001b[1;32m     69\u001b[0m     \u001b[38;5;66;03m# `tf.debugging.disable_traceback_filtering()`\u001b[39;00m\n\u001b[0;32m---> 70\u001b[0m     \u001b[38;5;28;01mraise\u001b[39;00m e\u001b[38;5;241m.\u001b[39mwith_traceback(filtered_tb) \u001b[38;5;28;01mfrom\u001b[39;00m \u001b[38;5;28mNone\u001b[39m\n\u001b[1;32m     71\u001b[0m \u001b[38;5;28;01mfinally\u001b[39;00m:\n\u001b[1;32m     72\u001b[0m     \u001b[38;5;28;01mdel\u001b[39;00m filtered_tb\n",
      "File \u001b[0;32m/tmp/__autograph_generated_file88pekwxa.py:15\u001b[0m, in \u001b[0;36mouter_factory.<locals>.inner_factory.<locals>.tf__train_function\u001b[0;34m(iterator)\u001b[0m\n\u001b[1;32m     13\u001b[0m \u001b[38;5;28;01mtry\u001b[39;00m:\n\u001b[1;32m     14\u001b[0m     do_return \u001b[38;5;241m=\u001b[39m \u001b[38;5;28;01mTrue\u001b[39;00m\n\u001b[0;32m---> 15\u001b[0m     retval_ \u001b[38;5;241m=\u001b[39m ag__\u001b[38;5;241m.\u001b[39mconverted_call(ag__\u001b[38;5;241m.\u001b[39mld(step_function), (ag__\u001b[38;5;241m.\u001b[39mld(\u001b[38;5;28mself\u001b[39m), ag__\u001b[38;5;241m.\u001b[39mld(iterator)), \u001b[38;5;28;01mNone\u001b[39;00m, fscope)\n\u001b[1;32m     16\u001b[0m \u001b[38;5;28;01mexcept\u001b[39;00m:\n\u001b[1;32m     17\u001b[0m     do_return \u001b[38;5;241m=\u001b[39m \u001b[38;5;28;01mFalse\u001b[39;00m\n",
      "\u001b[0;31mValueError\u001b[0m: in user code:\n\n    File \"/home/chris/.pyenv/versions/3.10.6/envs/lewagon/lib/python3.10/site-packages/keras/engine/training.py\", line 1284, in train_function  *\n        return step_function(self, iterator)\n    File \"/home/chris/.pyenv/versions/3.10.6/envs/lewagon/lib/python3.10/site-packages/keras/engine/training.py\", line 1268, in step_function  **\n        outputs = model.distribute_strategy.run(run_step, args=(data,))\n    File \"/home/chris/.pyenv/versions/3.10.6/envs/lewagon/lib/python3.10/site-packages/keras/engine/training.py\", line 1249, in run_step  **\n        outputs = model.train_step(data)\n    File \"/home/chris/.pyenv/versions/3.10.6/envs/lewagon/lib/python3.10/site-packages/keras/engine/training.py\", line 1051, in train_step\n        loss = self.compute_loss(x, y, y_pred, sample_weight)\n    File \"/home/chris/.pyenv/versions/3.10.6/envs/lewagon/lib/python3.10/site-packages/keras/engine/training.py\", line 1109, in compute_loss\n        return self.compiled_loss(\n    File \"/home/chris/.pyenv/versions/3.10.6/envs/lewagon/lib/python3.10/site-packages/keras/engine/compile_utils.py\", line 265, in __call__\n        loss_value = loss_obj(y_t, y_p, sample_weight=sw)\n    File \"/home/chris/.pyenv/versions/3.10.6/envs/lewagon/lib/python3.10/site-packages/keras/losses.py\", line 142, in __call__\n        losses = call_fn(y_true, y_pred)\n    File \"/home/chris/.pyenv/versions/3.10.6/envs/lewagon/lib/python3.10/site-packages/keras/losses.py\", line 268, in call  **\n        return ag_fn(y_true, y_pred, **self._fn_kwargs)\n    File \"/home/chris/.pyenv/versions/3.10.6/envs/lewagon/lib/python3.10/site-packages/keras/losses.py\", line 1984, in categorical_crossentropy\n        return backend.categorical_crossentropy(\n    File \"/home/chris/.pyenv/versions/3.10.6/envs/lewagon/lib/python3.10/site-packages/keras/backend.py\", line 5559, in categorical_crossentropy\n        target.shape.assert_is_compatible_with(output.shape)\n\n    ValueError: Shapes (None, 30) and (None, 8) are incompatible\n"
     ]
    }
   ],
   "source": [
    "model_cnn = initialize_model()\n",
    "\n",
    "es = EarlyStopping(patience=5, restore_best_weights=True, monitor=\"val_accuracy\")\n",
    "\n",
    "history = model_cnn.fit(X_train_pad, y_train_cat_um,\n",
    "              epochs=1000,\n",
    "              batch_size=16,\n",
    "              validation_split=0.1,\n",
    "              callbacks=[es]\n",
    "             )\n",
    "\n",
    "\n",
    "res = model_cnn.evaluate(X_test_pad, y_test_cat_um, verbose=0)\n",
    "\n",
    "print(f'The accuracy evaluated on the test set is of {res[1]*100:.3f}%')"
   ]
  },
  {
   "cell_type": "code",
   "execution_count": null,
   "id": "7343ddc9",
   "metadata": {},
   "outputs": [],
   "source": [
    "res = model_cnn.evaluate(X_test_pad, y_test_cat_um, verbose=0)\n",
    "res[1]*100"
   ]
  },
  {
   "cell_type": "code",
   "execution_count": 255,
   "id": "965731d2",
   "metadata": {},
   "outputs": [
    {
     "data": {
      "text/plain": [
       "['../../models/cover_nlp_8.pkl']"
      ]
     },
     "execution_count": 255,
     "metadata": {},
     "output_type": "execute_result"
    }
   ],
   "source": [
    "dump(model_cnn, \"../../models/cover_nlp_8.pkl\")"
   ]
  },
  {
   "cell_type": "code",
   "execution_count": 6,
   "id": "81607cad",
   "metadata": {},
   "outputs": [],
   "source": [
    "train_file_path = '../../raw_data/tmp_data/y_train_umbr.npy'\n",
    "y_train_um = np.load(train_file_path, allow_pickle=True)"
   ]
  },
  {
   "cell_type": "code",
   "execution_count": 7,
   "id": "d8244d24",
   "metadata": {},
   "outputs": [
    {
     "data": {
      "text/plain": [
       "array([[1, 'Biographies & Memoirs', 'History & Religion', 0],\n",
       "       [4, \"Children's Books\", 'Relationships & Children', 1],\n",
       "       [10, 'Engineering & Transportation', 'Academic - Science', 2],\n",
       "       ...,\n",
       "       [17, 'Mystery, Thriller & Suspense', 'Literature & Entertainment',\n",
       "        4],\n",
       "       [17, 'Mystery, Thriller & Suspense', 'Literature & Entertainment',\n",
       "        4],\n",
       "       [17, 'Mystery, Thriller & Suspense', 'Literature & Entertainment',\n",
       "        4]], dtype=object)"
      ]
     },
     "execution_count": 7,
     "metadata": {},
     "output_type": "execute_result"
    }
   ],
   "source": [
    "y_train_um"
   ]
  },
  {
   "cell_type": "code",
   "execution_count": 24,
   "id": "de5f5bea",
   "metadata": {},
   "outputs": [],
   "source": [
    "dictionary = {}\n",
    "\n",
    "# Iterate over the array rows\n",
    "for row in y_train_um:\n",
    "    key = row[2]  # Value in column 3 as the key\n",
    "    value = row[1]  # Value in column 2 as the value\n",
    "    \n",
    "    if key in dictionary:\n",
    "        if value not in dictionary[key]:\n",
    "            dictionary[key].append(value)\n",
    "    else:\n",
    "        dictionary[key] = [value]"
   ]
  },
  {
   "cell_type": "code",
   "execution_count": 25,
   "id": "30f0a013",
   "metadata": {},
   "outputs": [
    {
     "data": {
      "text/plain": [
       "{'History & Religion': ['Biographies & Memoirs',\n",
       "  'Christian Books & Bibles',\n",
       "  'Religion & Spirituality',\n",
       "  'History'],\n",
       " 'Relationships & Children': [\"Children's Books\",\n",
       "  'Parenting & Relationships',\n",
       "  'Teen & Young Adult',\n",
       "  'Self-Help'],\n",
       " 'Academic - Science': ['Engineering & Transportation',\n",
       "  'Medical Books',\n",
       "  'Science & Math',\n",
       "  'Business & Money',\n",
       "  'Computers & Technology'],\n",
       " 'Lifestyle & Fitness': ['Sports & Outdoors',\n",
       "  'Health, Fitness & Dieting',\n",
       "  'Travel',\n",
       "  'Cookbooks, Food & Wine'],\n",
       " 'Academic - Humanities': ['Politics & Social Sciences', 'Law'],\n",
       " 'Arts & Hobbies': ['Crafts, Hobbies & Home',\n",
       "  'Arts & Photography',\n",
       "  'Comics & Graphic Novels',\n",
       "  'Calendars'],\n",
       " 'Literature & Entertainment': ['Literature & Fiction',\n",
       "  'Humor & Entertainment',\n",
       "  'Romance',\n",
       "  'Science Fiction & Fantasy',\n",
       "  'Mystery, Thriller & Suspense'],\n",
       " 'Academic - Pure': ['Test Preparation', 'Reference']}"
      ]
     },
     "execution_count": 25,
     "metadata": {},
     "output_type": "execute_result"
    }
   ],
   "source": [
    "dictionary"
   ]
  },
  {
   "cell_type": "code",
   "execution_count": 26,
   "id": "064f534d",
   "metadata": {},
   "outputs": [],
   "source": [
    "num_dict = {}\n",
    "\n",
    "\n",
    "# Iterate over the array rows\n",
    "for row in y_train_um:\n",
    "    key = row[3]  # Value in column 3 as the key\n",
    "    value = row[0]  # Value in column 2 as the value\n",
    "    \n",
    "    if key in num_dict:\n",
    "        if value not in num_dict[key]:\n",
    "            num_dict[key].append(value)\n",
    "    else:\n",
    "        num_dict[key] = [value]"
   ]
  },
  {
   "cell_type": "code",
   "execution_count": 27,
   "id": "b8c8d4f6",
   "metadata": {},
   "outputs": [
    {
     "data": {
      "text/plain": [
       "{0: [1, 9, 21, 12],\n",
       " 1: [4, 18, 27, 25],\n",
       " 2: [10, 16, 23, 2, 6],\n",
       " 3: [26, 11, 29, 7],\n",
       " 5: [19, 14],\n",
       " 6: [8, 0, 5, 3],\n",
       " 4: [15, 13, 22, 24, 17],\n",
       " 7: [28, 20]}"
      ]
     },
     "execution_count": 27,
     "metadata": {},
     "output_type": "execute_result"
    }
   ],
   "source": [
    "num_dict"
   ]
  },
  {
   "cell_type": "code",
   "execution_count": 22,
   "id": "e50596cd",
   "metadata": {},
   "outputs": [
    {
     "name": "stderr",
     "output_type": "stream",
     "text": [
      "2023-06-21 08:45:37.054202: I tensorflow/compiler/xla/stream_executor/cuda/cuda_gpu_executor.cc:982] could not open file to read NUMA node: /sys/bus/pci/devices/0000:01:00.0/numa_node\n",
      "Your kernel may have been built without NUMA support.\n",
      "2023-06-21 08:45:37.054782: W tensorflow/core/common_runtime/gpu/gpu_device.cc:1956] Cannot dlopen some GPU libraries. Please make sure the missing libraries mentioned above are installed properly if you would like to use GPU. Follow the guide at https://www.tensorflow.org/install/gpu for how to download and setup the required libraries for your platform.\n",
      "Skipping registering GPU devices...\n"
     ]
    }
   ],
   "source": [
    "model_30 = load(\"../../models/cover_nlp.pkl\")\n",
    "model_8 = load(\"../../models/cover_nlp_8.pkl\")"
   ]
  },
  {
   "cell_type": "code",
   "execution_count": 166,
   "id": "65f3b876",
   "metadata": {},
   "outputs": [],
   "source": [
    "def top_k_argmax(array, k):\n",
    "    indexes = np.argpartition(array, -k)[-k:]\n",
    "    sorted_indexes = indexes[np.argsort(array[indexes])][::-1]\n",
    "    return sorted_indexes\n",
    "\n",
    "def top_k_multiline(array, k):\n",
    "    results = []\n",
    "    for line in array:\n",
    "        results.append(top_k_argmax(line, k))\n",
    "    return np.array(results)"
   ]
  },
  {
   "cell_type": "code",
   "execution_count": 189,
   "id": "979d6b87",
   "metadata": {},
   "outputs": [],
   "source": [
    "def compound_pred(model_8, model_30, X, mapping):\n",
    "    pred_8 = np.argmax(model_8.predict(X), axis=1)\n",
    "    pred_30 = top_k_multiline(model_30.predict(X), 10)\n",
    "    y_pred = []\n",
    "    for i, prediction in enumerate(pred_30):\n",
    "        found_match = False\n",
    "        for element in prediction:\n",
    "            if element in mapping[pred_8[i]]:\n",
    "                y_pred.append(element)\n",
    "                found_match = True\n",
    "                break\n",
    "        if not found_match:\n",
    "            y_pred.append(prediction[0])\n",
    "    return np.array(y_pred)\n",
    "    "
   ]
  },
  {
   "cell_type": "code",
   "execution_count": 190,
   "id": "fc0a868f",
   "metadata": {},
   "outputs": [
    {
     "name": "stdout",
     "output_type": "stream",
     "text": [
      "179/179 [==============================] - 0s 3ms/step\n"
     ]
    },
    {
     "data": {
      "text/plain": [
       "array([2, 7, 4, 0, 2, 4, 1, 5, 6, 4, 1, 5, 4, 1, 0, 1, 3, 2, 3, 4, 6, 2,\n",
       "       0, 6, 5, 6, 4, 4, 6, 4, 4, 0, 3, 2, 6, 4, 4, 0, 2, 0, 1, 6, 1, 5,\n",
       "       1, 2, 2, 0, 3, 6, 1, 3, 6, 0, 0, 0, 6, 1, 1, 0, 5, 4, 3, 3, 6, 1,\n",
       "       5, 1, 2, 6, 4, 3, 2, 6, 0, 5, 3, 0, 3, 4, 3, 3, 0, 6, 2, 2, 1, 4,\n",
       "       5, 6, 0, 7, 1, 5, 5, 2, 1, 7, 0, 0])"
      ]
     },
     "execution_count": 190,
     "metadata": {},
     "output_type": "execute_result"
    }
   ],
   "source": [
    "np.argmax(model_8.predict(X_test_pad), axis=1)[:100]"
   ]
  },
  {
   "cell_type": "code",
   "execution_count": 191,
   "id": "fff2a7ff",
   "metadata": {},
   "outputs": [
    {
     "name": "stdout",
     "output_type": "stream",
     "text": [
      "179/179 [==============================] - 0s 3ms/step\n",
      "179/179 [==============================] - 1s 3ms/step\n"
     ]
    }
   ],
   "source": [
    "y_pred = compound_pred(model_8, model_30, X_test_pad, num_dict)"
   ]
  },
  {
   "cell_type": "code",
   "execution_count": 192,
   "id": "4c087a2e",
   "metadata": {},
   "outputs": [
    {
     "data": {
      "text/plain": [
       "array([16, 28, 13, 21, 23, 24, 25, 19,  5, 13, 25, 14, 13, 25,  1, 18,  7,\n",
       "        6,  7, 13, 12,  2, 12,  3, 14,  8, 13, 22,  5, 24,  2, 12, 29,  6,\n",
       "        9, 15, 13,  1,  6, 21,  4,  0,  4, 19, 25, 23,  4,  9,  7,  0, 27,\n",
       "        7,  8, 21, 12,  1,  8, 27, 25, 21, 14, 13, 26, 29,  5, 25, 19, 27,\n",
       "       16,  8, 13, 29,  6,  8,  1, 19,  7, 12, 11, 13, 29, 11, 12,  8, 16,\n",
       "        2,  4, 15, 19,  8,  9, 20, 27, 14, 14, 10,  4, 28,  9, 21])"
      ]
     },
     "execution_count": 192,
     "metadata": {},
     "output_type": "execute_result"
    }
   ],
   "source": [
    "y_pred[:100]"
   ]
  },
  {
   "cell_type": "code",
   "execution_count": 193,
   "id": "a6df99ce",
   "metadata": {},
   "outputs": [
    {
     "data": {
      "text/plain": [
       "(5700,)"
      ]
     },
     "execution_count": 193,
     "metadata": {},
     "output_type": "execute_result"
    }
   ],
   "source": [
    "y_test.shape"
   ]
  },
  {
   "cell_type": "code",
   "execution_count": 194,
   "id": "ee1d3227",
   "metadata": {},
   "outputs": [
    {
     "data": {
      "text/plain": [
       "0.39473684210526316"
      ]
     },
     "execution_count": 194,
     "metadata": {},
     "output_type": "execute_result"
    }
   ],
   "source": [
    "accuracy_score(y_test, y_pred)"
   ]
  },
  {
   "cell_type": "code",
   "execution_count": null,
   "id": "4cc102c4",
   "metadata": {},
   "outputs": [],
   "source": []
  },
  {
   "cell_type": "code",
   "execution_count": null,
   "id": "d6b9d279",
   "metadata": {},
   "outputs": [],
   "source": []
  }
 ],
 "metadata": {
  "kernelspec": {
   "display_name": "Python 3 (ipykernel)",
   "language": "python",
   "name": "python3"
  },
  "language_info": {
   "codemirror_mode": {
    "name": "ipython",
    "version": 3
   },
   "file_extension": ".py",
   "mimetype": "text/x-python",
   "name": "python",
   "nbconvert_exporter": "python",
   "pygments_lexer": "ipython3",
   "version": "3.10.6"
  },
  "toc": {
   "base_numbering": 1,
   "nav_menu": {},
   "number_sections": true,
   "sideBar": true,
   "skip_h1_title": false,
   "title_cell": "Table of Contents",
   "title_sidebar": "Contents",
   "toc_cell": false,
   "toc_position": {},
   "toc_section_display": true,
   "toc_window_display": false
  }
 },
 "nbformat": 4,
 "nbformat_minor": 5
}

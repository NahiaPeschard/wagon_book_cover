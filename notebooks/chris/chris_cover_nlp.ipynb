{
 "cells": [
  {
   "cell_type": "code",
   "execution_count": 121,
   "id": "c35545b1",
   "metadata": {},
<<<<<<< HEAD
   "outputs": [],
=======
   "outputs": [
    {
     "name": "stderr",
     "output_type": "stream",
     "text": [
      "2023-06-20 13:03:17.398634: I tensorflow/tsl/cuda/cudart_stub.cc:28] Could not find cuda drivers on your machine, GPU will not be used.\n",
      "2023-06-20 13:03:17.589016: I tensorflow/tsl/cuda/cudart_stub.cc:28] Could not find cuda drivers on your machine, GPU will not be used.\n",
      "2023-06-20 13:03:17.590811: I tensorflow/core/platform/cpu_feature_guard.cc:182] This TensorFlow binary is optimized to use available CPU instructions in performance-critical operations.\n",
      "To enable the following instructions: AVX2 FMA, in other operations, rebuild TensorFlow with the appropriate compiler flags.\n",
      "2023-06-20 13:03:20.939871: W tensorflow/compiler/tf2tensorrt/utils/py_utils.cc:38] TF-TRT Warning: Could not find TensorRT\n"
     ]
    }
   ],
>>>>>>> 9d3b4720aad3086435c41bb00b332737daa51d1c
   "source": [
    "import pandas as pd\n",
    "import numpy as np\n",
    "import matplotlib.pyplot as plt\n",
    "from PIL import Image\n",
    "import os\n",
    "import re\n",
    "\n",
    "import string\n",
    "\n",
    "from sklearn.pipeline import Pipeline\n",
    "from sklearn.base import BaseEstimator, TransformerMixin\n",
    "from sklearn.compose import ColumnTransformer\n",
    "from sklearn.preprocessing import MinMaxScaler\n",
    "from sklearn.model_selection import cross_validate\n",
    "from sklearn.metrics import top_k_accuracy_score, accuracy_score\n",
    "from textblob import TextBlob \n",
    "from textblob import Word\n",
    "\n",
    "import tensorflow as tf\n",
    "from tensorflow.keras.preprocessing.text import Tokenizer\n",
    "from tensorflow.keras.preprocessing.sequence import pad_sequences\n",
    "from tensorflow.keras import layers, Sequential\n",
    "from tensorflow.keras.callbacks import EarlyStopping\n",
    "from tensorflow.keras.utils import to_categorical\n",
    "\n",
    "from langdetect import detect\n",
    "from deep_translator import GoogleTranslator  \n",
    "\n",
    "from joblib import dump, load\n",
    "\n",
    "from nltk.stem.porter import PorterStemmer\n",
    "from nltk.corpus import stopwords"
   ]
  },
  {
   "cell_type": "code",
   "execution_count": 11,
   "id": "e39cb849",
   "metadata": {},
   "outputs": [
    {
     "name": "stderr",
     "output_type": "stream",
     "text": [
      "[nltk_data] Downloading package punkt to /home/chris/nltk_data...\n",
      "[nltk_data]   Package punkt is already up-to-date!\n",
      "[nltk_data] Downloading package averaged_perceptron_tagger to\n",
      "[nltk_data]     /home/chris/nltk_data...\n",
      "[nltk_data]   Package averaged_perceptron_tagger is already up-to-\n",
      "[nltk_data]       date!\n",
      "[nltk_data] Downloading package maxent_ne_chunker to\n",
      "[nltk_data]     /home/chris/nltk_data...\n",
      "[nltk_data]   Package maxent_ne_chunker is already up-to-date!\n",
      "[nltk_data] Downloading package words to /home/chris/nltk_data...\n",
      "[nltk_data]   Package words is already up-to-date!\n",
      "[nltk_data] Downloading package stopwords to /home/chris/nltk_data...\n",
      "[nltk_data]   Package stopwords is already up-to-date!\n"
     ]
    }
   ],
   "source": [
    "import nltk\n",
    "\n",
    "nltk.download('punkt')\n",
    "nltk.download('averaged_perceptron_tagger')\n",
    "nltk.download('maxent_ne_chunker')\n",
    "nltk.download('words')\n",
    "nltk.download('stopwords')\n",
    "\n",
    "from nltk import ne_chunk, pos_tag, word_tokenize\n",
    "from nltk.tree import Tree"
   ]
  },
  {
   "cell_type": "code",
   "execution_count": null,
   "id": "262f4727",
   "metadata": {},
   "outputs": [],
   "source": []
  },
  {
   "cell_type": "code",
   "execution_count": 12,
   "id": "7f11c3b5",
   "metadata": {},
   "outputs": [],
   "source": [
    "def plot_history(history, title='', axs=None, exp_name=\"\"):\n",
    "    if axs is not None:\n",
    "        ax1, ax2 = axs\n",
    "    else:\n",
    "        f, (ax1, ax2) = plt.subplots(1, 2, figsize=(12, 4))\n",
    "\n",
    "    if len(exp_name) > 0 and exp_name[0] != '_':\n",
    "        exp_name = '_' + exp_name\n",
    "    ax1.plot(history.history['loss'], label = 'train' + exp_name)\n",
    "    ax1.plot(history.history['val_loss'], label = 'val' + exp_name)\n",
    "    ax1.set_ylim(0., 3)\n",
    "    ax1.set_title('loss')\n",
    "    ax1.legend()\n",
    "\n",
    "    ax2.plot(history.history['accuracy'], label='train accuracy'  + exp_name)\n",
    "    ax2.plot(history.history['val_accuracy'], label='val accuracy'  + exp_name)\n",
    "    ax2.set_ylim(0., 1.0)\n",
    "    ax2.set_title('Accuracy')\n",
    "    ax2.legend()\n",
    "    return (ax1, ax2)"
   ]
  },
  {
   "cell_type": "code",
   "execution_count": 13,
   "id": "786b495e",
   "metadata": {},
   "outputs": [],
   "source": [
    "X_train = pd.read_csv(\"../../raw_data/titles_train.csv\")[\"translated_title\"].astype(str)\n",
    "y_train = pd.read_csv(\"../../raw_data/train_y.csv\", delimiter=\" \", index_col=\"Id\")['Genre_id']\n",
    "X_test = pd.read_csv(\"../../raw_data/titles_test.csv\")[\"translated_title\"].astype(str)\n",
    "y_test = pd.read_csv(\"../../raw_data/test_y.csv\", delimiter=\" \", index_col=\"Id\")['Genre_id']"
   ]
  },
  {
   "cell_type": "code",
   "execution_count": 14,
   "id": "abad5d8b",
   "metadata": {},
   "outputs": [
    {
     "data": {
      "text/plain": [
       "0    Colet example, and SA sported ronals Gentl Twi...\n",
       "1               Maghets Pulling Together Pushing Apart\n",
       "2    ENERGY SECURITY VOLUME SAGE LIBRARY OF INTERNA...\n",
       "3    AUDIOBOOK MP3-CD Insert Transfer Listen! TREES...\n",
       "4         City of Rocks Idaho A Climber's Guide untale\n",
       "5    HOW TO BEAT INSOMNIA MARIANO CHOLIZ MONTANES T...\n",
       "6    JOHN MARTIN LITTLEJOHN by John Den AN ENIGMA O...\n",
       "7                   CH EMISTRY De Molar ata Silberberg\n",
       "8    Mosby's ONCOLOGY NURSING ADVISOR A Comprehensi...\n",
       "9          IRELAND'S WILD ATLANTIC WAY Carsten Krieger\n",
       "Name: translated_title, dtype: object"
      ]
     },
     "execution_count": 14,
     "metadata": {},
     "output_type": "execute_result"
    }
   ],
   "source": [
    "X_train.head(10)"
   ]
  },
  {
   "cell_type": "code",
   "execution_count": 15,
   "id": "f10b0850",
   "metadata": {},
   "outputs": [],
   "source": [
    "def preprocessed_title(titles):\n",
    "    output = titles.str.lower()\n",
    "    output = output.apply(lambda x: \"\".join([i for i in x if i not in string.punctuation]))\n",
    "    output = output.apply(lambda x: \"\".join([i for i in x if i not in string.digits]))\n",
    "    output = output.apply(lambda x: re.split('\\W+', x))\n",
    "    #output = output.apply(lambda x: [str(TextBlob(word).correct()) for word in x])\n",
    "    porter_stemmer = PorterStemmer()\n",
    "    output = output.apply(lambda x: [porter_stemmer.stem(word) for word in x])\n",
    "    stops = set(stopwords.words('english'))\n",
    "    output = output.apply(lambda x: [word for word in x if word not in stops])\n",
    "    output = output.apply(lambda x: [word for word in x if len(word) > 2])\n",
    "\n",
    "    return output"
   ]
  },
  {
   "cell_type": "code",
<<<<<<< HEAD
   "execution_count": 16,
=======
   "execution_count": 7,
>>>>>>> 9d3b4720aad3086435c41bb00b332737daa51d1c
   "id": "0b9ff043",
   "metadata": {},
   "outputs": [],
   "source": [
    "X_train_preproc = preprocessed_title(X_train)\n",
    "X_test_preproc= preprocessed_title(X_test)"
   ]
  },
  {
   "cell_type": "code",
<<<<<<< HEAD
   "execution_count": 17,
=======
   "execution_count": 8,
>>>>>>> 9d3b4720aad3086435c41bb00b332737daa51d1c
   "id": "c4898e33",
   "metadata": {},
   "outputs": [],
   "source": [
    "tokenizer = Tokenizer()\n",
    "tokenizer.fit_on_texts(X_train_preproc)\n",
    "\n",
    "X_train_token = tokenizer.texts_to_sequences(X_train_preproc)\n",
    "X_test_token = tokenizer.texts_to_sequences(X_test_preproc)"
   ]
  },
  {
   "cell_type": "code",
   "execution_count": 18,
   "id": "b6a678cc",
   "metadata": {},
   "outputs": [],
   "source": [
    "# dump(tokenizer, \"../../models/vectorizers/basic_tokenizer.pkl\")"
   ]
  },
  {
   "cell_type": "code",
   "execution_count": 19,
   "id": "ff19ee9b",
   "metadata": {},
   "outputs": [
    {
     "data": {
      "text/plain": [
       "(51300, 60)"
      ]
     },
     "execution_count": 19,
     "metadata": {},
     "output_type": "execute_result"
    }
   ],
   "source": [
    "X_train_pad = pad_sequences(X_train_token, dtype='float32', padding='post', value=0, maxlen=60)\n",
    "X_test_pad = pad_sequences(X_test_token, dtype='float32', padding='post', value=0, maxlen=60)\n",
    "X_train_pad.shape"
   ]
  },
  {
   "cell_type": "code",
   "execution_count": 20,
   "id": "43d92c37",
   "metadata": {},
   "outputs": [
    {
     "data": {
      "text/plain": [
       "(51300, 30)"
      ]
     },
     "execution_count": 20,
     "metadata": {},
     "output_type": "execute_result"
    }
   ],
   "source": [
    "y_train_cat = to_categorical(y_train, num_classes=30)\n",
    "y_test_cat = to_categorical(y_test, num_classes=30)\n",
    "y_train_cat.shape"
   ]
  },
  {
   "cell_type": "code",
   "execution_count": 21,
   "id": "4f7ba38d",
   "metadata": {},
   "outputs": [
    {
     "data": {
      "text/plain": [
       "90148"
      ]
     },
     "execution_count": 21,
     "metadata": {},
     "output_type": "execute_result"
    }
   ],
   "source": [
    "vocab_size = len(tokenizer.word_counts)\n",
    "vocab_size"
   ]
  },
  {
   "cell_type": "code",
   "execution_count": null,
   "id": "22755161",
   "metadata": {},
   "outputs": [],
   "source": [
    "def initialize_model():\n",
    "    model = Sequential()\n",
    "    model.add(layers.Embedding(\n",
    "        input_dim=vocab_size+1, # 16 +1 for the 0 padding\n",
    "        output_dim=100,\n",
    "        input_length=60,\n",
    "        mask_zero=True, # Built-in masking layer :)\n",
    "    ))\n",
    "\n",
    "    model.add(layers.Conv1D(100, kernel_size=3))\n",
    "\n",
    "    model.add(layers.Flatten())\n",
    "    \n",
    "    model.add(layers.Dense(100, activation=\"relu\", kernel_regularizer=\"l2\"))\n",
    "    model.add(layers.Dropout(0.35))\n",
    "\n",
    "    model.add(layers.Dense(30, activation=\"softmax\"))\n",
    "\n",
    "    model.compile(loss=\"categorical_crossentropy\", optimizer=\"rmsprop\", metrics=[\"accuracy\"])\n",
    "\n",
    "    return model"
   ]
  },
  {
   "cell_type": "code",
   "execution_count": 19,
   "id": "916e6953",
   "metadata": {},
   "outputs": [
    {
     "name": "stderr",
     "output_type": "stream",
     "text": [
      "2023-06-20 13:03:49.509382: I tensorflow/compiler/xla/stream_executor/cuda/cuda_gpu_executor.cc:982] could not open file to read NUMA node: /sys/bus/pci/devices/0000:01:00.0/numa_node\n",
      "Your kernel may have been built without NUMA support.\n",
      "2023-06-20 13:03:49.510165: W tensorflow/core/common_runtime/gpu/gpu_device.cc:1956] Cannot dlopen some GPU libraries. Please make sure the missing libraries mentioned above are installed properly if you would like to use GPU. Follow the guide at https://www.tensorflow.org/install/gpu for how to download and setup the required libraries for your platform.\n",
      "Skipping registering GPU devices...\n",
      "2023-06-20 13:03:49.617162: W tensorflow/tsl/framework/cpu_allocator_impl.cc:83] Allocation of 72119200 exceeds 10% of free system memory.\n",
      "2023-06-20 13:03:49.685170: W tensorflow/tsl/framework/cpu_allocator_impl.cc:83] Allocation of 72119200 exceeds 10% of free system memory.\n",
      "2023-06-20 13:03:49.807257: W tensorflow/tsl/framework/cpu_allocator_impl.cc:83] Allocation of 72119200 exceeds 10% of free system memory.\n"
     ]
    },
    {
     "name": "stdout",
     "output_type": "stream",
     "text": [
<<<<<<< HEAD
      "Epoch 1/1000\n",
      "2886/2886 [==============================] - 179s 62ms/step - loss: 3.0087 - accuracy: 0.1547 - val_loss: 2.8809 - val_accuracy: 0.1793\n",
      "Epoch 2/1000\n",
      "2886/2886 [==============================] - 160s 55ms/step - loss: 2.5374 - accuracy: 0.3002 - val_loss: 2.6743 - val_accuracy: 0.2378\n",
      "Epoch 3/1000\n",
      "2886/2886 [==============================] - 169s 59ms/step - loss: 2.2874 - accuracy: 0.4029 - val_loss: 2.6879 - val_accuracy: 0.2893\n",
      "Epoch 4/1000\n",
      "2886/2886 [==============================] - 166s 58ms/step - loss: 2.0704 - accuracy: 0.4807 - val_loss: 2.8076 - val_accuracy: 0.3263\n",
      "Epoch 5/1000\n",
      "2886/2886 [==============================] - 162s 56ms/step - loss: 1.8722 - accuracy: 0.5501 - val_loss: 3.2069 - val_accuracy: 0.3279\n",
      "Epoch 6/1000\n",
      "2886/2886 [==============================] - 171s 59ms/step - loss: 1.6713 - accuracy: 0.6172 - val_loss: 3.1707 - val_accuracy: 0.3532\n",
      "Epoch 7/1000\n",
      "2886/2886 [==============================] - 179s 62ms/step - loss: 1.4666 - accuracy: 0.6763 - val_loss: 3.5652 - val_accuracy: 0.3747\n",
      "Epoch 8/1000\n",
      "2886/2886 [==============================] - 173s 60ms/step - loss: 1.2852 - accuracy: 0.7337 - val_loss: 3.8773 - val_accuracy: 0.3626\n",
      "Epoch 9/1000\n",
      "2886/2886 [==============================] - 160s 55ms/step - loss: 1.1215 - accuracy: 0.7763 - val_loss: 4.3162 - val_accuracy: 0.3561\n",
      "Epoch 10/1000\n",
      "2886/2886 [==============================] - 182s 63ms/step - loss: 0.9942 - accuracy: 0.8106 - val_loss: 4.3465 - val_accuracy: 0.3618\n",
      "Epoch 11/1000\n",
      "2886/2886 [==============================] - 192s 67ms/step - loss: 0.8878 - accuracy: 0.8354 - val_loss: 5.0284 - val_accuracy: 0.3548\n",
      "Epoch 12/1000\n",
      "2886/2886 [==============================] - 129s 45ms/step - loss: 0.8025 - accuracy: 0.8571 - val_loss: 5.1413 - val_accuracy: 0.3571\n",
      "The accuracy evaluated on the test set is of 36.246%\n"
=======
      "Epoch 1/1000\n"
     ]
    },
    {
     "name": "stderr",
     "output_type": "stream",
     "text": [
      "2023-06-20 13:03:50.352591: W tensorflow/tsl/framework/cpu_allocator_impl.cc:83] Allocation of 72119200 exceeds 10% of free system memory.\n",
      "2023-06-20 13:03:51.196774: W tensorflow/tsl/framework/cpu_allocator_impl.cc:83] Allocation of 72119200 exceeds 10% of free system memory.\n"
     ]
    },
    {
     "name": "stdout",
     "output_type": "stream",
     "text": [
      "2886/2886 [==============================] - 190s 65ms/step - loss: 3.0985 - accuracy: 0.1241 - val_loss: 2.9130 - val_accuracy: 0.1561\n",
      "Epoch 2/1000\n",
      "2886/2886 [==============================] - 130s 45ms/step - loss: 2.6112 - accuracy: 0.2709 - val_loss: 2.5928 - val_accuracy: 0.2667\n",
      "Epoch 3/1000\n",
      "2886/2886 [==============================] - 135s 47ms/step - loss: 2.3173 - accuracy: 0.3821 - val_loss: 2.5322 - val_accuracy: 0.3084\n",
      "Epoch 4/1000\n",
      "2886/2886 [==============================] - 143s 50ms/step - loss: 2.1042 - accuracy: 0.4579 - val_loss: 2.6428 - val_accuracy: 0.3224\n",
      "Epoch 5/1000\n",
      "2886/2886 [==============================] - 131s 46ms/step - loss: 1.9162 - accuracy: 0.5204 - val_loss: 2.8114 - val_accuracy: 0.3423\n",
      "Epoch 6/1000\n",
      "2886/2886 [==============================] - 131s 46ms/step - loss: 1.7296 - accuracy: 0.5813 - val_loss: 2.9315 - val_accuracy: 0.3774\n",
      "Epoch 7/1000\n",
      "2886/2886 [==============================] - 131s 45ms/step - loss: 1.5475 - accuracy: 0.6349 - val_loss: 3.1275 - val_accuracy: 0.3899\n",
      "Epoch 8/1000\n",
      "2886/2886 [==============================] - 131s 46ms/step - loss: 1.3670 - accuracy: 0.6878 - val_loss: 3.1554 - val_accuracy: 0.4012\n",
      "Epoch 9/1000\n",
      "2886/2886 [==============================] - 132s 46ms/step - loss: 1.2114 - accuracy: 0.7300 - val_loss: 3.6283 - val_accuracy: 0.3778\n",
      "Epoch 10/1000\n",
      "2886/2886 [==============================] - 132s 46ms/step - loss: 1.0787 - accuracy: 0.7626 - val_loss: 4.1023 - val_accuracy: 0.3571\n",
      "Epoch 11/1000\n",
      "2886/2886 [==============================] - 131s 45ms/step - loss: 0.9735 - accuracy: 0.7934 - val_loss: 4.5560 - val_accuracy: 0.3493\n",
      "Epoch 12/1000\n",
      "2886/2886 [==============================] - 132s 46ms/step - loss: 0.8793 - accuracy: 0.8163 - val_loss: 4.5555 - val_accuracy: 0.3575\n",
      "Epoch 13/1000\n",
      "2886/2886 [==============================] - 131s 45ms/step - loss: 0.8030 - accuracy: 0.8344 - val_loss: 4.9482 - val_accuracy: 0.3526\n",
      "The accuracy evaluated on the test set is of 39.246%\n"
>>>>>>> 9d3b4720aad3086435c41bb00b332737daa51d1c
     ]
    }
   ],
   "source": [
    "model_cnn = initialize_model()\n",
    "\n",
    "es = EarlyStopping(patience=5, restore_best_weights=True, monitor=\"val_accuracy\")\n",
    "\n",
    "history = model_cnn.fit(X_train_pad, y_train_cat,\n",
    "              epochs=1000,\n",
    "              batch_size=16,\n",
    "              validation_split=0.1,\n",
    "              callbacks=[es]\n",
    "             )\n",
    "\n",
    "\n",
    "res = model_cnn.evaluate(X_test_pad, y_test_cat, verbose=0)\n",
    "\n",
    "print(f'The accuracy evaluated on the test set is of {res[1]*100:.3f}%')"
   ]
  },
  {
   "cell_type": "code",
<<<<<<< HEAD
   "execution_count": 20,
=======
   "execution_count": 14,
>>>>>>> 9d3b4720aad3086435c41bb00b332737daa51d1c
   "id": "3fea7c34",
   "metadata": {},
   "outputs": [
    {
     "data": {
      "text/plain": [
       "(<AxesSubplot:title={'center':'loss'}>,\n",
       " <AxesSubplot:title={'center':'Accuracy'}>)"
      ]
     },
<<<<<<< HEAD
     "execution_count": 20,
=======
     "execution_count": 14,
>>>>>>> 9d3b4720aad3086435c41bb00b332737daa51d1c
     "metadata": {},
     "output_type": "execute_result"
    },
    {
     "data": {
<<<<<<< HEAD
      "image/png": "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\n",
=======
      "image/png": "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\n",
>>>>>>> 9d3b4720aad3086435c41bb00b332737daa51d1c
      "text/plain": [
       "<Figure size 1200x400 with 2 Axes>"
      ]
     },
     "metadata": {},
     "output_type": "display_data"
    }
   ],
   "source": [
    "plot_history(history)"
   ]
  },
  {
   "cell_type": "code",
<<<<<<< HEAD
   "execution_count": 21,
=======
   "execution_count": 17,
>>>>>>> 9d3b4720aad3086435c41bb00b332737daa51d1c
   "id": "88b19623",
   "metadata": {},
   "outputs": [
    {
     "name": "stdout",
     "output_type": "stream",
     "text": [
<<<<<<< HEAD
      "179/179 [==============================] - 1s 3ms/step\n"
=======
      "179/179 [==============================] - 1s 4ms/step\n"
>>>>>>> 9d3b4720aad3086435c41bb00b332737daa51d1c
     ]
    }
   ],
   "source": [
    "y_pred_full = model_cnn.predict(X_test_pad)\n",
    "y_pred = np.argmax(y_pred_full, axis=1)"
   ]
  },
  {
   "cell_type": "code",
<<<<<<< HEAD
   "execution_count": 22,
=======
   "execution_count": 18,
>>>>>>> 9d3b4720aad3086435c41bb00b332737daa51d1c
   "id": "db151553",
   "metadata": {},
   "outputs": [
    {
     "name": "stdout",
     "output_type": "stream",
     "text": [
<<<<<<< HEAD
      "Top 3 accuracy: 55.39%\n"
=======
      "Top 3 accuracy: 58.33%\n"
>>>>>>> 9d3b4720aad3086435c41bb00b332737daa51d1c
     ]
    }
   ],
   "source": [
    "top_k_accuracy = top_k_accuracy_score(y_test, y_pred_full, k=3)\n",
    "print(f'Top 3 accuracy: {top_k_accuracy*100:.2f}%')"
   ]
  },
  {
   "cell_type": "code",
   "execution_count": 26,
   "id": "0de0b8ae",
   "metadata": {},
   "outputs": [
    {
     "data": {
      "text/plain": [
       "['../../models/cover_nlp.pkl']"
      ]
     },
     "execution_count": 26,
     "metadata": {},
     "output_type": "execute_result"
    }
   ],
   "source": [
    "dump(model_cnn, \"../../models/cover_nlp.pkl\")"
   ]
  },
  {
   "cell_type": "code",
   "execution_count": null,
   "id": "2086be3e",
   "metadata": {},
   "outputs": [],
   "source": [
    "text = X_train[0]"
   ]
  },
  {
   "cell_type": "code",
   "execution_count": null,
   "id": "bf2dd394",
   "metadata": {},
   "outputs": [],
   "source": [
    "nltk_results = ne_chunk(pos_tag(word_tokenize(text)))\n",
    "for nltk_result in nltk_results:\n",
    "\n",
    "    if isinstance(nltk_result, nltk.Tree):\n",
    "        name = ''\n",
    "        type(nltk_result)\n",
    "        for nltk_result_leaf in nltk_result.leaves():\n",
    "            name += nltk_result_leaf[0] + ' '\n",
    "        print ('Type: ', nltk_result.label(), 'Name: ', name)"
   ]
  },
  {
   "cell_type": "code",
   "execution_count": 143,
   "id": "4ba18085",
   "metadata": {},
   "outputs": [
    {
     "data": {
      "image/svg+xml": [
       "<svg baseProfile=\"full\" height=\"168px\" preserveAspectRatio=\"xMidYMid meet\" style=\"font-family: times, serif; font-weight:normal; font-style: normal; font-size: 16px;\" version=\"1.1\" viewBox=\"0,0,3400.0,168.0\" width=\"3400px\" xmlns=\"http://www.w3.org/2000/svg\" xmlns:ev=\"http://www.w3.org/2001/xml-events\" xmlns:xlink=\"http://www.w3.org/1999/xlink\"><defs /><svg width=\"100%\" x=\"0\" y=\"0em\"><defs /><text text-anchor=\"middle\" x=\"50%\" y=\"1em\">S</text></svg><svg width=\"1.64706%\" x=\"0%\" y=\"3em\"><defs /><svg width=\"100%\" x=\"0\" y=\"0em\"><defs /><text text-anchor=\"middle\" x=\"50%\" y=\"1em\">GPE</text></svg><svg width=\"100%\" x=\"0%\" y=\"3em\"><defs /><svg width=\"100%\" x=\"0\" y=\"0em\"><defs /><text text-anchor=\"middle\" x=\"50%\" y=\"1em\">Colet</text></svg><svg width=\"100%\" x=\"0%\" y=\"3em\"><defs /><svg width=\"100%\" x=\"0\" y=\"0em\"><defs /><text text-anchor=\"middle\" x=\"50%\" y=\"1em\">NNP</text></svg></svg><line stroke=\"black\" x1=\"50%\" x2=\"50%\" y1=\"1.2em\" y2=\"3em\" /></svg><line stroke=\"black\" x1=\"50%\" x2=\"50%\" y1=\"1.2em\" y2=\"3em\" /></svg><line stroke=\"black\" x1=\"50%\" x2=\"0.823529%\" y1=\"1.2em\" y2=\"3em\" /><svg width=\"2.11765%\" x=\"1.64706%\" y=\"3em\"><defs /><svg width=\"100%\" x=\"0\" y=\"0em\"><defs /><text text-anchor=\"middle\" x=\"50%\" y=\"1em\">example</text></svg><svg width=\"100%\" x=\"0%\" y=\"3em\"><defs /><svg width=\"100%\" x=\"0\" y=\"0em\"><defs /><text text-anchor=\"middle\" x=\"50%\" y=\"1em\">NN</text></svg></svg><line stroke=\"black\" x1=\"50%\" x2=\"50%\" y1=\"1.2em\" y2=\"3em\" /></svg><line stroke=\"black\" x1=\"50%\" x2=\"2.70588%\" y1=\"1.2em\" y2=\"3em\" /><svg width=\"0.705882%\" x=\"3.76471%\" y=\"3em\"><defs /><svg width=\"100%\" x=\"0\" y=\"0em\"><defs /><text text-anchor=\"middle\" x=\"50%\" y=\"1em\">,</text></svg><svg width=\"100%\" x=\"0%\" y=\"3em\"><defs /><svg width=\"100%\" x=\"0\" y=\"0em\"><defs /><text text-anchor=\"middle\" x=\"50%\" y=\"1em\">,</text></svg></svg><line stroke=\"black\" x1=\"50%\" x2=\"50%\" y1=\"1.2em\" y2=\"3em\" /></svg><line stroke=\"black\" x1=\"50%\" x2=\"4.11765%\" y1=\"1.2em\" y2=\"3em\" /><svg width=\"1.17647%\" x=\"4.47059%\" y=\"3em\"><defs /><svg width=\"100%\" x=\"0\" y=\"0em\"><defs /><text text-anchor=\"middle\" x=\"50%\" y=\"1em\">and</text></svg><svg width=\"100%\" x=\"0%\" y=\"3em\"><defs /><svg width=\"100%\" x=\"0\" y=\"0em\"><defs /><text text-anchor=\"middle\" x=\"50%\" y=\"1em\">CC</text></svg></svg><line stroke=\"black\" x1=\"50%\" x2=\"50%\" y1=\"1.2em\" y2=\"3em\" /></svg><line stroke=\"black\" x1=\"50%\" x2=\"5.05882%\" y1=\"1.2em\" y2=\"3em\" /><svg width=\"3.29412%\" x=\"5.64706%\" y=\"3em\"><defs /><svg width=\"100%\" x=\"0\" y=\"0em\"><defs /><text text-anchor=\"middle\" x=\"50%\" y=\"1em\">ORGANIZATION</text></svg><svg width=\"100%\" x=\"0%\" y=\"3em\"><defs /><svg width=\"100%\" x=\"0\" y=\"0em\"><defs /><text text-anchor=\"middle\" x=\"50%\" y=\"1em\">SA</text></svg><svg width=\"100%\" x=\"0%\" y=\"3em\"><defs /><svg width=\"100%\" x=\"0\" y=\"0em\"><defs /><text text-anchor=\"middle\" x=\"50%\" y=\"1em\">NNP</text></svg></svg><line stroke=\"black\" x1=\"50%\" x2=\"50%\" y1=\"1.2em\" y2=\"3em\" /></svg><line stroke=\"black\" x1=\"50%\" x2=\"50%\" y1=\"1.2em\" y2=\"3em\" /></svg><line stroke=\"black\" x1=\"50%\" x2=\"7.29412%\" y1=\"1.2em\" y2=\"3em\" /><svg width=\"2.11765%\" x=\"8.94118%\" y=\"3em\"><defs /><svg width=\"100%\" x=\"0\" y=\"0em\"><defs /><text text-anchor=\"middle\" x=\"50%\" y=\"1em\">sported</text></svg><svg width=\"100%\" x=\"0%\" y=\"3em\"><defs /><svg width=\"100%\" x=\"0\" y=\"0em\"><defs /><text text-anchor=\"middle\" x=\"50%\" y=\"1em\">VBD</text></svg></svg><line stroke=\"black\" x1=\"50%\" x2=\"50%\" y1=\"1.2em\" y2=\"3em\" /></svg><line stroke=\"black\" x1=\"50%\" x2=\"10%\" y1=\"1.2em\" y2=\"3em\" /><svg width=\"1.88235%\" x=\"11.0588%\" y=\"3em\"><defs /><svg width=\"100%\" x=\"0\" y=\"0em\"><defs /><text text-anchor=\"middle\" x=\"50%\" y=\"1em\">ronals</text></svg><svg width=\"100%\" x=\"0%\" y=\"3em\"><defs /><svg width=\"100%\" x=\"0\" y=\"0em\"><defs /><text text-anchor=\"middle\" x=\"50%\" y=\"1em\">NNS</text></svg></svg><line stroke=\"black\" x1=\"50%\" x2=\"50%\" y1=\"1.2em\" y2=\"3em\" /></svg><line stroke=\"black\" x1=\"50%\" x2=\"12%\" y1=\"1.2em\" y2=\"3em\" /><svg width=\"3.52941%\" x=\"12.9412%\" y=\"3em\"><defs /><svg width=\"100%\" x=\"0\" y=\"0em\"><defs /><text text-anchor=\"middle\" x=\"50%\" y=\"1em\">PERSON</text></svg><svg width=\"46.6667%\" x=\"0%\" y=\"3em\"><defs /><svg width=\"100%\" x=\"0\" y=\"0em\"><defs /><text text-anchor=\"middle\" x=\"50%\" y=\"1em\">Gentl</text></svg><svg width=\"100%\" x=\"0%\" y=\"3em\"><defs /><svg width=\"100%\" x=\"0\" y=\"0em\"><defs /><text text-anchor=\"middle\" x=\"50%\" y=\"1em\">NNP</text></svg></svg><line stroke=\"black\" x1=\"50%\" x2=\"50%\" y1=\"1.2em\" y2=\"3em\" /></svg><line stroke=\"black\" x1=\"50%\" x2=\"23.3333%\" y1=\"1.2em\" y2=\"3em\" /><svg width=\"53.3333%\" x=\"46.6667%\" y=\"3em\"><defs /><svg width=\"100%\" x=\"0\" y=\"0em\"><defs /><text text-anchor=\"middle\" x=\"50%\" y=\"1em\">Twitte</text></svg><svg width=\"100%\" x=\"0%\" y=\"3em\"><defs /><svg width=\"100%\" x=\"0\" y=\"0em\"><defs /><text text-anchor=\"middle\" x=\"50%\" y=\"1em\">NNP</text></svg></svg><line stroke=\"black\" x1=\"50%\" x2=\"50%\" y1=\"1.2em\" y2=\"3em\" /></svg><line stroke=\"black\" x1=\"50%\" x2=\"73.3333%\" y1=\"1.2em\" y2=\"3em\" /></svg><line stroke=\"black\" x1=\"50%\" x2=\"14.7059%\" y1=\"1.2em\" y2=\"3em\" /><svg width=\"2.11765%\" x=\"16.4706%\" y=\"3em\"><defs /><svg width=\"100%\" x=\"0\" y=\"0em\"><defs /><text text-anchor=\"middle\" x=\"50%\" y=\"1em\">festive</text></svg><svg width=\"100%\" x=\"0%\" y=\"3em\"><defs /><svg width=\"100%\" x=\"0\" y=\"0em\"><defs /><text text-anchor=\"middle\" x=\"50%\" y=\"1em\">NN</text></svg></svg><line stroke=\"black\" x1=\"50%\" x2=\"50%\" y1=\"1.2em\" y2=\"3em\" /></svg><line stroke=\"black\" x1=\"50%\" x2=\"17.5294%\" y1=\"1.2em\" y2=\"3em\" /><svg width=\"0.705882%\" x=\"18.5882%\" y=\"3em\"><defs /><svg width=\"100%\" x=\"0\" y=\"0em\"><defs /><text text-anchor=\"middle\" x=\"50%\" y=\"1em\">)</text></svg><svg width=\"100%\" x=\"0%\" y=\"3em\"><defs /><svg width=\"100%\" x=\"0\" y=\"0em\"><defs /><text text-anchor=\"middle\" x=\"50%\" y=\"1em\">)</text></svg></svg><line stroke=\"black\" x1=\"50%\" x2=\"50%\" y1=\"1.2em\" y2=\"3em\" /></svg><line stroke=\"black\" x1=\"50%\" x2=\"18.9412%\" y1=\"1.2em\" y2=\"3em\" /><svg width=\"2.11765%\" x=\"19.2941%\" y=\"3em\"><defs /><svg width=\"100%\" x=\"0\" y=\"0em\"><defs /><text text-anchor=\"middle\" x=\"50%\" y=\"1em\">efetive</text></svg><svg width=\"100%\" x=\"0%\" y=\"3em\"><defs /><svg width=\"100%\" x=\"0\" y=\"0em\"><defs /><text text-anchor=\"middle\" x=\"50%\" y=\"1em\">VBP</text></svg></svg><line stroke=\"black\" x1=\"50%\" x2=\"50%\" y1=\"1.2em\" y2=\"3em\" /></svg><line stroke=\"black\" x1=\"50%\" x2=\"20.3529%\" y1=\"1.2em\" y2=\"3em\" /><svg width=\"1.41176%\" x=\"21.4118%\" y=\"3em\"><defs /><svg width=\"100%\" x=\"0\" y=\"0em\"><defs /><text text-anchor=\"middle\" x=\"50%\" y=\"1em\">mary</text></svg><svg width=\"100%\" x=\"0%\" y=\"3em\"><defs /><svg width=\"100%\" x=\"0\" y=\"0em\"><defs /><text text-anchor=\"middle\" x=\"50%\" y=\"1em\">JJ</text></svg></svg><line stroke=\"black\" x1=\"50%\" x2=\"50%\" y1=\"1.2em\" y2=\"3em\" /></svg><line stroke=\"black\" x1=\"50%\" x2=\"22.1176%\" y1=\"1.2em\" y2=\"3em\" /><svg width=\"0.941176%\" x=\"22.8235%\" y=\"3em\"><defs /><svg width=\"100%\" x=\"0\" y=\"0em\"><defs /><text text-anchor=\"middle\" x=\"50%\" y=\"1em\">m</text></svg><svg width=\"100%\" x=\"0%\" y=\"3em\"><defs /><svg width=\"100%\" x=\"0\" y=\"0em\"><defs /><text text-anchor=\"middle\" x=\"50%\" y=\"1em\">NN</text></svg></svg><line stroke=\"black\" x1=\"50%\" x2=\"50%\" y1=\"1.2em\" y2=\"3em\" /></svg><line stroke=\"black\" x1=\"50%\" x2=\"23.2941%\" y1=\"1.2em\" y2=\"3em\" /><svg width=\"1.41176%\" x=\"23.7647%\" y=\"3em\"><defs /><svg width=\"100%\" x=\"0\" y=\"0em\"><defs /><text text-anchor=\"middle\" x=\"50%\" y=\"1em\">vice</text></svg><svg width=\"100%\" x=\"0%\" y=\"3em\"><defs /><svg width=\"100%\" x=\"0\" y=\"0em\"><defs /><text text-anchor=\"middle\" x=\"50%\" y=\"1em\">NN</text></svg></svg><line stroke=\"black\" x1=\"50%\" x2=\"50%\" y1=\"1.2em\" y2=\"3em\" /></svg><line stroke=\"black\" x1=\"50%\" x2=\"24.4706%\" y1=\"1.2em\" y2=\"3em\" /><svg width=\"1.17647%\" x=\"25.1765%\" y=\"3em\"><defs /><svg width=\"100%\" x=\"0\" y=\"0em\"><defs /><text text-anchor=\"middle\" x=\"50%\" y=\"1em\">and</text></svg><svg width=\"100%\" x=\"0%\" y=\"3em\"><defs /><svg width=\"100%\" x=\"0\" y=\"0em\"><defs /><text text-anchor=\"middle\" x=\"50%\" y=\"1em\">CC</text></svg></svg><line stroke=\"black\" x1=\"50%\" x2=\"50%\" y1=\"1.2em\" y2=\"3em\" /></svg><line stroke=\"black\" x1=\"50%\" x2=\"25.7647%\" y1=\"1.2em\" y2=\"3em\" /><svg width=\"0.941176%\" x=\"26.3529%\" y=\"3em\"><defs /><svg width=\"100%\" x=\"0\" y=\"0em\"><defs /><text text-anchor=\"middle\" x=\"50%\" y=\"1em\">ng</text></svg><svg width=\"100%\" x=\"0%\" y=\"3em\"><defs /><svg width=\"100%\" x=\"0\" y=\"0em\"><defs /><text text-anchor=\"middle\" x=\"50%\" y=\"1em\">JJ</text></svg></svg><line stroke=\"black\" x1=\"50%\" x2=\"50%\" y1=\"1.2em\" y2=\"3em\" /></svg><line stroke=\"black\" x1=\"50%\" x2=\"26.8235%\" y1=\"1.2em\" y2=\"3em\" /><svg width=\"1.41176%\" x=\"27.2941%\" y=\"3em\"><defs /><svg width=\"100%\" x=\"0\" y=\"0em\"><defs /><text text-anchor=\"middle\" x=\"50%\" y=\"1em\">book</text></svg><svg width=\"100%\" x=\"0%\" y=\"3em\"><defs /><svg width=\"100%\" x=\"0\" y=\"0em\"><defs /><text text-anchor=\"middle\" x=\"50%\" y=\"1em\">NN</text></svg></svg><line stroke=\"black\" x1=\"50%\" x2=\"50%\" y1=\"1.2em\" y2=\"3em\" /></svg><line stroke=\"black\" x1=\"50%\" x2=\"28%\" y1=\"1.2em\" y2=\"3em\" /><svg width=\"1.64706%\" x=\"28.7059%\" y=\"3em\"><defs /><svg width=\"100%\" x=\"0\" y=\"0em\"><defs /><text text-anchor=\"middle\" x=\"50%\" y=\"1em\">greet</text></svg><svg width=\"100%\" x=\"0%\" y=\"3em\"><defs /><svg width=\"100%\" x=\"0\" y=\"0em\"><defs /><text text-anchor=\"middle\" x=\"50%\" y=\"1em\">NN</text></svg></svg><line stroke=\"black\" x1=\"50%\" x2=\"50%\" y1=\"1.2em\" y2=\"3em\" /></svg><line stroke=\"black\" x1=\"50%\" x2=\"29.5294%\" y1=\"1.2em\" y2=\"3em\" /><svg width=\"0.941176%\" x=\"30.3529%\" y=\"3em\"><defs /><svg width=\"100%\" x=\"0\" y=\"0em\"><defs /><text text-anchor=\"middle\" x=\"50%\" y=\"1em\">gr</text></svg><svg width=\"100%\" x=\"0%\" y=\"3em\"><defs /><svg width=\"100%\" x=\"0\" y=\"0em\"><defs /><text text-anchor=\"middle\" x=\"50%\" y=\"1em\">JJ</text></svg></svg><line stroke=\"black\" x1=\"50%\" x2=\"50%\" y1=\"1.2em\" y2=\"3em\" /></svg><line stroke=\"black\" x1=\"50%\" x2=\"30.8235%\" y1=\"1.2em\" y2=\"3em\" /><svg width=\"1.64706%\" x=\"31.2941%\" y=\"3em\"><defs /><svg width=\"100%\" x=\"0\" y=\"0em\"><defs /><text text-anchor=\"middle\" x=\"50%\" y=\"1em\">energ</text></svg><svg width=\"100%\" x=\"0%\" y=\"3em\"><defs /><svg width=\"100%\" x=\"0\" y=\"0em\"><defs /><text text-anchor=\"middle\" x=\"50%\" y=\"1em\">NN</text></svg></svg><line stroke=\"black\" x1=\"50%\" x2=\"50%\" y1=\"1.2em\" y2=\"3em\" /></svg><line stroke=\"black\" x1=\"50%\" x2=\"32.1176%\" y1=\"1.2em\" y2=\"3em\" /><svg width=\"1.17647%\" x=\"32.9412%\" y=\"3em\"><defs /><svg width=\"100%\" x=\"0\" y=\"0em\"><defs /><text text-anchor=\"middle\" x=\"50%\" y=\"1em\">and</text></svg><svg width=\"100%\" x=\"0%\" y=\"3em\"><defs /><svg width=\"100%\" x=\"0\" y=\"0em\"><defs /><text text-anchor=\"middle\" x=\"50%\" y=\"1em\">CC</text></svg></svg><line stroke=\"black\" x1=\"50%\" x2=\"50%\" y1=\"1.2em\" y2=\"3em\" /></svg><line stroke=\"black\" x1=\"50%\" x2=\"33.5294%\" y1=\"1.2em\" y2=\"3em\" /><svg width=\"0.941176%\" x=\"34.1176%\" y=\"3em\"><defs /><svg width=\"100%\" x=\"0\" y=\"0em\"><defs /><text text-anchor=\"middle\" x=\"50%\" y=\"1em\">ww</text></svg><svg width=\"100%\" x=\"0%\" y=\"3em\"><defs /><svg width=\"100%\" x=\"0\" y=\"0em\"><defs /><text text-anchor=\"middle\" x=\"50%\" y=\"1em\">NN</text></svg></svg><line stroke=\"black\" x1=\"50%\" x2=\"50%\" y1=\"1.2em\" y2=\"3em\" /></svg><line stroke=\"black\" x1=\"50%\" x2=\"34.5882%\" y1=\"1.2em\" y2=\"3em\" /><svg width=\"0.705882%\" x=\"35.0588%\" y=\"3em\"><defs /><svg width=\"100%\" x=\"0\" y=\"0em\"><defs /><text text-anchor=\"middle\" x=\"50%\" y=\"1em\">.</text></svg><svg width=\"100%\" x=\"0%\" y=\"3em\"><defs /><svg width=\"100%\" x=\"0\" y=\"0em\"><defs /><text text-anchor=\"middle\" x=\"50%\" y=\"1em\">.</text></svg></svg><line stroke=\"black\" x1=\"50%\" x2=\"50%\" y1=\"1.2em\" y2=\"3em\" /></svg><line stroke=\"black\" x1=\"50%\" x2=\"35.4118%\" y1=\"1.2em\" y2=\"3em\" /><svg width=\"2.35294%\" x=\"35.7647%\" y=\"3em\"><defs /><svg width=\"100%\" x=\"0\" y=\"0em\"><defs /><text text-anchor=\"middle\" x=\"50%\" y=\"1em\">wheredar</text></svg><svg width=\"100%\" x=\"0%\" y=\"3em\"><defs /><svg width=\"100%\" x=\"0\" y=\"0em\"><defs /><text text-anchor=\"middle\" x=\"50%\" y=\"1em\">NN</text></svg></svg><line stroke=\"black\" x1=\"50%\" x2=\"50%\" y1=\"1.2em\" y2=\"3em\" /></svg><line stroke=\"black\" x1=\"50%\" x2=\"36.9412%\" y1=\"1.2em\" y2=\"3em\" /><svg width=\"1.88235%\" x=\"38.1176%\" y=\"3em\"><defs /><svg width=\"100%\" x=\"0\" y=\"0em\"><defs /><text text-anchor=\"middle\" x=\"50%\" y=\"1em\">exampl</text></svg><svg width=\"100%\" x=\"0%\" y=\"3em\"><defs /><svg width=\"100%\" x=\"0\" y=\"0em\"><defs /><text text-anchor=\"middle\" x=\"50%\" y=\"1em\">NN</text></svg></svg><line stroke=\"black\" x1=\"50%\" x2=\"50%\" y1=\"1.2em\" y2=\"3em\" /></svg><line stroke=\"black\" x1=\"50%\" x2=\"39.0588%\" y1=\"1.2em\" y2=\"3em\" /><svg width=\"0.941176%\" x=\"40%\" y=\"3em\"><defs /><svg width=\"100%\" x=\"0\" y=\"0em\"><defs /><text text-anchor=\"middle\" x=\"50%\" y=\"1em\">as</text></svg><svg width=\"100%\" x=\"0%\" y=\"3em\"><defs /><svg width=\"100%\" x=\"0\" y=\"0em\"><defs /><text text-anchor=\"middle\" x=\"50%\" y=\"1em\">IN</text></svg></svg><line stroke=\"black\" x1=\"50%\" x2=\"50%\" y1=\"1.2em\" y2=\"3em\" /></svg><line stroke=\"black\" x1=\"50%\" x2=\"40.4706%\" y1=\"1.2em\" y2=\"3em\" /><svg width=\"2.35294%\" x=\"40.9412%\" y=\"3em\"><defs /><svg width=\"100%\" x=\"0\" y=\"0em\"><defs /><text text-anchor=\"middle\" x=\"50%\" y=\"1em\">captured</text></svg><svg width=\"100%\" x=\"0%\" y=\"3em\"><defs /><svg width=\"100%\" x=\"0\" y=\"0em\"><defs /><text text-anchor=\"middle\" x=\"50%\" y=\"1em\">JJ</text></svg></svg><line stroke=\"black\" x1=\"50%\" x2=\"50%\" y1=\"1.2em\" y2=\"3em\" /></svg><line stroke=\"black\" x1=\"50%\" x2=\"42.1176%\" y1=\"1.2em\" y2=\"3em\" /><svg width=\"1.88235%\" x=\"43.2941%\" y=\"3em\"><defs /><svg width=\"100%\" x=\"0\" y=\"0em\"><defs /><text text-anchor=\"middle\" x=\"50%\" y=\"1em\">wellin</text></svg><svg width=\"100%\" x=\"0%\" y=\"3em\"><defs /><svg width=\"100%\" x=\"0\" y=\"0em\"><defs /><text text-anchor=\"middle\" x=\"50%\" y=\"1em\">NN</text></svg></svg><line stroke=\"black\" x1=\"50%\" x2=\"50%\" y1=\"1.2em\" y2=\"3em\" /></svg><line stroke=\"black\" x1=\"50%\" x2=\"44.2353%\" y1=\"1.2em\" y2=\"3em\" /><svg width=\"3.29412%\" x=\"45.1765%\" y=\"3em\"><defs /><svg width=\"100%\" x=\"0\" y=\"0em\"><defs /><text text-anchor=\"middle\" x=\"50%\" y=\"1em\">ORGANIZATION</text></svg><svg width=\"100%\" x=\"0%\" y=\"3em\"><defs /><svg width=\"100%\" x=\"0\" y=\"0em\"><defs /><text text-anchor=\"middle\" x=\"50%\" y=\"1em\">GEN</text></svg><svg width=\"100%\" x=\"0%\" y=\"3em\"><defs /><svg width=\"100%\" x=\"0\" y=\"0em\"><defs /><text text-anchor=\"middle\" x=\"50%\" y=\"1em\">NNP</text></svg></svg><line stroke=\"black\" x1=\"50%\" x2=\"50%\" y1=\"1.2em\" y2=\"3em\" /></svg><line stroke=\"black\" x1=\"50%\" x2=\"50%\" y1=\"1.2em\" y2=\"3em\" /></svg><line stroke=\"black\" x1=\"50%\" x2=\"46.8235%\" y1=\"1.2em\" y2=\"3em\" /><svg width=\"0.705882%\" x=\"48.4706%\" y=\"3em\"><defs /><svg width=\"100%\" x=\"0\" y=\"0em\"><defs /><text text-anchor=\"middle\" x=\"50%\" y=\"1em\">,</text></svg><svg width=\"100%\" x=\"0%\" y=\"3em\"><defs /><svg width=\"100%\" x=\"0\" y=\"0em\"><defs /><text text-anchor=\"middle\" x=\"50%\" y=\"1em\">,</text></svg></svg><line stroke=\"black\" x1=\"50%\" x2=\"50%\" y1=\"1.2em\" y2=\"3em\" /></svg><line stroke=\"black\" x1=\"50%\" x2=\"48.8235%\" y1=\"1.2em\" y2=\"3em\" /><svg width=\"5.41176%\" x=\"49.1765%\" y=\"3em\"><defs /><svg width=\"100%\" x=\"0\" y=\"0em\"><defs /><text text-anchor=\"middle\" x=\"50%\" y=\"1em\">PERSON</text></svg><svg width=\"30.4348%\" x=\"0%\" y=\"3em\"><defs /><svg width=\"100%\" x=\"0\" y=\"0em\"><defs /><text text-anchor=\"middle\" x=\"50%\" y=\"1em\">BARRY</text></svg><svg width=\"100%\" x=\"0%\" y=\"3em\"><defs /><svg width=\"100%\" x=\"0\" y=\"0em\"><defs /><text text-anchor=\"middle\" x=\"50%\" y=\"1em\">NNP</text></svg></svg><line stroke=\"black\" x1=\"50%\" x2=\"50%\" y1=\"1.2em\" y2=\"3em\" /></svg><line stroke=\"black\" x1=\"50%\" x2=\"15.2174%\" y1=\"1.2em\" y2=\"3em\" /><svg width=\"21.7391%\" x=\"30.4348%\" y=\"3em\"><defs /><svg width=\"100%\" x=\"0\" y=\"0em\"><defs /><text text-anchor=\"middle\" x=\"50%\" y=\"1em\">B.</text></svg><svg width=\"100%\" x=\"0%\" y=\"3em\"><defs /><svg width=\"100%\" x=\"0\" y=\"0em\"><defs /><text text-anchor=\"middle\" x=\"50%\" y=\"1em\">NNP</text></svg></svg><line stroke=\"black\" x1=\"50%\" x2=\"50%\" y1=\"1.2em\" y2=\"3em\" /></svg><line stroke=\"black\" x1=\"50%\" x2=\"41.3043%\" y1=\"1.2em\" y2=\"3em\" /><svg width=\"47.8261%\" x=\"52.1739%\" y=\"3em\"><defs /><svg width=\"100%\" x=\"0\" y=\"0em\"><defs /><text text-anchor=\"middle\" x=\"50%\" y=\"1em\">MCCAFFREY</text></svg><svg width=\"100%\" x=\"0%\" y=\"3em\"><defs /><svg width=\"100%\" x=\"0\" y=\"0em\"><defs /><text text-anchor=\"middle\" x=\"50%\" y=\"1em\">NNP</text></svg></svg><line stroke=\"black\" x1=\"50%\" x2=\"50%\" y1=\"1.2em\" y2=\"3em\" /></svg><line stroke=\"black\" x1=\"50%\" x2=\"76.087%\" y1=\"1.2em\" y2=\"3em\" /></svg><line stroke=\"black\" x1=\"50%\" x2=\"51.8824%\" y1=\"1.2em\" y2=\"3em\" /><svg width=\"0.705882%\" x=\"54.5882%\" y=\"3em\"><defs /><svg width=\"100%\" x=\"0\" y=\"0em\"><defs /><text text-anchor=\"middle\" x=\"50%\" y=\"1em\">,</text></svg><svg width=\"100%\" x=\"0%\" y=\"3em\"><defs /><svg width=\"100%\" x=\"0\" y=\"0em\"><defs /><text text-anchor=\"middle\" x=\"50%\" y=\"1em\">,</text></svg></svg><line stroke=\"black\" x1=\"50%\" x2=\"50%\" y1=\"1.2em\" y2=\"3em\" /></svg><line stroke=\"black\" x1=\"50%\" x2=\"54.9412%\" y1=\"1.2em\" y2=\"3em\" /><svg width=\"3.29412%\" x=\"55.2941%\" y=\"3em\"><defs /><svg width=\"100%\" x=\"0\" y=\"0em\"><defs /><text text-anchor=\"middle\" x=\"50%\" y=\"1em\">ORGANIZATION</text></svg><svg width=\"100%\" x=\"0%\" y=\"3em\"><defs /><svg width=\"100%\" x=\"0\" y=\"0em\"><defs /><text text-anchor=\"middle\" x=\"50%\" y=\"1em\">USA</text></svg><svg width=\"100%\" x=\"0%\" y=\"3em\"><defs /><svg width=\"100%\" x=\"0\" y=\"0em\"><defs /><text text-anchor=\"middle\" x=\"50%\" y=\"1em\">NNP</text></svg></svg><line stroke=\"black\" x1=\"50%\" x2=\"50%\" y1=\"1.2em\" y2=\"3em\" /></svg><line stroke=\"black\" x1=\"50%\" x2=\"50%\" y1=\"1.2em\" y2=\"3em\" /></svg><line stroke=\"black\" x1=\"50%\" x2=\"56.9412%\" y1=\"1.2em\" y2=\"3em\" /><svg width=\"1.17647%\" x=\"58.5882%\" y=\"3em\"><defs /><svg width=\"100%\" x=\"0\" y=\"0em\"><defs /><text text-anchor=\"middle\" x=\"50%\" y=\"1em\">REE</text></svg><svg width=\"100%\" x=\"0%\" y=\"3em\"><defs /><svg width=\"100%\" x=\"0\" y=\"0em\"><defs /><text text-anchor=\"middle\" x=\"50%\" y=\"1em\">NNP</text></svg></svg><line stroke=\"black\" x1=\"50%\" x2=\"50%\" y1=\"1.2em\" y2=\"3em\" /></svg><line stroke=\"black\" x1=\"50%\" x2=\"59.1765%\" y1=\"1.2em\" y2=\"3em\" /><svg width=\"1.64706%\" x=\"59.7647%\" y=\"3em\"><defs /><svg width=\"100%\" x=\"0\" y=\"0em\"><defs /><text text-anchor=\"middle\" x=\"50%\" y=\"1em\">WONEN</text></svg><svg width=\"100%\" x=\"0%\" y=\"3em\"><defs /><svg width=\"100%\" x=\"0\" y=\"0em\"><defs /><text text-anchor=\"middle\" x=\"50%\" y=\"1em\">NNP</text></svg></svg><line stroke=\"black\" x1=\"50%\" x2=\"50%\" y1=\"1.2em\" y2=\"3em\" /></svg><line stroke=\"black\" x1=\"50%\" x2=\"60.5882%\" y1=\"1.2em\" y2=\"3em\" /><svg width=\"3.05882%\" x=\"61.4118%\" y=\"3em\"><defs /><svg width=\"100%\" x=\"0\" y=\"0em\"><defs /><text text-anchor=\"middle\" x=\"50%\" y=\"1em\">Schwarzkopf</text></svg><svg width=\"100%\" x=\"0%\" y=\"3em\"><defs /><svg width=\"100%\" x=\"0\" y=\"0em\"><defs /><text text-anchor=\"middle\" x=\"50%\" y=\"1em\">NNP</text></svg></svg><line stroke=\"black\" x1=\"50%\" x2=\"50%\" y1=\"1.2em\" y2=\"3em\" /></svg><line stroke=\"black\" x1=\"50%\" x2=\"62.9412%\" y1=\"1.2em\" y2=\"3em\" /><svg width=\"1.17647%\" x=\"64.4706%\" y=\"3em\"><defs /><svg width=\"100%\" x=\"0\" y=\"0em\"><defs /><text text-anchor=\"middle\" x=\"50%\" y=\"1em\">*</text></svg><svg width=\"100%\" x=\"0%\" y=\"3em\"><defs /><svg width=\"100%\" x=\"0\" y=\"0em\"><defs /><text text-anchor=\"middle\" x=\"50%\" y=\"1em\">NNP</text></svg></svg><line stroke=\"black\" x1=\"50%\" x2=\"50%\" y1=\"1.2em\" y2=\"3em\" /></svg><line stroke=\"black\" x1=\"50%\" x2=\"65.0588%\" y1=\"1.2em\" y2=\"3em\" /><svg width=\"1.17647%\" x=\"65.6471%\" y=\"3em\"><defs /><svg width=\"100%\" x=\"0\" y=\"0em\"><defs /><text text-anchor=\"middle\" x=\"50%\" y=\"1em\">*</text></svg><svg width=\"100%\" x=\"0%\" y=\"3em\"><defs /><svg width=\"100%\" x=\"0\" y=\"0em\"><defs /><text text-anchor=\"middle\" x=\"50%\" y=\"1em\">NNP</text></svg></svg><line stroke=\"black\" x1=\"50%\" x2=\"50%\" y1=\"1.2em\" y2=\"3em\" /></svg><line stroke=\"black\" x1=\"50%\" x2=\"66.2353%\" y1=\"1.2em\" y2=\"3em\" /><svg width=\"1.17647%\" x=\"66.8235%\" y=\"3em\"><defs /><svg width=\"100%\" x=\"0\" y=\"0em\"><defs /><text text-anchor=\"middle\" x=\"50%\" y=\"1em\">*</text></svg><svg width=\"100%\" x=\"0%\" y=\"3em\"><defs /><svg width=\"100%\" x=\"0\" y=\"0em\"><defs /><text text-anchor=\"middle\" x=\"50%\" y=\"1em\">NNP</text></svg></svg><line stroke=\"black\" x1=\"50%\" x2=\"50%\" y1=\"1.2em\" y2=\"3em\" /></svg><line stroke=\"black\" x1=\"50%\" x2=\"67.4118%\" y1=\"1.2em\" y2=\"3em\" /><svg width=\"1.41176%\" x=\"68%\" y=\"3em\"><defs /><svg width=\"100%\" x=\"0\" y=\"0em\"><defs /><text text-anchor=\"middle\" x=\"50%\" y=\"1em\">Life</text></svg><svg width=\"100%\" x=\"0%\" y=\"3em\"><defs /><svg width=\"100%\" x=\"0\" y=\"0em\"><defs /><text text-anchor=\"middle\" x=\"50%\" y=\"1em\">NNP</text></svg></svg><line stroke=\"black\" x1=\"50%\" x2=\"50%\" y1=\"1.2em\" y2=\"3em\" /></svg><line stroke=\"black\" x1=\"50%\" x2=\"68.7059%\" y1=\"1.2em\" y2=\"3em\" /><svg width=\"2.11765%\" x=\"69.4118%\" y=\"3em\"><defs /><svg width=\"100%\" x=\"0\" y=\"0em\"><defs /><text text-anchor=\"middle\" x=\"50%\" y=\"1em\">Lessons</text></svg><svg width=\"100%\" x=\"0%\" y=\"3em\"><defs /><svg width=\"100%\" x=\"0\" y=\"0em\"><defs /><text text-anchor=\"middle\" x=\"50%\" y=\"1em\">NNP</text></svg></svg><line stroke=\"black\" x1=\"50%\" x2=\"50%\" y1=\"1.2em\" y2=\"3em\" /></svg><line stroke=\"black\" x1=\"50%\" x2=\"70.4706%\" y1=\"1.2em\" y2=\"3em\" /><svg width=\"0.941176%\" x=\"71.5294%\" y=\"3em\"><defs /><svg width=\"100%\" x=\"0\" y=\"0em\"><defs /><text text-anchor=\"middle\" x=\"50%\" y=\"1em\">of</text></svg><svg width=\"100%\" x=\"0%\" y=\"3em\"><defs /><svg width=\"100%\" x=\"0\" y=\"0em\"><defs /><text text-anchor=\"middle\" x=\"50%\" y=\"1em\">IN</text></svg></svg><line stroke=\"black\" x1=\"50%\" x2=\"50%\" y1=\"1.2em\" y2=\"3em\" /></svg><line stroke=\"black\" x1=\"50%\" x2=\"72%\" y1=\"1.2em\" y2=\"3em\" /><svg width=\"1.17647%\" x=\"72.4706%\" y=\"3em\"><defs /><svg width=\"100%\" x=\"0\" y=\"0em\"><defs /><text text-anchor=\"middle\" x=\"50%\" y=\"1em\">The</text></svg><svg width=\"100%\" x=\"0%\" y=\"3em\"><defs /><svg width=\"100%\" x=\"0\" y=\"0em\"><defs /><text text-anchor=\"middle\" x=\"50%\" y=\"1em\">DT</text></svg></svg><line stroke=\"black\" x1=\"50%\" x2=\"50%\" y1=\"1.2em\" y2=\"3em\" /></svg><line stroke=\"black\" x1=\"50%\" x2=\"73.0588%\" y1=\"1.2em\" y2=\"3em\" /><svg width=\"3.29412%\" x=\"73.6471%\" y=\"3em\"><defs /><svg width=\"100%\" x=\"0\" y=\"0em\"><defs /><text text-anchor=\"middle\" x=\"50%\" y=\"1em\">ORGANIZATION</text></svg><svg width=\"100%\" x=\"0%\" y=\"3em\"><defs /><svg width=\"100%\" x=\"0\" y=\"0em\"><defs /><text text-anchor=\"middle\" x=\"50%\" y=\"1em\">BEAR</text></svg><svg width=\"100%\" x=\"0%\" y=\"3em\"><defs /><svg width=\"100%\" x=\"0\" y=\"0em\"><defs /><text text-anchor=\"middle\" x=\"50%\" y=\"1em\">NNP</text></svg></svg><line stroke=\"black\" x1=\"50%\" x2=\"50%\" y1=\"1.2em\" y2=\"3em\" /></svg><line stroke=\"black\" x1=\"50%\" x2=\"50%\" y1=\"1.2em\" y2=\"3em\" /></svg><line stroke=\"black\" x1=\"50%\" x2=\"75.2941%\" y1=\"1.2em\" y2=\"3em\" /><svg width=\"0.941176%\" x=\"76.9412%\" y=\"3em\"><defs /><svg width=\"100%\" x=\"0\" y=\"0em\"><defs /><text text-anchor=\"middle\" x=\"50%\" y=\"1em\">by</text></svg><svg width=\"100%\" x=\"0%\" y=\"3em\"><defs /><svg width=\"100%\" x=\"0\" y=\"0em\"><defs /><text text-anchor=\"middle\" x=\"50%\" y=\"1em\">IN</text></svg></svg><line stroke=\"black\" x1=\"50%\" x2=\"50%\" y1=\"1.2em\" y2=\"3em\" /></svg><line stroke=\"black\" x1=\"50%\" x2=\"77.4118%\" y1=\"1.2em\" y2=\"3em\" /><svg width=\"3.29412%\" x=\"77.8824%\" y=\"3em\"><defs /><svg width=\"100%\" x=\"0\" y=\"0em\"><defs /><text text-anchor=\"middle\" x=\"50%\" y=\"1em\">ORGANIZATION</text></svg><svg width=\"100%\" x=\"0%\" y=\"3em\"><defs /><svg width=\"100%\" x=\"0\" y=\"0em\"><defs /><text text-anchor=\"middle\" x=\"50%\" y=\"1em\">GUS</text></svg><svg width=\"100%\" x=\"0%\" y=\"3em\"><defs /><svg width=\"100%\" x=\"0\" y=\"0em\"><defs /><text text-anchor=\"middle\" x=\"50%\" y=\"1em\">NNP</text></svg></svg><line stroke=\"black\" x1=\"50%\" x2=\"50%\" y1=\"1.2em\" y2=\"3em\" /></svg><line stroke=\"black\" x1=\"50%\" x2=\"50%\" y1=\"1.2em\" y2=\"3em\" /></svg><line stroke=\"black\" x1=\"50%\" x2=\"79.5294%\" y1=\"1.2em\" y2=\"3em\" /><svg width=\"1.17647%\" x=\"81.1765%\" y=\"3em\"><defs /><svg width=\"100%\" x=\"0\" y=\"0em\"><defs /><text text-anchor=\"middle\" x=\"50%\" y=\"1em\">LEE</text></svg><svg width=\"100%\" x=\"0%\" y=\"3em\"><defs /><svg width=\"100%\" x=\"0\" y=\"0em\"><defs /><text text-anchor=\"middle\" x=\"50%\" y=\"1em\">NNP</text></svg></svg><line stroke=\"black\" x1=\"50%\" x2=\"50%\" y1=\"1.2em\" y2=\"3em\" /></svg><line stroke=\"black\" x1=\"50%\" x2=\"81.7647%\" y1=\"1.2em\" y2=\"3em\" /><svg width=\"3.29412%\" x=\"82.3529%\" y=\"3em\"><defs /><svg width=\"100%\" x=\"0\" y=\"0em\"><defs /><text text-anchor=\"middle\" x=\"50%\" y=\"1em\">Best-selling</text></svg><svg width=\"100%\" x=\"0%\" y=\"3em\"><defs /><svg width=\"100%\" x=\"0\" y=\"0em\"><defs /><text text-anchor=\"middle\" x=\"50%\" y=\"1em\">NNP</text></svg></svg><line stroke=\"black\" x1=\"50%\" x2=\"50%\" y1=\"1.2em\" y2=\"3em\" /></svg><line stroke=\"black\" x1=\"50%\" x2=\"84%\" y1=\"1.2em\" y2=\"3em\" /><svg width=\"1.88235%\" x=\"85.6471%\" y=\"3em\"><defs /><svg width=\"100%\" x=\"0\" y=\"0em\"><defs /><text text-anchor=\"middle\" x=\"50%\" y=\"1em\">author</text></svg><svg width=\"100%\" x=\"0%\" y=\"3em\"><defs /><svg width=\"100%\" x=\"0\" y=\"0em\"><defs /><text text-anchor=\"middle\" x=\"50%\" y=\"1em\">NN</text></svg></svg><line stroke=\"black\" x1=\"50%\" x2=\"50%\" y1=\"1.2em\" y2=\"3em\" /></svg><line stroke=\"black\" x1=\"50%\" x2=\"86.5882%\" y1=\"1.2em\" y2=\"3em\" /><svg width=\"0.941176%\" x=\"87.5294%\" y=\"3em\"><defs /><svg width=\"100%\" x=\"0\" y=\"0em\"><defs /><text text-anchor=\"middle\" x=\"50%\" y=\"1em\">of</text></svg><svg width=\"100%\" x=\"0%\" y=\"3em\"><defs /><svg width=\"100%\" x=\"0\" y=\"0em\"><defs /><text text-anchor=\"middle\" x=\"50%\" y=\"1em\">IN</text></svg></svg><line stroke=\"black\" x1=\"50%\" x2=\"50%\" y1=\"1.2em\" y2=\"3em\" /></svg><line stroke=\"black\" x1=\"50%\" x2=\"88%\" y1=\"1.2em\" y2=\"3em\" /><svg width=\"2.11765%\" x=\"88.4706%\" y=\"3em\"><defs /><svg width=\"100%\" x=\"0\" y=\"0em\"><defs /><text text-anchor=\"middle\" x=\"50%\" y=\"1em\">Courage</text></svg><svg width=\"100%\" x=\"0%\" y=\"3em\"><defs /><svg width=\"100%\" x=\"0\" y=\"0em\"><defs /><text text-anchor=\"middle\" x=\"50%\" y=\"1em\">NN</text></svg></svg><line stroke=\"black\" x1=\"50%\" x2=\"50%\" y1=\"1.2em\" y2=\"3em\" /></svg><line stroke=\"black\" x1=\"50%\" x2=\"89.5294%\" y1=\"1.2em\" y2=\"3em\" /><svg width=\"0.705882%\" x=\"90.5882%\" y=\"3em\"><defs /><svg width=\"100%\" x=\"0\" y=\"0em\"><defs /><text text-anchor=\"middle\" x=\"50%\" y=\"1em\">:</text></svg><svg width=\"100%\" x=\"0%\" y=\"3em\"><defs /><svg width=\"100%\" x=\"0\" y=\"0em\"><defs /><text text-anchor=\"middle\" x=\"50%\" y=\"1em\">:</text></svg></svg><line stroke=\"black\" x1=\"50%\" x2=\"50%\" y1=\"1.2em\" y2=\"3em\" /></svg><line stroke=\"black\" x1=\"50%\" x2=\"90.9412%\" y1=\"1.2em\" y2=\"3em\" /><svg width=\"1.17647%\" x=\"91.2941%\" y=\"3em\"><defs /><svg width=\"100%\" x=\"0\" y=\"0em\"><defs /><text text-anchor=\"middle\" x=\"50%\" y=\"1em\">The</text></svg><svg width=\"100%\" x=\"0%\" y=\"3em\"><defs /><svg width=\"100%\" x=\"0\" y=\"0em\"><defs /><text text-anchor=\"middle\" x=\"50%\" y=\"1em\">DT</text></svg></svg><line stroke=\"black\" x1=\"50%\" x2=\"50%\" y1=\"1.2em\" y2=\"3em\" /></svg><line stroke=\"black\" x1=\"50%\" x2=\"91.8824%\" y1=\"1.2em\" y2=\"3em\" /><svg width=\"3.29412%\" x=\"92.4706%\" y=\"3em\"><defs /><svg width=\"100%\" x=\"0\" y=\"0em\"><defs /><text text-anchor=\"middle\" x=\"50%\" y=\"1em\">ORGANIZATION</text></svg><svg width=\"100%\" x=\"0%\" y=\"3em\"><defs /><svg width=\"100%\" x=\"0\" y=\"0em\"><defs /><text text-anchor=\"middle\" x=\"50%\" y=\"1em\">Backbone</text></svg><svg width=\"100%\" x=\"0%\" y=\"3em\"><defs /><svg width=\"100%\" x=\"0\" y=\"0em\"><defs /><text text-anchor=\"middle\" x=\"50%\" y=\"1em\">NNP</text></svg></svg><line stroke=\"black\" x1=\"50%\" x2=\"50%\" y1=\"1.2em\" y2=\"3em\" /></svg><line stroke=\"black\" x1=\"50%\" x2=\"50%\" y1=\"1.2em\" y2=\"3em\" /></svg><line stroke=\"black\" x1=\"50%\" x2=\"94.1176%\" y1=\"1.2em\" y2=\"3em\" /><svg width=\"0.941176%\" x=\"95.7647%\" y=\"3em\"><defs /><svg width=\"100%\" x=\"0\" y=\"0em\"><defs /><text text-anchor=\"middle\" x=\"50%\" y=\"1em\">of</text></svg><svg width=\"100%\" x=\"0%\" y=\"3em\"><defs /><svg width=\"100%\" x=\"0\" y=\"0em\"><defs /><text text-anchor=\"middle\" x=\"50%\" y=\"1em\">IN</text></svg></svg><line stroke=\"black\" x1=\"50%\" x2=\"50%\" y1=\"1.2em\" y2=\"3em\" /></svg><line stroke=\"black\" x1=\"50%\" x2=\"96.2353%\" y1=\"1.2em\" y2=\"3em\" /><svg width=\"3.29412%\" x=\"96.7059%\" y=\"3em\"><defs /><svg width=\"100%\" x=\"0\" y=\"0em\"><defs /><text text-anchor=\"middle\" x=\"50%\" y=\"1em\">ORGANIZATION</text></svg><svg width=\"100%\" x=\"0%\" y=\"3em\"><defs /><svg width=\"100%\" x=\"0\" y=\"0em\"><defs /><text text-anchor=\"middle\" x=\"50%\" y=\"1em\">Leadership</text></svg><svg width=\"100%\" x=\"0%\" y=\"3em\"><defs /><svg width=\"100%\" x=\"0\" y=\"0em\"><defs /><text text-anchor=\"middle\" x=\"50%\" y=\"1em\">NNP</text></svg></svg><line stroke=\"black\" x1=\"50%\" x2=\"50%\" y1=\"1.2em\" y2=\"3em\" /></svg><line stroke=\"black\" x1=\"50%\" x2=\"50%\" y1=\"1.2em\" y2=\"3em\" /></svg><line stroke=\"black\" x1=\"50%\" x2=\"98.3529%\" y1=\"1.2em\" y2=\"3em\" /></svg>"
      ],
      "text/plain": [
       "Tree('S', [Tree('GPE', [('Colet', 'NNP')]), ('example', 'NN'), (',', ','), ('and', 'CC'), Tree('ORGANIZATION', [('SA', 'NNP')]), ('sported', 'VBD'), ('ronals', 'NNS'), Tree('PERSON', [('Gentl', 'NNP'), ('Twitte', 'NNP')]), ('festive', 'NN'), (')', ')'), ('efetive', 'VBP'), ('mary', 'JJ'), ('m', 'NN'), ('vice', 'NN'), ('and', 'CC'), ('ng', 'JJ'), ('book', 'NN'), ('greet', 'NN'), ('gr', 'JJ'), ('energ', 'NN'), ('and', 'CC'), ('ww', 'NN'), ('.', '.'), ('wheredar', 'NN'), ('exampl', 'NN'), ('as', 'IN'), ('captured', 'JJ'), ('wellin', 'NN'), Tree('ORGANIZATION', [('GEN', 'NNP')]), (',', ','), Tree('PERSON', [('BARRY', 'NNP'), ('B.', 'NNP'), ('MCCAFFREY', 'NNP')]), (',', ','), Tree('ORGANIZATION', [('USA', 'NNP')]), ('REE', 'NNP'), ('WONEN', 'NNP'), ('Schwarzkopf', 'NNP'), ('*', 'NNP'), ('*', 'NNP'), ('*', 'NNP'), ('Life', 'NNP'), ('Lessons', 'NNP'), ('of', 'IN'), ('The', 'DT'), Tree('ORGANIZATION', [('BEAR', 'NNP')]), ('by', 'IN'), Tree('ORGANIZATION', [('GUS', 'NNP')]), ('LEE', 'NNP'), ('Best-selling', 'NNP'), ('author', 'NN'), ('of', 'IN'), ('Courage', 'NN'), (':', ':'), ('The', 'DT'), Tree('ORGANIZATION', [('Backbone', 'NNP')]), ('of', 'IN'), Tree('ORGANIZATION', [('Leadership', 'NNP')])])"
      ]
     },
     "execution_count": 143,
     "metadata": {},
     "output_type": "execute_result"
    }
   ],
   "source": [
    "nltk_results"
   ]
  },
  {
   "cell_type": "code",
   "execution_count": 52,
   "id": "fa1142bc",
   "metadata": {},
   "outputs": [
    {
     "data": {
      "text/plain": [
       "0        Colet example, and SA sported ronals Gentl Twi...\n",
       "1                   Maghets Pulling Together Pushing Apart\n",
       "2        ENERGY SECURITY VOLUME SAGE LIBRARY OF INTERNA...\n",
       "3        AUDIOBOOK MP3-CD Insert Transfer Listen! TREES...\n",
       "4             City of Rocks Idaho A Climber's Guide untale\n",
       "                               ...                        \n",
       "51295    JOHN SANDFORD NEW YORK TIMES-BESTSELLING AUTHO...\n",
       "51296    SECOND EDITION THE CRIME WRITER'S GUIDE TO POL...\n",
       "51297               THE JEZEBEL REMEDY A Nord MARTIN CLARK\n",
       "51298                                GLENN OGURA'S STARTUP\n",
       "51299    Bad karaden The Mystery Mystery Ender KILLER T...\n",
       "Name: Title, Length: 51300, dtype: object"
      ]
     },
     "execution_count": 52,
     "metadata": {},
     "output_type": "execute_result"
    }
   ],
   "source": [
    "def translate(text):\n",
    "    try:\n",
    "        result_lang = detect(text.lower())\n",
    "        if result_lang != \"en\":\n",
    "            translator = GoogleTranslator(source='auto', target='en')\n",
    "            text = translator.translate(text)\n",
    "        return text\n",
    "    except: \n",
    "        return text\n",
    "\n",
    "X_train_translated = X_train.apply(translate)\n",
    "X_train_translated"
   ]
  },
  {
   "cell_type": "code",
   "execution_count": 53,
   "id": "cac2ead1",
   "metadata": {},
   "outputs": [],
   "source": [
    "X_train_full = pd.read_csv(\"../../raw_data/titles_train.csv\")\n",
    "\n",
    "X_train_full[\"translated_title\"] = X_train_translated\n",
    "\n",
    "X_train_full.to_csv(\"../../raw_data/titles_train.csv\", header=True, index=False)"
   ]
  },
  {
   "cell_type": "code",
   "execution_count": 9,
   "id": "f85780da",
   "metadata": {},
   "outputs": [],
   "source": [
    "X_train_test = X_train[:10]"
   ]
  },
  {
   "cell_type": "code",
   "execution_count": 20,
   "id": "b098a851",
   "metadata": {},
   "outputs": [],
   "source": [
    "import logging\n",
    "import sys\n",
    "from urllib.parse import quote\n",
    "\n",
    "from selenium import webdriver\n",
    "from selenium.common.exceptions import NoSuchElementException\n",
    "from selenium.webdriver.chrome.options import Options\n",
    "from selenium.webdriver.common.by import By\n",
    "\n",
    "options = Options()\n",
    "options.add_argument('--headless')\n",
    "\n",
    "# logging.basicConfig(level=logging.INFO)\n",
    "log = logging.getLogger()\n",
    "\n",
    "def did_you_mean(query, source_language=\"auto\"):\n",
    "    \"\"\"\n",
    "    Spell-checks a sentence.\n",
    "\n",
    "    :param query: an input sentence to spellcheck.\n",
    "    :param source_language: a specific language to translate from. Defaults to automated language detection.\n",
    "\n",
    "    :return: the query after applying suggestions, or unmodified if none is found.\n",
    "    \"\"\"\n",
    "\n",
    "    driver = webdriver.Chrome(options=options)\n",
    "    query = str(query).strip()\n",
    "    url = \"https://translate.google.com/#view=home&op=translate&sl=%s&tl=en&text=\" % source_language + quote(query)\n",
    "\n",
    "    driver.get(url)\n",
    "    # log.debug(driver.execute_script(\"return document.documentElement.outerHTML;\"))\n",
    "    div = driver.find_element(By.ID, \"spelling-correction\")\n",
    "    log.info(\"<div>: [%s]\" % div.get_attribute('innerHTML'))\n",
    "    try:\n",
    "        a = div.find_element_by_tag_name(\"a\")\n",
    "        a_html = a.get_attribute('innerHTML')\n",
    "        log.info(\"<a>: [%s]\" % a_html)\n",
    "        if len(a_html):\n",
    "            div = a\n",
    "    except NoSuchElementException:\n",
    "        pass\n",
    "    suggestion = div.text.replace(\"Did you mean:\", \"\").strip()\n",
    "    log.info(\"Suggestion: %s\" % suggestion)\n",
    "    return suggestion if len(suggestion) else query"
   ]
  },
  {
   "cell_type": "code",
   "execution_count": 22,
   "id": "79c37bf0",
   "metadata": {},
   "outputs": [
    {
     "data": {
      "text/plain": [
       "'Colet example, and SA sported ronals Gentl Twitte festive) efetive mary m vice and ng book greet gr energ and ww. wheredar exampl as captured wellin GEN, BARRY B. MCCAFFREY, USA REE WONEN Schwarzkopf *** Life Lessons of The BEAR by GUS LEE Best-selling author of Courage: The Backbone of Leadership'"
      ]
     },
     "execution_count": 22,
     "metadata": {},
     "output_type": "execute_result"
    }
   ],
   "source": [
    "X_train[0]"
   ]
  },
  {
   "cell_type": "code",
   "execution_count": 23,
   "id": "6c6e00e6",
   "metadata": {},
   "outputs": [
    {
     "ename": "NoSuchElementException",
     "evalue": "Message: no such element: Unable to locate element: {\"method\":\"css selector\",\"selector\":\"[id=\"spelling-correction\"]\"}\n  (Session info: headless chrome=114.0.5735.133); For documentation on this error, please visit: https://www.selenium.dev/documentation/webdriver/troubleshooting/errors#no-such-element-exception\nStacktrace:\n#0 0x56244c37d4e3 <unknown>\n#1 0x56244c0acc76 <unknown>\n#2 0x56244c0e8c96 <unknown>\n#3 0x56244c0e8dc1 <unknown>\n#4 0x56244c1227f4 <unknown>\n#5 0x56244c10803d <unknown>\n#6 0x56244c12030e <unknown>\n#7 0x56244c107de3 <unknown>\n#8 0x56244c0dd2dd <unknown>\n#9 0x56244c0de34e <unknown>\n#10 0x56244c33d3e4 <unknown>\n#11 0x56244c3413d7 <unknown>\n#12 0x56244c34bb20 <unknown>\n#13 0x56244c342023 <unknown>\n#14 0x56244c3101aa <unknown>\n#15 0x56244c3666b8 <unknown>\n#16 0x56244c366847 <unknown>\n#17 0x56244c376243 <unknown>\n#18 0x7f14b17beb43 <unknown>\n",
     "output_type": "error",
     "traceback": [
      "\u001b[0;31m---------------------------------------------------------------------------\u001b[0m",
      "\u001b[0;31mNoSuchElementException\u001b[0m                    Traceback (most recent call last)",
      "Cell \u001b[0;32mIn [23], line 1\u001b[0m\n\u001b[0;32m----> 1\u001b[0m \u001b[43mdid_you_mean\u001b[49m\u001b[43m(\u001b[49m\u001b[43mX_train\u001b[49m\u001b[43m[\u001b[49m\u001b[38;5;241;43m1\u001b[39;49m\u001b[43m]\u001b[49m\u001b[43m)\u001b[49m\n",
      "Cell \u001b[0;32mIn [20], line 32\u001b[0m, in \u001b[0;36mdid_you_mean\u001b[0;34m(query, source_language)\u001b[0m\n\u001b[1;32m     30\u001b[0m driver\u001b[38;5;241m.\u001b[39mget(url)\n\u001b[1;32m     31\u001b[0m \u001b[38;5;66;03m# log.debug(driver.execute_script(\"return document.documentElement.outerHTML;\"))\u001b[39;00m\n\u001b[0;32m---> 32\u001b[0m div \u001b[38;5;241m=\u001b[39m \u001b[43mdriver\u001b[49m\u001b[38;5;241;43m.\u001b[39;49m\u001b[43mfind_element\u001b[49m\u001b[43m(\u001b[49m\u001b[43mBy\u001b[49m\u001b[38;5;241;43m.\u001b[39;49m\u001b[43mID\u001b[49m\u001b[43m,\u001b[49m\u001b[43m \u001b[49m\u001b[38;5;124;43m\"\u001b[39;49m\u001b[38;5;124;43mspelling-correction\u001b[39;49m\u001b[38;5;124;43m\"\u001b[39;49m\u001b[43m)\u001b[49m\n\u001b[1;32m     33\u001b[0m log\u001b[38;5;241m.\u001b[39minfo(\u001b[38;5;124m\"\u001b[39m\u001b[38;5;124m<div>: [\u001b[39m\u001b[38;5;132;01m%s\u001b[39;00m\u001b[38;5;124m]\u001b[39m\u001b[38;5;124m\"\u001b[39m \u001b[38;5;241m%\u001b[39m div\u001b[38;5;241m.\u001b[39mget_attribute(\u001b[38;5;124m'\u001b[39m\u001b[38;5;124minnerHTML\u001b[39m\u001b[38;5;124m'\u001b[39m))\n\u001b[1;32m     34\u001b[0m \u001b[38;5;28;01mtry\u001b[39;00m:\n",
      "File \u001b[0;32m~/.pyenv/versions/3.10.6/envs/lewagon/lib/python3.10/site-packages/selenium/webdriver/remote/webdriver.py:740\u001b[0m, in \u001b[0;36mWebDriver.find_element\u001b[0;34m(self, by, value)\u001b[0m\n\u001b[1;32m    737\u001b[0m     by \u001b[38;5;241m=\u001b[39m By\u001b[38;5;241m.\u001b[39mCSS_SELECTOR\n\u001b[1;32m    738\u001b[0m     value \u001b[38;5;241m=\u001b[39m \u001b[38;5;124mf\u001b[39m\u001b[38;5;124m'\u001b[39m\u001b[38;5;124m[name=\u001b[39m\u001b[38;5;124m\"\u001b[39m\u001b[38;5;132;01m{\u001b[39;00mvalue\u001b[38;5;132;01m}\u001b[39;00m\u001b[38;5;124m\"\u001b[39m\u001b[38;5;124m]\u001b[39m\u001b[38;5;124m'\u001b[39m\n\u001b[0;32m--> 740\u001b[0m \u001b[38;5;28;01mreturn\u001b[39;00m \u001b[38;5;28;43mself\u001b[39;49m\u001b[38;5;241;43m.\u001b[39;49m\u001b[43mexecute\u001b[49m\u001b[43m(\u001b[49m\u001b[43mCommand\u001b[49m\u001b[38;5;241;43m.\u001b[39;49m\u001b[43mFIND_ELEMENT\u001b[49m\u001b[43m,\u001b[49m\u001b[43m \u001b[49m\u001b[43m{\u001b[49m\u001b[38;5;124;43m\"\u001b[39;49m\u001b[38;5;124;43musing\u001b[39;49m\u001b[38;5;124;43m\"\u001b[39;49m\u001b[43m:\u001b[49m\u001b[43m \u001b[49m\u001b[43mby\u001b[49m\u001b[43m,\u001b[49m\u001b[43m \u001b[49m\u001b[38;5;124;43m\"\u001b[39;49m\u001b[38;5;124;43mvalue\u001b[39;49m\u001b[38;5;124;43m\"\u001b[39;49m\u001b[43m:\u001b[49m\u001b[43m \u001b[49m\u001b[43mvalue\u001b[49m\u001b[43m}\u001b[49m\u001b[43m)\u001b[49m[\u001b[38;5;124m\"\u001b[39m\u001b[38;5;124mvalue\u001b[39m\u001b[38;5;124m\"\u001b[39m]\n",
      "File \u001b[0;32m~/.pyenv/versions/3.10.6/envs/lewagon/lib/python3.10/site-packages/selenium/webdriver/remote/webdriver.py:346\u001b[0m, in \u001b[0;36mWebDriver.execute\u001b[0;34m(self, driver_command, params)\u001b[0m\n\u001b[1;32m    344\u001b[0m response \u001b[38;5;241m=\u001b[39m \u001b[38;5;28mself\u001b[39m\u001b[38;5;241m.\u001b[39mcommand_executor\u001b[38;5;241m.\u001b[39mexecute(driver_command, params)\n\u001b[1;32m    345\u001b[0m \u001b[38;5;28;01mif\u001b[39;00m response:\n\u001b[0;32m--> 346\u001b[0m     \u001b[38;5;28;43mself\u001b[39;49m\u001b[38;5;241;43m.\u001b[39;49m\u001b[43merror_handler\u001b[49m\u001b[38;5;241;43m.\u001b[39;49m\u001b[43mcheck_response\u001b[49m\u001b[43m(\u001b[49m\u001b[43mresponse\u001b[49m\u001b[43m)\u001b[49m\n\u001b[1;32m    347\u001b[0m     response[\u001b[38;5;124m\"\u001b[39m\u001b[38;5;124mvalue\u001b[39m\u001b[38;5;124m\"\u001b[39m] \u001b[38;5;241m=\u001b[39m \u001b[38;5;28mself\u001b[39m\u001b[38;5;241m.\u001b[39m_unwrap_value(response\u001b[38;5;241m.\u001b[39mget(\u001b[38;5;124m\"\u001b[39m\u001b[38;5;124mvalue\u001b[39m\u001b[38;5;124m\"\u001b[39m, \u001b[38;5;28;01mNone\u001b[39;00m))\n\u001b[1;32m    348\u001b[0m     \u001b[38;5;28;01mreturn\u001b[39;00m response\n",
      "File \u001b[0;32m~/.pyenv/versions/3.10.6/envs/lewagon/lib/python3.10/site-packages/selenium/webdriver/remote/errorhandler.py:245\u001b[0m, in \u001b[0;36mErrorHandler.check_response\u001b[0;34m(self, response)\u001b[0m\n\u001b[1;32m    243\u001b[0m         alert_text \u001b[38;5;241m=\u001b[39m value[\u001b[38;5;124m\"\u001b[39m\u001b[38;5;124malert\u001b[39m\u001b[38;5;124m\"\u001b[39m]\u001b[38;5;241m.\u001b[39mget(\u001b[38;5;124m\"\u001b[39m\u001b[38;5;124mtext\u001b[39m\u001b[38;5;124m\"\u001b[39m)\n\u001b[1;32m    244\u001b[0m     \u001b[38;5;28;01mraise\u001b[39;00m exception_class(message, screen, stacktrace, alert_text)  \u001b[38;5;66;03m# type: ignore[call-arg]  # mypy is not smart enough here\u001b[39;00m\n\u001b[0;32m--> 245\u001b[0m \u001b[38;5;28;01mraise\u001b[39;00m exception_class(message, screen, stacktrace)\n",
      "\u001b[0;31mNoSuchElementException\u001b[0m: Message: no such element: Unable to locate element: {\"method\":\"css selector\",\"selector\":\"[id=\"spelling-correction\"]\"}\n  (Session info: headless chrome=114.0.5735.133); For documentation on this error, please visit: https://www.selenium.dev/documentation/webdriver/troubleshooting/errors#no-such-element-exception\nStacktrace:\n#0 0x56244c37d4e3 <unknown>\n#1 0x56244c0acc76 <unknown>\n#2 0x56244c0e8c96 <unknown>\n#3 0x56244c0e8dc1 <unknown>\n#4 0x56244c1227f4 <unknown>\n#5 0x56244c10803d <unknown>\n#6 0x56244c12030e <unknown>\n#7 0x56244c107de3 <unknown>\n#8 0x56244c0dd2dd <unknown>\n#9 0x56244c0de34e <unknown>\n#10 0x56244c33d3e4 <unknown>\n#11 0x56244c3413d7 <unknown>\n#12 0x56244c34bb20 <unknown>\n#13 0x56244c342023 <unknown>\n#14 0x56244c3101aa <unknown>\n#15 0x56244c3666b8 <unknown>\n#16 0x56244c366847 <unknown>\n#17 0x56244c376243 <unknown>\n#18 0x7f14b17beb43 <unknown>\n"
     ]
    }
   ],
   "source": [
    "did_you_mean(X_train[1])"
   ]
  },
  {
   "cell_type": "code",
   "execution_count": 32,
   "id": "ca42c1be",
   "metadata": {},
   "outputs": [
    {
     "data": {
      "text/plain": [
       "numpy.ndarray"
      ]
     },
     "execution_count": 32,
     "metadata": {},
     "output_type": "execute_result"
    }
   ],
   "source": [
    "type(X_test_pad[10])"
   ]
  },
  {
   "cell_type": "code",
   "execution_count": 34,
   "id": "21ee130e",
   "metadata": {},
   "outputs": [
    {
     "data": {
      "text/plain": [
       "(60,)"
      ]
     },
     "execution_count": 34,
     "metadata": {},
     "output_type": "execute_result"
    }
   ],
   "source": [
    "X_test_pad[10].shape"
   ]
  },
  {
   "cell_type": "code",
   "execution_count": 40,
   "id": "12256ec1",
   "metadata": {},
   "outputs": [],
   "source": [
    "input_sample = np.reshape(X_test_pad[10], (1, 60))"
   ]
  },
  {
   "cell_type": "code",
   "execution_count": 41,
   "id": "112172e7",
   "metadata": {},
   "outputs": [
    {
     "name": "stdout",
     "output_type": "stream",
     "text": [
      "1/1 [==============================] - 0s 17ms/step\n"
     ]
    },
    {
     "data": {
      "text/plain": [
       "array([[1.0171208e-10, 2.5049408e-06, 1.1682365e-06, 4.3379714e-12,\n",
       "        5.4545660e-11, 3.2455358e-11, 3.6580172e-10, 8.2595146e-12,\n",
       "        3.2490341e-08, 9.4794674e-04, 2.8215767e-12, 1.4276843e-01,\n",
       "        7.7457363e-10, 2.6433878e-07, 1.4791925e-08, 3.3638412e-07,\n",
       "        4.3764588e-04, 7.5999321e-07, 3.9532414e-01, 1.1573813e-04,\n",
       "        3.8469352e-07, 7.7600154e-04, 3.7985749e-06, 5.5556043e-08,\n",
       "        3.5050868e-11, 4.5565626e-01, 8.5859809e-12, 3.9596371e-03,\n",
       "        4.9694650e-06, 1.9614892e-15]], dtype=float32)"
      ]
     },
     "execution_count": 41,
     "metadata": {},
     "output_type": "execute_result"
    }
   ],
   "source": [
    "model_cnn.predict(input_sample)"
   ]
  },
  {
   "cell_type": "code",
   "execution_count": 12,
   "id": "471df74d",
   "metadata": {},
   "outputs": [],
   "source": [
    "from selenium import webdriver\n",
    "import chromedriver_binary\n",
    "\n",
    "driver = webdriver.Chrome()\n",
    "driver.get(\"https://recipes.lewagon.com/recipes/advanced\")"
   ]
  },
  {
   "cell_type": "code",
   "execution_count": null,
   "id": "75311172",
   "metadata": {},
   "outputs": [],
   "source": [
    "from math import log\n",
    "\n",
    "# Build a cost dictionary, assuming Zipf's law and cost = -math.log(probability).\n",
    "words = open(\"words-by-frequency.txt\").read().split()\n",
    "wordcost = dict((k, log((i+1)*log(len(words)))) for i,k in enumerate(words))\n",
    "maxword = max(len(x) for x in words)\n",
    "\n",
    "def infer_spaces(s):\n",
    "    \"\"\"Uses dynamic programming to infer the location of spaces in a string\n",
    "    without spaces.\"\"\"\n",
    "\n",
    "    # Find the best match for the i first characters, assuming cost has\n",
    "    # been built for the i-1 first characters.\n",
    "    # Returns a pair (match_cost, match_length).\n",
    "    def best_match(i):\n",
    "        candidates = enumerate(reversed(cost[max(0, i-maxword):i]))\n",
    "        return min((c + wordcost.get(s[i-k-1:i], 9e999), k+1) for k,c in candidates)\n",
    "\n",
    "    # Build the cost array.\n",
    "    cost = [0]\n",
    "    for i in range(1,len(s)+1):\n",
    "        c,k = best_match(i)\n",
    "        cost.append(c)\n",
    "\n",
    "    # Backtrack to recover the minimal-cost string.\n",
    "    out = []\n",
    "    i = len(s)\n",
    "    while i>0:\n",
    "        c,k = best_match(i)\n",
    "        assert c == cost[i]\n",
    "        out.append(s[i-k:i])\n",
    "        i -= k\n",
    "\n",
    "    return \" \".join(reversed(out))"
   ]
  },
  {
   "cell_type": "code",
   "execution_count": 47,
   "id": "a5c402f9",
   "metadata": {},
   "outputs": [],
   "source": [
    "def preprocessed_title_test(titles):\n",
    "    output = titles.str.lower()\n",
    "    output = output.apply(lambda x: \"\".join([i for i in x if i not in string.punctuation]))\n",
    "    output = output.apply(lambda x: \"\".join([i for i in x if i not in string.digits]))\n",
    "    output = output.apply(lambda x: re.split('\\W+', x))\n",
    "#     porter_stemmer = PorterStemmer()\n",
    "#     output = output.apply(lambda x: [porter_stemmer.stem(word) for word in x])\n",
    "#     stops = set(stopwords.words('english'))\n",
    "#     output = output.apply(lambda x: [word for word in x if word not in stops])\n",
    "\n",
    "    return output"
   ]
  },
  {
   "cell_type": "code",
   "execution_count": 10,
   "id": "ce15202a",
   "metadata": {},
   "outputs": [],
   "source": [
    "from spellchecker import SpellChecker"
   ]
  },
  {
   "cell_type": "code",
   "execution_count": 11,
   "id": "b44a588b",
   "metadata": {},
   "outputs": [],
   "source": [
    "spell = SpellChecker()"
   ]
  },
  {
   "cell_type": "code",
   "execution_count": 21,
   "id": "ee642402",
   "metadata": {},
   "outputs": [
    {
     "data": {
      "text/plain": [
       "{'carsten', \"ireland's\", 'krieger'}"
      ]
     },
     "execution_count": 21,
     "metadata": {},
     "output_type": "execute_result"
    }
   ],
   "source": [
    "misspelled = spell.unknown(X_train[9].split())\n",
    "misspelled"
   ]
  },
  {
   "cell_type": "code",
   "execution_count": 22,
   "id": "f5a1bab4",
   "metadata": {},
   "outputs": [
    {
     "name": "stdout",
     "output_type": "stream",
     "text": [
      "island's\n",
      "{'ireland', \"roland's\", \"island's\", \"leland's\"}\n",
      "trigger\n",
      "{'ringer', 'rigger', 'trigger', 'wringer', 'briefer', 'bringer'}\n",
      "cartel\n",
      "{'fasten', 'caster', 'austen', 'chasten', 'casted', 'cartel', 'larsen', 'carter', 'carted', 'kirsten', 'hasten', 'marten', 'carmen', 'castes', 'carte', 'oarsmen', 'careen', 'carson', 'christen', 'caste', 'carlton', 'carton'}\n"
     ]
    }
   ],
   "source": [
    "for word in misspelled:\n",
    "    # Get the one `most likely` answer\n",
    "    print(spell.correction(word))\n",
    "\n",
    "    # Get a list of `likely` options\n",
    "    print(spell.candidates(word))"
   ]
  },
  {
   "cell_type": "code",
   "execution_count": 56,
   "id": "bf92d9b2",
   "metadata": {},
   "outputs": [],
   "source": [
    "preproc = preprocessed_title_test(X_train[:10])"
   ]
  },
  {
   "cell_type": "code",
   "execution_count": 130,
   "id": "c4665798",
   "metadata": {},
   "outputs": [],
   "source": [
    "def spell_check(text):\n",
    "    spell = SpellChecker()\n",
    "    misspelled = spell.unknown(text)\n",
    "\n",
    "    fixed_words = []\n",
    "    for word in misspelled:\n",
    "        candidates = spell.candidates(word)\n",
    "        if candidates is not None and len(candidates) <= 5:\n",
    "            correction = spell.correction(word)\n",
    "            text = [correction if token == word else token for token in text]\n",
    "            fixed_words.append(word)\n",
    "\n",
    "    misspelled.difference_update(fixed_words)\n",
    "\n",
    "    text_copy = text.copy()\n",
    "    for i, word in enumerate(text_copy[:-1]):\n",
    "        if word in misspelled and text_copy[i+1] in misspelled:\n",
    "            combo_word = word + text_copy[i+1]\n",
    "            candidates = spell.candidates(combo_word)\n",
    "            if candidates is not None and len(candidates) <= 3:\n",
    "                text[i] = spell.correction(combo_word)\n",
    "                text[i+1] = \"\"\n",
    "\n",
    "    text = [word for word in text if word != \"\"]\n",
    "    return text"
   ]
  },
  {
   "cell_type": "code",
   "execution_count": 131,
   "id": "314ccb75",
   "metadata": {},
   "outputs": [
    {
     "data": {
      "text/plain": [
       "['comet',\n",
       " 'example',\n",
       " 'and',\n",
       " 'sa',\n",
       " 'sported',\n",
       " 'royals',\n",
       " 'gentle',\n",
       " 'twitter',\n",
       " 'festive',\n",
       " 'effective',\n",
       " 'mary',\n",
       " 'm',\n",
       " 'vice',\n",
       " 'and',\n",
       " 'ng',\n",
       " 'book',\n",
       " 'greet',\n",
       " 'gr',\n",
       " 'energy',\n",
       " 'and',\n",
       " 'ww',\n",
       " 'wherever',\n",
       " 'example',\n",
       " 'as',\n",
       " 'captured',\n",
       " 'welling',\n",
       " 'gen',\n",
       " 'barry',\n",
       " 'b',\n",
       " 'caffrey',\n",
       " 'usa',\n",
       " 'ree',\n",
       " 'women',\n",
       " 'schwarzkopf',\n",
       " 'life',\n",
       " 'lessons',\n",
       " 'of',\n",
       " 'the',\n",
       " 'bear',\n",
       " 'by',\n",
       " 'gus',\n",
       " 'lee',\n",
       " 'bestselling',\n",
       " 'author',\n",
       " 'of',\n",
       " 'courage',\n",
       " 'the',\n",
       " 'backbone',\n",
       " 'of',\n",
       " 'leadership']"
      ]
     },
     "execution_count": 131,
     "metadata": {},
     "output_type": "execute_result"
    }
   ],
   "source": [
    "spell_check(preproc[0])"
   ]
  },
  {
   "cell_type": "code",
   "execution_count": 132,
   "id": "a3c1e67f",
   "metadata": {},
   "outputs": [
    {
     "data": {
      "text/plain": [
       "['Colet',\n",
       " 'example,',\n",
       " 'and',\n",
       " 'SA',\n",
       " 'sported',\n",
       " 'ronals',\n",
       " 'Gentl',\n",
       " 'Twitte',\n",
       " 'festive)',\n",
       " 'efetive',\n",
       " 'mary',\n",
       " 'm',\n",
       " 'vice',\n",
       " 'and',\n",
       " 'ng',\n",
       " 'book',\n",
       " 'greet',\n",
       " 'gr',\n",
       " 'energ',\n",
       " 'and',\n",
       " 'ww.',\n",
       " 'wheredar',\n",
       " 'exampl',\n",
       " 'as',\n",
       " 'captured',\n",
       " 'wellin',\n",
       " 'GEN,',\n",
       " 'BARRY',\n",
       " 'B.',\n",
       " 'MCCAFFREY,',\n",
       " 'USA',\n",
       " 'REE',\n",
       " 'WONEN',\n",
       " 'Schwarzkopf',\n",
       " '***',\n",
       " 'Life',\n",
       " 'Lessons',\n",
       " 'of',\n",
       " 'The',\n",
       " 'BEAR',\n",
       " 'by',\n",
       " 'GUS',\n",
       " 'LEE',\n",
       " 'Best-selling',\n",
       " 'author',\n",
       " 'of',\n",
       " 'Courage:',\n",
       " 'The',\n",
       " 'Backbone',\n",
       " 'of',\n",
       " 'Leadership']"
      ]
     },
     "execution_count": 132,
     "metadata": {},
     "output_type": "execute_result"
    }
   ],
   "source": [
    "X_train[0].split()"
   ]
  },
  {
   "cell_type": "code",
   "execution_count": 44,
   "id": "2ba7a286",
   "metadata": {},
   "outputs": [],
   "source": [
    "train_file_path = '../../raw_data/tmp_data/y_train_umbr.npy'\n",
    "test_file_path = '../../raw_data/tmp_data/y_test_umbr.npy'\n",
    "y_train_um = np.load(train_file_path, allow_pickle=True)[:, 3].astype(int)\n",
    "y_test_um = np.load(test_file_path, allow_pickle=True)[:, 3].astype(int)"
   ]
  },
  {
   "cell_type": "code",
   "execution_count": 45,
   "id": "128953d2",
   "metadata": {},
   "outputs": [
    {
     "data": {
      "text/plain": [
       "(51300, 30)"
      ]
     },
     "execution_count": 45,
     "metadata": {},
     "output_type": "execute_result"
    }
   ],
   "source": [
    "y_train_cat_um = to_categorical(y_train_um, num_classes=30)\n",
    "y_test_cat_um = to_categorical(y_test_um, num_classes=30)\n",
    "y_train_cat_um.shape"
   ]
  },
  {
   "cell_type": "code",
   "execution_count": 46,
   "id": "add3eb17",
   "metadata": {},
   "outputs": [],
   "source": [
    "def initialize_model():\n",
    "    model = Sequential()\n",
    "    model.add(layers.Embedding(\n",
    "        input_dim=vocab_size+1, # 16 +1 for the 0 padding\n",
    "        output_dim=100,\n",
    "        input_length=60,\n",
    "        mask_zero=True, # Built-in masking layer :)\n",
    "    ))\n",
    "\n",
    "    model.add(layers.Conv1D(100, kernel_size=3))\n",
    "\n",
    "    model.add(layers.Flatten())\n",
    "    \n",
    "    model.add(layers.Dense(100, activation=\"relu\", kernel_regularizer=\"l2\"))\n",
    "    model.add(layers.Dropout(0.35))\n",
    "\n",
    "    model.add(layers.Dense(8, activation=\"softmax\"))\n",
    "\n",
    "    model.compile(loss=\"categorical_crossentropy\", optimizer=\"rmsprop\", metrics=[\"accuracy\"])\n",
    "\n",
    "    return model"
   ]
  },
  {
   "cell_type": "code",
   "execution_count": 47,
   "id": "8355e299",
   "metadata": {},
   "outputs": [
    {
     "name": "stdout",
     "output_type": "stream",
     "text": [
      "Epoch 1/1000\n",
      "2886/2886 [==============================] - 80s 28ms/step - loss: 1.7722 - accuracy: 0.3664 - val_loss: 1.5300 - val_accuracy: 0.4563\n",
      "Epoch 2/1000\n",
      "2886/2886 [==============================] - 77s 27ms/step - loss: 1.4186 - accuracy: 0.5419 - val_loss: 1.4191 - val_accuracy: 0.5101\n",
      "Epoch 3/1000\n",
      "2886/2886 [==============================] - 81s 28ms/step - loss: 1.2889 - accuracy: 0.6045 - val_loss: 1.4392 - val_accuracy: 0.5417\n",
      "Epoch 4/1000\n",
      "2886/2886 [==============================] - 82s 28ms/step - loss: 1.1943 - accuracy: 0.6551 - val_loss: 1.4103 - val_accuracy: 0.5770\n",
      "Epoch 5/1000\n",
      "2886/2886 [==============================] - 80s 28ms/step - loss: 1.0935 - accuracy: 0.7008 - val_loss: 1.4572 - val_accuracy: 0.5889\n",
      "Epoch 6/1000\n",
      "2886/2886 [==============================] - 78s 27ms/step - loss: 0.9906 - accuracy: 0.7408 - val_loss: 1.5721 - val_accuracy: 0.5827\n",
      "Epoch 7/1000\n",
      "2886/2886 [==============================] - 78s 27ms/step - loss: 0.8796 - accuracy: 0.7798 - val_loss: 1.6553 - val_accuracy: 0.5940\n",
      "Epoch 8/1000\n",
      "2886/2886 [==============================] - 76s 26ms/step - loss: 0.7727 - accuracy: 0.8166 - val_loss: 1.7054 - val_accuracy: 0.5979\n",
      "Epoch 9/1000\n",
      "2886/2886 [==============================] - 79s 27ms/step - loss: 0.6741 - accuracy: 0.8465 - val_loss: 1.8336 - val_accuracy: 0.5879\n",
      "Epoch 10/1000\n",
      "2886/2886 [==============================] - 72s 25ms/step - loss: 0.5898 - accuracy: 0.8704 - val_loss: 2.0853 - val_accuracy: 0.5429\n",
      "Epoch 11/1000\n",
      "2886/2886 [==============================] - 72s 25ms/step - loss: 0.5140 - accuracy: 0.8921 - val_loss: 2.2191 - val_accuracy: 0.5655\n",
      "Epoch 12/1000\n",
      "2886/2886 [==============================] - 72s 25ms/step - loss: 0.4486 - accuracy: 0.9093 - val_loss: 2.6804 - val_accuracy: 0.5327\n",
      "Epoch 13/1000\n",
      "2886/2886 [==============================] - 71s 25ms/step - loss: 0.4009 - accuracy: 0.9209 - val_loss: 2.6529 - val_accuracy: 0.5569\n",
      "The accuracy evaluated on the test set is of 3.789%\n"
     ]
    }
   ],
   "source": [
    "model_cnn = initialize_model()\n",
    "\n",
    "es = EarlyStopping(patience=5, restore_best_weights=True, monitor=\"val_accuracy\")\n",
    "\n",
    "history = model_cnn.fit(X_train_pad, y_train_cat_um,\n",
    "              epochs=1000,\n",
    "              batch_size=16,\n",
    "              validation_split=0.1,\n",
    "              callbacks=[es]\n",
    "             )\n",
    "\n",
    "\n",
    "res = model_cnn.evaluate(X_test_pad, y_test_cat_um, verbose=0)\n",
    "\n",
    "print(f'The accuracy evaluated on the test set is of {res[1]*100:.3f}%')"
   ]
  },
  {
   "cell_type": "code",
   "execution_count": 51,
   "id": "7343ddc9",
   "metadata": {},
   "outputs": [
    {
     "data": {
      "text/plain": [
       "56.70175552368164"
      ]
     },
     "execution_count": 51,
     "metadata": {},
     "output_type": "execute_result"
    }
   ],
   "source": [
    "res = model_cnn.evaluate(X_test_pad, y_test_cat_um, verbose=0)\n",
    "res[1]*100"
   ]
  },
  {
   "cell_type": "code",
   "execution_count": 52,
   "id": "965731d2",
   "metadata": {},
   "outputs": [
    {
     "data": {
      "text/plain": [
       "['../../models/cover_nlp_8.pkl']"
      ]
     },
     "execution_count": 52,
     "metadata": {},
     "output_type": "execute_result"
    }
   ],
   "source": [
    "dump(model_cnn, \"../../models/cover_nlp_8.pkl\")"
   ]
  },
  {
   "cell_type": "code",
   "execution_count": 6,
   "id": "81607cad",
   "metadata": {},
   "outputs": [],
   "source": [
    "train_file_path = '../../raw_data/tmp_data/y_train_umbr.npy'\n",
    "y_train_um = np.load(train_file_path, allow_pickle=True)"
   ]
  },
  {
   "cell_type": "code",
   "execution_count": 7,
   "id": "8768079f",
   "metadata": {},
   "outputs": [
    {
     "data": {
      "text/plain": [
       "array([[1, 'Biographies & Memoirs', 'History & Religion', 0],\n",
       "       [4, \"Children's Books\", 'Relationships & Children', 1],\n",
       "       [10, 'Engineering & Transportation', 'Academic - Science', 2],\n",
       "       ...,\n",
       "       [17, 'Mystery, Thriller & Suspense', 'Literature & Entertainment',\n",
       "        4],\n",
       "       [17, 'Mystery, Thriller & Suspense', 'Literature & Entertainment',\n",
       "        4],\n",
       "       [17, 'Mystery, Thriller & Suspense', 'Literature & Entertainment',\n",
       "        4]], dtype=object)"
      ]
     },
     "execution_count": 7,
     "metadata": {},
     "output_type": "execute_result"
    }
   ],
   "source": [
    "y_train_um"
   ]
  },
  {
   "cell_type": "code",
   "execution_count": 24,
   "id": "fb86b0e9",
   "metadata": {},
   "outputs": [],
   "source": [
    "dictionary = {}\n",
    "\n",
    "# Iterate over the array rows\n",
    "for row in y_train_um:\n",
    "    key = row[2]  # Value in column 3 as the key\n",
    "    value = row[1]  # Value in column 2 as the value\n",
    "    \n",
    "    if key in dictionary:\n",
    "        if value not in dictionary[key]:\n",
    "            dictionary[key].append(value)\n",
    "    else:\n",
    "        dictionary[key] = [value]"
   ]
  },
  {
   "cell_type": "code",
   "execution_count": 25,
   "id": "dfa18377",
   "metadata": {},
   "outputs": [
    {
     "data": {
      "text/plain": [
       "{'History & Religion': ['Biographies & Memoirs',\n",
       "  'Christian Books & Bibles',\n",
       "  'Religion & Spirituality',\n",
       "  'History'],\n",
       " 'Relationships & Children': [\"Children's Books\",\n",
       "  'Parenting & Relationships',\n",
       "  'Teen & Young Adult',\n",
       "  'Self-Help'],\n",
       " 'Academic - Science': ['Engineering & Transportation',\n",
       "  'Medical Books',\n",
       "  'Science & Math',\n",
       "  'Business & Money',\n",
       "  'Computers & Technology'],\n",
       " 'Lifestyle & Fitness': ['Sports & Outdoors',\n",
       "  'Health, Fitness & Dieting',\n",
       "  'Travel',\n",
       "  'Cookbooks, Food & Wine'],\n",
       " 'Academic - Humanities': ['Politics & Social Sciences', 'Law'],\n",
       " 'Arts & Hobbies': ['Crafts, Hobbies & Home',\n",
       "  'Arts & Photography',\n",
       "  'Comics & Graphic Novels',\n",
       "  'Calendars'],\n",
       " 'Literature & Entertainment': ['Literature & Fiction',\n",
       "  'Humor & Entertainment',\n",
       "  'Romance',\n",
       "  'Science Fiction & Fantasy',\n",
       "  'Mystery, Thriller & Suspense'],\n",
       " 'Academic - Pure': ['Test Preparation', 'Reference']}"
      ]
     },
     "execution_count": 25,
     "metadata": {},
     "output_type": "execute_result"
    }
   ],
   "source": [
    "dictionary"
   ]
  },
  {
   "cell_type": "code",
   "execution_count": 26,
   "id": "fd1b5a70",
   "metadata": {},
   "outputs": [],
   "source": [
    "num_dict = {}\n",
    "\n",
    "\n",
    "# Iterate over the array rows\n",
    "for row in y_train_um:\n",
    "    key = row[3]  # Value in column 3 as the key\n",
    "    value = row[0]  # Value in column 2 as the value\n",
    "    \n",
    "    if key in num_dict:\n",
    "        if value not in num_dict[key]:\n",
    "            num_dict[key].append(value)\n",
    "    else:\n",
    "        num_dict[key] = [value]"
   ]
  },
  {
   "cell_type": "code",
   "execution_count": 27,
   "id": "6676af07",
   "metadata": {},
   "outputs": [
    {
     "data": {
      "text/plain": [
       "{0: [1, 9, 21, 12],\n",
       " 1: [4, 18, 27, 25],\n",
       " 2: [10, 16, 23, 2, 6],\n",
       " 3: [26, 11, 29, 7],\n",
       " 5: [19, 14],\n",
       " 6: [8, 0, 5, 3],\n",
       " 4: [15, 13, 22, 24, 17],\n",
       " 7: [28, 20]}"
      ]
     },
     "execution_count": 27,
     "metadata": {},
     "output_type": "execute_result"
    }
   ],
   "source": [
    "num_dict"
   ]
  },
  {
   "cell_type": "code",
   "execution_count": 22,
   "id": "de15f999",
   "metadata": {},
   "outputs": [
    {
     "name": "stderr",
     "output_type": "stream",
     "text": [
      "2023-06-21 08:45:37.054202: I tensorflow/compiler/xla/stream_executor/cuda/cuda_gpu_executor.cc:982] could not open file to read NUMA node: /sys/bus/pci/devices/0000:01:00.0/numa_node\n",
      "Your kernel may have been built without NUMA support.\n",
      "2023-06-21 08:45:37.054782: W tensorflow/core/common_runtime/gpu/gpu_device.cc:1956] Cannot dlopen some GPU libraries. Please make sure the missing libraries mentioned above are installed properly if you would like to use GPU. Follow the guide at https://www.tensorflow.org/install/gpu for how to download and setup the required libraries for your platform.\n",
      "Skipping registering GPU devices...\n"
     ]
    }
   ],
   "source": [
    "model_30 = load(\"../../models/cover_nlp.pkl\")\n",
    "model_8 = load(\"../../models/cover_nlp_8.pkl\")"
   ]
  },
  {
   "cell_type": "code",
   "execution_count": 166,
   "id": "d48b515a",
   "metadata": {},
   "outputs": [],
   "source": [
    "def top_k_argmax(array, k):\n",
    "    indexes = np.argpartition(array, -k)[-k:]\n",
    "    sorted_indexes = indexes[np.argsort(array[indexes])][::-1]\n",
    "    return sorted_indexes\n",
    "\n",
    "def top_k_multiline(array, k):\n",
    "    results = []\n",
    "    for line in array:\n",
    "        results.append(top_k_argmax(line, k))\n",
    "    return np.array(results)"
   ]
  },
  {
   "cell_type": "code",
   "execution_count": 189,
   "id": "67ad8bab",
   "metadata": {},
   "outputs": [],
   "source": [
    "def compound_pred(model_8, model_30, X, mapping):\n",
    "    pred_8 = np.argmax(model_8.predict(X), axis=1)\n",
    "    pred_30 = top_k_multiline(model_30.predict(X), 10)\n",
    "    y_pred = []\n",
    "    for i, prediction in enumerate(pred_30):\n",
    "        found_match = False\n",
    "        for element in prediction:\n",
    "            if element in mapping[pred_8[i]]:\n",
    "                y_pred.append(element)\n",
    "                found_match = True\n",
    "                break\n",
    "        if not found_match:\n",
    "            y_pred.append(prediction[0])\n",
    "    return np.array(y_pred)\n",
    "    "
   ]
  },
  {
   "cell_type": "code",
   "execution_count": 190,
   "id": "79a91539",
   "metadata": {},
   "outputs": [
    {
     "name": "stdout",
     "output_type": "stream",
     "text": [
      "179/179 [==============================] - 0s 3ms/step\n"
     ]
    },
    {
     "data": {
      "text/plain": [
       "array([2, 7, 4, 0, 2, 4, 1, 5, 6, 4, 1, 5, 4, 1, 0, 1, 3, 2, 3, 4, 6, 2,\n",
       "       0, 6, 5, 6, 4, 4, 6, 4, 4, 0, 3, 2, 6, 4, 4, 0, 2, 0, 1, 6, 1, 5,\n",
       "       1, 2, 2, 0, 3, 6, 1, 3, 6, 0, 0, 0, 6, 1, 1, 0, 5, 4, 3, 3, 6, 1,\n",
       "       5, 1, 2, 6, 4, 3, 2, 6, 0, 5, 3, 0, 3, 4, 3, 3, 0, 6, 2, 2, 1, 4,\n",
       "       5, 6, 0, 7, 1, 5, 5, 2, 1, 7, 0, 0])"
      ]
     },
     "execution_count": 190,
     "metadata": {},
     "output_type": "execute_result"
    }
   ],
   "source": [
    "np.argmax(model_8.predict(X_test_pad), axis=1)[:100]"
   ]
  },
  {
   "cell_type": "code",
   "execution_count": 191,
   "id": "ec9c544b",
   "metadata": {},
   "outputs": [
    {
     "name": "stdout",
     "output_type": "stream",
     "text": [
      "179/179 [==============================] - 0s 3ms/step\n",
      "179/179 [==============================] - 1s 3ms/step\n"
     ]
    }
   ],
   "source": [
    "y_pred = compound_pred(model_8, model_30, X_test_pad, num_dict)"
   ]
  },
  {
   "cell_type": "code",
   "execution_count": 192,
   "id": "e10f4f96",
   "metadata": {},
   "outputs": [
    {
     "data": {
      "text/plain": [
       "array([16, 28, 13, 21, 23, 24, 25, 19,  5, 13, 25, 14, 13, 25,  1, 18,  7,\n",
       "        6,  7, 13, 12,  2, 12,  3, 14,  8, 13, 22,  5, 24,  2, 12, 29,  6,\n",
       "        9, 15, 13,  1,  6, 21,  4,  0,  4, 19, 25, 23,  4,  9,  7,  0, 27,\n",
       "        7,  8, 21, 12,  1,  8, 27, 25, 21, 14, 13, 26, 29,  5, 25, 19, 27,\n",
       "       16,  8, 13, 29,  6,  8,  1, 19,  7, 12, 11, 13, 29, 11, 12,  8, 16,\n",
       "        2,  4, 15, 19,  8,  9, 20, 27, 14, 14, 10,  4, 28,  9, 21])"
      ]
     },
     "execution_count": 192,
     "metadata": {},
     "output_type": "execute_result"
    }
   ],
   "source": [
    "y_pred[:100]"
   ]
  },
  {
   "cell_type": "code",
   "execution_count": 193,
   "id": "fe5dcfc7",
   "metadata": {},
   "outputs": [
    {
     "data": {
      "text/plain": [
       "(5700,)"
      ]
     },
     "execution_count": 193,
     "metadata": {},
     "output_type": "execute_result"
    }
   ],
   "source": [
    "y_test.shape"
   ]
  },
  {
   "cell_type": "code",
   "execution_count": 194,
   "id": "b5952ade",
   "metadata": {},
   "outputs": [
    {
     "data": {
      "text/plain": [
       "0.39473684210526316"
      ]
     },
     "execution_count": 194,
     "metadata": {},
     "output_type": "execute_result"
    }
   ],
   "source": [
    "accuracy_score(y_test, y_pred)"
   ]
  },
  {
   "cell_type": "code",
   "execution_count": null,
   "id": "1840b503",
   "metadata": {},
   "outputs": [],
   "source": []
  },
  {
   "cell_type": "code",
   "execution_count": null,
   "id": "e778e596",
   "metadata": {},
   "outputs": [],
   "source": []
  }
 ],
 "metadata": {
  "kernelspec": {
   "display_name": "Python 3 (ipykernel)",
   "language": "python",
   "name": "python3"
  },
  "language_info": {
   "codemirror_mode": {
    "name": "ipython",
    "version": 3
   },
   "file_extension": ".py",
   "mimetype": "text/x-python",
   "name": "python",
   "nbconvert_exporter": "python",
   "pygments_lexer": "ipython3",
   "version": "3.10.6"
  },
  "toc": {
   "base_numbering": 1,
   "nav_menu": {},
   "number_sections": true,
   "sideBar": true,
   "skip_h1_title": false,
   "title_cell": "Table of Contents",
   "title_sidebar": "Contents",
   "toc_cell": false,
   "toc_position": {},
   "toc_section_display": true,
   "toc_window_display": false
  }
 },
 "nbformat": 4,
 "nbformat_minor": 5
}

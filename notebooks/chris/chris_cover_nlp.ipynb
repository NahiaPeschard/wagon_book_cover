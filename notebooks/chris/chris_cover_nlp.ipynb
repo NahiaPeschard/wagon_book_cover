{
 "cells": [
  {
   "cell_type": "code",
   "execution_count": 1,
   "id": "c35545b1",
   "metadata": {},
   "outputs": [
    {
     "name": "stderr",
     "output_type": "stream",
     "text": [
      "2023-06-20 13:03:17.398634: I tensorflow/tsl/cuda/cudart_stub.cc:28] Could not find cuda drivers on your machine, GPU will not be used.\n",
      "2023-06-20 13:03:17.589016: I tensorflow/tsl/cuda/cudart_stub.cc:28] Could not find cuda drivers on your machine, GPU will not be used.\n",
      "2023-06-20 13:03:17.590811: I tensorflow/core/platform/cpu_feature_guard.cc:182] This TensorFlow binary is optimized to use available CPU instructions in performance-critical operations.\n",
      "To enable the following instructions: AVX2 FMA, in other operations, rebuild TensorFlow with the appropriate compiler flags.\n",
      "2023-06-20 13:03:20.939871: W tensorflow/compiler/tf2tensorrt/utils/py_utils.cc:38] TF-TRT Warning: Could not find TensorRT\n"
     ]
    }
   ],
   "source": [
    "import pandas as pd\n",
    "import numpy as np\n",
    "import matplotlib.pyplot as plt\n",
    "from PIL import Image\n",
    "import os\n",
    "import re\n",
    "\n",
    "import string\n",
    "\n",
    "from sklearn.pipeline import Pipeline\n",
    "from sklearn.base import BaseEstimator, TransformerMixin\n",
    "from sklearn.compose import ColumnTransformer\n",
    "from sklearn.preprocessing import MinMaxScaler\n",
    "from sklearn.model_selection import cross_validate\n",
    "from sklearn.metrics import top_k_accuracy_score\n",
    "from textblob import TextBlob \n",
    "from textblob import Word\n",
    "\n",
    "import tensorflow as tf\n",
    "from tensorflow.keras.preprocessing.text import Tokenizer\n",
    "from tensorflow.keras.preprocessing.sequence import pad_sequences\n",
    "from tensorflow.keras import layers, Sequential\n",
    "from tensorflow.keras.callbacks import EarlyStopping\n",
    "from tensorflow.keras.utils import to_categorical\n",
    "\n",
    "from langdetect import detect\n",
    "from deep_translator import GoogleTranslator  \n",
    "\n",
    "from nltk.stem.porter import PorterStemmer\n",
    "from nltk.corpus import stopwords"
   ]
  },
  {
   "cell_type": "code",
   "execution_count": 2,
   "id": "e39cb849",
   "metadata": {},
   "outputs": [
    {
     "name": "stderr",
     "output_type": "stream",
     "text": [
      "[nltk_data] Downloading package punkt to /home/chris/nltk_data...\n",
      "[nltk_data]   Package punkt is already up-to-date!\n",
      "[nltk_data] Downloading package averaged_perceptron_tagger to\n",
      "[nltk_data]     /home/chris/nltk_data...\n",
      "[nltk_data]   Package averaged_perceptron_tagger is already up-to-\n",
      "[nltk_data]       date!\n",
      "[nltk_data] Downloading package maxent_ne_chunker to\n",
      "[nltk_data]     /home/chris/nltk_data...\n",
      "[nltk_data]   Package maxent_ne_chunker is already up-to-date!\n",
      "[nltk_data] Downloading package words to /home/chris/nltk_data...\n",
      "[nltk_data]   Package words is already up-to-date!\n",
      "[nltk_data] Downloading package stopwords to /home/chris/nltk_data...\n",
      "[nltk_data]   Package stopwords is already up-to-date!\n"
     ]
    }
   ],
   "source": [
    "import nltk\n",
    "\n",
    "nltk.download('punkt')\n",
    "nltk.download('averaged_perceptron_tagger')\n",
    "nltk.download('maxent_ne_chunker')\n",
    "nltk.download('words')\n",
    "nltk.download('stopwords')\n",
    "\n",
    "from nltk import ne_chunk, pos_tag, word_tokenize\n",
    "from nltk.tree import Tree"
   ]
  },
  {
   "cell_type": "code",
   "execution_count": null,
   "id": "262f4727",
   "metadata": {},
   "outputs": [],
   "source": []
  },
  {
   "cell_type": "code",
   "execution_count": 3,
   "id": "7f11c3b5",
   "metadata": {},
   "outputs": [],
   "source": [
    "def plot_history(history, title='', axs=None, exp_name=\"\"):\n",
    "    if axs is not None:\n",
    "        ax1, ax2 = axs\n",
    "    else:\n",
    "        f, (ax1, ax2) = plt.subplots(1, 2, figsize=(12, 4))\n",
    "\n",
    "    if len(exp_name) > 0 and exp_name[0] != '_':\n",
    "        exp_name = '_' + exp_name\n",
    "    ax1.plot(history.history['loss'], label = 'train' + exp_name)\n",
    "    ax1.plot(history.history['val_loss'], label = 'val' + exp_name)\n",
    "    ax1.set_ylim(0., 3)\n",
    "    ax1.set_title('loss')\n",
    "    ax1.legend()\n",
    "\n",
    "    ax2.plot(history.history['accuracy'], label='train accuracy'  + exp_name)\n",
    "    ax2.plot(history.history['val_accuracy'], label='val accuracy'  + exp_name)\n",
    "    ax2.set_ylim(0., 1.0)\n",
    "    ax2.set_title('Accuracy')\n",
    "    ax2.legend()\n",
    "    return (ax1, ax2)"
   ]
  },
  {
   "cell_type": "code",
   "execution_count": 4,
   "id": "786b495e",
   "metadata": {},
   "outputs": [],
   "source": [
    "X_train = pd.read_csv(\"../../raw_data/titles_train.csv\")[\"translated_title\"].astype(str)\n",
    "y_train = pd.read_csv(\"../../raw_data/train_y.csv\", delimiter=\" \", index_col=\"Id\")['Genre_id']\n",
    "X_test = pd.read_csv(\"../../raw_data/titles_test.csv\")[\"translated_title\"].astype(str)\n",
    "y_test = pd.read_csv(\"../../raw_data/test_y.csv\", delimiter=\" \", index_col=\"Id\")['Genre_id']"
   ]
  },
  {
   "cell_type": "code",
   "execution_count": 5,
   "id": "abad5d8b",
   "metadata": {},
   "outputs": [
    {
     "data": {
      "text/plain": [
       "0    Colet example, and SA sported ronals Gentl Twi...\n",
       "1               Maghets Pulling Together Pushing Apart\n",
       "2    ENERGY SECURITY VOLUME SAGE LIBRARY OF INTERNA...\n",
       "3    AUDIOBOOK MP3-CD Insert Transfer Listen! TREES...\n",
       "4         City of Rocks Idaho A Climber's Guide untale\n",
       "5    HOW TO BEAT INSOMNIA MARIANO CHOLIZ MONTANES T...\n",
       "6    JOHN MARTIN LITTLEJOHN by John Den AN ENIGMA O...\n",
       "7                   CH EMISTRY De Molar ata Silberberg\n",
       "8    Mosby's ONCOLOGY NURSING ADVISOR A Comprehensi...\n",
       "9          IRELAND'S WILD ATLANTIC WAY Carsten Krieger\n",
       "Name: translated_title, dtype: object"
      ]
     },
     "execution_count": 5,
     "metadata": {},
     "output_type": "execute_result"
    }
   ],
   "source": [
    "X_train.head(10)"
   ]
  },
  {
   "cell_type": "code",
   "execution_count": 6,
   "id": "f10b0850",
   "metadata": {},
   "outputs": [],
   "source": [
    "def preprocessed_title(titles):\n",
    "    output = titles.str.lower()\n",
    "    output = output.apply(lambda x: \"\".join([i for i in x if i not in string.punctuation]))\n",
    "    output = output.apply(lambda x: \"\".join([i for i in x if i not in string.digits]))\n",
    "    output = output.apply(lambda x: re.split('\\W+', x))\n",
    "    #output = output.apply(lambda x: [str(TextBlob(word).correct()) for word in x])\n",
    "    porter_stemmer = PorterStemmer()\n",
    "    output = output.apply(lambda x: [porter_stemmer.stem(word) for word in x])\n",
    "    stops = set(stopwords.words('english'))\n",
    "    output = output.apply(lambda x: [word for word in x if word not in stops])\n",
    "    output = output.apply(lambda x: [word for word in x if len(word) > 2])\n",
    "\n",
    "    return output"
   ]
  },
  {
   "cell_type": "code",
   "execution_count": 7,
   "id": "0b9ff043",
   "metadata": {},
   "outputs": [],
   "source": [
    "X_train_preproc = preprocessed_title(X_train)\n",
    "X_test_preproc= preprocessed_title(X_test)"
   ]
  },
  {
   "cell_type": "code",
   "execution_count": 8,
   "id": "c4898e33",
   "metadata": {},
   "outputs": [],
   "source": [
    "tokenizer = Tokenizer()\n",
    "tokenizer.fit_on_texts(X_train_preproc)\n",
    "\n",
    "X_train_token = tokenizer.texts_to_sequences(X_train_preproc)\n",
    "X_test_token = tokenizer.texts_to_sequences(X_test_preproc)"
   ]
  },
  {
   "cell_type": "code",
   "execution_count": 9,
   "id": "ff19ee9b",
   "metadata": {},
   "outputs": [
    {
     "data": {
      "text/plain": [
       "(51300, 60)"
      ]
     },
     "execution_count": 9,
     "metadata": {},
     "output_type": "execute_result"
    }
   ],
   "source": [
    "X_train_pad = pad_sequences(X_train_token, dtype='float32', padding='post', value=0, maxlen=60)\n",
    "X_test_pad = pad_sequences(X_test_token, dtype='float32', padding='post', value=0, maxlen=60)\n",
    "X_train_pad.shape"
   ]
  },
  {
   "cell_type": "code",
   "execution_count": 10,
   "id": "43d92c37",
   "metadata": {},
   "outputs": [
    {
     "data": {
      "text/plain": [
       "(51300, 30)"
      ]
     },
     "execution_count": 10,
     "metadata": {},
     "output_type": "execute_result"
    }
   ],
   "source": [
    "y_train_cat = to_categorical(y_train, num_classes=30)\n",
    "y_test_cat = to_categorical(y_test, num_classes=30)\n",
    "y_train_cat.shape"
   ]
  },
  {
   "cell_type": "code",
   "execution_count": 11,
   "id": "4f7ba38d",
   "metadata": {},
   "outputs": [
    {
     "data": {
      "text/plain": [
       "90148"
      ]
     },
     "execution_count": 11,
     "metadata": {},
     "output_type": "execute_result"
    }
   ],
   "source": [
    "vocab_size = len(tokenizer.word_counts)\n",
    "vocab_size"
   ]
  },
  {
   "cell_type": "code",
   "execution_count": 12,
   "id": "22755161",
   "metadata": {},
   "outputs": [],
   "source": [
    "def initialize_model():\n",
    "    model = Sequential()\n",
    "    model.add(layers.Embedding(\n",
    "        input_dim=vocab_size+1, # 16 +1 for the 0 padding\n",
    "        output_dim=200,\n",
    "        input_length=60,\n",
    "        mask_zero=True, # Built-in masking layer :)\n",
    "    ))\n",
    "\n",
    "    model.add(layers.Conv1D(100, kernel_size=3))\n",
    "\n",
    "    model.add(layers.Flatten())\n",
    "    \n",
    "    model.add(layers.Dense(100, activation=\"relu\", kernel_regularizer=\"l2\"))\n",
    "    model.add(layers.Dropout(0.30))\n",
    "\n",
    "    model.add(layers.Dense(30, activation=\"softmax\"))\n",
    "\n",
    "    model.compile(loss=\"categorical_crossentropy\", optimizer=\"rmsprop\", metrics=[\"accuracy\"])\n",
    "\n",
    "    return model"
   ]
  },
  {
   "cell_type": "code",
   "execution_count": 13,
   "id": "916e6953",
   "metadata": {},
   "outputs": [
    {
     "name": "stderr",
     "output_type": "stream",
     "text": [
      "2023-06-20 13:03:49.509382: I tensorflow/compiler/xla/stream_executor/cuda/cuda_gpu_executor.cc:982] could not open file to read NUMA node: /sys/bus/pci/devices/0000:01:00.0/numa_node\n",
      "Your kernel may have been built without NUMA support.\n",
      "2023-06-20 13:03:49.510165: W tensorflow/core/common_runtime/gpu/gpu_device.cc:1956] Cannot dlopen some GPU libraries. Please make sure the missing libraries mentioned above are installed properly if you would like to use GPU. Follow the guide at https://www.tensorflow.org/install/gpu for how to download and setup the required libraries for your platform.\n",
      "Skipping registering GPU devices...\n",
      "2023-06-20 13:03:49.617162: W tensorflow/tsl/framework/cpu_allocator_impl.cc:83] Allocation of 72119200 exceeds 10% of free system memory.\n",
      "2023-06-20 13:03:49.685170: W tensorflow/tsl/framework/cpu_allocator_impl.cc:83] Allocation of 72119200 exceeds 10% of free system memory.\n",
      "2023-06-20 13:03:49.807257: W tensorflow/tsl/framework/cpu_allocator_impl.cc:83] Allocation of 72119200 exceeds 10% of free system memory.\n"
     ]
    },
    {
     "name": "stdout",
     "output_type": "stream",
     "text": [
      "Epoch 1/1000\n"
     ]
    },
    {
     "name": "stderr",
     "output_type": "stream",
     "text": [
      "2023-06-20 13:03:50.352591: W tensorflow/tsl/framework/cpu_allocator_impl.cc:83] Allocation of 72119200 exceeds 10% of free system memory.\n",
      "2023-06-20 13:03:51.196774: W tensorflow/tsl/framework/cpu_allocator_impl.cc:83] Allocation of 72119200 exceeds 10% of free system memory.\n"
     ]
    },
    {
     "name": "stdout",
     "output_type": "stream",
     "text": [
      "2886/2886 [==============================] - 190s 65ms/step - loss: 3.0985 - accuracy: 0.1241 - val_loss: 2.9130 - val_accuracy: 0.1561\n",
      "Epoch 2/1000\n",
      "2886/2886 [==============================] - 130s 45ms/step - loss: 2.6112 - accuracy: 0.2709 - val_loss: 2.5928 - val_accuracy: 0.2667\n",
      "Epoch 3/1000\n",
      "2886/2886 [==============================] - 135s 47ms/step - loss: 2.3173 - accuracy: 0.3821 - val_loss: 2.5322 - val_accuracy: 0.3084\n",
      "Epoch 4/1000\n",
      "2886/2886 [==============================] - 143s 50ms/step - loss: 2.1042 - accuracy: 0.4579 - val_loss: 2.6428 - val_accuracy: 0.3224\n",
      "Epoch 5/1000\n",
      "2886/2886 [==============================] - 131s 46ms/step - loss: 1.9162 - accuracy: 0.5204 - val_loss: 2.8114 - val_accuracy: 0.3423\n",
      "Epoch 6/1000\n",
      "2886/2886 [==============================] - 131s 46ms/step - loss: 1.7296 - accuracy: 0.5813 - val_loss: 2.9315 - val_accuracy: 0.3774\n",
      "Epoch 7/1000\n",
      "2886/2886 [==============================] - 131s 45ms/step - loss: 1.5475 - accuracy: 0.6349 - val_loss: 3.1275 - val_accuracy: 0.3899\n",
      "Epoch 8/1000\n",
      "2886/2886 [==============================] - 131s 46ms/step - loss: 1.3670 - accuracy: 0.6878 - val_loss: 3.1554 - val_accuracy: 0.4012\n",
      "Epoch 9/1000\n",
      "2886/2886 [==============================] - 132s 46ms/step - loss: 1.2114 - accuracy: 0.7300 - val_loss: 3.6283 - val_accuracy: 0.3778\n",
      "Epoch 10/1000\n",
      "2886/2886 [==============================] - 132s 46ms/step - loss: 1.0787 - accuracy: 0.7626 - val_loss: 4.1023 - val_accuracy: 0.3571\n",
      "Epoch 11/1000\n",
      "2886/2886 [==============================] - 131s 45ms/step - loss: 0.9735 - accuracy: 0.7934 - val_loss: 4.5560 - val_accuracy: 0.3493\n",
      "Epoch 12/1000\n",
      "2886/2886 [==============================] - 132s 46ms/step - loss: 0.8793 - accuracy: 0.8163 - val_loss: 4.5555 - val_accuracy: 0.3575\n",
      "Epoch 13/1000\n",
      "2886/2886 [==============================] - 131s 45ms/step - loss: 0.8030 - accuracy: 0.8344 - val_loss: 4.9482 - val_accuracy: 0.3526\n",
      "The accuracy evaluated on the test set is of 39.246%\n"
     ]
    }
   ],
   "source": [
    "model_cnn = initialize_model()\n",
    "\n",
    "es = EarlyStopping(patience=5, restore_best_weights=True, monitor=\"val_accuracy\")\n",
    "\n",
    "history = model_cnn.fit(X_train_pad, y_train_cat,\n",
    "              epochs=1000,\n",
    "              batch_size=16,\n",
    "              validation_split=0.1,\n",
    "              callbacks=[es]\n",
    "             )\n",
    "\n",
    "\n",
    "res = model_cnn.evaluate(X_test_pad, y_test_cat, verbose=0)\n",
    "\n",
    "print(f'The accuracy evaluated on the test set is of {res[1]*100:.3f}%')"
   ]
  },
  {
   "cell_type": "code",
   "execution_count": 14,
   "id": "3fea7c34",
   "metadata": {},
   "outputs": [
    {
     "data": {
      "text/plain": [
       "(<AxesSubplot:title={'center':'loss'}>,\n",
       " <AxesSubplot:title={'center':'Accuracy'}>)"
      ]
     },
     "execution_count": 14,
     "metadata": {},
     "output_type": "execute_result"
    },
    {
     "data": {
      "image/png": "[encoded data removed]",
      "text/plain": [
       "<Figure size 1200x400 with 2 Axes>"
      ]
     },
     "metadata": {},
     "output_type": "display_data"
    }
   ],
   "source": [
    "plot_history(history)"
   ]
  },
  {
   "cell_type": "code",
   "execution_count": 17,
   "id": "88b19623",
   "metadata": {},
   "outputs": [
    {
     "name": "stdout",
     "output_type": "stream",
     "text": [
      "179/179 [==============================] - 1s 4ms/step\n"
     ]
    }
   ],
   "source": [
    "y_pred_full = model_cnn.predict(X_test_pad)\n",
    "y_pred = np.argmax(y_pred_full, axis=1)"
   ]
  },
  {
   "cell_type": "code",
   "execution_count": 18,
   "id": "db151553",
   "metadata": {},
   "outputs": [
    {
     "name": "stdout",
     "output_type": "stream",
     "text": [
      "Top 3 accuracy: 58.33%\n"
     ]
    }
   ],
   "source": [
    "top_k_accuracy = top_k_accuracy_score(y_test, y_pred_full, k=3)\n",
    "print(f'Top 3 accuracy: {top_k_accuracy*100:.2f}%')"
   ]
  },
  {
   "cell_type": "code",
   "execution_count": null,
   "id": "0de0b8ae",
   "metadata": {},
   "outputs": [],
   "source": []
  },
  {
   "cell_type": "code",
   "execution_count": null,
   "id": "2086be3e",
   "metadata": {},
   "outputs": [],
   "source": [
    "text = X_train[0]"
   ]
  },
  {
   "cell_type": "code",
   "execution_count": null,
   "id": "bf2dd394",
   "metadata": {},
   "outputs": [],
   "source": [
    "nltk_results = ne_chunk(pos_tag(word_tokenize(text)))\n",
    "for nltk_result in nltk_results:\n",
    "\n",
    "    if isinstance(nltk_result, nltk.Tree):\n",
    "        name = ''\n",
    "        type(nltk_result)\n",
    "        for nltk_result_leaf in nltk_result.leaves():\n",
    "            name += nltk_result_leaf[0] + ' '\n",
    "        print ('Type: ', nltk_result.label(), 'Name: ', name)"
   ]
  },
  {
   "cell_type": "code",
   "execution_count": 143,
   "id": "4ba18085",
   "metadata": {},
   "outputs": [
    {
     "data": {
      "image/svg+xml": [
       "<svg baseProfile=\"full\" height=\"168px\" preserveAspectRatio=\"xMidYMid meet\" style=\"font-family: times, serif; font-weight:normal; font-style: normal; font-size: 16px;\" version=\"1.1\" viewBox=\"0,0,3400.0,168.0\" width=\"3400px\" xmlns=\"http://www.w3.org/2000/svg\" xmlns:ev=\"http://www.w3.org/2001/xml-events\" xmlns:xlink=\"http://www.w3.org/1999/xlink\"><defs /><svg width=\"100%\" x=\"0\" y=\"0em\"><defs /><text text-anchor=\"middle\" x=\"50%\" y=\"1em\">S</text></svg><svg width=\"1.64706%\" x=\"0%\" y=\"3em\"><defs /><svg width=\"100%\" x=\"0\" y=\"0em\"><defs /><text text-anchor=\"middle\" x=\"50%\" y=\"1em\">GPE</text></svg><svg width=\"100%\" x=\"0%\" y=\"3em\"><defs /><svg width=\"100%\" x=\"0\" y=\"0em\"><defs /><text text-anchor=\"middle\" x=\"50%\" y=\"1em\">Colet</text></svg><svg width=\"100%\" x=\"0%\" y=\"3em\"><defs /><svg width=\"100%\" x=\"0\" y=\"0em\"><defs /><text text-anchor=\"middle\" x=\"50%\" y=\"1em\">NNP</text></svg></svg><line stroke=\"black\" x1=\"50%\" x2=\"50%\" y1=\"1.2em\" y2=\"3em\" /></svg><line stroke=\"black\" x1=\"50%\" x2=\"50%\" y1=\"1.2em\" y2=\"3em\" /></svg><line stroke=\"black\" x1=\"50%\" x2=\"0.823529%\" y1=\"1.2em\" y2=\"3em\" /><svg width=\"2.11765%\" x=\"1.64706%\" y=\"3em\"><defs /><svg width=\"100%\" x=\"0\" y=\"0em\"><defs /><text text-anchor=\"middle\" x=\"50%\" y=\"1em\">example</text></svg><svg width=\"100%\" x=\"0%\" y=\"3em\"><defs /><svg width=\"100%\" x=\"0\" y=\"0em\"><defs /><text text-anchor=\"middle\" x=\"50%\" y=\"1em\">NN</text></svg></svg><line stroke=\"black\" x1=\"50%\" x2=\"50%\" y1=\"1.2em\" y2=\"3em\" /></svg><line stroke=\"black\" x1=\"50%\" x2=\"2.70588%\" y1=\"1.2em\" y2=\"3em\" /><svg width=\"0.705882%\" x=\"3.76471%\" y=\"3em\"><defs /><svg width=\"100%\" x=\"0\" y=\"0em\"><defs /><text text-anchor=\"middle\" x=\"50%\" y=\"1em\">,</text></svg><svg width=\"100%\" x=\"0%\" y=\"3em\"><defs /><svg width=\"100%\" x=\"0\" y=\"0em\"><defs /><text text-anchor=\"middle\" x=\"50%\" y=\"1em\">,</text></svg></svg><line stroke=\"black\" x1=\"50%\" x2=\"50%\" y1=\"1.2em\" y2=\"3em\" /></svg><line stroke=\"black\" x1=\"50%\" x2=\"4.11765%\" y1=\"1.2em\" y2=\"3em\" /><svg width=\"1.17647%\" x=\"4.47059%\" y=\"3em\"><defs /><svg width=\"100%\" x=\"0\" y=\"0em\"><defs /><text text-anchor=\"middle\" x=\"50%\" y=\"1em\">and</text></svg><svg width=\"100%\" x=\"0%\" y=\"3em\"><defs /><svg width=\"100%\" x=\"0\" y=\"0em\"><defs /><text text-anchor=\"middle\" x=\"50%\" y=\"1em\">CC</text></svg></svg><line stroke=\"black\" x1=\"50%\" x2=\"50%\" y1=\"1.2em\" y2=\"3em\" /></svg><line stroke=\"black\" x1=\"50%\" x2=\"5.05882%\" y1=\"1.2em\" y2=\"3em\" /><svg width=\"3.29412%\" x=\"5.64706%\" y=\"3em\"><defs /><svg width=\"100%\" x=\"0\" y=\"0em\"><defs /><text text-anchor=\"middle\" x=\"50%\" y=\"1em\">ORGANIZATION</text></svg><svg width=\"100%\" x=\"0%\" y=\"3em\"><defs /><svg width=\"100%\" x=\"0\" y=\"0em\"><defs /><text text-anchor=\"middle\" x=\"50%\" y=\"1em\">SA</text></svg><svg width=\"100%\" x=\"0%\" y=\"3em\"><defs /><svg width=\"100%\" x=\"0\" y=\"0em\"><defs /><text text-anchor=\"middle\" x=\"50%\" y=\"1em\">NNP</text></svg></svg><line stroke=\"black\" x1=\"50%\" x2=\"50%\" y1=\"1.2em\" y2=\"3em\" /></svg><line stroke=\"black\" x1=\"50%\" x2=\"50%\" y1=\"1.2em\" y2=\"3em\" /></svg><line stroke=\"black\" x1=\"50%\" x2=\"7.29412%\" y1=\"1.2em\" y2=\"3em\" /><svg width=\"2.11765%\" x=\"8.94118%\" y=\"3em\"><defs /><svg width=\"100%\" x=\"0\" y=\"0em\"><defs /><text text-anchor=\"middle\" x=\"50%\" y=\"1em\">sported</text></svg><svg width=\"100%\" x=\"0%\" y=\"3em\"><defs /><svg width=\"100%\" x=\"0\" y=\"0em\"><defs /><text text-anchor=\"middle\" x=\"50%\" y=\"1em\">VBD</text></svg></svg><line stroke=\"black\" x1=\"50%\" x2=\"50%\" y1=\"1.2em\" y2=\"3em\" /></svg><line stroke=\"black\" x1=\"50%\" x2=\"10%\" y1=\"1.2em\" y2=\"3em\" /><svg width=\"1.88235%\" x=\"11.0588%\" y=\"3em\"><defs /><svg width=\"100%\" x=\"0\" y=\"0em\"><defs /><text text-anchor=\"middle\" x=\"50%\" y=\"1em\">ronals</text></svg><svg width=\"100%\" x=\"0%\" y=\"3em\"><defs /><svg width=\"100%\" x=\"0\" y=\"0em\"><defs /><text text-anchor=\"middle\" x=\"50%\" y=\"1em\">NNS</text></svg></svg><line stroke=\"black\" x1=\"50%\" x2=\"50%\" y1=\"1.2em\" y2=\"3em\" /></svg><line stroke=\"black\" x1=\"50%\" x2=\"12%\" y1=\"1.2em\" y2=\"3em\" /><svg width=\"3.52941%\" x=\"12.9412%\" y=\"3em\"><defs /><svg width=\"100%\" x=\"0\" y=\"0em\"><defs /><text text-anchor=\"middle\" x=\"50%\" y=\"1em\">PERSON</text></svg><svg width=\"46.6667%\" x=\"0%\" y=\"3em\"><defs /><svg width=\"100%\" x=\"0\" y=\"0em\"><defs /><text text-anchor=\"middle\" x=\"50%\" y=\"1em\">Gentl</text></svg><svg width=\"100%\" x=\"0%\" y=\"3em\"><defs /><svg width=\"100%\" x=\"0\" y=\"0em\"><defs /><text text-anchor=\"middle\" x=\"50%\" y=\"1em\">NNP</text></svg></svg><line stroke=\"black\" x1=\"50%\" x2=\"50%\" y1=\"1.2em\" y2=\"3em\" /></svg><line stroke=\"black\" x1=\"50%\" x2=\"23.3333%\" y1=\"1.2em\" y2=\"3em\" /><svg width=\"53.3333%\" x=\"46.6667%\" y=\"3em\"><defs /><svg width=\"100%\" x=\"0\" y=\"0em\"><defs /><text text-anchor=\"middle\" x=\"50%\" y=\"1em\">Twitte</text></svg><svg width=\"100%\" x=\"0%\" y=\"3em\"><defs /><svg width=\"100%\" x=\"0\" y=\"0em\"><defs /><text text-anchor=\"middle\" x=\"50%\" y=\"1em\">NNP</text></svg></svg><line stroke=\"black\" x1=\"50%\" x2=\"50%\" y1=\"1.2em\" y2=\"3em\" /></svg><line stroke=\"black\" x1=\"50%\" x2=\"73.3333%\" y1=\"1.2em\" y2=\"3em\" /></svg><line stroke=\"black\" x1=\"50%\" x2=\"14.7059%\" y1=\"1.2em\" y2=\"3em\" /><svg width=\"2.11765%\" x=\"16.4706%\" y=\"3em\"><defs /><svg width=\"100%\" x=\"0\" y=\"0em\"><defs /><text text-anchor=\"middle\" x=\"50%\" y=\"1em\">festive</text></svg><svg width=\"100%\" x=\"0%\" y=\"3em\"><defs /><svg width=\"100%\" x=\"0\" y=\"0em\"><defs /><text text-anchor=\"middle\" x=\"50%\" y=\"1em\">NN</text></svg></svg><line stroke=\"black\" x1=\"50%\" x2=\"50%\" y1=\"1.2em\" y2=\"3em\" /></svg><line stroke=\"black\" x1=\"50%\" x2=\"17.5294%\" y1=\"1.2em\" y2=\"3em\" /><svg width=\"0.705882%\" x=\"18.5882%\" y=\"3em\"><defs /><svg width=\"100%\" x=\"0\" y=\"0em\"><defs /><text text-anchor=\"middle\" x=\"50%\" y=\"1em\">)</text></svg><svg width=\"100%\" x=\"0%\" y=\"3em\"><defs /><svg width=\"100%\" x=\"0\" y=\"0em\"><defs /><text text-anchor=\"middle\" x=\"50%\" y=\"1em\">)</text></svg></svg><line stroke=\"black\" x1=\"50%\" x2=\"50%\" y1=\"1.2em\" y2=\"3em\" /></svg><line stroke=\"black\" x1=\"50%\" x2=\"18.9412%\" y1=\"1.2em\" y2=\"3em\" /><svg width=\"2.11765%\" x=\"19.2941%\" y=\"3em\"><defs /><svg width=\"100%\" x=\"0\" y=\"0em\"><defs /><text text-anchor=\"middle\" x=\"50%\" y=\"1em\">efetive</text></svg><svg width=\"100%\" x=\"0%\" y=\"3em\"><defs /><svg width=\"100%\" x=\"0\" y=\"0em\"><defs /><text text-anchor=\"middle\" x=\"50%\" y=\"1em\">VBP</text></svg></svg><line stroke=\"black\" x1=\"50%\" x2=\"50%\" y1=\"1.2em\" y2=\"3em\" /></svg><line stroke=\"black\" x1=\"50%\" x2=\"20.3529%\" y1=\"1.2em\" y2=\"3em\" /><svg width=\"1.41176%\" x=\"21.4118%\" y=\"3em\"><defs /><svg width=\"100%\" x=\"0\" y=\"0em\"><defs /><text text-anchor=\"middle\" x=\"50%\" y=\"1em\">mary</text></svg><svg width=\"100%\" x=\"0%\" y=\"3em\"><defs /><svg width=\"100%\" x=\"0\" y=\"0em\"><defs /><text text-anchor=\"middle\" x=\"50%\" y=\"1em\">JJ</text></svg></svg><line stroke=\"black\" x1=\"50%\" x2=\"50%\" y1=\"1.2em\" y2=\"3em\" /></svg><line stroke=\"black\" x1=\"50%\" x2=\"22.1176%\" y1=\"1.2em\" y2=\"3em\" /><svg width=\"0.941176%\" x=\"22.8235%\" y=\"3em\"><defs /><svg width=\"100%\" x=\"0\" y=\"0em\"><defs /><text text-anchor=\"middle\" x=\"50%\" y=\"1em\">m</text></svg><svg width=\"100%\" x=\"0%\" y=\"3em\"><defs /><svg width=\"100%\" x=\"0\" y=\"0em\"><defs /><text text-anchor=\"middle\" x=\"50%\" y=\"1em\">NN</text></svg></svg><line stroke=\"black\" x1=\"50%\" x2=\"50%\" y1=\"1.2em\" y2=\"3em\" /></svg><line stroke=\"black\" x1=\"50%\" x2=\"23.2941%\" y1=\"1.2em\" y2=\"3em\" /><svg width=\"1.41176%\" x=\"23.7647%\" y=\"3em\"><defs /><svg width=\"100%\" x=\"0\" y=\"0em\"><defs /><text text-anchor=\"middle\" x=\"50%\" y=\"1em\">vice</text></svg><svg width=\"100%\" x=\"0%\" y=\"3em\"><defs /><svg width=\"100%\" x=\"0\" y=\"0em\"><defs /><text text-anchor=\"middle\" x=\"50%\" y=\"1em\">NN</text></svg></svg><line stroke=\"black\" x1=\"50%\" x2=\"50%\" y1=\"1.2em\" y2=\"3em\" /></svg><line stroke=\"black\" x1=\"50%\" x2=\"24.4706%\" y1=\"1.2em\" y2=\"3em\" /><svg width=\"1.17647%\" x=\"25.1765%\" y=\"3em\"><defs /><svg width=\"100%\" x=\"0\" y=\"0em\"><defs /><text text-anchor=\"middle\" x=\"50%\" y=\"1em\">and</text></svg><svg width=\"100%\" x=\"0%\" y=\"3em\"><defs /><svg width=\"100%\" x=\"0\" y=\"0em\"><defs /><text text-anchor=\"middle\" x=\"50%\" y=\"1em\">CC</text></svg></svg><line stroke=\"black\" x1=\"50%\" x2=\"50%\" y1=\"1.2em\" y2=\"3em\" /></svg><line stroke=\"black\" x1=\"50%\" x2=\"25.7647%\" y1=\"1.2em\" y2=\"3em\" /><svg width=\"0.941176%\" x=\"26.3529%\" y=\"3em\"><defs /><svg width=\"100%\" x=\"0\" y=\"0em\"><defs /><text text-anchor=\"middle\" x=\"50%\" y=\"1em\">ng</text></svg><svg width=\"100%\" x=\"0%\" y=\"3em\"><defs /><svg width=\"100%\" x=\"0\" y=\"0em\"><defs /><text text-anchor=\"middle\" x=\"50%\" y=\"1em\">JJ</text></svg></svg><line stroke=\"black\" x1=\"50%\" x2=\"50%\" y1=\"1.2em\" y2=\"3em\" /></svg><line stroke=\"black\" x1=\"50%\" x2=\"26.8235%\" y1=\"1.2em\" y2=\"3em\" /><svg width=\"1.41176%\" x=\"27.2941%\" y=\"3em\"><defs /><svg width=\"100%\" x=\"0\" y=\"0em\"><defs /><text text-anchor=\"middle\" x=\"50%\" y=\"1em\">book</text></svg><svg width=\"100%\" x=\"0%\" y=\"3em\"><defs /><svg width=\"100%\" x=\"0\" y=\"0em\"><defs /><text text-anchor=\"middle\" x=\"50%\" y=\"1em\">NN</text></svg></svg><line stroke=\"black\" x1=\"50%\" x2=\"50%\" y1=\"1.2em\" y2=\"3em\" /></svg><line stroke=\"black\" x1=\"50%\" x2=\"28%\" y1=\"1.2em\" y2=\"3em\" /><svg width=\"1.64706%\" x=\"28.7059%\" y=\"3em\"><defs /><svg width=\"100%\" x=\"0\" y=\"0em\"><defs /><text text-anchor=\"middle\" x=\"50%\" y=\"1em\">greet</text></svg><svg width=\"100%\" x=\"0%\" y=\"3em\"><defs /><svg width=\"100%\" x=\"0\" y=\"0em\"><defs /><text text-anchor=\"middle\" x=\"50%\" y=\"1em\">NN</text></svg></svg><line stroke=\"black\" x1=\"50%\" x2=\"50%\" y1=\"1.2em\" y2=\"3em\" /></svg><line stroke=\"black\" x1=\"50%\" x2=\"29.5294%\" y1=\"1.2em\" y2=\"3em\" /><svg width=\"0.941176%\" x=\"30.3529%\" y=\"3em\"><defs /><svg width=\"100%\" x=\"0\" y=\"0em\"><defs /><text text-anchor=\"middle\" x=\"50%\" y=\"1em\">gr</text></svg><svg width=\"100%\" x=\"0%\" y=\"3em\"><defs /><svg width=\"100%\" x=\"0\" y=\"0em\"><defs /><text text-anchor=\"middle\" x=\"50%\" y=\"1em\">JJ</text></svg></svg><line stroke=\"black\" x1=\"50%\" x2=\"50%\" y1=\"1.2em\" y2=\"3em\" /></svg><line stroke=\"black\" x1=\"50%\" x2=\"30.8235%\" y1=\"1.2em\" y2=\"3em\" /><svg width=\"1.64706%\" x=\"31.2941%\" y=\"3em\"><defs /><svg width=\"100%\" x=\"0\" y=\"0em\"><defs /><text text-anchor=\"middle\" x=\"50%\" y=\"1em\">energ</text></svg><svg width=\"100%\" x=\"0%\" y=\"3em\"><defs /><svg width=\"100%\" x=\"0\" y=\"0em\"><defs /><text text-anchor=\"middle\" x=\"50%\" y=\"1em\">NN</text></svg></svg><line stroke=\"black\" x1=\"50%\" x2=\"50%\" y1=\"1.2em\" y2=\"3em\" /></svg><line stroke=\"black\" x1=\"50%\" x2=\"32.1176%\" y1=\"1.2em\" y2=\"3em\" /><svg width=\"1.17647%\" x=\"32.9412%\" y=\"3em\"><defs /><svg width=\"100%\" x=\"0\" y=\"0em\"><defs /><text text-anchor=\"middle\" x=\"50%\" y=\"1em\">and</text></svg><svg width=\"100%\" x=\"0%\" y=\"3em\"><defs /><svg width=\"100%\" x=\"0\" y=\"0em\"><defs /><text text-anchor=\"middle\" x=\"50%\" y=\"1em\">CC</text></svg></svg><line stroke=\"black\" x1=\"50%\" x2=\"50%\" y1=\"1.2em\" y2=\"3em\" /></svg><line stroke=\"black\" x1=\"50%\" x2=\"33.5294%\" y1=\"1.2em\" y2=\"3em\" /><svg width=\"0.941176%\" x=\"34.1176%\" y=\"3em\"><defs /><svg width=\"100%\" x=\"0\" y=\"0em\"><defs /><text text-anchor=\"middle\" x=\"50%\" y=\"1em\">ww</text></svg><svg width=\"100%\" x=\"0%\" y=\"3em\"><defs /><svg width=\"100%\" x=\"0\" y=\"0em\"><defs /><text text-anchor=\"middle\" x=\"50%\" y=\"1em\">NN</text></svg></svg><line stroke=\"black\" x1=\"50%\" x2=\"50%\" y1=\"1.2em\" y2=\"3em\" /></svg><line stroke=\"black\" x1=\"50%\" x2=\"34.5882%\" y1=\"1.2em\" y2=\"3em\" /><svg width=\"0.705882%\" x=\"35.0588%\" y=\"3em\"><defs /><svg width=\"100%\" x=\"0\" y=\"0em\"><defs /><text text-anchor=\"middle\" x=\"50%\" y=\"1em\">.</text></svg><svg width=\"100%\" x=\"0%\" y=\"3em\"><defs /><svg width=\"100%\" x=\"0\" y=\"0em\"><defs /><text text-anchor=\"middle\" x=\"50%\" y=\"1em\">.</text></svg></svg><line stroke=\"black\" x1=\"50%\" x2=\"50%\" y1=\"1.2em\" y2=\"3em\" /></svg><line stroke=\"black\" x1=\"50%\" x2=\"35.4118%\" y1=\"1.2em\" y2=\"3em\" /><svg width=\"2.35294%\" x=\"35.7647%\" y=\"3em\"><defs /><svg width=\"100%\" x=\"0\" y=\"0em\"><defs /><text text-anchor=\"middle\" x=\"50%\" y=\"1em\">wheredar</text></svg><svg width=\"100%\" x=\"0%\" y=\"3em\"><defs /><svg width=\"100%\" x=\"0\" y=\"0em\"><defs /><text text-anchor=\"middle\" x=\"50%\" y=\"1em\">NN</text></svg></svg><line stroke=\"black\" x1=\"50%\" x2=\"50%\" y1=\"1.2em\" y2=\"3em\" /></svg><line stroke=\"black\" x1=\"50%\" x2=\"36.9412%\" y1=\"1.2em\" y2=\"3em\" /><svg width=\"1.88235%\" x=\"38.1176%\" y=\"3em\"><defs /><svg width=\"100%\" x=\"0\" y=\"0em\"><defs /><text text-anchor=\"middle\" x=\"50%\" y=\"1em\">exampl</text></svg><svg width=\"100%\" x=\"0%\" y=\"3em\"><defs /><svg width=\"100%\" x=\"0\" y=\"0em\"><defs /><text text-anchor=\"middle\" x=\"50%\" y=\"1em\">NN</text></svg></svg><line stroke=\"black\" x1=\"50%\" x2=\"50%\" y1=\"1.2em\" y2=\"3em\" /></svg><line stroke=\"black\" x1=\"50%\" x2=\"39.0588%\" y1=\"1.2em\" y2=\"3em\" /><svg width=\"0.941176%\" x=\"40%\" y=\"3em\"><defs /><svg width=\"100%\" x=\"0\" y=\"0em\"><defs /><text text-anchor=\"middle\" x=\"50%\" y=\"1em\">as</text></svg><svg width=\"100%\" x=\"0%\" y=\"3em\"><defs /><svg width=\"100%\" x=\"0\" y=\"0em\"><defs /><text text-anchor=\"middle\" x=\"50%\" y=\"1em\">IN</text></svg></svg><line stroke=\"black\" x1=\"50%\" x2=\"50%\" y1=\"1.2em\" y2=\"3em\" /></svg><line stroke=\"black\" x1=\"50%\" x2=\"40.4706%\" y1=\"1.2em\" y2=\"3em\" /><svg width=\"2.35294%\" x=\"40.9412%\" y=\"3em\"><defs /><svg width=\"100%\" x=\"0\" y=\"0em\"><defs /><text text-anchor=\"middle\" x=\"50%\" y=\"1em\">captured</text></svg><svg width=\"100%\" x=\"0%\" y=\"3em\"><defs /><svg width=\"100%\" x=\"0\" y=\"0em\"><defs /><text text-anchor=\"middle\" x=\"50%\" y=\"1em\">JJ</text></svg></svg><line stroke=\"black\" x1=\"50%\" x2=\"50%\" y1=\"1.2em\" y2=\"3em\" /></svg><line stroke=\"black\" x1=\"50%\" x2=\"42.1176%\" y1=\"1.2em\" y2=\"3em\" /><svg width=\"1.88235%\" x=\"43.2941%\" y=\"3em\"><defs /><svg width=\"100%\" x=\"0\" y=\"0em\"><defs /><text text-anchor=\"middle\" x=\"50%\" y=\"1em\">wellin</text></svg><svg width=\"100%\" x=\"0%\" y=\"3em\"><defs /><svg width=\"100%\" x=\"0\" y=\"0em\"><defs /><text text-anchor=\"middle\" x=\"50%\" y=\"1em\">NN</text></svg></svg><line stroke=\"black\" x1=\"50%\" x2=\"50%\" y1=\"1.2em\" y2=\"3em\" /></svg><line stroke=\"black\" x1=\"50%\" x2=\"44.2353%\" y1=\"1.2em\" y2=\"3em\" /><svg width=\"3.29412%\" x=\"45.1765%\" y=\"3em\"><defs /><svg width=\"100%\" x=\"0\" y=\"0em\"><defs /><text text-anchor=\"middle\" x=\"50%\" y=\"1em\">ORGANIZATION</text></svg><svg width=\"100%\" x=\"0%\" y=\"3em\"><defs /><svg width=\"100%\" x=\"0\" y=\"0em\"><defs /><text text-anchor=\"middle\" x=\"50%\" y=\"1em\">GEN</text></svg><svg width=\"100%\" x=\"0%\" y=\"3em\"><defs /><svg width=\"100%\" x=\"0\" y=\"0em\"><defs /><text text-anchor=\"middle\" x=\"50%\" y=\"1em\">NNP</text></svg></svg><line stroke=\"black\" x1=\"50%\" x2=\"50%\" y1=\"1.2em\" y2=\"3em\" /></svg><line stroke=\"black\" x1=\"50%\" x2=\"50%\" y1=\"1.2em\" y2=\"3em\" /></svg><line stroke=\"black\" x1=\"50%\" x2=\"46.8235%\" y1=\"1.2em\" y2=\"3em\" /><svg width=\"0.705882%\" x=\"48.4706%\" y=\"3em\"><defs /><svg width=\"100%\" x=\"0\" y=\"0em\"><defs /><text text-anchor=\"middle\" x=\"50%\" y=\"1em\">,</text></svg><svg width=\"100%\" x=\"0%\" y=\"3em\"><defs /><svg width=\"100%\" x=\"0\" y=\"0em\"><defs /><text text-anchor=\"middle\" x=\"50%\" y=\"1em\">,</text></svg></svg><line stroke=\"black\" x1=\"50%\" x2=\"50%\" y1=\"1.2em\" y2=\"3em\" /></svg><line stroke=\"black\" x1=\"50%\" x2=\"48.8235%\" y1=\"1.2em\" y2=\"3em\" /><svg width=\"5.41176%\" x=\"49.1765%\" y=\"3em\"><defs /><svg width=\"100%\" x=\"0\" y=\"0em\"><defs /><text text-anchor=\"middle\" x=\"50%\" y=\"1em\">PERSON</text></svg><svg width=\"30.4348%\" x=\"0%\" y=\"3em\"><defs /><svg width=\"100%\" x=\"0\" y=\"0em\"><defs /><text text-anchor=\"middle\" x=\"50%\" y=\"1em\">BARRY</text></svg><svg width=\"100%\" x=\"0%\" y=\"3em\"><defs /><svg width=\"100%\" x=\"0\" y=\"0em\"><defs /><text text-anchor=\"middle\" x=\"50%\" y=\"1em\">NNP</text></svg></svg><line stroke=\"black\" x1=\"50%\" x2=\"50%\" y1=\"1.2em\" y2=\"3em\" /></svg><line stroke=\"black\" x1=\"50%\" x2=\"15.2174%\" y1=\"1.2em\" y2=\"3em\" /><svg width=\"21.7391%\" x=\"30.4348%\" y=\"3em\"><defs /><svg width=\"100%\" x=\"0\" y=\"0em\"><defs /><text text-anchor=\"middle\" x=\"50%\" y=\"1em\">B.</text></svg><svg width=\"100%\" x=\"0%\" y=\"3em\"><defs /><svg width=\"100%\" x=\"0\" y=\"0em\"><defs /><text text-anchor=\"middle\" x=\"50%\" y=\"1em\">NNP</text></svg></svg><line stroke=\"black\" x1=\"50%\" x2=\"50%\" y1=\"1.2em\" y2=\"3em\" /></svg><line stroke=\"black\" x1=\"50%\" x2=\"41.3043%\" y1=\"1.2em\" y2=\"3em\" /><svg width=\"47.8261%\" x=\"52.1739%\" y=\"3em\"><defs /><svg width=\"100%\" x=\"0\" y=\"0em\"><defs /><text text-anchor=\"middle\" x=\"50%\" y=\"1em\">MCCAFFREY</text></svg><svg width=\"100%\" x=\"0%\" y=\"3em\"><defs /><svg width=\"100%\" x=\"0\" y=\"0em\"><defs /><text text-anchor=\"middle\" x=\"50%\" y=\"1em\">NNP</text></svg></svg><line stroke=\"black\" x1=\"50%\" x2=\"50%\" y1=\"1.2em\" y2=\"3em\" /></svg><line stroke=\"black\" x1=\"50%\" x2=\"76.087%\" y1=\"1.2em\" y2=\"3em\" /></svg><line stroke=\"black\" x1=\"50%\" x2=\"51.8824%\" y1=\"1.2em\" y2=\"3em\" /><svg width=\"0.705882%\" x=\"54.5882%\" y=\"3em\"><defs /><svg width=\"100%\" x=\"0\" y=\"0em\"><defs /><text text-anchor=\"middle\" x=\"50%\" y=\"1em\">,</text></svg><svg width=\"100%\" x=\"0%\" y=\"3em\"><defs /><svg width=\"100%\" x=\"0\" y=\"0em\"><defs /><text text-anchor=\"middle\" x=\"50%\" y=\"1em\">,</text></svg></svg><line stroke=\"black\" x1=\"50%\" x2=\"50%\" y1=\"1.2em\" y2=\"3em\" /></svg><line stroke=\"black\" x1=\"50%\" x2=\"54.9412%\" y1=\"1.2em\" y2=\"3em\" /><svg width=\"3.29412%\" x=\"55.2941%\" y=\"3em\"><defs /><svg width=\"100%\" x=\"0\" y=\"0em\"><defs /><text text-anchor=\"middle\" x=\"50%\" y=\"1em\">ORGANIZATION</text></svg><svg width=\"100%\" x=\"0%\" y=\"3em\"><defs /><svg width=\"100%\" x=\"0\" y=\"0em\"><defs /><text text-anchor=\"middle\" x=\"50%\" y=\"1em\">USA</text></svg><svg width=\"100%\" x=\"0%\" y=\"3em\"><defs /><svg width=\"100%\" x=\"0\" y=\"0em\"><defs /><text text-anchor=\"middle\" x=\"50%\" y=\"1em\">NNP</text></svg></svg><line stroke=\"black\" x1=\"50%\" x2=\"50%\" y1=\"1.2em\" y2=\"3em\" /></svg><line stroke=\"black\" x1=\"50%\" x2=\"50%\" y1=\"1.2em\" y2=\"3em\" /></svg><line stroke=\"black\" x1=\"50%\" x2=\"56.9412%\" y1=\"1.2em\" y2=\"3em\" /><svg width=\"1.17647%\" x=\"58.5882%\" y=\"3em\"><defs /><svg width=\"100%\" x=\"0\" y=\"0em\"><defs /><text text-anchor=\"middle\" x=\"50%\" y=\"1em\">REE</text></svg><svg width=\"100%\" x=\"0%\" y=\"3em\"><defs /><svg width=\"100%\" x=\"0\" y=\"0em\"><defs /><text text-anchor=\"middle\" x=\"50%\" y=\"1em\">NNP</text></svg></svg><line stroke=\"black\" x1=\"50%\" x2=\"50%\" y1=\"1.2em\" y2=\"3em\" /></svg><line stroke=\"black\" x1=\"50%\" x2=\"59.1765%\" y1=\"1.2em\" y2=\"3em\" /><svg width=\"1.64706%\" x=\"59.7647%\" y=\"3em\"><defs /><svg width=\"100%\" x=\"0\" y=\"0em\"><defs /><text text-anchor=\"middle\" x=\"50%\" y=\"1em\">WONEN</text></svg><svg width=\"100%\" x=\"0%\" y=\"3em\"><defs /><svg width=\"100%\" x=\"0\" y=\"0em\"><defs /><text text-anchor=\"middle\" x=\"50%\" y=\"1em\">NNP</text></svg></svg><line stroke=\"black\" x1=\"50%\" x2=\"50%\" y1=\"1.2em\" y2=\"3em\" /></svg><line stroke=\"black\" x1=\"50%\" x2=\"60.5882%\" y1=\"1.2em\" y2=\"3em\" /><svg width=\"3.05882%\" x=\"61.4118%\" y=\"3em\"><defs /><svg width=\"100%\" x=\"0\" y=\"0em\"><defs /><text text-anchor=\"middle\" x=\"50%\" y=\"1em\">Schwarzkopf</text></svg><svg width=\"100%\" x=\"0%\" y=\"3em\"><defs /><svg width=\"100%\" x=\"0\" y=\"0em\"><defs /><text text-anchor=\"middle\" x=\"50%\" y=\"1em\">NNP</text></svg></svg><line stroke=\"black\" x1=\"50%\" x2=\"50%\" y1=\"1.2em\" y2=\"3em\" /></svg><line stroke=\"black\" x1=\"50%\" x2=\"62.9412%\" y1=\"1.2em\" y2=\"3em\" /><svg width=\"1.17647%\" x=\"64.4706%\" y=\"3em\"><defs /><svg width=\"100%\" x=\"0\" y=\"0em\"><defs /><text text-anchor=\"middle\" x=\"50%\" y=\"1em\">*</text></svg><svg width=\"100%\" x=\"0%\" y=\"3em\"><defs /><svg width=\"100%\" x=\"0\" y=\"0em\"><defs /><text text-anchor=\"middle\" x=\"50%\" y=\"1em\">NNP</text></svg></svg><line stroke=\"black\" x1=\"50%\" x2=\"50%\" y1=\"1.2em\" y2=\"3em\" /></svg><line stroke=\"black\" x1=\"50%\" x2=\"65.0588%\" y1=\"1.2em\" y2=\"3em\" /><svg width=\"1.17647%\" x=\"65.6471%\" y=\"3em\"><defs /><svg width=\"100%\" x=\"0\" y=\"0em\"><defs /><text text-anchor=\"middle\" x=\"50%\" y=\"1em\">*</text></svg><svg width=\"100%\" x=\"0%\" y=\"3em\"><defs /><svg width=\"100%\" x=\"0\" y=\"0em\"><defs /><text text-anchor=\"middle\" x=\"50%\" y=\"1em\">NNP</text></svg></svg><line stroke=\"black\" x1=\"50%\" x2=\"50%\" y1=\"1.2em\" y2=\"3em\" /></svg><line stroke=\"black\" x1=\"50%\" x2=\"66.2353%\" y1=\"1.2em\" y2=\"3em\" /><svg width=\"1.17647%\" x=\"66.8235%\" y=\"3em\"><defs /><svg width=\"100%\" x=\"0\" y=\"0em\"><defs /><text text-anchor=\"middle\" x=\"50%\" y=\"1em\">*</text></svg><svg width=\"100%\" x=\"0%\" y=\"3em\"><defs /><svg width=\"100%\" x=\"0\" y=\"0em\"><defs /><text text-anchor=\"middle\" x=\"50%\" y=\"1em\">NNP</text></svg></svg><line stroke=\"black\" x1=\"50%\" x2=\"50%\" y1=\"1.2em\" y2=\"3em\" /></svg><line stroke=\"black\" x1=\"50%\" x2=\"67.4118%\" y1=\"1.2em\" y2=\"3em\" /><svg width=\"1.41176%\" x=\"68%\" y=\"3em\"><defs /><svg width=\"100%\" x=\"0\" y=\"0em\"><defs /><text text-anchor=\"middle\" x=\"50%\" y=\"1em\">Life</text></svg><svg width=\"100%\" x=\"0%\" y=\"3em\"><defs /><svg width=\"100%\" x=\"0\" y=\"0em\"><defs /><text text-anchor=\"middle\" x=\"50%\" y=\"1em\">NNP</text></svg></svg><line stroke=\"black\" x1=\"50%\" x2=\"50%\" y1=\"1.2em\" y2=\"3em\" /></svg><line stroke=\"black\" x1=\"50%\" x2=\"68.7059%\" y1=\"1.2em\" y2=\"3em\" /><svg width=\"2.11765%\" x=\"69.4118%\" y=\"3em\"><defs /><svg width=\"100%\" x=\"0\" y=\"0em\"><defs /><text text-anchor=\"middle\" x=\"50%\" y=\"1em\">Lessons</text></svg><svg width=\"100%\" x=\"0%\" y=\"3em\"><defs /><svg width=\"100%\" x=\"0\" y=\"0em\"><defs /><text text-anchor=\"middle\" x=\"50%\" y=\"1em\">NNP</text></svg></svg><line stroke=\"black\" x1=\"50%\" x2=\"50%\" y1=\"1.2em\" y2=\"3em\" /></svg><line stroke=\"black\" x1=\"50%\" x2=\"70.4706%\" y1=\"1.2em\" y2=\"3em\" /><svg width=\"0.941176%\" x=\"71.5294%\" y=\"3em\"><defs /><svg width=\"100%\" x=\"0\" y=\"0em\"><defs /><text text-anchor=\"middle\" x=\"50%\" y=\"1em\">of</text></svg><svg width=\"100%\" x=\"0%\" y=\"3em\"><defs /><svg width=\"100%\" x=\"0\" y=\"0em\"><defs /><text text-anchor=\"middle\" x=\"50%\" y=\"1em\">IN</text></svg></svg><line stroke=\"black\" x1=\"50%\" x2=\"50%\" y1=\"1.2em\" y2=\"3em\" /></svg><line stroke=\"black\" x1=\"50%\" x2=\"72%\" y1=\"1.2em\" y2=\"3em\" /><svg width=\"1.17647%\" x=\"72.4706%\" y=\"3em\"><defs /><svg width=\"100%\" x=\"0\" y=\"0em\"><defs /><text text-anchor=\"middle\" x=\"50%\" y=\"1em\">The</text></svg><svg width=\"100%\" x=\"0%\" y=\"3em\"><defs /><svg width=\"100%\" x=\"0\" y=\"0em\"><defs /><text text-anchor=\"middle\" x=\"50%\" y=\"1em\">DT</text></svg></svg><line stroke=\"black\" x1=\"50%\" x2=\"50%\" y1=\"1.2em\" y2=\"3em\" /></svg><line stroke=\"black\" x1=\"50%\" x2=\"73.0588%\" y1=\"1.2em\" y2=\"3em\" /><svg width=\"3.29412%\" x=\"73.6471%\" y=\"3em\"><defs /><svg width=\"100%\" x=\"0\" y=\"0em\"><defs /><text text-anchor=\"middle\" x=\"50%\" y=\"1em\">ORGANIZATION</text></svg><svg width=\"100%\" x=\"0%\" y=\"3em\"><defs /><svg width=\"100%\" x=\"0\" y=\"0em\"><defs /><text text-anchor=\"middle\" x=\"50%\" y=\"1em\">BEAR</text></svg><svg width=\"100%\" x=\"0%\" y=\"3em\"><defs /><svg width=\"100%\" x=\"0\" y=\"0em\"><defs /><text text-anchor=\"middle\" x=\"50%\" y=\"1em\">NNP</text></svg></svg><line stroke=\"black\" x1=\"50%\" x2=\"50%\" y1=\"1.2em\" y2=\"3em\" /></svg><line stroke=\"black\" x1=\"50%\" x2=\"50%\" y1=\"1.2em\" y2=\"3em\" /></svg><line stroke=\"black\" x1=\"50%\" x2=\"75.2941%\" y1=\"1.2em\" y2=\"3em\" /><svg width=\"0.941176%\" x=\"76.9412%\" y=\"3em\"><defs /><svg width=\"100%\" x=\"0\" y=\"0em\"><defs /><text text-anchor=\"middle\" x=\"50%\" y=\"1em\">by</text></svg><svg width=\"100%\" x=\"0%\" y=\"3em\"><defs /><svg width=\"100%\" x=\"0\" y=\"0em\"><defs /><text text-anchor=\"middle\" x=\"50%\" y=\"1em\">IN</text></svg></svg><line stroke=\"black\" x1=\"50%\" x2=\"50%\" y1=\"1.2em\" y2=\"3em\" /></svg><line stroke=\"black\" x1=\"50%\" x2=\"77.4118%\" y1=\"1.2em\" y2=\"3em\" /><svg width=\"3.29412%\" x=\"77.8824%\" y=\"3em\"><defs /><svg width=\"100%\" x=\"0\" y=\"0em\"><defs /><text text-anchor=\"middle\" x=\"50%\" y=\"1em\">ORGANIZATION</text></svg><svg width=\"100%\" x=\"0%\" y=\"3em\"><defs /><svg width=\"100%\" x=\"0\" y=\"0em\"><defs /><text text-anchor=\"middle\" x=\"50%\" y=\"1em\">GUS</text></svg><svg width=\"100%\" x=\"0%\" y=\"3em\"><defs /><svg width=\"100%\" x=\"0\" y=\"0em\"><defs /><text text-anchor=\"middle\" x=\"50%\" y=\"1em\">NNP</text></svg></svg><line stroke=\"black\" x1=\"50%\" x2=\"50%\" y1=\"1.2em\" y2=\"3em\" /></svg><line stroke=\"black\" x1=\"50%\" x2=\"50%\" y1=\"1.2em\" y2=\"3em\" /></svg><line stroke=\"black\" x1=\"50%\" x2=\"79.5294%\" y1=\"1.2em\" y2=\"3em\" /><svg width=\"1.17647%\" x=\"81.1765%\" y=\"3em\"><defs /><svg width=\"100%\" x=\"0\" y=\"0em\"><defs /><text text-anchor=\"middle\" x=\"50%\" y=\"1em\">LEE</text></svg><svg width=\"100%\" x=\"0%\" y=\"3em\"><defs /><svg width=\"100%\" x=\"0\" y=\"0em\"><defs /><text text-anchor=\"middle\" x=\"50%\" y=\"1em\">NNP</text></svg></svg><line stroke=\"black\" x1=\"50%\" x2=\"50%\" y1=\"1.2em\" y2=\"3em\" /></svg><line stroke=\"black\" x1=\"50%\" x2=\"81.7647%\" y1=\"1.2em\" y2=\"3em\" /><svg width=\"3.29412%\" x=\"82.3529%\" y=\"3em\"><defs /><svg width=\"100%\" x=\"0\" y=\"0em\"><defs /><text text-anchor=\"middle\" x=\"50%\" y=\"1em\">Best-selling</text></svg><svg width=\"100%\" x=\"0%\" y=\"3em\"><defs /><svg width=\"100%\" x=\"0\" y=\"0em\"><defs /><text text-anchor=\"middle\" x=\"50%\" y=\"1em\">NNP</text></svg></svg><line stroke=\"black\" x1=\"50%\" x2=\"50%\" y1=\"1.2em\" y2=\"3em\" /></svg><line stroke=\"black\" x1=\"50%\" x2=\"84%\" y1=\"1.2em\" y2=\"3em\" /><svg width=\"1.88235%\" x=\"85.6471%\" y=\"3em\"><defs /><svg width=\"100%\" x=\"0\" y=\"0em\"><defs /><text text-anchor=\"middle\" x=\"50%\" y=\"1em\">author</text></svg><svg width=\"100%\" x=\"0%\" y=\"3em\"><defs /><svg width=\"100%\" x=\"0\" y=\"0em\"><defs /><text text-anchor=\"middle\" x=\"50%\" y=\"1em\">NN</text></svg></svg><line stroke=\"black\" x1=\"50%\" x2=\"50%\" y1=\"1.2em\" y2=\"3em\" /></svg><line stroke=\"black\" x1=\"50%\" x2=\"86.5882%\" y1=\"1.2em\" y2=\"3em\" /><svg width=\"0.941176%\" x=\"87.5294%\" y=\"3em\"><defs /><svg width=\"100%\" x=\"0\" y=\"0em\"><defs /><text text-anchor=\"middle\" x=\"50%\" y=\"1em\">of</text></svg><svg width=\"100%\" x=\"0%\" y=\"3em\"><defs /><svg width=\"100%\" x=\"0\" y=\"0em\"><defs /><text text-anchor=\"middle\" x=\"50%\" y=\"1em\">IN</text></svg></svg><line stroke=\"black\" x1=\"50%\" x2=\"50%\" y1=\"1.2em\" y2=\"3em\" /></svg><line stroke=\"black\" x1=\"50%\" x2=\"88%\" y1=\"1.2em\" y2=\"3em\" /><svg width=\"2.11765%\" x=\"88.4706%\" y=\"3em\"><defs /><svg width=\"100%\" x=\"0\" y=\"0em\"><defs /><text text-anchor=\"middle\" x=\"50%\" y=\"1em\">Courage</text></svg><svg width=\"100%\" x=\"0%\" y=\"3em\"><defs /><svg width=\"100%\" x=\"0\" y=\"0em\"><defs /><text text-anchor=\"middle\" x=\"50%\" y=\"1em\">NN</text></svg></svg><line stroke=\"black\" x1=\"50%\" x2=\"50%\" y1=\"1.2em\" y2=\"3em\" /></svg><line stroke=\"black\" x1=\"50%\" x2=\"89.5294%\" y1=\"1.2em\" y2=\"3em\" /><svg width=\"0.705882%\" x=\"90.5882%\" y=\"3em\"><defs /><svg width=\"100%\" x=\"0\" y=\"0em\"><defs /><text text-anchor=\"middle\" x=\"50%\" y=\"1em\">:</text></svg><svg width=\"100%\" x=\"0%\" y=\"3em\"><defs /><svg width=\"100%\" x=\"0\" y=\"0em\"><defs /><text text-anchor=\"middle\" x=\"50%\" y=\"1em\">:</text></svg></svg><line stroke=\"black\" x1=\"50%\" x2=\"50%\" y1=\"1.2em\" y2=\"3em\" /></svg><line stroke=\"black\" x1=\"50%\" x2=\"90.9412%\" y1=\"1.2em\" y2=\"3em\" /><svg width=\"1.17647%\" x=\"91.2941%\" y=\"3em\"><defs /><svg width=\"100%\" x=\"0\" y=\"0em\"><defs /><text text-anchor=\"middle\" x=\"50%\" y=\"1em\">The</text></svg><svg width=\"100%\" x=\"0%\" y=\"3em\"><defs /><svg width=\"100%\" x=\"0\" y=\"0em\"><defs /><text text-anchor=\"middle\" x=\"50%\" y=\"1em\">DT</text></svg></svg><line stroke=\"black\" x1=\"50%\" x2=\"50%\" y1=\"1.2em\" y2=\"3em\" /></svg><line stroke=\"black\" x1=\"50%\" x2=\"91.8824%\" y1=\"1.2em\" y2=\"3em\" /><svg width=\"3.29412%\" x=\"92.4706%\" y=\"3em\"><defs /><svg width=\"100%\" x=\"0\" y=\"0em\"><defs /><text text-anchor=\"middle\" x=\"50%\" y=\"1em\">ORGANIZATION</text></svg><svg width=\"100%\" x=\"0%\" y=\"3em\"><defs /><svg width=\"100%\" x=\"0\" y=\"0em\"><defs /><text text-anchor=\"middle\" x=\"50%\" y=\"1em\">Backbone</text></svg><svg width=\"100%\" x=\"0%\" y=\"3em\"><defs /><svg width=\"100%\" x=\"0\" y=\"0em\"><defs /><text text-anchor=\"middle\" x=\"50%\" y=\"1em\">NNP</text></svg></svg><line stroke=\"black\" x1=\"50%\" x2=\"50%\" y1=\"1.2em\" y2=\"3em\" /></svg><line stroke=\"black\" x1=\"50%\" x2=\"50%\" y1=\"1.2em\" y2=\"3em\" /></svg><line stroke=\"black\" x1=\"50%\" x2=\"94.1176%\" y1=\"1.2em\" y2=\"3em\" /><svg width=\"0.941176%\" x=\"95.7647%\" y=\"3em\"><defs /><svg width=\"100%\" x=\"0\" y=\"0em\"><defs /><text text-anchor=\"middle\" x=\"50%\" y=\"1em\">of</text></svg><svg width=\"100%\" x=\"0%\" y=\"3em\"><defs /><svg width=\"100%\" x=\"0\" y=\"0em\"><defs /><text text-anchor=\"middle\" x=\"50%\" y=\"1em\">IN</text></svg></svg><line stroke=\"black\" x1=\"50%\" x2=\"50%\" y1=\"1.2em\" y2=\"3em\" /></svg><line stroke=\"black\" x1=\"50%\" x2=\"96.2353%\" y1=\"1.2em\" y2=\"3em\" /><svg width=\"3.29412%\" x=\"96.7059%\" y=\"3em\"><defs /><svg width=\"100%\" x=\"0\" y=\"0em\"><defs /><text text-anchor=\"middle\" x=\"50%\" y=\"1em\">ORGANIZATION</text></svg><svg width=\"100%\" x=\"0%\" y=\"3em\"><defs /><svg width=\"100%\" x=\"0\" y=\"0em\"><defs /><text text-anchor=\"middle\" x=\"50%\" y=\"1em\">Leadership</text></svg><svg width=\"100%\" x=\"0%\" y=\"3em\"><defs /><svg width=\"100%\" x=\"0\" y=\"0em\"><defs /><text text-anchor=\"middle\" x=\"50%\" y=\"1em\">NNP</text></svg></svg><line stroke=\"black\" x1=\"50%\" x2=\"50%\" y1=\"1.2em\" y2=\"3em\" /></svg><line stroke=\"black\" x1=\"50%\" x2=\"50%\" y1=\"1.2em\" y2=\"3em\" /></svg><line stroke=\"black\" x1=\"50%\" x2=\"98.3529%\" y1=\"1.2em\" y2=\"3em\" /></svg>"
      ],
      "text/plain": [
       "Tree('S', [Tree('GPE', [('Colet', 'NNP')]), ('example', 'NN'), (',', ','), ('and', 'CC'), Tree('ORGANIZATION', [('SA', 'NNP')]), ('sported', 'VBD'), ('ronals', 'NNS'), Tree('PERSON', [('Gentl', 'NNP'), ('Twitte', 'NNP')]), ('festive', 'NN'), (')', ')'), ('efetive', 'VBP'), ('mary', 'JJ'), ('m', 'NN'), ('vice', 'NN'), ('and', 'CC'), ('ng', 'JJ'), ('book', 'NN'), ('greet', 'NN'), ('gr', 'JJ'), ('energ', 'NN'), ('and', 'CC'), ('ww', 'NN'), ('.', '.'), ('wheredar', 'NN'), ('exampl', 'NN'), ('as', 'IN'), ('captured', 'JJ'), ('wellin', 'NN'), Tree('ORGANIZATION', [('GEN', 'NNP')]), (',', ','), Tree('PERSON', [('BARRY', 'NNP'), ('B.', 'NNP'), ('MCCAFFREY', 'NNP')]), (',', ','), Tree('ORGANIZATION', [('USA', 'NNP')]), ('REE', 'NNP'), ('WONEN', 'NNP'), ('Schwarzkopf', 'NNP'), ('*', 'NNP'), ('*', 'NNP'), ('*', 'NNP'), ('Life', 'NNP'), ('Lessons', 'NNP'), ('of', 'IN'), ('The', 'DT'), Tree('ORGANIZATION', [('BEAR', 'NNP')]), ('by', 'IN'), Tree('ORGANIZATION', [('GUS', 'NNP')]), ('LEE', 'NNP'), ('Best-selling', 'NNP'), ('author', 'NN'), ('of', 'IN'), ('Courage', 'NN'), (':', ':'), ('The', 'DT'), Tree('ORGANIZATION', [('Backbone', 'NNP')]), ('of', 'IN'), Tree('ORGANIZATION', [('Leadership', 'NNP')])])"
      ]
     },
     "execution_count": 143,
     "metadata": {},
     "output_type": "execute_result"
    }
   ],
   "source": [
    "nltk_results"
   ]
  },
  {
   "cell_type": "code",
   "execution_count": 52,
   "id": "fa1142bc",
   "metadata": {},
   "outputs": [
    {
     "data": {
      "text/plain": [
       "0        Colet example, and SA sported ronals Gentl Twi...\n",
       "1                   Maghets Pulling Together Pushing Apart\n",
       "2        ENERGY SECURITY VOLUME SAGE LIBRARY OF INTERNA...\n",
       "3        AUDIOBOOK MP3-CD Insert Transfer Listen! TREES...\n",
       "4             City of Rocks Idaho A Climber's Guide untale\n",
       "                               ...                        \n",
       "51295    JOHN SANDFORD NEW YORK TIMES-BESTSELLING AUTHO...\n",
       "51296    SECOND EDITION THE CRIME WRITER'S GUIDE TO POL...\n",
       "51297               THE JEZEBEL REMEDY A Nord MARTIN CLARK\n",
       "51298                                GLENN OGURA'S STARTUP\n",
       "51299    Bad karaden The Mystery Mystery Ender KILLER T...\n",
       "Name: Title, Length: 51300, dtype: object"
      ]
     },
     "execution_count": 52,
     "metadata": {},
     "output_type": "execute_result"
    }
   ],
   "source": [
    "def translate(text):\n",
    "    try:\n",
    "        result_lang = detect(text.lower())\n",
    "        if result_lang != \"en\":\n",
    "            translator = GoogleTranslator(source='auto', target='en')\n",
    "            text = translator.translate(text)\n",
    "        return text\n",
    "    except: \n",
    "        return text\n",
    "\n",
    "X_train_translated = X_train.apply(translate)\n",
    "X_train_translated"
   ]
  },
  {
   "cell_type": "code",
   "execution_count": 53,
   "id": "cac2ead1",
   "metadata": {},
   "outputs": [],
   "source": [
    "X_train_full = pd.read_csv(\"../../raw_data/titles_train.csv\")\n",
    "\n",
    "X_train_full[\"translated_title\"] = X_train_translated\n",
    "\n",
    "X_train_full.to_csv(\"../../raw_data/titles_train.csv\", header=True, index=False)"
   ]
  },
  {
   "cell_type": "code",
   "execution_count": 9,
   "id": "f85780da",
   "metadata": {},
   "outputs": [],
   "source": [
    "X_train_test = X_train[:10]"
   ]
  },
  {
   "cell_type": "code",
   "execution_count": 20,
   "id": "b098a851",
   "metadata": {},
   "outputs": [],
   "source": [
    "import logging\n",
    "import sys\n",
    "from urllib.parse import quote\n",
    "\n",
    "from selenium import webdriver\n",
    "from selenium.common.exceptions import NoSuchElementException\n",
    "from selenium.webdriver.chrome.options import Options\n",
    "from selenium.webdriver.common.by import By\n",
    "\n",
    "options = Options()\n",
    "options.add_argument('--headless')\n",
    "\n",
    "# logging.basicConfig(level=logging.INFO)\n",
    "log = logging.getLogger()\n",
    "\n",
    "def did_you_mean(query, source_language=\"auto\"):\n",
    "    \"\"\"\n",
    "    Spell-checks a sentence.\n",
    "\n",
    "    :param query: an input sentence to spellcheck.\n",
    "    :param source_language: a specific language to translate from. Defaults to automated language detection.\n",
    "\n",
    "    :return: the query after applying suggestions, or unmodified if none is found.\n",
    "    \"\"\"\n",
    "\n",
    "    driver = webdriver.Chrome(options=options)\n",
    "    query = str(query).strip()\n",
    "    url = \"https://translate.google.com/#view=home&op=translate&sl=%s&tl=en&text=\" % source_language + quote(query)\n",
    "\n",
    "    driver.get(url)\n",
    "    # log.debug(driver.execute_script(\"return document.documentElement.outerHTML;\"))\n",
    "    div = driver.find_element(By.ID, \"spelling-correction\")\n",
    "    log.info(\"<div>: [%s]\" % div.get_attribute('innerHTML'))\n",
    "    try:\n",
    "        a = div.find_element_by_tag_name(\"a\")\n",
    "        a_html = a.get_attribute('innerHTML')\n",
    "        log.info(\"<a>: [%s]\" % a_html)\n",
    "        if len(a_html):\n",
    "            div = a\n",
    "    except NoSuchElementException:\n",
    "        pass\n",
    "    suggestion = div.text.replace(\"Did you mean:\", \"\").strip()\n",
    "    log.info(\"Suggestion: %s\" % suggestion)\n",
    "    return suggestion if len(suggestion) else query"
   ]
  },
  {
   "cell_type": "code",
   "execution_count": 22,
   "id": "79c37bf0",
   "metadata": {},
   "outputs": [
    {
     "data": {
      "text/plain": [
       "'Colet example, and SA sported ronals Gentl Twitte festive) efetive mary m vice and ng book greet gr energ and ww. wheredar exampl as captured wellin GEN, BARRY B. MCCAFFREY, USA REE WONEN Schwarzkopf *** Life Lessons of The BEAR by GUS LEE Best-selling author of Courage: The Backbone of Leadership'"
      ]
     },
     "execution_count": 22,
     "metadata": {},
     "output_type": "execute_result"
    }
   ],
   "source": [
    "X_train[0]"
   ]
  },
  {
   "cell_type": "code",
   "execution_count": 23,
   "id": "6c6e00e6",
   "metadata": {},
   "outputs": [
    {
     "ename": "NoSuchElementException",
     "evalue": "Message: no such element: Unable to locate element: {\"method\":\"css selector\",\"selector\":\"[id=\"spelling-correction\"]\"}\n  (Session info: headless chrome=114.0.5735.133); For documentation on this error, please visit: https://www.selenium.dev/documentation/webdriver/troubleshooting/errors#no-such-element-exception\nStacktrace:\n#0 0x56244c37d4e3 <unknown>\n#1 0x56244c0acc76 <unknown>\n#2 0x56244c0e8c96 <unknown>\n#3 0x56244c0e8dc1 <unknown>\n#4 0x56244c1227f4 <unknown>\n#5 0x56244c10803d <unknown>\n#6 0x56244c12030e <unknown>\n#7 0x56244c107de3 <unknown>\n#8 0x56244c0dd2dd <unknown>\n#9 0x56244c0de34e <unknown>\n#10 0x56244c33d3e4 <unknown>\n#11 0x56244c3413d7 <unknown>\n#12 0x56244c34bb20 <unknown>\n#13 0x56244c342023 <unknown>\n#14 0x56244c3101aa <unknown>\n#15 0x56244c3666b8 <unknown>\n#16 0x56244c366847 <unknown>\n#17 0x56244c376243 <unknown>\n#18 0x7f14b17beb43 <unknown>\n",
     "output_type": "error",
     "traceback": [
      "\u001b[0;31m---------------------------------------------------------------------------\u001b[0m",
      "\u001b[0;31mNoSuchElementException\u001b[0m                    Traceback (most recent call last)",
      "Cell \u001b[0;32mIn [23], line 1\u001b[0m\n\u001b[0;32m----> 1\u001b[0m \u001b[43mdid_you_mean\u001b[49m\u001b[43m(\u001b[49m\u001b[43mX_train\u001b[49m\u001b[43m[\u001b[49m\u001b[38;5;241;43m1\u001b[39;49m\u001b[43m]\u001b[49m\u001b[43m)\u001b[49m\n",
      "Cell \u001b[0;32mIn [20], line 32\u001b[0m, in \u001b[0;36mdid_you_mean\u001b[0;34m(query, source_language)\u001b[0m\n\u001b[1;32m     30\u001b[0m driver\u001b[38;5;241m.\u001b[39mget(url)\n\u001b[1;32m     31\u001b[0m \u001b[38;5;66;03m# log.debug(driver.execute_script(\"return document.documentElement.outerHTML;\"))\u001b[39;00m\n\u001b[0;32m---> 32\u001b[0m div \u001b[38;5;241m=\u001b[39m \u001b[43mdriver\u001b[49m\u001b[38;5;241;43m.\u001b[39;49m\u001b[43mfind_element\u001b[49m\u001b[43m(\u001b[49m\u001b[43mBy\u001b[49m\u001b[38;5;241;43m.\u001b[39;49m\u001b[43mID\u001b[49m\u001b[43m,\u001b[49m\u001b[43m \u001b[49m\u001b[38;5;124;43m\"\u001b[39;49m\u001b[38;5;124;43mspelling-correction\u001b[39;49m\u001b[38;5;124;43m\"\u001b[39;49m\u001b[43m)\u001b[49m\n\u001b[1;32m     33\u001b[0m log\u001b[38;5;241m.\u001b[39minfo(\u001b[38;5;124m\"\u001b[39m\u001b[38;5;124m<div>: [\u001b[39m\u001b[38;5;132;01m%s\u001b[39;00m\u001b[38;5;124m]\u001b[39m\u001b[38;5;124m\"\u001b[39m \u001b[38;5;241m%\u001b[39m div\u001b[38;5;241m.\u001b[39mget_attribute(\u001b[38;5;124m'\u001b[39m\u001b[38;5;124minnerHTML\u001b[39m\u001b[38;5;124m'\u001b[39m))\n\u001b[1;32m     34\u001b[0m \u001b[38;5;28;01mtry\u001b[39;00m:\n",
      "File \u001b[0;32m~/.pyenv/versions/3.10.6/envs/lewagon/lib/python3.10/site-packages/selenium/webdriver/remote/webdriver.py:740\u001b[0m, in \u001b[0;36mWebDriver.find_element\u001b[0;34m(self, by, value)\u001b[0m\n\u001b[1;32m    737\u001b[0m     by \u001b[38;5;241m=\u001b[39m By\u001b[38;5;241m.\u001b[39mCSS_SELECTOR\n\u001b[1;32m    738\u001b[0m     value \u001b[38;5;241m=\u001b[39m \u001b[38;5;124mf\u001b[39m\u001b[38;5;124m'\u001b[39m\u001b[38;5;124m[name=\u001b[39m\u001b[38;5;124m\"\u001b[39m\u001b[38;5;132;01m{\u001b[39;00mvalue\u001b[38;5;132;01m}\u001b[39;00m\u001b[38;5;124m\"\u001b[39m\u001b[38;5;124m]\u001b[39m\u001b[38;5;124m'\u001b[39m\n\u001b[0;32m--> 740\u001b[0m \u001b[38;5;28;01mreturn\u001b[39;00m \u001b[38;5;28;43mself\u001b[39;49m\u001b[38;5;241;43m.\u001b[39;49m\u001b[43mexecute\u001b[49m\u001b[43m(\u001b[49m\u001b[43mCommand\u001b[49m\u001b[38;5;241;43m.\u001b[39;49m\u001b[43mFIND_ELEMENT\u001b[49m\u001b[43m,\u001b[49m\u001b[43m \u001b[49m\u001b[43m{\u001b[49m\u001b[38;5;124;43m\"\u001b[39;49m\u001b[38;5;124;43musing\u001b[39;49m\u001b[38;5;124;43m\"\u001b[39;49m\u001b[43m:\u001b[49m\u001b[43m \u001b[49m\u001b[43mby\u001b[49m\u001b[43m,\u001b[49m\u001b[43m \u001b[49m\u001b[38;5;124;43m\"\u001b[39;49m\u001b[38;5;124;43mvalue\u001b[39;49m\u001b[38;5;124;43m\"\u001b[39;49m\u001b[43m:\u001b[49m\u001b[43m \u001b[49m\u001b[43mvalue\u001b[49m\u001b[43m}\u001b[49m\u001b[43m)\u001b[49m[\u001b[38;5;124m\"\u001b[39m\u001b[38;5;124mvalue\u001b[39m\u001b[38;5;124m\"\u001b[39m]\n",
      "File \u001b[0;32m~/.pyenv/versions/3.10.6/envs/lewagon/lib/python3.10/site-packages/selenium/webdriver/remote/webdriver.py:346\u001b[0m, in \u001b[0;36mWebDriver.execute\u001b[0;34m(self, driver_command, params)\u001b[0m\n\u001b[1;32m    344\u001b[0m response \u001b[38;5;241m=\u001b[39m \u001b[38;5;28mself\u001b[39m\u001b[38;5;241m.\u001b[39mcommand_executor\u001b[38;5;241m.\u001b[39mexecute(driver_command, params)\n\u001b[1;32m    345\u001b[0m \u001b[38;5;28;01mif\u001b[39;00m response:\n\u001b[0;32m--> 346\u001b[0m     \u001b[38;5;28;43mself\u001b[39;49m\u001b[38;5;241;43m.\u001b[39;49m\u001b[43merror_handler\u001b[49m\u001b[38;5;241;43m.\u001b[39;49m\u001b[43mcheck_response\u001b[49m\u001b[43m(\u001b[49m\u001b[43mresponse\u001b[49m\u001b[43m)\u001b[49m\n\u001b[1;32m    347\u001b[0m     response[\u001b[38;5;124m\"\u001b[39m\u001b[38;5;124mvalue\u001b[39m\u001b[38;5;124m\"\u001b[39m] \u001b[38;5;241m=\u001b[39m \u001b[38;5;28mself\u001b[39m\u001b[38;5;241m.\u001b[39m_unwrap_value(response\u001b[38;5;241m.\u001b[39mget(\u001b[38;5;124m\"\u001b[39m\u001b[38;5;124mvalue\u001b[39m\u001b[38;5;124m\"\u001b[39m, \u001b[38;5;28;01mNone\u001b[39;00m))\n\u001b[1;32m    348\u001b[0m     \u001b[38;5;28;01mreturn\u001b[39;00m response\n",
      "File \u001b[0;32m~/.pyenv/versions/3.10.6/envs/lewagon/lib/python3.10/site-packages/selenium/webdriver/remote/errorhandler.py:245\u001b[0m, in \u001b[0;36mErrorHandler.check_response\u001b[0;34m(self, response)\u001b[0m\n\u001b[1;32m    243\u001b[0m         alert_text \u001b[38;5;241m=\u001b[39m value[\u001b[38;5;124m\"\u001b[39m\u001b[38;5;124malert\u001b[39m\u001b[38;5;124m\"\u001b[39m]\u001b[38;5;241m.\u001b[39mget(\u001b[38;5;124m\"\u001b[39m\u001b[38;5;124mtext\u001b[39m\u001b[38;5;124m\"\u001b[39m)\n\u001b[1;32m    244\u001b[0m     \u001b[38;5;28;01mraise\u001b[39;00m exception_class(message, screen, stacktrace, alert_text)  \u001b[38;5;66;03m# type: ignore[call-arg]  # mypy is not smart enough here\u001b[39;00m\n\u001b[0;32m--> 245\u001b[0m \u001b[38;5;28;01mraise\u001b[39;00m exception_class(message, screen, stacktrace)\n",
      "\u001b[0;31mNoSuchElementException\u001b[0m: Message: no such element: Unable to locate element: {\"method\":\"css selector\",\"selector\":\"[id=\"spelling-correction\"]\"}\n  (Session info: headless chrome=114.0.5735.133); For documentation on this error, please visit: https://www.selenium.dev/documentation/webdriver/troubleshooting/errors#no-such-element-exception\nStacktrace:\n#0 0x56244c37d4e3 <unknown>\n#1 0x56244c0acc76 <unknown>\n#2 0x56244c0e8c96 <unknown>\n#3 0x56244c0e8dc1 <unknown>\n#4 0x56244c1227f4 <unknown>\n#5 0x56244c10803d <unknown>\n#6 0x56244c12030e <unknown>\n#7 0x56244c107de3 <unknown>\n#8 0x56244c0dd2dd <unknown>\n#9 0x56244c0de34e <unknown>\n#10 0x56244c33d3e4 <unknown>\n#11 0x56244c3413d7 <unknown>\n#12 0x56244c34bb20 <unknown>\n#13 0x56244c342023 <unknown>\n#14 0x56244c3101aa <unknown>\n#15 0x56244c3666b8 <unknown>\n#16 0x56244c366847 <unknown>\n#17 0x56244c376243 <unknown>\n#18 0x7f14b17beb43 <unknown>\n"
     ]
    }
   ],
   "source": [
    "did_you_mean(X_train[1])"
   ]
  },
  {
   "cell_type": "code",
   "execution_count": null,
   "id": "112172e7",
   "metadata": {},
   "outputs": [],
   "source": []
  },
  {
   "cell_type": "code",
   "execution_count": 12,
   "id": "471df74d",
   "metadata": {},
   "outputs": [],
   "source": [
    "from selenium import webdriver\n",
    "import chromedriver_binary\n",
    "\n",
    "driver = webdriver.Chrome()\n",
    "driver.get(\"https://recipes.lewagon.com/recipes/advanced\")"
   ]
  },
  {
   "cell_type": "code",
   "execution_count": null,
   "id": "75311172",
   "metadata": {},
   "outputs": [],
   "source": [
    "from math import log\n",
    "\n",
    "# Build a cost dictionary, assuming Zipf's law and cost = -math.log(probability).\n",
    "words = open(\"words-by-frequency.txt\").read().split()\n",
    "wordcost = dict((k, log((i+1)*log(len(words)))) for i,k in enumerate(words))\n",
    "maxword = max(len(x) for x in words)\n",
    "\n",
    "def infer_spaces(s):\n",
    "    \"\"\"Uses dynamic programming to infer the location of spaces in a string\n",
    "    without spaces.\"\"\"\n",
    "\n",
    "    # Find the best match for the i first characters, assuming cost has\n",
    "    # been built for the i-1 first characters.\n",
    "    # Returns a pair (match_cost, match_length).\n",
    "    def best_match(i):\n",
    "        candidates = enumerate(reversed(cost[max(0, i-maxword):i]))\n",
    "        return min((c + wordcost.get(s[i-k-1:i], 9e999), k+1) for k,c in candidates)\n",
    "\n",
    "    # Build the cost array.\n",
    "    cost = [0]\n",
    "    for i in range(1,len(s)+1):\n",
    "        c,k = best_match(i)\n",
    "        cost.append(c)\n",
    "\n",
    "    # Backtrack to recover the minimal-cost string.\n",
    "    out = []\n",
    "    i = len(s)\n",
    "    while i>0:\n",
    "        c,k = best_match(i)\n",
    "        assert c == cost[i]\n",
    "        out.append(s[i-k:i])\n",
    "        i -= k\n",
    "\n",
    "    return \" \".join(reversed(out))"
   ]
  },
  {
   "cell_type": "code",
   "execution_count": 47,
   "id": "a5c402f9",
   "metadata": {},
   "outputs": [],
   "source": [
    "def preprocessed_title_test(titles):\n",
    "    output = titles.str.lower()\n",
    "    output = output.apply(lambda x: \"\".join([i for i in x if i not in string.punctuation]))\n",
    "    output = output.apply(lambda x: \"\".join([i for i in x if i not in string.digits]))\n",
    "    output = output.apply(lambda x: re.split('\\W+', x))\n",
    "#     porter_stemmer = PorterStemmer()\n",
    "#     output = output.apply(lambda x: [porter_stemmer.stem(word) for word in x])\n",
    "#     stops = set(stopwords.words('english'))\n",
    "#     output = output.apply(lambda x: [word for word in x if word not in stops])\n",
    "\n",
    "    return output"
   ]
  },
  {
   "cell_type": "code",
   "execution_count": 10,
   "id": "ce15202a",
   "metadata": {},
   "outputs": [],
   "source": [
    "from spellchecker import SpellChecker"
   ]
  },
  {
   "cell_type": "code",
   "execution_count": 11,
   "id": "b44a588b",
   "metadata": {},
   "outputs": [],
   "source": [
    "spell = SpellChecker()"
   ]
  },
  {
   "cell_type": "code",
   "execution_count": 21,
   "id": "ee642402",
   "metadata": {},
   "outputs": [
    {
     "data": {
      "text/plain": [
       "{'carsten', \"ireland's\", 'krieger'}"
      ]
     },
     "execution_count": 21,
     "metadata": {},
     "output_type": "execute_result"
    }
   ],
   "source": [
    "misspelled = spell.unknown(X_train[9].split())\n",
    "misspelled"
   ]
  },
  {
   "cell_type": "code",
   "execution_count": 22,
   "id": "f5a1bab4",
   "metadata": {},
   "outputs": [
    {
     "name": "stdout",
     "output_type": "stream",
     "text": [
      "island's\n",
      "{'ireland', \"roland's\", \"island's\", \"leland's\"}\n",
      "trigger\n",
      "{'ringer', 'rigger', 'trigger', 'wringer', 'briefer', 'bringer'}\n",
      "cartel\n",
      "{'fasten', 'caster', 'austen', 'chasten', 'casted', 'cartel', 'larsen', 'carter', 'carted', 'kirsten', 'hasten', 'marten', 'carmen', 'castes', 'carte', 'oarsmen', 'careen', 'carson', 'christen', 'caste', 'carlton', 'carton'}\n"
     ]
    }
   ],
   "source": [
    "for word in misspelled:\n",
    "    # Get the one `most likely` answer\n",
    "    print(spell.correction(word))\n",
    "\n",
    "    # Get a list of `likely` options\n",
    "    print(spell.candidates(word))"
   ]
  },
  {
   "cell_type": "code",
   "execution_count": 56,
   "id": "bf92d9b2",
   "metadata": {},
   "outputs": [],
   "source": [
    "preproc = preprocessed_title_test(X_train[:10])"
   ]
  },
  {
   "cell_type": "code",
   "execution_count": 130,
   "id": "c4665798",
   "metadata": {},
   "outputs": [],
   "source": [
    "def spell_check(text):\n",
    "    spell = SpellChecker()\n",
    "    misspelled = spell.unknown(text)\n",
    "\n",
    "    fixed_words = []\n",
    "    for word in misspelled:\n",
    "        candidates = spell.candidates(word)\n",
    "        if candidates is not None and len(candidates) <= 5:\n",
    "            correction = spell.correction(word)\n",
    "            text = [correction if token == word else token for token in text]\n",
    "            fixed_words.append(word)\n",
    "\n",
    "    misspelled.difference_update(fixed_words)\n",
    "\n",
    "    text_copy = text.copy()\n",
    "    for i, word in enumerate(text_copy[:-1]):\n",
    "        if word in misspelled and text_copy[i+1] in misspelled:\n",
    "            combo_word = word + text_copy[i+1]\n",
    "            candidates = spell.candidates(combo_word)\n",
    "            if candidates is not None and len(candidates) <= 3:\n",
    "                text[i] = spell.correction(combo_word)\n",
    "                text[i+1] = \"\"\n",
    "\n",
    "    text = [word for word in text if word != \"\"]\n",
    "    return text"
   ]
  },
  {
   "cell_type": "code",
   "execution_count": 131,
   "id": "314ccb75",
   "metadata": {},
   "outputs": [
    {
     "data": {
      "text/plain": [
       "['comet',\n",
       " 'example',\n",
       " 'and',\n",
       " 'sa',\n",
       " 'sported',\n",
       " 'royals',\n",
       " 'gentle',\n",
       " 'twitter',\n",
       " 'festive',\n",
       " 'effective',\n",
       " 'mary',\n",
       " 'm',\n",
       " 'vice',\n",
       " 'and',\n",
       " 'ng',\n",
       " 'book',\n",
       " 'greet',\n",
       " 'gr',\n",
       " 'energy',\n",
       " 'and',\n",
       " 'ww',\n",
       " 'wherever',\n",
       " 'example',\n",
       " 'as',\n",
       " 'captured',\n",
       " 'welling',\n",
       " 'gen',\n",
       " 'barry',\n",
       " 'b',\n",
       " 'caffrey',\n",
       " 'usa',\n",
       " 'ree',\n",
       " 'women',\n",
       " 'schwarzkopf',\n",
       " 'life',\n",
       " 'lessons',\n",
       " 'of',\n",
       " 'the',\n",
       " 'bear',\n",
       " 'by',\n",
       " 'gus',\n",
       " 'lee',\n",
       " 'bestselling',\n",
       " 'author',\n",
       " 'of',\n",
       " 'courage',\n",
       " 'the',\n",
       " 'backbone',\n",
       " 'of',\n",
       " 'leadership']"
      ]
     },
     "execution_count": 131,
     "metadata": {},
     "output_type": "execute_result"
    }
   ],
   "source": [
    "spell_check(preproc[0])"
   ]
  },
  {
   "cell_type": "code",
   "execution_count": 132,
   "id": "a3c1e67f",
   "metadata": {},
   "outputs": [
    {
     "data": {
      "text/plain": [
       "['Colet',\n",
       " 'example,',\n",
       " 'and',\n",
       " 'SA',\n",
       " 'sported',\n",
       " 'ronals',\n",
       " 'Gentl',\n",
       " 'Twitte',\n",
       " 'festive)',\n",
       " 'efetive',\n",
       " 'mary',\n",
       " 'm',\n",
       " 'vice',\n",
       " 'and',\n",
       " 'ng',\n",
       " 'book',\n",
       " 'greet',\n",
       " 'gr',\n",
       " 'energ',\n",
       " 'and',\n",
       " 'ww.',\n",
       " 'wheredar',\n",
       " 'exampl',\n",
       " 'as',\n",
       " 'captured',\n",
       " 'wellin',\n",
       " 'GEN,',\n",
       " 'BARRY',\n",
       " 'B.',\n",
       " 'MCCAFFREY,',\n",
       " 'USA',\n",
       " 'REE',\n",
       " 'WONEN',\n",
       " 'Schwarzkopf',\n",
       " '***',\n",
       " 'Life',\n",
       " 'Lessons',\n",
       " 'of',\n",
       " 'The',\n",
       " 'BEAR',\n",
       " 'by',\n",
       " 'GUS',\n",
       " 'LEE',\n",
       " 'Best-selling',\n",
       " 'author',\n",
       " 'of',\n",
       " 'Courage:',\n",
       " 'The',\n",
       " 'Backbone',\n",
       " 'of',\n",
       " 'Leadership']"
      ]
     },
     "execution_count": 132,
     "metadata": {},
     "output_type": "execute_result"
    }
   ],
   "source": [
    "X_train[0].split()"
   ]
  },
  {
   "cell_type": "code",
   "execution_count": null,
   "id": "4dd5381c",
   "metadata": {},
   "outputs": [],
   "source": []
  },
  {
   "cell_type": "code",
   "execution_count": null,
   "id": "f897ea74",
   "metadata": {},
   "outputs": [],
   "source": []
  }
 ],
 "metadata": {
  "kernelspec": {
   "display_name": "Python 3 (ipykernel)",
   "language": "python",
   "name": "python3"
  },
  "language_info": {
   "codemirror_mode": {
    "name": "ipython",
    "version": 3
   },
   "file_extension": ".py",
   "mimetype": "text/x-python",
   "name": "python",
   "nbconvert_exporter": "python",
   "pygments_lexer": "ipython3",
   "version": "3.10.6"
  },
  "toc": {
   "base_numbering": 1,
   "nav_menu": {},
   "number_sections": true,
   "sideBar": true,
   "skip_h1_title": false,
   "title_cell": "Table of Contents",
   "title_sidebar": "Contents",
   "toc_cell": false,
   "toc_position": {},
   "toc_section_display": true,
   "toc_window_display": false
  }
 },
 "nbformat": 4,
 "nbformat_minor": 5
}

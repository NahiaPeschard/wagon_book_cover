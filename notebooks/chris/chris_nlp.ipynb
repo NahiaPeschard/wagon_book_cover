{
 "cells": [
  {
   "cell_type": "code",
   "execution_count": 49,
   "id": "859f0cc6",
   "metadata": {
    "colab": {
     "base_uri": "https://localhost:8080/"
    },
    "id": "859f0cc6",
    "outputId": "ec3c659f-da2f-419c-fe7b-37eb9ab3f9c9"
   },
   "outputs": [
    {
     "name": "stdout",
     "output_type": "stream",
     "text": [
      "Requirement already satisfied: optuna in /home/chris/.pyenv/versions/3.10.6/envs/lewagon/lib/python3.10/site-packages (3.1.1)\n",
      "Requirement already satisfied: alembic>=1.5.0 in /home/chris/.pyenv/versions/3.10.6/envs/lewagon/lib/python3.10/site-packages (from optuna) (1.11.1)\n",
      "Requirement already satisfied: cmaes>=0.9.1 in /home/chris/.pyenv/versions/3.10.6/envs/lewagon/lib/python3.10/site-packages (from optuna) (0.9.1)\n",
      "Requirement already satisfied: colorlog in /home/chris/.pyenv/versions/3.10.6/envs/lewagon/lib/python3.10/site-packages (from optuna) (6.7.0)\n",
      "Requirement already satisfied: numpy in /home/chris/.pyenv/versions/3.10.6/envs/lewagon/lib/python3.10/site-packages (from optuna) (1.23.5)\n",
      "Requirement already satisfied: packaging>=20.0 in /home/chris/.pyenv/versions/3.10.6/envs/lewagon/lib/python3.10/site-packages (from optuna) (21.3)\n",
      "Requirement already satisfied: sqlalchemy>=1.3.0 in /home/chris/.pyenv/versions/3.10.6/envs/lewagon/lib/python3.10/site-packages (from optuna) (2.0.14)\n",
      "Requirement already satisfied: tqdm in /home/chris/.pyenv/versions/3.10.6/envs/lewagon/lib/python3.10/site-packages (from optuna) (4.64.1)\n",
      "Requirement already satisfied: PyYAML in /home/chris/.pyenv/versions/3.10.6/envs/lewagon/lib/python3.10/site-packages (from optuna) (5.4.1)\n",
      "Requirement already satisfied: Mako in /home/chris/.pyenv/versions/3.10.6/envs/lewagon/lib/python3.10/site-packages (from alembic>=1.5.0->optuna) (1.2.4)\n",
      "Requirement already satisfied: typing-extensions>=4 in /home/chris/.pyenv/versions/3.10.6/envs/lewagon/lib/python3.10/site-packages (from alembic>=1.5.0->optuna) (4.4.0)\n",
      "Requirement already satisfied: pyparsing!=3.0.5,>=2.0.2 in /home/chris/.pyenv/versions/3.10.6/envs/lewagon/lib/python3.10/site-packages (from packaging>=20.0->optuna) (3.0.9)\n",
      "Requirement already satisfied: greenlet!=0.4.17 in /home/chris/.pyenv/versions/3.10.6/envs/lewagon/lib/python3.10/site-packages (from sqlalchemy>=1.3.0->optuna) (2.0.2)\n",
      "Requirement already satisfied: MarkupSafe>=0.9.2 in /home/chris/.pyenv/versions/3.10.6/envs/lewagon/lib/python3.10/site-packages (from Mako->alembic>=1.5.0->optuna) (2.1.1)\n"
     ]
    }
   ],
   "source": [
    "!pip install optuna\n",
    "import pandas as pd\n",
    "import numpy as np\n",
    "import matplotlib.pyplot as plt\n",
    "from PIL import Image\n",
    "import os\n",
    "\n",
    "import string\n",
    "\n",
    "from sklearn.pipeline import Pipeline\n",
    "from sklearn.base import BaseEstimator, TransformerMixin\n",
    "from sklearn.compose import ColumnTransformer\n",
    "from sklearn.preprocessing import MinMaxScaler\n",
    "from sklearn.model_selection import cross_validate\n",
    "from sklearn.metrics import top_k_accuracy_score\n",
    "\n",
    "\n",
    "import tensorflow as tf\n",
    "from tensorflow.keras.preprocessing.text import Tokenizer\n",
    "from tensorflow.keras.preprocessing.sequence import pad_sequences\n",
    "from tensorflow.keras import layers, Sequential\n",
    "from tensorflow.keras.callbacks import EarlyStopping\n",
    "from tensorflow.keras.utils import to_categorical\n",
    "\n",
    "import optuna"
   ]
  },
  {
   "cell_type": "code",
   "execution_count": null,
   "id": "24cd6810",
   "metadata": {
    "id": "24cd6810"
   },
   "outputs": [],
   "source": []
  },
  {
   "cell_type": "code",
   "execution_count": 2,
   "id": "5d7a62df",
   "metadata": {
    "id": "5d7a62df"
   },
   "outputs": [],
   "source": [
    "def plot_history(history, title='', axs=None, exp_name=\"\"):\n",
    "    if axs is not None:\n",
    "        ax1, ax2 = axs\n",
    "    else:\n",
    "        f, (ax1, ax2) = plt.subplots(1, 2, figsize=(12, 4))\n",
    "\n",
    "    if len(exp_name) > 0 and exp_name[0] != '_':\n",
    "        exp_name = '_' + exp_name\n",
    "    ax1.plot(history.history['loss'], label = 'train' + exp_name)\n",
    "    ax1.plot(history.history['val_loss'], label = 'val' + exp_name)\n",
    "    ax1.set_ylim(0., 3)\n",
    "    ax1.set_title('loss')\n",
    "    ax1.legend()\n",
    "\n",
    "    ax2.plot(history.history['accuracy'], label='train accuracy'  + exp_name)\n",
    "    ax2.plot(history.history['val_accuracy'], label='val accuracy'  + exp_name)\n",
    "    ax2.set_ylim(0., 1.0)\n",
    "    ax2.set_title('Accuracy')\n",
    "    ax2.legend()\n",
    "    return (ax1, ax2)"
   ]
  },
  {
   "cell_type": "code",
   "execution_count": 22,
   "id": "13d312a7",
   "metadata": {
    "colab": {
     "base_uri": "https://localhost:8080/",
     "height": 363
    },
    "id": "13d312a7",
    "outputId": "f99545a1-5287-41bb-eb56-52981d03270b"
   },
   "outputs": [],
   "source": [
    "X_train = pd.read_csv(\"../../raw_data/titles_train.csv\")[\"Title\"].astype(str)\n",
    "y_train = pd.read_csv(\"../../raw_data/train_y.csv\", delimiter=\" \", index_col=\"Id\")['Genre_id']\n",
    "X_test = pd.read_csv(\"../../raw_data/test_x.csv\", delimiter=\" \", index_col=\"Id\")[\"Title\"]\n",
    "y_test = pd.read_csv(\"../../raw_data/test_y.csv\", delimiter=\" \", index_col=\"Id\")['Genre_id']"
   ]
  },
  {
   "cell_type": "code",
   "execution_count": null,
   "id": "2F4bZ0EYtoqG",
   "metadata": {
    "id": "2F4bZ0EYtoqG"
   },
   "outputs": [],
   "source": []
  },
  {
   "cell_type": "code",
   "execution_count": 7,
   "id": "9xerZ_eRtWTu",
   "metadata": {
    "colab": {
     "base_uri": "https://localhost:8080/"
    },
    "id": "9xerZ_eRtWTu",
    "outputId": "38c25ec9-bfcc-4ccf-e790-eca7f5e198b1"
   },
   "outputs": [
    {
     "ename": "ModuleNotFoundError",
     "evalue": "No module named 'google.colab'",
     "output_type": "error",
     "traceback": [
      "\u001b[0;31m---------------------------------------------------------------------------\u001b[0m",
      "\u001b[0;31mModuleNotFoundError\u001b[0m                       Traceback (most recent call last)",
      "Cell \u001b[0;32mIn [7], line 2\u001b[0m\n\u001b[1;32m      1\u001b[0m \u001b[38;5;66;03m#load for colab\u001b[39;00m\n\u001b[0;32m----> 2\u001b[0m \u001b[38;5;28;01mfrom\u001b[39;00m \u001b[38;5;21;01mgoogle\u001b[39;00m\u001b[38;5;21;01m.\u001b[39;00m\u001b[38;5;21;01mcolab\u001b[39;00m \u001b[38;5;28;01mimport\u001b[39;00m drive\n\u001b[1;32m      3\u001b[0m drive\u001b[38;5;241m.\u001b[39mmount(\u001b[38;5;124m'\u001b[39m\u001b[38;5;124m/content/drive\u001b[39m\u001b[38;5;124m'\u001b[39m)\n\u001b[1;32m      5\u001b[0m X_train \u001b[38;5;241m=\u001b[39m pd\u001b[38;5;241m.\u001b[39mread_csv(\u001b[38;5;124m\"\u001b[39m\u001b[38;5;124m/content/drive/My Drive/Wagon-Book-Cover/train_x.csv\u001b[39m\u001b[38;5;124m\"\u001b[39m, delimiter\u001b[38;5;241m=\u001b[39m\u001b[38;5;124m\"\u001b[39m\u001b[38;5;124m \u001b[39m\u001b[38;5;124m\"\u001b[39m, index_col\u001b[38;5;241m=\u001b[39m\u001b[38;5;124m\"\u001b[39m\u001b[38;5;124mId\u001b[39m\u001b[38;5;124m\"\u001b[39m)[\u001b[38;5;124m\"\u001b[39m\u001b[38;5;124mTitle\u001b[39m\u001b[38;5;124m\"\u001b[39m]\n",
      "\u001b[0;31mModuleNotFoundError\u001b[0m: No module named 'google.colab'"
     ]
    }
   ],
   "source": [
    "#load for colab\n",
    "from google.colab import drive\n",
    "drive.mount('/content/drive')\n",
    "\n",
    "X_train = pd.read_csv(\"/content/drive/My Drive/Wagon-Book-Cover/train_x.csv\", delimiter=\" \", index_col=\"Id\")[\"Title\"]\n",
    "X_test = pd.read_csv(\"/content/drive/My Drive/Wagon-Book-Cover/test_x.csv\", delimiter=\" \", index_col=\"Id\")[\"Title\"]\n",
    "\n",
    "train_file_path = '/content/drive/My Drive/Wagon-Book-Cover/y_train_umbr.npy'\n",
    "test_file_path = '/content/drive/My Drive/Wagon-Book-Cover/y_test_umbr.npy'\n",
    "y_train_um = np.load(train_file_path, allow_pickle=True)\n",
    "y_test_um = np.load(test_file_path, allow_pickle=True)\n",
    "genre_dict = pd.DataFrame(y_train_um).set_index(0)[1].to_dict()\n",
    "genre_dict_um = pd.DataFrame(y_train_um).set_index(3)[2].to_dict()\n",
    "y_train_um = np.load(train_file_path, allow_pickle=True)[:, 3].astype(int)\n",
    "y_test_um = np.load(test_file_path, allow_pickle=True)[:, 3].astype(int)\n",
    "y_train = np.load(train_file_path, allow_pickle=True)[:, 0].astype(int)\n",
    "y_test = np.load(test_file_path, allow_pickle=True)[:, 0].astype(int)"
   ]
  },
  {
   "cell_type": "code",
   "execution_count": 23,
   "id": "83b801d7",
   "metadata": {
    "colab": {
     "base_uri": "https://localhost:8080/"
    },
    "id": "83b801d7",
    "outputId": "7ac58d50-5960-4178-deab-883ec6a0a9aa"
   },
   "outputs": [
    {
     "data": {
      "text/plain": [
       "0        Colet example, and SA sported ronals Gentl Twi...\n",
       "1                   Maghets Pulling Together Pushing Apart\n",
       "2        ENERGY SECURITY VOLUME SAGE LIBRARY OF INTERNA...\n",
       "3        AUDIOBOOK MP3-CD Insert Transfer Listen! TREES...\n",
       "4             City of Rocks Idaho A Climber's Guide untale\n",
       "                               ...                        \n",
       "51295    JOHN SANDFORD NEW YORK TIMES-BESTSELLING AUTHO...\n",
       "51296    SECOND EDITION THE CRIME WRITER'S GUIDE TO POL...\n",
       "51297               THE JEZEBEL REMEDY A Nord MARTIN CLARK\n",
       "51298                                  STARTUP GLENN OGURA\n",
       "51299    Bad karaden The Mystery Mystery Ender KILLER T...\n",
       "Name: Title, Length: 51300, dtype: object"
      ]
     },
     "execution_count": 23,
     "metadata": {},
     "output_type": "execute_result"
    }
   ],
   "source": [
    "X_train"
   ]
  },
  {
   "cell_type": "code",
   "execution_count": 24,
   "id": "d258b768",
   "metadata": {
    "id": "d258b768"
   },
   "outputs": [],
   "source": [
    "tokenizer = Tokenizer()\n",
    "tokenizer.fit_on_texts(X_train)\n",
    "X_train_token = tokenizer.texts_to_sequences(X_train)\n",
    "X_test_token = tokenizer.texts_to_sequences(X_test)"
   ]
  },
  {
   "cell_type": "code",
   "execution_count": 25,
   "id": "97590936",
   "metadata": {
    "colab": {
     "base_uri": "https://localhost:8080/",
     "height": 472
    },
    "id": "97590936",
    "outputId": "70e69b87-716b-40db-f9c6-5ea7e4c1721d"
   },
   "outputs": [
    {
     "data": {
      "image/png": "[encoded data removed]",
      "text/plain": [
       "<Figure size 640x480 with 1 Axes>"
      ]
     },
     "metadata": {},
     "output_type": "display_data"
    }
   ],
   "source": [
    "lengths = []\n",
    "for element in X_train_token:\n",
    "    lengths.append(len(element))\n",
    "\n",
    "plt.hist(lengths, bins=10)  # Adjust the number of bins as needed\n",
    "plt.xlabel('Length')\n",
    "plt.ylabel('Frequency')\n",
    "plt.title('Histogram of Element Lengths')\n",
    "plt.show()"
   ]
  },
  {
   "cell_type": "code",
   "execution_count": 26,
   "id": "bae87cc5",
   "metadata": {
    "colab": {
     "base_uri": "https://localhost:8080/"
    },
    "id": "bae87cc5",
    "outputId": "9c6d024d-990e-4386-8bee-e539de9080bf"
   },
   "outputs": [
    {
     "data": {
      "text/plain": [
       "array([[2.42130e+04, 6.51000e+03, 2.00000e+00, ..., 0.00000e+00,\n",
       "        0.00000e+00, 0.00000e+00],\n",
       "       [3.71030e+04, 3.71040e+04, 1.43500e+03, ..., 0.00000e+00,\n",
       "        0.00000e+00, 0.00000e+00],\n",
       "       [8.68000e+02, 6.66000e+02, 9.20000e+01, ..., 0.00000e+00,\n",
       "        0.00000e+00, 0.00000e+00],\n",
       "       ...,\n",
       "       [1.00000e+00, 3.26890e+04, 9.51100e+03, ..., 0.00000e+00,\n",
       "        0.00000e+00, 0.00000e+00],\n",
       "       [8.45300e+03, 1.80200e+03, 1.14027e+05, ..., 0.00000e+00,\n",
       "        0.00000e+00, 0.00000e+00],\n",
       "       [7.57000e+02, 1.14028e+05, 1.00000e+00, ..., 0.00000e+00,\n",
       "        0.00000e+00, 0.00000e+00]], dtype=float32)"
      ]
     },
     "execution_count": 26,
     "metadata": {},
     "output_type": "execute_result"
    }
   ],
   "source": [
    "X_train_pad = pad_sequences(X_train_token, dtype='float32', padding='post', value=0, maxlen=60)\n",
    "X_test_pad = pad_sequences(X_test_token, dtype='float32', padding='post', value=0, maxlen=60)\n",
    "X_train_pad"
   ]
  },
  {
   "cell_type": "code",
   "execution_count": 27,
   "id": "54792bd5",
   "metadata": {
    "colab": {
     "base_uri": "https://localhost:8080/"
    },
    "id": "54792bd5",
    "outputId": "dbdea30a-c493-4e98-b24b-9bbbb5b05081"
   },
   "outputs": [
    {
     "data": {
      "text/plain": [
       "(51300, 30)"
      ]
     },
     "execution_count": 27,
     "metadata": {},
     "output_type": "execute_result"
    }
   ],
   "source": [
    "y_train_cat = to_categorical(y_train, num_classes=30)\n",
    "y_test_cat = to_categorical(y_test, num_classes=30)\n",
    "y_train_cat.shape"
   ]
  },
  {
   "cell_type": "code",
   "execution_count": 28,
   "id": "056f16a3",
   "metadata": {
    "colab": {
     "base_uri": "https://localhost:8080/"
    },
    "id": "056f16a3",
    "outputId": "043194b3-3361-4c0f-c354-fbac55f275a8"
   },
   "outputs": [
    {
     "data": {
      "text/plain": [
       "114031"
      ]
     },
     "execution_count": 28,
     "metadata": {},
     "output_type": "execute_result"
    }
   ],
   "source": [
    "vocab_size = len(tokenizer.word_counts)\n",
    "vocab_size"
   ]
  },
  {
   "cell_type": "code",
   "execution_count": 31,
   "id": "1968c87b",
   "metadata": {
    "id": "1968c87b"
   },
   "outputs": [],
   "source": [
    "def initialize_model():\n",
    "    model = Sequential()\n",
    "    model.add(layers.Embedding(\n",
    "        input_dim=vocab_size+1, # 16 +1 for the 0 padding\n",
    "        output_dim=20,\n",
    "        input_length=60,\n",
    "        mask_zero=True, # Built-in masking layer :)\n",
    "    ))\n",
    "\n",
    "    model.add(layers.Conv1D(30, kernel_size=3))\n",
    "\n",
    "    model.add(layers.Flatten())\n",
    "\n",
    "    model.add(layers.Dense(30, activation=\"softmax\"))\n",
    "\n",
    "    model.compile(loss=\"categorical_crossentropy\", optimizer=\"rmsprop\", metrics=[\"accuracy\"])\n",
    "\n",
    "    return model"
   ]
  },
  {
   "cell_type": "code",
   "execution_count": 32,
   "id": "346474ae",
   "metadata": {
    "id": "346474ae",
    "outputId": "d63ceefc-803a-41f0-d3d5-27956eb87737"
   },
   "outputs": [
    {
     "name": "stdout",
     "output_type": "stream",
     "text": [
      "Epoch 1/1000\n",
      "2245/2245 [==============================] - 18s 7ms/step - loss: 2.9182 - accuracy: 0.1740 - val_loss: 3.1396 - val_accuracy: 0.1238\n",
      "Epoch 2/1000\n",
      "2245/2245 [==============================] - 15s 7ms/step - loss: 2.2550 - accuracy: 0.3722 - val_loss: 2.9516 - val_accuracy: 0.1813\n",
      "Epoch 3/1000\n",
      "2245/2245 [==============================] - 14s 6ms/step - loss: 1.8767 - accuracy: 0.4876 - val_loss: 2.8489 - val_accuracy: 0.2238\n",
      "Epoch 4/1000\n",
      "2245/2245 [==============================] - 15s 7ms/step - loss: 1.5911 - accuracy: 0.5774 - val_loss: 2.7223 - val_accuracy: 0.2765\n",
      "Epoch 5/1000\n",
      "2245/2245 [==============================] - 14s 6ms/step - loss: 1.3488 - accuracy: 0.6465 - val_loss: 2.9025 - val_accuracy: 0.2755\n",
      "Epoch 6/1000\n",
      "2245/2245 [==============================] - 15s 7ms/step - loss: 1.1410 - accuracy: 0.7073 - val_loss: 2.9590 - val_accuracy: 0.2888\n",
      "Epoch 7/1000\n",
      "2245/2245 [==============================] - 15s 7ms/step - loss: 0.9594 - accuracy: 0.7552 - val_loss: 2.9452 - val_accuracy: 0.3169\n",
      "Epoch 8/1000\n",
      "2245/2245 [==============================] - 16s 7ms/step - loss: 0.8032 - accuracy: 0.7979 - val_loss: 3.1011 - val_accuracy: 0.3066\n",
      "Epoch 9/1000\n",
      "2245/2245 [==============================] - 15s 7ms/step - loss: 0.6664 - accuracy: 0.8340 - val_loss: 3.3305 - val_accuracy: 0.3062\n",
      "Epoch 10/1000\n",
      "2245/2245 [==============================] - 15s 7ms/step - loss: 0.5548 - accuracy: 0.8631 - val_loss: 3.5398 - val_accuracy: 0.3016\n",
      "Epoch 11/1000\n",
      "2245/2245 [==============================] - 15s 7ms/step - loss: 0.4631 - accuracy: 0.8873 - val_loss: 3.7494 - val_accuracy: 0.2912\n",
      "Epoch 12/1000\n",
      "2245/2245 [==============================] - 16s 7ms/step - loss: 0.3846 - accuracy: 0.9072 - val_loss: 3.7917 - val_accuracy: 0.3052\n",
      "Epoch 13/1000\n",
      "2245/2245 [==============================] - 16s 7ms/step - loss: 0.3206 - accuracy: 0.9245 - val_loss: 3.9792 - val_accuracy: 0.2999\n",
      "Epoch 14/1000\n",
      "2245/2245 [==============================] - 15s 7ms/step - loss: 0.2682 - accuracy: 0.9380 - val_loss: 4.1370 - val_accuracy: 0.2997\n",
      "Epoch 15/1000\n",
      "2245/2245 [==============================] - 15s 7ms/step - loss: 0.2235 - accuracy: 0.9483 - val_loss: 4.3441 - val_accuracy: 0.2956\n",
      "Epoch 16/1000\n",
      "2245/2245 [==============================] - 16s 7ms/step - loss: 0.1877 - accuracy: 0.9566 - val_loss: 4.6675 - val_accuracy: 0.2797\n",
      "Epoch 17/1000\n",
      "2245/2245 [==============================] - 16s 7ms/step - loss: 0.1569 - accuracy: 0.9639 - val_loss: 4.7215 - val_accuracy: 0.2867\n",
      "The accuracy evaluated on the test set is of 39.930%\n"
     ]
    }
   ],
   "source": [
    "model_cnn = initialize_model()\n",
    "\n",
    "es = EarlyStopping(patience=10, restore_best_weights=True, monitor=\"val_accuracy\")\n",
    "\n",
    "history = model_cnn.fit(X_train_pad, y_train_cat,\n",
    "              epochs=1000,\n",
    "              batch_size=16,\n",
    "              validation_split=0.3,\n",
    "              callbacks=[es]\n",
    "             )\n",
    "\n",
    "\n",
    "res = model_cnn.evaluate(X_test_pad, y_test_cat, verbose=0)\n",
    "\n",
    "print(f'The accuracy evaluated on the test set is of {res[1]*100:.3f}%')"
   ]
  },
  {
   "cell_type": "code",
   "execution_count": null,
   "id": "ff54b4c2",
   "metadata": {
    "id": "ff54b4c2",
    "outputId": "03ccc7ad-a07d-484e-f723-e418ee0d2aac"
   },
   "outputs": [
    {
     "data": {
      "text/plain": [
       "(<AxesSubplot:title={'center':'loss'}>,\n",
       " <AxesSubplot:title={'center':'Accuracy'}>)"
      ]
     },
     "execution_count": 119,
     "metadata": {},
     "output_type": "execute_result"
    },
    {
     "data": {
      "image/png": "[encoded data removed]",
      "text/plain": [
       "<Figure size 1200x400 with 2 Axes>"
      ]
     },
     "metadata": {},
     "output_type": "display_data"
    }
   ],
   "source": [
    "plot_history(history)"
   ]
  },
  {
   "cell_type": "code",
   "execution_count": null,
   "id": "73be3f5b",
   "metadata": {
    "id": "73be3f5b",
    "outputId": "dc8b28e2-b8f1-47b8-9559-45373ff7f78e"
   },
   "outputs": [
    {
     "name": "stderr",
     "output_type": "stream",
     "text": [
      "/home/chris/.pyenv/versions/3.10.6/envs/lewagon/lib/python3.10/site-packages/keras/engine/training_v1.py:2359: UserWarning: `Model.state_updates` will be removed in a future version. This property should not be used in TensorFlow 2.0, as `updates` are applied automatically.\n",
      "  updates=self.state_updates,\n",
      "2023-06-14 17:43:15.732702: W tensorflow/c/c_api.cc:300] Operation '{name:'dense_28/Softmax' id:32925 op device:{requested: '', assigned: ''} def:{{{node dense_28/Softmax}} = Softmax[T=DT_FLOAT, _has_manual_control_dependencies=true](dense_28/BiasAdd)}}' was changed by setting attribute after it was run by a session. This mutation will have no effect, and will trigger an error in the future. Either don't modify nodes after running them or create a new session.\n"
     ]
    }
   ],
   "source": [
    "y_pred_full = model_cnn.predict(X_test_pad)\n",
    "y_pred = np.argmax(y_pred_full, axis=1)"
   ]
  },
  {
   "cell_type": "code",
   "execution_count": null,
   "id": "8d56b885",
   "metadata": {},
   "outputs": [],
   "source": [
    "top_k_accuracy = top_k_accuracy_score(y_test_um, y_pred_full, k=3)\n",
    "print(f'Top 3 accuracy: {top_k_accuracy*100:.2f}%')"
   ]
  },
  {
   "cell_type": "code",
   "execution_count": null,
   "id": "f405a2da",
   "metadata": {
    "id": "f405a2da",
    "outputId": "86c591a5-1b1b-4989-cc26-73a6781a7c04"
   },
   "outputs": [
    {
     "data": {
      "text/plain": [
       "<sklearn.metrics._plot.confusion_matrix.ConfusionMatrixDisplay at 0x7f146ae23eb0>"
      ]
     },
     "execution_count": 121,
     "metadata": {},
     "output_type": "execute_result"
    },
    {
     "data": {
      "image/png": "[encoded data removed]",
      "text/plain": [
       "<Figure size 1000x1000 with 2 Axes>"
      ]
     },
     "metadata": {},
     "output_type": "display_data"
    }
   ],
   "source": [
    "from sklearn.metrics import confusion_matrix, ConfusionMatrixDisplay\n",
    "import matplotlib.pyplot as plt\n",
    "\n",
    "cm = confusion_matrix(y_test, y_pred)\n",
    "disp = ConfusionMatrixDisplay(confusion_matrix=cm)\n",
    "\n",
    "fig, ax = plt.subplots(figsize=(10, 10))\n",
    "disp.plot(cmap=\"PuRd\", ax=ax)"
   ]
  },
  {
   "cell_type": "markdown",
   "id": "33e3ea8d",
   "metadata": {
    "id": "33e3ea8d"
   },
   "source": [
    "## Test umbrella category"
   ]
  },
  {
   "cell_type": "code",
   "execution_count": 36,
   "id": "141b032a",
   "metadata": {
    "id": "141b032a"
   },
   "outputs": [],
   "source": [
    "train_file_path = '../../raw_data/tmp_data/y_train_umbr.npy'\n",
    "test_file_path = '../../raw_data/tmp_data/y_test_umbr.npy'\n",
    "y_train_um = np.load(train_file_path, allow_pickle=True)\n",
    "y_test_um = np.load(test_file_path, allow_pickle=True)\n",
    "genre_dict = pd.DataFrame(y_train_um).set_index(3)[2].to_dict()"
   ]
  },
  {
   "cell_type": "code",
   "execution_count": 37,
   "id": "1c1e6aea",
   "metadata": {
    "id": "1c1e6aea"
   },
   "outputs": [],
   "source": [
    "y_train_um = np.load(train_file_path, allow_pickle=True)[:, 3].astype(int)\n",
    "y_test_um = np.load(test_file_path, allow_pickle=True)[:, 3].astype(int)"
   ]
  },
  {
   "cell_type": "code",
   "execution_count": 38,
   "id": "8b98c4a4",
   "metadata": {
    "id": "8b98c4a4",
    "outputId": "877616ef-23de-4833-a9f9-2b3809922327"
   },
   "outputs": [
    {
     "data": {
      "text/plain": [
       "array([0, 1, 2, ..., 4, 4, 4])"
      ]
     },
     "execution_count": 38,
     "metadata": {},
     "output_type": "execute_result"
    }
   ],
   "source": [
    "y_train_um"
   ]
  },
  {
   "cell_type": "code",
   "execution_count": 39,
   "id": "e3d47597",
   "metadata": {
    "id": "e3d47597",
    "outputId": "e1d7a3a8-3a4a-48c8-e4f9-2ad376bb7e68"
   },
   "outputs": [
    {
     "data": {
      "text/plain": [
       "(51300, 30)"
      ]
     },
     "execution_count": 39,
     "metadata": {},
     "output_type": "execute_result"
    }
   ],
   "source": [
    "y_train_um_cat = to_categorical(y_train_um, num_classes=8)\n",
    "y_test_um_cat = to_categorical(y_test_um, num_classes=8)\n",
    "y_train_cat.shape"
   ]
  },
  {
   "cell_type": "code",
   "execution_count": 42,
   "id": "5ee9e84e",
   "metadata": {
    "id": "5ee9e84e"
   },
   "outputs": [],
   "source": [
    "def initialize_model():\n",
    "    model = Sequential()\n",
    "    model.add(layers.Embedding(\n",
    "        input_dim=vocab_size+1, # 16 +1 for the 0 padding\n",
    "        output_dim=20,\n",
    "        input_length=60,\n",
    "        mask_zero=True, # Built-in masking layer :)\n",
    "    ))\n",
    "\n",
    "    model.add(layers.Conv1D(30, kernel_size=3))\n",
    "\n",
    "    model.add(layers.Flatten())\n",
    "\n",
    "    model.add(layers.Dense(8, activation=\"softmax\"))\n",
    "\n",
    "    model.compile(loss=\"categorical_crossentropy\", optimizer=\"rmsprop\", metrics=[\"accuracy\"])\n",
    "\n",
    "    return model"
   ]
  },
  {
   "cell_type": "code",
   "execution_count": 43,
   "id": "a5f55cfc",
   "metadata": {
    "id": "a5f55cfc",
    "outputId": "63fb35c1-74f7-4d92-df9d-8fd164ee9786",
    "scrolled": true
   },
   "outputs": [
    {
     "name": "stdout",
     "output_type": "stream",
     "text": [
      "Epoch 1/1000\n",
      "2245/2245 [==============================] - 20s 9ms/step - loss: 1.6067 - accuracy: 0.4089 - val_loss: 1.5691 - val_accuracy: 0.4589\n",
      "Epoch 2/1000\n",
      "2245/2245 [==============================] - 16s 7ms/step - loss: 1.1690 - accuracy: 0.6118 - val_loss: 1.4842 - val_accuracy: 0.5134\n",
      "Epoch 3/1000\n",
      "2245/2245 [==============================] - 16s 7ms/step - loss: 0.9635 - accuracy: 0.6943 - val_loss: 1.4910 - val_accuracy: 0.5399\n",
      "Epoch 4/1000\n",
      "2245/2245 [==============================] - 16s 7ms/step - loss: 0.8139 - accuracy: 0.7496 - val_loss: 1.5217 - val_accuracy: 0.5305\n",
      "Epoch 5/1000\n",
      "2245/2245 [==============================] - 16s 7ms/step - loss: 0.6902 - accuracy: 0.7901 - val_loss: 1.6059 - val_accuracy: 0.5405\n",
      "Epoch 6/1000\n",
      "2245/2245 [==============================] - 14s 6ms/step - loss: 0.5821 - accuracy: 0.8292 - val_loss: 1.6226 - val_accuracy: 0.5438\n",
      "Epoch 7/1000\n",
      "2245/2245 [==============================] - 15s 7ms/step - loss: 0.4843 - accuracy: 0.8590 - val_loss: 1.7004 - val_accuracy: 0.5437\n",
      "Epoch 8/1000\n",
      "2245/2245 [==============================] - 15s 7ms/step - loss: 0.3951 - accuracy: 0.8864 - val_loss: 1.7799 - val_accuracy: 0.5426\n",
      "Epoch 9/1000\n",
      "2245/2245 [==============================] - 16s 7ms/step - loss: 0.3184 - accuracy: 0.9106 - val_loss: 2.0032 - val_accuracy: 0.5201\n",
      "Epoch 10/1000\n",
      "2245/2245 [==============================] - 16s 7ms/step - loss: 0.2522 - accuracy: 0.9299 - val_loss: 2.1442 - val_accuracy: 0.5118\n",
      "Epoch 11/1000\n",
      "2245/2245 [==============================] - 16s 7ms/step - loss: 0.1994 - accuracy: 0.9459 - val_loss: 2.2370 - val_accuracy: 0.5222\n",
      "Epoch 12/1000\n",
      "2245/2245 [==============================] - 16s 7ms/step - loss: 0.1564 - accuracy: 0.9579 - val_loss: 2.5026 - val_accuracy: 0.4943\n",
      "Epoch 13/1000\n",
      "2245/2245 [==============================] - 15s 7ms/step - loss: 0.1226 - accuracy: 0.9671 - val_loss: 2.5064 - val_accuracy: 0.5024\n",
      "Epoch 14/1000\n",
      "2245/2245 [==============================] - 18s 8ms/step - loss: 0.0953 - accuracy: 0.9744 - val_loss: 2.7157 - val_accuracy: 0.4956\n",
      "Epoch 15/1000\n",
      "2245/2245 [==============================] - 17s 7ms/step - loss: 0.0747 - accuracy: 0.9799 - val_loss: 2.8740 - val_accuracy: 0.4942\n",
      "Epoch 16/1000\n",
      "2245/2245 [==============================] - 15s 7ms/step - loss: 0.0584 - accuracy: 0.9843 - val_loss: 2.9828 - val_accuracy: 0.4923\n",
      "The accuracy evaluated on the test set is of 59.140%\n"
     ]
    }
   ],
   "source": [
    "model_cnn = initialize_model()\n",
    "\n",
    "es = EarlyStopping(patience=10, restore_best_weights=True, monitor=\"val_accuracy\")\n",
    "\n",
    "history = model_cnn.fit(X_train_pad, y_train_um_cat,\n",
    "              epochs=1000,\n",
    "              batch_size=16,\n",
    "              validation_split=0.3,\n",
    "              callbacks=[es]\n",
    "             )\n",
    "\n",
    "\n",
    "res = model_cnn.evaluate(X_test_pad, y_test_um_cat, verbose=0)\n",
    "\n",
    "print(f'The accuracy evaluated on the test set is of {res[1]*100:.3f}%')"
   ]
  },
  {
   "cell_type": "code",
   "execution_count": 44,
   "id": "692780cd",
   "metadata": {
    "id": "692780cd",
    "outputId": "05bf4852-6de1-4e0f-b7a5-cf0ba844f68d"
   },
   "outputs": [
    {
     "data": {
      "text/plain": [
       "(<AxesSubplot:title={'center':'loss'}>,\n",
       " <AxesSubplot:title={'center':'Accuracy'}>)"
      ]
     },
     "execution_count": 44,
     "metadata": {},
     "output_type": "execute_result"
    },
    {
     "data": {
      "image/png": "[encoded data removed]",
      "text/plain": [
       "<Figure size 1200x400 with 2 Axes>"
      ]
     },
     "metadata": {},
     "output_type": "display_data"
    }
   ],
   "source": [
    "plot_history(history)"
   ]
  },
  {
   "cell_type": "code",
   "execution_count": 51,
   "id": "a6793c14",
   "metadata": {
    "id": "a6793c14",
    "outputId": "3799b575-0834-4317-a110-5ef4647c2356"
   },
   "outputs": [
    {
     "name": "stdout",
     "output_type": "stream",
     "text": [
      "179/179 [==============================] - 0s 2ms/step\n"
     ]
    }
   ],
   "source": [
    "y_pred_full = model_cnn.predict(X_test_pad)\n",
    "y_pred = np.argmax(y_pred_full, axis=1)"
   ]
  },
  {
   "cell_type": "code",
   "execution_count": 53,
   "id": "1a45a28d",
   "metadata": {},
   "outputs": [
    {
     "name": "stdout",
     "output_type": "stream",
     "text": [
      "Top 3 accuracy: 83.18%\n"
     ]
    }
   ],
   "source": [
    "top_k_accuracy = top_k_accuracy_score(y_test_um, y_pred_full, k=3)\n",
    "print(f'Top 3 accuracy: {top_k_accuracy*100:.2f}%')"
   ]
  },
  {
   "cell_type": "code",
   "execution_count": 46,
   "id": "c080a4bc",
   "metadata": {
    "id": "c080a4bc",
    "outputId": "e98e0b5c-322d-4290-c8c8-049480077f22"
   },
   "outputs": [
    {
     "data": {
      "text/plain": [
       "<sklearn.metrics._plot.confusion_matrix.ConfusionMatrixDisplay at 0x7f1e5828eda0>"
      ]
     },
     "execution_count": 46,
     "metadata": {},
     "output_type": "execute_result"
    },
    {
     "data": {
      "image/png": "[encoded data removed]",
      "text/plain": [
       "<Figure size 1000x1000 with 2 Axes>"
      ]
     },
     "metadata": {},
     "output_type": "display_data"
    }
   ],
   "source": [
    "from sklearn.metrics import confusion_matrix, ConfusionMatrixDisplay\n",
    "import matplotlib.pyplot as plt\n",
    "\n",
    "cm = confusion_matrix(y_test_um, y_pred)\n",
    "disp = ConfusionMatrixDisplay(confusion_matrix=cm)\n",
    "\n",
    "fig, ax = plt.subplots(figsize=(10, 10))\n",
    "disp.plot(cmap=\"PuRd\", ax=ax)"
   ]
  },
  {
   "cell_type": "code",
   "execution_count": 47,
   "id": "96639632",
   "metadata": {
    "id": "96639632",
    "outputId": "433eaf4f-745b-427f-c7d2-4746cffa5ddc"
   },
   "outputs": [
    {
     "data": {
      "text/plain": [
       "{0: 'History & Religion',\n",
       " 1: 'Relationships & Children',\n",
       " 2: 'Academic - Science',\n",
       " 3: 'Lifestyle & Fitness',\n",
       " 5: 'Academic - Humanities',\n",
       " 6: 'Arts & Hobbies',\n",
       " 4: 'Literature & Entertainment',\n",
       " 7: 'Academic - Pure'}"
      ]
     },
     "execution_count": 47,
     "metadata": {},
     "output_type": "execute_result"
    }
   ],
   "source": [
    "genre_dict"
   ]
  },
  {
   "cell_type": "markdown",
   "id": "e8b6e76d",
   "metadata": {
    "id": "e8b6e76d"
   },
   "source": [
    "## Transfer learning tests"
   ]
  },
  {
   "cell_type": "code",
   "execution_count": null,
   "id": "c2d66af5",
   "metadata": {
    "colab": {
     "base_uri": "https://localhost:8080/"
    },
    "id": "c2d66af5",
    "outputId": "a408074d-6c7b-4604-c5b3-87213143483f"
   },
   "outputs": [
    {
     "name": "stdout",
     "output_type": "stream",
     "text": [
      "Looking in indexes: https://pypi.org/simple, https://us-python.pkg.dev/colab-wheels/public/simple/\n",
      "Collecting transformers\n",
      "  Downloading transformers-4.30.2-py3-none-any.whl (7.2 MB)\n",
      "\u001b[2K     \u001b[90m━━━━━━━━━━━━━━━━━━━━━━━━━━━━━━━━━━━━━━━━\u001b[0m \u001b[32m7.2/7.2 MB\u001b[0m \u001b[31m61.6 MB/s\u001b[0m eta \u001b[36m0:00:00\u001b[0m\n",
      "\u001b[?25hRequirement already satisfied: filelock in /usr/local/lib/python3.10/dist-packages (from transformers) (3.12.0)\n",
      "Collecting huggingface-hub<1.0,>=0.14.1 (from transformers)\n",
      "  Downloading huggingface_hub-0.15.1-py3-none-any.whl (236 kB)\n",
      "\u001b[2K     \u001b[90m━━━━━━━━━━━━━━━━━━━━━━━━━━━━━━━━━━━━━━\u001b[0m \u001b[32m236.8/236.8 kB\u001b[0m \u001b[31m29.4 MB/s\u001b[0m eta \u001b[36m0:00:00\u001b[0m\n",
      "\u001b[?25hRequirement already satisfied: numpy>=1.17 in /usr/local/lib/python3.10/dist-packages (from transformers) (1.22.4)\n",
      "Requirement already satisfied: packaging>=20.0 in /usr/local/lib/python3.10/dist-packages (from transformers) (23.1)\n",
      "Requirement already satisfied: pyyaml>=5.1 in /usr/local/lib/python3.10/dist-packages (from transformers) (6.0)\n",
      "Requirement already satisfied: regex!=2019.12.17 in /usr/local/lib/python3.10/dist-packages (from transformers) (2022.10.31)\n",
      "Requirement already satisfied: requests in /usr/local/lib/python3.10/dist-packages (from transformers) (2.27.1)\n",
      "Collecting tokenizers!=0.11.3,<0.14,>=0.11.1 (from transformers)\n",
      "  Downloading tokenizers-0.13.3-cp310-cp310-manylinux_2_17_x86_64.manylinux2014_x86_64.whl (7.8 MB)\n",
      "\u001b[2K     \u001b[90m━━━━━━━━━━━━━━━━━━━━━━━━━━━━━━━━━━━━━━━━\u001b[0m \u001b[32m7.8/7.8 MB\u001b[0m \u001b[31m116.7 MB/s\u001b[0m eta \u001b[36m0:00:00\u001b[0m\n",
      "\u001b[?25hCollecting safetensors>=0.3.1 (from transformers)\n",
      "  Downloading safetensors-0.3.1-cp310-cp310-manylinux_2_17_x86_64.manylinux2014_x86_64.whl (1.3 MB)\n",
      "\u001b[2K     \u001b[90m━━━━━━━━━━━━━━━━━━━━━━━━━━━━━━━━━━━━━━━━\u001b[0m \u001b[32m1.3/1.3 MB\u001b[0m \u001b[31m85.4 MB/s\u001b[0m eta \u001b[36m0:00:00\u001b[0m\n",
      "\u001b[?25hRequirement already satisfied: tqdm>=4.27 in /usr/local/lib/python3.10/dist-packages (from transformers) (4.65.0)\n",
      "Requirement already satisfied: fsspec in /usr/local/lib/python3.10/dist-packages (from huggingface-hub<1.0,>=0.14.1->transformers) (2023.4.0)\n",
      "Requirement already satisfied: typing-extensions>=3.7.4.3 in /usr/local/lib/python3.10/dist-packages (from huggingface-hub<1.0,>=0.14.1->transformers) (4.5.0)\n",
      "Requirement already satisfied: urllib3<1.27,>=1.21.1 in /usr/local/lib/python3.10/dist-packages (from requests->transformers) (1.26.15)\n",
      "Requirement already satisfied: certifi>=2017.4.17 in /usr/local/lib/python3.10/dist-packages (from requests->transformers) (2022.12.7)\n",
      "Requirement already satisfied: charset-normalizer~=2.0.0 in /usr/local/lib/python3.10/dist-packages (from requests->transformers) (2.0.12)\n",
      "Requirement already satisfied: idna<4,>=2.5 in /usr/local/lib/python3.10/dist-packages (from requests->transformers) (3.4)\n",
      "Installing collected packages: tokenizers, safetensors, huggingface-hub, transformers\n",
      "Successfully installed huggingface-hub-0.15.1 safetensors-0.3.1 tokenizers-0.13.3 transformers-4.30.2\n"
     ]
    }
   ],
   "source": [
    "!pip install transformers\n",
    "import transformers"
   ]
  },
  {
   "cell_type": "code",
   "execution_count": null,
   "id": "7ef2a9c6",
   "metadata": {
    "colab": {
     "base_uri": "https://localhost:8080/",
     "height": 113,
     "referenced_widgets": [
      "bffa77b90b5d448db986a3035f3ac078",
      "1f62eae509ab45d5b6dcc0573f7766d2",
      "85c1888657534ad294235cd7a8cc04a6",
      "4322081787d8459baf90c63e102ab2cc",
      "92068f5e627b41cfaa6f4c5ac7fc14a5",
      "bac6f361b95b4604bd79e85bcad80573",
      "04033ca5017b41fba7003fc889f4bdf8",
      "36e7bbf085a64eefac3ee48c7e21d23c",
      "638c7cafdb2f42b8ad41c16449844759",
      "ca04977355724a07a3caac87a7a3b493",
      "6da949f95f3b4640a9e6dc876ee35994",
      "c8498bacc1f94f19b21dbfda74e7a9bc",
      "6cb2e6f88d3349449eb8005eb9bd6a56",
      "7fa6a83a15854582ab026b58715572b6",
      "08aec74cc2404698aea8feeff114fb2f",
      "883c463a4e5048dca480b2a14396fad7",
      "a1daf39b031548ae88f092d3ff06e786",
      "5562fde60f534b6ca447a2bea5ee2f08",
      "db5cedf3e1e14c808191de2194fc7765",
      "28f4bdee2f3f4a78964aacd6faad56d0",
      "f5b101ac050c4591a002b7a0efa413f0",
      "f5e72248f3ad42058c133563602b68e8",
      "bae49b7cf8bf4d958ba754428373a115",
      "4c84dea57b754e928a0b1d0e97e796e1",
      "d21006e022b54e80b4791fb2ca06b650",
      "5fac26664adc45eaae555950f173f082",
      "37b2e389fee84d069542d7bc7f2da6a2",
      "7c67d5289ca74aa9b73720cb7dcfb095",
      "7297db4cd2664089839214953369dd19",
      "e1527eb61cc94649bd2276fb48d8d194",
      "407748f4b56a42ba971242cb2dec48d8",
      "ddfb4c7937524fc4bfeb796f09326657",
      "1449b836776944ad9a73e9d17cd42aa0"
     ]
    },
    "id": "7ef2a9c6",
    "outputId": "7d8c9925-5835-4e7f-c36d-3e3e7ddca50c"
   },
   "outputs": [
    {
     "data": {
      "application/vnd.jupyter.widget-view+json": {
       "model_id": "bffa77b90b5d448db986a3035f3ac078",
       "version_major": 2,
       "version_minor": 0
      },
      "text/plain": [
       "Downloading (…)solve/main/vocab.txt:   0%|          | 0.00/232k [00:00<?, ?B/s]"
      ]
     },
     "metadata": {},
     "output_type": "display_data"
    },
    {
     "data": {
      "application/vnd.jupyter.widget-view+json": {
       "model_id": "c8498bacc1f94f19b21dbfda74e7a9bc",
       "version_major": 2,
       "version_minor": 0
      },
      "text/plain": [
       "Downloading (…)okenizer_config.json:   0%|          | 0.00/28.0 [00:00<?, ?B/s]"
      ]
     },
     "metadata": {},
     "output_type": "display_data"
    },
    {
     "data": {
      "application/vnd.jupyter.widget-view+json": {
       "model_id": "bae49b7cf8bf4d958ba754428373a115",
       "version_major": 2,
       "version_minor": 0
      },
      "text/plain": [
       "Downloading (…)lve/main/config.json:   0%|          | 0.00/483 [00:00<?, ?B/s]"
      ]
     },
     "metadata": {},
     "output_type": "display_data"
    }
   ],
   "source": [
    "tokenizer = transformers.DistilBertTokenizer.from_pretrained('distilbert-base-uncased')"
   ]
  },
  {
   "cell_type": "code",
   "execution_count": null,
   "id": "de4dcbf2",
   "metadata": {
    "id": "de4dcbf2"
   },
   "outputs": [],
   "source": [
    "X_train_tf = np.array([tokenizer(text, padding='max_length', max_length = 40, truncation=True)['input_ids'] for text in X_train])\n",
    "X_test_tf = np.array([tokenizer(text, padding='max_length', max_length = 40, truncation=True)['input_ids'] for text in X_test])"
   ]
  },
  {
   "cell_type": "code",
   "execution_count": null,
   "id": "b0178595",
   "metadata": {
    "colab": {
     "base_uri": "https://localhost:8080/"
    },
    "id": "b0178595",
    "outputId": "5619316b-5765-4016-f22e-a69a747ec6a2"
   },
   "outputs": [
    {
     "name": "stdout",
     "output_type": "stream",
     "text": [
      "Shape of training data:  (51300, 40)\n",
      "Shape of test data:  (5700, 40)\n"
     ]
    }
   ],
   "source": [
    "print('Shape of training data: ',X_train_tf.shape)\n",
    "print('Shape of test data: ',X_test_tf.shape)"
   ]
  },
  {
   "cell_type": "code",
   "execution_count": null,
   "id": "afe03058",
   "metadata": {
    "colab": {
     "base_uri": "https://localhost:8080/",
     "height": 136,
     "referenced_widgets": [
      "2b7874d07e7043dd94d31d14c486d856",
      "6661094482a34ac8b80ee1b6346c9baa",
      "2e6430bac7cd4d6dbb1da84b45a31b15",
      "7e348f84aa80445da95f9a12d0ba2bb5",
      "04d59491a2cc4804b0dc61869cbd2a2e",
      "934978082aff46539ef243dbab9d51fe",
      "7fc9797fd2fe40fa97108d4b3ff03da7",
      "ad2636fd287849ef8f336c24dd2db722",
      "af4ea900a4564854b6c979b27b6773ce",
      "2a0bc281916c4a859ca12877996371a1",
      "2020c90118624e4a8d13a9305cdb82bd"
     ]
    },
    "id": "afe03058",
    "outputId": "563ca31f-3103-480d-d06b-deae12cb3eda"
   },
   "outputs": [
    {
     "data": {
      "application/vnd.jupyter.widget-view+json": {
       "model_id": "2b7874d07e7043dd94d31d14c486d856",
       "version_major": 2,
       "version_minor": 0
      },
      "text/plain": [
       "Downloading model.safetensors:   0%|          | 0.00/268M [00:00<?, ?B/s]"
      ]
     },
     "metadata": {},
     "output_type": "display_data"
    },
    {
     "name": "stderr",
     "output_type": "stream",
     "text": [
      "Some weights of the PyTorch model were not used when initializing the TF 2.0 model TFDistilBertModel: ['vocab_layer_norm.weight', 'vocab_transform.weight', 'vocab_projector.bias', 'vocab_layer_norm.bias', 'vocab_transform.bias']\n",
      "- This IS expected if you are initializing TFDistilBertModel from a PyTorch model trained on another task or with another architecture (e.g. initializing a TFBertForSequenceClassification model from a BertForPreTraining model).\n",
      "- This IS NOT expected if you are initializing TFDistilBertModel from a PyTorch model that you expect to be exactly identical (e.g. initializing a TFBertForSequenceClassification model from a BertForSequenceClassification model).\n",
      "All the weights of TFDistilBertModel were initialized from the PyTorch model.\n",
      "If your task is similar to the task the model of the checkpoint was trained on, you can already use TFDistilBertModel for predictions without further training.\n"
     ]
    }
   ],
   "source": [
    "# Get BERT layer\n",
    "config = transformers.DistilBertConfig(dropout=0.2, attention_dropout=0.2)\n",
    "dbert_tf = transformers.TFDistilBertModel.from_pretrained('distilbert-base-uncased', config=config, trainable=False)"
   ]
  },
  {
   "cell_type": "code",
   "execution_count": null,
   "id": "2657d0dd",
   "metadata": {
    "colab": {
     "base_uri": "https://localhost:8080/"
    },
    "id": "2657d0dd",
    "outputId": "612330ad-325b-48db-bc7f-ee2b3aa36dea"
   },
   "outputs": [
    {
     "name": "stdout",
     "output_type": "stream",
     "text": [
      "Model: \"ClassificationModelTF\"\n",
      "_________________________________________________________________\n",
      " Layer (type)                Output Shape              Param #   \n",
      "=================================================================\n",
      " input_token (InputLayer)    [(None, 40)]              0         \n",
      "                                                                 \n",
      " tf_distil_bert_model (TFDis  TFBaseModelOutput(last_h  66362880 \n",
      " tilBertModel)               idden_state=(None, 40, 7            \n",
      "                             68),                                \n",
      "                              hidden_states=None, att            \n",
      "                             entions=None)                       \n",
      "                                                                 \n",
      " tf.__operators__.getitem_1   (None, 768)              0         \n",
      " (SlicingOpLambda)                                               \n",
      "                                                                 \n",
      " dropout (Dropout)           (None, 768)               0         \n",
      "                                                                 \n",
      " dense (Dense)               (None, 64)                49216     \n",
      "                                                                 \n",
      " classification (Dense)      (None, 30)                1950      \n",
      "                                                                 \n",
      "=================================================================\n",
      "Total params: 66,414,046\n",
      "Trainable params: 51,166\n",
      "Non-trainable params: 66,362,880\n",
      "_________________________________________________________________\n"
     ]
    }
   ],
   "source": [
    "from tensorflow.keras import models, layers, metrics\n",
    "\n",
    "input_ids_in = layers.Input(shape=(40,), name='input_token', dtype='int32')\n",
    "\n",
    "x = dbert_tf(input_ids=input_ids_in)[0][:,0,:]\n",
    "x = layers.Dropout(0.2, name='dropout')(x)\n",
    "x = layers.Dense(64, activation='relu', name='dense')(x)\n",
    "x = layers.Dense(30, activation='softmax', name='classification')(x)\n",
    "\n",
    "model_tf = models.Model(inputs=input_ids_in, outputs = x, name='ClassificationModelTF')\n",
    "\n",
    "model_tf.compile(optimizer='adam',loss='sparse_categorical_crossentropy', metrics=[metrics.SparseCategoricalAccuracy()])\n",
    "model_tf.summary()"
   ]
  },
  {
   "cell_type": "code",
   "execution_count": null,
   "id": "1da48315",
   "metadata": {
    "colab": {
     "base_uri": "https://localhost:8080/"
    },
    "id": "1da48315",
    "outputId": "4625e1a4-ac04-496f-c319-46da0c44ae1a"
   },
   "outputs": [
    {
     "name": "stdout",
     "output_type": "stream",
     "text": [
      "Epoch 1/100\n",
      "562/562 [==============================] - 96s 170ms/step - loss: 2.0629 - sparse_categorical_accuracy: 0.4170 - val_loss: 2.3060 - val_sparse_categorical_accuracy: 0.3404\n",
      "Epoch 2/100\n",
      "562/562 [==============================] - 75s 133ms/step - loss: 2.0355 - sparse_categorical_accuracy: 0.4214 - val_loss: 2.2207 - val_sparse_categorical_accuracy: 0.3572\n",
      "Epoch 3/100\n",
      "562/562 [==============================] - 94s 167ms/step - loss: 2.0205 - sparse_categorical_accuracy: 0.4275 - val_loss: 2.2472 - val_sparse_categorical_accuracy: 0.3600\n",
      "Epoch 4/100\n",
      "562/562 [==============================] - 94s 167ms/step - loss: 2.0088 - sparse_categorical_accuracy: 0.4293 - val_loss: 2.2714 - val_sparse_categorical_accuracy: 0.3589\n",
      "Epoch 5/100\n",
      "562/562 [==============================] - 94s 168ms/step - loss: 2.0053 - sparse_categorical_accuracy: 0.4304 - val_loss: 2.1433 - val_sparse_categorical_accuracy: 0.3864\n",
      "Epoch 6/100\n",
      "562/562 [==============================] - 94s 167ms/step - loss: 2.0064 - sparse_categorical_accuracy: 0.4286 - val_loss: 2.2310 - val_sparse_categorical_accuracy: 0.3679\n",
      "Epoch 7/100\n",
      "562/562 [==============================] - 74s 132ms/step - loss: 1.9910 - sparse_categorical_accuracy: 0.4311 - val_loss: 2.1829 - val_sparse_categorical_accuracy: 0.3806\n",
      "Epoch 8/100\n",
      "562/562 [==============================] - 74s 131ms/step - loss: 1.9885 - sparse_categorical_accuracy: 0.4314 - val_loss: 2.1117 - val_sparse_categorical_accuracy: 0.4005\n",
      "Epoch 9/100\n",
      "562/562 [==============================] - 93s 166ms/step - loss: 1.9828 - sparse_categorical_accuracy: 0.4365 - val_loss: 2.1970 - val_sparse_categorical_accuracy: 0.3804\n",
      "Epoch 10/100\n",
      "562/562 [==============================] - 94s 167ms/step - loss: 1.9882 - sparse_categorical_accuracy: 0.4335 - val_loss: 2.1461 - val_sparse_categorical_accuracy: 0.3892\n",
      "Epoch 11/100\n",
      "562/562 [==============================] - 94s 168ms/step - loss: 1.9810 - sparse_categorical_accuracy: 0.4378 - val_loss: 2.0896 - val_sparse_categorical_accuracy: 0.4063\n",
      "Epoch 12/100\n",
      "562/562 [==============================] - 94s 167ms/step - loss: 1.9696 - sparse_categorical_accuracy: 0.4392 - val_loss: 2.1735 - val_sparse_categorical_accuracy: 0.3894\n",
      "Epoch 13/100\n",
      "562/562 [==============================] - 94s 168ms/step - loss: 1.9764 - sparse_categorical_accuracy: 0.4389 - val_loss: 2.0373 - val_sparse_categorical_accuracy: 0.4148\n",
      "Epoch 14/100\n",
      "562/562 [==============================] - 94s 167ms/step - loss: 1.9701 - sparse_categorical_accuracy: 0.4383 - val_loss: 2.1664 - val_sparse_categorical_accuracy: 0.3869\n",
      "Epoch 15/100\n",
      "562/562 [==============================] - 94s 167ms/step - loss: 1.9669 - sparse_categorical_accuracy: 0.4408 - val_loss: 2.1574 - val_sparse_categorical_accuracy: 0.3862\n",
      "Epoch 16/100\n",
      "562/562 [==============================] - 94s 168ms/step - loss: 1.9603 - sparse_categorical_accuracy: 0.4399 - val_loss: 2.1231 - val_sparse_categorical_accuracy: 0.3934\n",
      "Epoch 17/100\n",
      "562/562 [==============================] - 94s 167ms/step - loss: 1.9608 - sparse_categorical_accuracy: 0.4397 - val_loss: 2.2540 - val_sparse_categorical_accuracy: 0.3826\n",
      "Epoch 18/100\n",
      "562/562 [==============================] - 94s 168ms/step - loss: 1.9586 - sparse_categorical_accuracy: 0.4417 - val_loss: 2.1483 - val_sparse_categorical_accuracy: 0.3937\n"
     ]
    }
   ],
   "source": [
    "from datetime import datetime\n",
    "\n",
    "es = EarlyStopping(patience=5, restore_best_weights=True, monitor=\"val_sparse_categorical_accuracy\")\n",
    "\n",
    "# Train the model\n",
    "start_time = datetime.now()\n",
    "history = model_tf.fit(X_train_tf,\n",
    "                       y_train,\n",
    "                       batch_size=64,\n",
    "                       shuffle=True,\n",
    "                       epochs=100,\n",
    "                       validation_split=0.3,\n",
    "                       callbacks=[es])\n",
    "end_time = datetime.now()\n",
    "\n",
    "training_time_tf = (end_time - start_time).total_seconds()"
   ]
  },
  {
   "cell_type": "code",
   "execution_count": null,
   "id": "d198202e",
   "metadata": {
    "colab": {
     "base_uri": "https://localhost:8080/",
     "height": 661
    },
    "id": "d198202e",
    "outputId": "e3c267a7-f47d-4775-cfcd-e337e2498f4a"
   },
   "outputs": [
    {
     "ename": "KeyError",
     "evalue": "ignored",
     "output_type": "error",
     "traceback": [
      "\u001b[0;31m---------------------------------------------------------------------------\u001b[0m",
      "\u001b[0;31mKeyError\u001b[0m                                  Traceback (most recent call last)",
      "\u001b[0;32m<ipython-input-20-a8489d1127d4>\u001b[0m in \u001b[0;36m<cell line: 1>\u001b[0;34m()\u001b[0m\n\u001b[0;32m----> 1\u001b[0;31m \u001b[0mplot_history\u001b[0m\u001b[0;34m(\u001b[0m\u001b[0mhistory\u001b[0m\u001b[0;34m)\u001b[0m\u001b[0;34m\u001b[0m\u001b[0;34m\u001b[0m\u001b[0m\n\u001b[0m",
      "\u001b[0;32m<ipython-input-2-39a2ae9bbf77>\u001b[0m in \u001b[0;36mplot_history\u001b[0;34m(history, title, axs, exp_name)\u001b[0m\n\u001b[1;32m     13\u001b[0m     \u001b[0max1\u001b[0m\u001b[0;34m.\u001b[0m\u001b[0mlegend\u001b[0m\u001b[0;34m(\u001b[0m\u001b[0;34m)\u001b[0m\u001b[0;34m\u001b[0m\u001b[0;34m\u001b[0m\u001b[0m\n\u001b[1;32m     14\u001b[0m \u001b[0;34m\u001b[0m\u001b[0m\n\u001b[0;32m---> 15\u001b[0;31m     \u001b[0max2\u001b[0m\u001b[0;34m.\u001b[0m\u001b[0mplot\u001b[0m\u001b[0;34m(\u001b[0m\u001b[0mhistory\u001b[0m\u001b[0;34m.\u001b[0m\u001b[0mhistory\u001b[0m\u001b[0;34m[\u001b[0m\u001b[0;34m'accuracy'\u001b[0m\u001b[0;34m]\u001b[0m\u001b[0;34m,\u001b[0m \u001b[0mlabel\u001b[0m\u001b[0;34m=\u001b[0m\u001b[0;34m'train accuracy'\u001b[0m  \u001b[0;34m+\u001b[0m \u001b[0mexp_name\u001b[0m\u001b[0;34m)\u001b[0m\u001b[0;34m\u001b[0m\u001b[0;34m\u001b[0m\u001b[0m\n\u001b[0m\u001b[1;32m     16\u001b[0m     \u001b[0max2\u001b[0m\u001b[0;34m.\u001b[0m\u001b[0mplot\u001b[0m\u001b[0;34m(\u001b[0m\u001b[0mhistory\u001b[0m\u001b[0;34m.\u001b[0m\u001b[0mhistory\u001b[0m\u001b[0;34m[\u001b[0m\u001b[0;34m'val_accuracy'\u001b[0m\u001b[0;34m]\u001b[0m\u001b[0;34m,\u001b[0m \u001b[0mlabel\u001b[0m\u001b[0;34m=\u001b[0m\u001b[0;34m'val accuracy'\u001b[0m  \u001b[0;34m+\u001b[0m \u001b[0mexp_name\u001b[0m\u001b[0;34m)\u001b[0m\u001b[0;34m\u001b[0m\u001b[0;34m\u001b[0m\u001b[0m\n\u001b[1;32m     17\u001b[0m     \u001b[0max2\u001b[0m\u001b[0;34m.\u001b[0m\u001b[0mset_ylim\u001b[0m\u001b[0;34m(\u001b[0m\u001b[0;36m0.\u001b[0m\u001b[0;34m,\u001b[0m \u001b[0;36m1.0\u001b[0m\u001b[0;34m)\u001b[0m\u001b[0;34m\u001b[0m\u001b[0;34m\u001b[0m\u001b[0m\n",
      "\u001b[0;31mKeyError\u001b[0m: 'accuracy'"
     ]
    },
    {
     "data": {
      "image/png": "[encoded data removed]",
      "text/plain": [
       "<Figure size 1200x400 with 2 Axes>"
      ]
     },
     "metadata": {},
     "output_type": "display_data"
    }
   ],
   "source": [
    "plot_history(history)"
   ]
  },
  {
   "cell_type": "code",
   "execution_count": null,
   "id": "e8f6fac3",
   "metadata": {
    "colab": {
     "base_uri": "https://localhost:8080/",
     "height": 235
    },
    "id": "e8f6fac3",
    "outputId": "90d1f291-7fa0-42bd-e186-a703c0482917"
   },
   "outputs": [
    {
     "ename": "NameError",
     "evalue": "ignored",
     "output_type": "error",
     "traceback": [
      "\u001b[0;31m---------------------------------------------------------------------------\u001b[0m",
      "\u001b[0;31mNameError\u001b[0m                                 Traceback (most recent call last)",
      "\u001b[0;32m<ipython-input-23-1e39a79324a0>\u001b[0m in \u001b[0;36m<cell line: 4>\u001b[0;34m()\u001b[0m\n\u001b[1;32m      2\u001b[0m \u001b[0;32mimport\u001b[0m \u001b[0mmatplotlib\u001b[0m\u001b[0;34m.\u001b[0m\u001b[0mpyplot\u001b[0m \u001b[0;32mas\u001b[0m \u001b[0mplt\u001b[0m\u001b[0;34m\u001b[0m\u001b[0;34m\u001b[0m\u001b[0m\n\u001b[1;32m      3\u001b[0m \u001b[0;34m\u001b[0m\u001b[0m\n\u001b[0;32m----> 4\u001b[0;31m \u001b[0mcm\u001b[0m \u001b[0;34m=\u001b[0m \u001b[0mconfusion_matrix\u001b[0m\u001b[0;34m(\u001b[0m\u001b[0my_test\u001b[0m\u001b[0;34m,\u001b[0m \u001b[0my_pred\u001b[0m\u001b[0;34m)\u001b[0m\u001b[0;34m\u001b[0m\u001b[0;34m\u001b[0m\u001b[0m\n\u001b[0m\u001b[1;32m      5\u001b[0m \u001b[0mdisp\u001b[0m \u001b[0;34m=\u001b[0m \u001b[0mConfusionMatrixDisplay\u001b[0m\u001b[0;34m(\u001b[0m\u001b[0mconfusion_matrix\u001b[0m\u001b[0;34m=\u001b[0m\u001b[0mcm\u001b[0m\u001b[0;34m)\u001b[0m\u001b[0;34m\u001b[0m\u001b[0;34m\u001b[0m\u001b[0m\n\u001b[1;32m      6\u001b[0m \u001b[0;34m\u001b[0m\u001b[0m\n",
      "\u001b[0;31mNameError\u001b[0m: name 'y_pred' is not defined"
     ]
    }
   ],
   "source": [
    "from sklearn.metrics import confusion_matrix, ConfusionMatrixDisplay\n",
    "import matplotlib.pyplot as plt\n",
    "\n",
    "cm = confusion_matrix(y_test, y_pred)\n",
    "disp = ConfusionMatrixDisplay(confusion_matrix=cm)\n",
    "\n",
    "fig, ax = plt.subplots(figsize=(10, 10))\n",
    "disp.plot(cmap=\"PuRd\", ax=ax)"
   ]
  },
  {
   "cell_type": "code",
   "execution_count": null,
   "id": "f80bfdcf",
   "metadata": {
    "colab": {
     "base_uri": "https://localhost:8080/"
    },
    "id": "f80bfdcf",
    "outputId": "496f4000-b8ff-4154-bca8-656cfd5b05cf"
   },
   "outputs": [
    {
     "name": "stdout",
     "output_type": "stream",
     "text": [
      "Model: \"ClassificationModelTF\"\n",
      "_________________________________________________________________\n",
      " Layer (type)                Output Shape              Param #   \n",
      "=================================================================\n",
      " input_token (InputLayer)    [(None, 40)]              0         \n",
      "                                                                 \n",
      " tf_distil_bert_model (TFDis  TFBaseModelOutput(last_h  66362880 \n",
      " tilBertModel)               idden_state=(None, 40, 7            \n",
      "                             68),                                \n",
      "                              hidden_states=None, att            \n",
      "                             entions=None)                       \n",
      "                                                                 \n",
      " tf.__operators__.getitem_3   (None, 768)              0         \n",
      " (SlicingOpLambda)                                               \n",
      "                                                                 \n",
      " dropout (Dropout)           (None, 768)               0         \n",
      "                                                                 \n",
      " dense (Dense)               (None, 64)                49216     \n",
      "                                                                 \n",
      " classification (Dense)      (None, 8)                 520       \n",
      "                                                                 \n",
      "=================================================================\n",
      "Total params: 66,412,616\n",
      "Trainable params: 49,736\n",
      "Non-trainable params: 66,362,880\n",
      "_________________________________________________________________\n"
     ]
    }
   ],
   "source": [
    "from tensorflow.keras import models, layers, metrics\n",
    "\n",
    "input_ids_in = layers.Input(shape=(40,), name='input_token', dtype='int32')\n",
    "\n",
    "x = dbert_tf(input_ids=input_ids_in)[0][:,0,:]\n",
    "x = layers.Dropout(0.2, name='dropout')(x)\n",
    "x = layers.Dense(64, activation='relu', name='dense')(x)\n",
    "x = layers.Dense(8, activation='softmax', name='classification')(x)\n",
    "\n",
    "model_tf = models.Model(inputs=input_ids_in, outputs = x, name='ClassificationModelTF')\n",
    "\n",
    "model_tf.compile(optimizer='adam',loss='sparse_categorical_crossentropy', metrics=[metrics.SparseCategoricalAccuracy()])\n",
    "model_tf.summary()"
   ]
  },
  {
   "cell_type": "code",
   "execution_count": null,
   "id": "2771f79e",
   "metadata": {
    "colab": {
     "base_uri": "https://localhost:8080/"
    },
    "id": "2771f79e",
    "outputId": "d709e527-10f0-4911-8b3c-53422660dba1"
   },
   "outputs": [
    {
     "name": "stdout",
     "output_type": "stream",
     "text": [
      "Epoch 1/100\n",
      "562/562 [==============================] - 80s 128ms/step - loss: 1.5165 - sparse_categorical_accuracy: 0.4591 - val_loss: 1.5003 - val_sparse_categorical_accuracy: 0.5027\n",
      "Epoch 2/100\n",
      "562/562 [==============================] - 73s 131ms/step - loss: 1.3663 - sparse_categorical_accuracy: 0.5180 - val_loss: 1.5009 - val_sparse_categorical_accuracy: 0.4912\n",
      "Epoch 3/100\n",
      "562/562 [==============================] - 93s 166ms/step - loss: 1.3383 - sparse_categorical_accuracy: 0.5276 - val_loss: 1.5017 - val_sparse_categorical_accuracy: 0.4933\n",
      "Epoch 4/100\n",
      "562/562 [==============================] - 74s 131ms/step - loss: 1.3248 - sparse_categorical_accuracy: 0.5320 - val_loss: 1.3773 - val_sparse_categorical_accuracy: 0.5457\n",
      "Epoch 5/100\n",
      "562/562 [==============================] - 93s 166ms/step - loss: 1.3146 - sparse_categorical_accuracy: 0.5365 - val_loss: 1.3831 - val_sparse_categorical_accuracy: 0.5285\n",
      "Epoch 6/100\n",
      "562/562 [==============================] - 94s 168ms/step - loss: 1.3079 - sparse_categorical_accuracy: 0.5371 - val_loss: 1.4493 - val_sparse_categorical_accuracy: 0.5045\n",
      "Epoch 7/100\n",
      "562/562 [==============================] - 94s 167ms/step - loss: 1.3009 - sparse_categorical_accuracy: 0.5378 - val_loss: 1.4256 - val_sparse_categorical_accuracy: 0.5090\n",
      "Epoch 8/100\n",
      "562/562 [==============================] - 74s 131ms/step - loss: 1.2925 - sparse_categorical_accuracy: 0.5441 - val_loss: 1.3460 - val_sparse_categorical_accuracy: 0.5444\n",
      "Epoch 9/100\n",
      "562/562 [==============================] - 94s 167ms/step - loss: 1.2814 - sparse_categorical_accuracy: 0.5484 - val_loss: 1.3035 - val_sparse_categorical_accuracy: 0.5581\n",
      "Epoch 10/100\n",
      "562/562 [==============================] - 94s 167ms/step - loss: 1.2763 - sparse_categorical_accuracy: 0.5493 - val_loss: 1.3216 - val_sparse_categorical_accuracy: 0.5606\n",
      "Epoch 11/100\n",
      "562/562 [==============================] - 94s 167ms/step - loss: 1.2722 - sparse_categorical_accuracy: 0.5503 - val_loss: 1.2756 - val_sparse_categorical_accuracy: 0.5703\n",
      "Epoch 12/100\n",
      "562/562 [==============================] - 94s 167ms/step - loss: 1.2632 - sparse_categorical_accuracy: 0.5539 - val_loss: 1.3160 - val_sparse_categorical_accuracy: 0.5609\n",
      "Epoch 13/100\n",
      "562/562 [==============================] - 94s 167ms/step - loss: 1.2578 - sparse_categorical_accuracy: 0.5553 - val_loss: 1.3240 - val_sparse_categorical_accuracy: 0.5578\n",
      "Epoch 14/100\n",
      "562/562 [==============================] - 94s 167ms/step - loss: 1.2523 - sparse_categorical_accuracy: 0.5559 - val_loss: 1.3318 - val_sparse_categorical_accuracy: 0.5488\n",
      "Epoch 15/100\n",
      "562/562 [==============================] - 94s 167ms/step - loss: 1.2521 - sparse_categorical_accuracy: 0.5548 - val_loss: 1.2782 - val_sparse_categorical_accuracy: 0.5653\n",
      "Epoch 16/100\n",
      "562/562 [==============================] - 94s 167ms/step - loss: 1.2460 - sparse_categorical_accuracy: 0.5570 - val_loss: 1.3636 - val_sparse_categorical_accuracy: 0.5338\n"
     ]
    }
   ],
   "source": [
    "from datetime import datetime\n",
    "\n",
    "es = EarlyStopping(patience=5, restore_best_weights=True, monitor=\"val_sparse_categorical_accuracy\")\n",
    "\n",
    "# Train the model\n",
    "start_time = datetime.now()\n",
    "history = model_tf.fit(X_train_tf,\n",
    "                       y_train_um,\n",
    "                       batch_size=64,\n",
    "                       shuffle=True,\n",
    "                       epochs=100,\n",
    "                       validation_split=0.3,\n",
    "                       callbacks=[es])\n",
    "end_time = datetime.now()\n",
    "\n",
    "training_time_tf = (end_time - start_time).total_seconds()"
   ]
  },
  {
   "cell_type": "code",
   "execution_count": null,
   "id": "f72f3cc4",
   "metadata": {
    "id": "f72f3cc4"
   },
   "outputs": [],
   "source": []
  },
  {
   "cell_type": "code",
   "execution_count": null,
   "id": "b6443ee7",
   "metadata": {
    "id": "b6443ee7"
   },
   "outputs": [],
   "source": []
  },
  {
   "cell_type": "markdown",
   "id": "9c07aba0",
   "metadata": {
    "id": "9c07aba0"
   },
   "source": [
    "# Search space using optuna"
   ]
  },
  {
   "cell_type": "code",
   "execution_count": null,
   "id": "0e73a9db",
   "metadata": {
    "id": "0e73a9db"
   },
   "outputs": [],
   "source": [
    "def create_model(trial):\n",
    "    model = Sequential()\n",
    "    model.add(layers.Embedding(\n",
    "        input_dim=vocab_size+1,\n",
    "        output_dim=trial.suggest_int(\"embedding_units\", 10, 50),\n",
    "        input_length=40,\n",
    "        mask_zero=True,\n",
    "    ))\n",
    "\n",
    "    model.add(layers.Conv1D(trial.suggest_int(\"conv_units\", 10, 50), kernel_size=trial.suggest_int(\"kernel_size\", 3, 5)))\n",
    "\n",
    "    model.add(layers.Flatten())\n",
    "\n",
    "    model.add(layers.Dense(30, activation=\"softmax\"))\n",
    "\n",
    "    model.compile(loss=\"categorical_crossentropy\", optimizer=\"rmsprop\", metrics=[\"accuracy\"])\n",
    "\n",
    "    return model\n",
    "\n",
    "def objective(trial):\n",
    "    model = create_model(trial)\n",
    "    es = EarlyStopping(patience=10, restore_best_weights=True, monitor=\"val_accuracy\")\n",
    "    history = model.fit(X_train_pad, y_train_cat,\n",
    "                        epochs=1000,\n",
    "                        batch_size=32,\n",
    "                        validation_split=0.3,\n",
    "                        callbacks=[es],\n",
    "                        verbose=0)\n",
    "    return history.history[\"val_accuracy\"][-1]"
   ]
  },
  {
   "cell_type": "code",
   "execution_count": null,
   "id": "2a2fccac",
   "metadata": {
    "id": "2a2fccac",
    "outputId": "90cb9bc0-5109-471d-8bec-5d9b17ef0384"
   },
   "outputs": [
    {
     "name": "stderr",
     "output_type": "stream",
     "text": [
      "\u001b[32m[I 2023-06-14 17:43:20,081]\u001b[0m A new study created in memory with name: no-name-a2a85dc5-75cc-4dcc-a5b4-27faf13b5d0c\u001b[0m\n",
      "2023-06-14 17:43:25.536910: W tensorflow/c/c_api.cc:300] Operation '{name:'training/RMSprop/dense/bias/rms/Assign' id:284 op device:{requested: '', assigned: ''} def:{{{node training/RMSprop/dense/bias/rms/Assign}} = AssignVariableOp[_has_manual_control_dependencies=true, dtype=DT_FLOAT, validate_shape=false](training/RMSprop/dense/bias/rms, training/RMSprop/dense/bias/rms/Initializer/zeros)}}' was changed by setting attribute after it was run by a session. This mutation will have no effect, and will trigger an error in the future. Either don't modify nodes after running them or create a new session.\n",
      "2023-06-14 17:43:25.615699: W tensorflow/c/c_api.cc:300] Operation '{name:'training/RMSprop/dense/kernel/rms/Assign' id:279 op device:{requested: '', assigned: ''} def:{{{node training/RMSprop/dense/kernel/rms/Assign}} = AssignVariableOp[_has_manual_control_dependencies=true, dtype=DT_FLOAT, validate_shape=false](training/RMSprop/dense/kernel/rms, training/RMSprop/dense/kernel/rms/Initializer/zeros)}}' was changed by setting attribute after it was run by a session. This mutation will have no effect, and will trigger an error in the future. Either don't modify nodes after running them or create a new session.\n",
      "2023-06-14 17:43:25.633756: W tensorflow/c/c_api.cc:300] Operation '{name:'training/RMSprop/dense/kernel/rms/Assign' id:279 op device:{requested: '', assigned: ''} def:{{{node training/RMSprop/dense/kernel/rms/Assign}} = AssignVariableOp[_has_manual_control_dependencies=true, dtype=DT_FLOAT, validate_shape=false](training/RMSprop/dense/kernel/rms, training/RMSprop/dense/kernel/rms/Initializer/zeros)}}' was changed by setting attribute after it was run by a session. This mutation will have no effect, and will trigger an error in the future. Either don't modify nodes after running them or create a new session.\n",
      "2023-06-14 17:43:25.636598: W tensorflow/c/c_api.cc:300] Operation '{name:'training/RMSprop/dense/bias/rms/Assign' id:284 op device:{requested: '', assigned: ''} def:{{{node training/RMSprop/dense/bias/rms/Assign}} = AssignVariableOp[_has_manual_control_dependencies=true, dtype=DT_FLOAT, validate_shape=false](training/RMSprop/dense/bias/rms, training/RMSprop/dense/bias/rms/Initializer/zeros)}}' was changed by setting attribute after it was run by a session. This mutation will have no effect, and will trigger an error in the future. Either don't modify nodes after running them or create a new session.\n",
      "2023-06-14 17:43:25.677534: W tensorflow/c/c_api.cc:300] Operation '{name:'training/RMSprop/dense/bias/rms/Assign' id:284 op device:{requested: '', assigned: ''} def:{{{node training/RMSprop/dense/bias/rms/Assign}} = AssignVariableOp[_has_manual_control_dependencies=true, dtype=DT_FLOAT, validate_shape=false](training/RMSprop/dense/bias/rms, training/RMSprop/dense/bias/rms/Initializer/zeros)}}' was changed by setting attribute after it was run by a session. This mutation will have no effect, and will trigger an error in the future. Either don't modify nodes after running them or create a new session.\n",
      "2023-06-14 17:43:25.689560: W tensorflow/c/c_api.cc:300] Operation '{name:'training/RMSprop/dense/kernel/rms/Assign' id:279 op device:{requested: '', assigned: ''} def:{{{node training/RMSprop/dense/kernel/rms/Assign}} = AssignVariableOp[_has_manual_control_dependencies=true, dtype=DT_FLOAT, validate_shape=false](training/RMSprop/dense/kernel/rms, training/RMSprop/dense/kernel/rms/Initializer/zeros)}}' was changed by setting attribute after it was run by a session. This mutation will have no effect, and will trigger an error in the future. Either don't modify nodes after running them or create a new session.\n",
      "2023-06-14 17:43:25.701788: W tensorflow/c/c_api.cc:300] Operation '{name:'training/RMSprop/dense/kernel/rms/Assign' id:279 op device:{requested: '', assigned: ''} def:{{{node training/RMSprop/dense/kernel/rms/Assign}} = AssignVariableOp[_has_manual_control_dependencies=true, dtype=DT_FLOAT, validate_shape=false](training/RMSprop/dense/kernel/rms, training/RMSprop/dense/kernel/rms/Initializer/zeros)}}' was changed by setting attribute after it was run by a session. This mutation will have no effect, and will trigger an error in the future. Either don't modify nodes after running them or create a new session.\n",
      "2023-06-14 17:43:25.706689: W tensorflow/c/c_api.cc:300] Operation '{name:'training/RMSprop/embedding/embeddings/rms/Assign' id:260 op device:{requested: '', assigned: ''} def:{{{node training/RMSprop/embedding/embeddings/rms/Assign}} = AssignVariableOp[_has_manual_control_dependencies=true, dtype=DT_FLOAT, validate_shape=false](training/RMSprop/embedding/embeddings/rms, training/RMSprop/embedding/embeddings/rms/Initializer/zeros)}}' was changed by setting attribute after it was run by a session. This mutation will have no effect, and will trigger an error in the future. Either don't modify nodes after running them or create a new session.\n",
      "2023-06-14 17:43:25.735478: W tensorflow/c/c_api.cc:300] Operation '{name:'training/RMSprop/dense/bias/rms/Assign' id:284 op device:{requested: '', assigned: ''} def:{{{node training/RMSprop/dense/bias/rms/Assign}} = AssignVariableOp[_has_manual_control_dependencies=true, dtype=DT_FLOAT, validate_shape=false](training/RMSprop/dense/bias/rms, training/RMSprop/dense/bias/rms/Initializer/zeros)}}' was changed by setting attribute after it was run by a session. This mutation will have no effect, and will trigger an error in the future. Either don't modify nodes after running them or create a new session.\n",
      "2023-06-14 17:43:25.761282: W tensorflow/c/c_api.cc:300] Operation '{name:'training/RMSprop/conv1d/bias/rms/Assign' id:272 op device:{requested: '', assigned: ''} def:{{{node training/RMSprop/conv1d/bias/rms/Assign}} = AssignVariableOp[_has_manual_control_dependencies=true, dtype=DT_FLOAT, validate_shape=false](training/RMSprop/conv1d/bias/rms, training/RMSprop/conv1d/bias/rms/Initializer/zeros)}}' was changed by setting attribute after it was run by a session. This mutation will have no effect, and will trigger an error in the future. Either don't modify nodes after running them or create a new session.\n",
      "2023-06-14 17:43:25.783534: W tensorflow/c/c_api.cc:300] Operation '{name:'training/RMSprop/dense/bias/rms/Assign' id:284 op device:{requested: '', assigned: ''} def:{{{node training/RMSprop/dense/bias/rms/Assign}} = AssignVariableOp[_has_manual_control_dependencies=true, dtype=DT_FLOAT, validate_shape=false](training/RMSprop/dense/bias/rms, training/RMSprop/dense/bias/rms/Initializer/zeros)}}' was changed by setting attribute after it was run by a session. This mutation will have no effect, and will trigger an error in the future. Either don't modify nodes after running them or create a new session.\n",
      "2023-06-14 17:43:25.814759: W tensorflow/c/c_api.cc:300] Operation '{name:'training/RMSprop/embedding/embeddings/rms/Assign' id:260 op device:{requested: '', assigned: ''} def:{{{node training/RMSprop/embedding/embeddings/rms/Assign}} = AssignVariableOp[_has_manual_control_dependencies=true, dtype=DT_FLOAT, validate_shape=false](training/RMSprop/embedding/embeddings/rms, training/RMSprop/embedding/embeddings/rms/Initializer/zeros)}}' was changed by setting attribute after it was run by a session. This mutation will have no effect, and will trigger an error in the future. Either don't modify nodes after running them or create a new session.\n",
      "/home/chris/.pyenv/versions/3.10.6/envs/lewagon/lib/python3.10/site-packages/keras/engine/training_v1.py:2335: UserWarning: `Model.state_updates` will be removed in a future version. This property should not be used in TensorFlow 2.0, as `updates` are applied automatically.\n",
      "  updates = self.state_updates\n",
      "2023-06-14 17:43:50.551368: W tensorflow/c/c_api.cc:300] Operation '{name:'loss/mul' id:152 op device:{requested: '', assigned: ''} def:{{{node loss/mul}} = Mul[T=DT_FLOAT, _has_manual_control_dependencies=true](loss/mul/x, loss/dense_loss/value)}}' was changed by setting attribute after it was run by a session. This mutation will have no effect, and will trigger an error in the future. Either don't modify nodes after running them or create a new session.\n"
     ]
    },
    {
     "name": "stderr",
     "output_type": "stream",
     "text": [
      "2023-06-14 17:43:50.766588: W tensorflow/c/c_api.cc:300] Operation '{name:'loss/mul' id:152 op device:{requested: '', assigned: ''} def:{{{node loss/mul}} = Mul[T=DT_FLOAT, _has_manual_control_dependencies=true](loss/mul/x, loss/dense_loss/value)}}' was changed by setting attribute after it was run by a session. This mutation will have no effect, and will trigger an error in the future. Either don't modify nodes after running them or create a new session.\n",
      "2023-06-14 17:43:50.976838: W tensorflow/c/c_api.cc:300] Operation '{name:'loss/mul' id:152 op device:{requested: '', assigned: ''} def:{{{node loss/mul}} = Mul[T=DT_FLOAT, _has_manual_control_dependencies=true](loss/mul/x, loss/dense_loss/value)}}' was changed by setting attribute after it was run by a session. This mutation will have no effect, and will trigger an error in the future. Either don't modify nodes after running them or create a new session.\n",
      "2023-06-14 17:43:51.128482: W tensorflow/c/c_api.cc:300] Operation '{name:'loss/mul' id:152 op device:{requested: '', assigned: ''} def:{{{node loss/mul}} = Mul[T=DT_FLOAT, _has_manual_control_dependencies=true](loss/mul/x, loss/dense_loss/value)}}' was changed by setting attribute after it was run by a session. This mutation will have no effect, and will trigger an error in the future. Either don't modify nodes after running them or create a new session.\n",
      "2023-06-14 17:43:51.223754: W tensorflow/c/c_api.cc:300] Operation '{name:'loss/mul' id:152 op device:{requested: '', assigned: ''} def:{{{node loss/mul}} = Mul[T=DT_FLOAT, _has_manual_control_dependencies=true](loss/mul/x, loss/dense_loss/value)}}' was changed by setting attribute after it was run by a session. This mutation will have no effect, and will trigger an error in the future. Either don't modify nodes after running them or create a new session.\n",
      "2023-06-14 17:43:51.461838: W tensorflow/c/c_api.cc:300] Operation '{name:'loss/mul' id:152 op device:{requested: '', assigned: ''} def:{{{node loss/mul}} = Mul[T=DT_FLOAT, _has_manual_control_dependencies=true](loss/mul/x, loss/dense_loss/value)}}' was changed by setting attribute after it was run by a session. This mutation will have no effect, and will trigger an error in the future. Either don't modify nodes after running them or create a new session.\n",
      "2023-06-14 17:43:52.302882: W tensorflow/c/c_api.cc:300] Operation '{name:'loss/mul' id:152 op device:{requested: '', assigned: ''} def:{{{node loss/mul}} = Mul[T=DT_FLOAT, _has_manual_control_dependencies=true](loss/mul/x, loss/dense_loss/value)}}' was changed by setting attribute after it was run by a session. This mutation will have no effect, and will trigger an error in the future. Either don't modify nodes after running them or create a new session.\n",
      "2023-06-14 17:43:52.314131: W tensorflow/c/c_api.cc:300] Operation '{name:'loss/mul' id:152 op device:{requested: '', assigned: ''} def:{{{node loss/mul}} = Mul[T=DT_FLOAT, _has_manual_control_dependencies=true](loss/mul/x, loss/dense_loss/value)}}' was changed by setting attribute after it was run by a session. This mutation will have no effect, and will trigger an error in the future. Either don't modify nodes after running them or create a new session.\n",
      "2023-06-14 17:43:52.333192: W tensorflow/c/c_api.cc:300] Operation '{name:'loss/mul' id:152 op device:{requested: '', assigned: ''} def:{{{node loss/mul}} = Mul[T=DT_FLOAT, _has_manual_control_dependencies=true](loss/mul/x, loss/dense_loss/value)}}' was changed by setting attribute after it was run by a session. This mutation will have no effect, and will trigger an error in the future. Either don't modify nodes after running them or create a new session.\n",
      "2023-06-14 17:43:52.766120: W tensorflow/c/c_api.cc:300] Operation '{name:'loss/mul' id:152 op device:{requested: '', assigned: ''} def:{{{node loss/mul}} = Mul[T=DT_FLOAT, _has_manual_control_dependencies=true](loss/mul/x, loss/dense_loss/value)}}' was changed by setting attribute after it was run by a session. This mutation will have no effect, and will trigger an error in the future. Either don't modify nodes after running them or create a new session.\n",
      "2023-06-14 17:43:53.250623: W tensorflow/c/c_api.cc:300] Operation '{name:'loss/mul' id:152 op device:{requested: '', assigned: ''} def:{{{node loss/mul}} = Mul[T=DT_FLOAT, _has_manual_control_dependencies=true](loss/mul/x, loss/dense_loss/value)}}' was changed by setting attribute after it was run by a session. This mutation will have no effect, and will trigger an error in the future. Either don't modify nodes after running them or create a new session.\n",
      "2023-06-14 17:43:53.459869: W tensorflow/c/c_api.cc:300] Operation '{name:'loss/mul' id:152 op device:{requested: '', assigned: ''} def:{{{node loss/mul}} = Mul[T=DT_FLOAT, _has_manual_control_dependencies=true](loss/mul/x, loss/dense_loss/value)}}' was changed by setting attribute after it was run by a session. This mutation will have no effect, and will trigger an error in the future. Either don't modify nodes after running them or create a new session.\n"
     ]
    },
    {
     "ename": "KeyboardInterrupt",
     "evalue": "",
     "output_type": "error",
     "traceback": [
      "\u001b[0;31m---------------------------------------------------------------------------\u001b[0m",
      "\u001b[0;31mKeyboardInterrupt\u001b[0m                         Traceback (most recent call last)",
      "File \u001b[0;32m~/.pyenv/versions/3.10.6/envs/lewagon/lib/python3.10/site-packages/optuna/study/_optimize.py:100\u001b[0m, in \u001b[0;36m_optimize\u001b[0;34m(study, func, n_trials, timeout, n_jobs, catch, callbacks, gc_after_trial, show_progress_bar)\u001b[0m\n\u001b[1;32m     99\u001b[0m \u001b[38;5;28;01mif\u001b[39;00m \u001b[38;5;28mlen\u001b[39m(futures) \u001b[38;5;241m>\u001b[39m\u001b[38;5;241m=\u001b[39m n_jobs:\n\u001b[0;32m--> 100\u001b[0m     completed, futures \u001b[38;5;241m=\u001b[39m \u001b[43mwait\u001b[49m\u001b[43m(\u001b[49m\u001b[43mfutures\u001b[49m\u001b[43m,\u001b[49m\u001b[43m \u001b[49m\u001b[43mreturn_when\u001b[49m\u001b[38;5;241;43m=\u001b[39;49m\u001b[43mFIRST_COMPLETED\u001b[49m\u001b[43m)\u001b[49m\n\u001b[1;32m    101\u001b[0m     \u001b[38;5;66;03m# Raise if exception occurred in executing the completed futures.\u001b[39;00m\n",
      "File \u001b[0;32m~/.pyenv/versions/3.10.6/lib/python3.10/concurrent/futures/_base.py:307\u001b[0m, in \u001b[0;36mwait\u001b[0;34m(fs, timeout, return_when)\u001b[0m\n\u001b[1;32m    305\u001b[0m     waiter \u001b[38;5;241m=\u001b[39m _create_and_install_waiters(fs, return_when)\n\u001b[0;32m--> 307\u001b[0m \u001b[43mwaiter\u001b[49m\u001b[38;5;241;43m.\u001b[39;49m\u001b[43mevent\u001b[49m\u001b[38;5;241;43m.\u001b[39;49m\u001b[43mwait\u001b[49m\u001b[43m(\u001b[49m\u001b[43mtimeout\u001b[49m\u001b[43m)\u001b[49m\n\u001b[1;32m    308\u001b[0m \u001b[38;5;28;01mfor\u001b[39;00m f \u001b[38;5;129;01min\u001b[39;00m fs:\n",
      "File \u001b[0;32m~/.pyenv/versions/3.10.6/lib/python3.10/threading.py:607\u001b[0m, in \u001b[0;36mEvent.wait\u001b[0;34m(self, timeout)\u001b[0m\n\u001b[1;32m    606\u001b[0m \u001b[38;5;28;01mif\u001b[39;00m \u001b[38;5;129;01mnot\u001b[39;00m signaled:\n\u001b[0;32m--> 607\u001b[0m     signaled \u001b[38;5;241m=\u001b[39m \u001b[38;5;28;43mself\u001b[39;49m\u001b[38;5;241;43m.\u001b[39;49m\u001b[43m_cond\u001b[49m\u001b[38;5;241;43m.\u001b[39;49m\u001b[43mwait\u001b[49m\u001b[43m(\u001b[49m\u001b[43mtimeout\u001b[49m\u001b[43m)\u001b[49m\n\u001b[1;32m    608\u001b[0m \u001b[38;5;28;01mreturn\u001b[39;00m signaled\n",
      "File \u001b[0;32m~/.pyenv/versions/3.10.6/lib/python3.10/threading.py:320\u001b[0m, in \u001b[0;36mCondition.wait\u001b[0;34m(self, timeout)\u001b[0m\n\u001b[1;32m    319\u001b[0m \u001b[38;5;28;01mif\u001b[39;00m timeout \u001b[38;5;129;01mis\u001b[39;00m \u001b[38;5;28;01mNone\u001b[39;00m:\n\u001b[0;32m--> 320\u001b[0m     \u001b[43mwaiter\u001b[49m\u001b[38;5;241;43m.\u001b[39;49m\u001b[43macquire\u001b[49m\u001b[43m(\u001b[49m\u001b[43m)\u001b[49m\n\u001b[1;32m    321\u001b[0m     gotit \u001b[38;5;241m=\u001b[39m \u001b[38;5;28;01mTrue\u001b[39;00m\n",
      "\u001b[0;31mKeyboardInterrupt\u001b[0m: ",
      "\nDuring handling of the above exception, another exception occurred:\n",
      "\u001b[0;31mKeyboardInterrupt\u001b[0m                         Traceback (most recent call last)",
      "Cell \u001b[0;32mIn [126], line 2\u001b[0m\n\u001b[1;32m      1\u001b[0m study \u001b[38;5;241m=\u001b[39m optuna\u001b[38;5;241m.\u001b[39mcreate_study(direction\u001b[38;5;241m=\u001b[39m\u001b[38;5;124m\"\u001b[39m\u001b[38;5;124mmaximize\u001b[39m\u001b[38;5;124m\"\u001b[39m)\n\u001b[0;32m----> 2\u001b[0m \u001b[43mstudy\u001b[49m\u001b[38;5;241;43m.\u001b[39;49m\u001b[43moptimize\u001b[49m\u001b[43m(\u001b[49m\u001b[43mobjective\u001b[49m\u001b[43m,\u001b[49m\u001b[43m \u001b[49m\u001b[43mn_trials\u001b[49m\u001b[38;5;241;43m=\u001b[39;49m\u001b[38;5;241;43m100\u001b[39;49m\u001b[43m,\u001b[49m\u001b[43m \u001b[49m\u001b[43mn_jobs\u001b[49m\u001b[38;5;241;43m=\u001b[39;49m\u001b[38;5;241;43m-\u001b[39;49m\u001b[38;5;241;43m1\u001b[39;49m\u001b[43m)\u001b[49m\n",
      "File \u001b[0;32m~/.pyenv/versions/3.10.6/envs/lewagon/lib/python3.10/site-packages/optuna/study/study.py:425\u001b[0m, in \u001b[0;36mStudy.optimize\u001b[0;34m(self, func, n_trials, timeout, n_jobs, catch, callbacks, gc_after_trial, show_progress_bar)\u001b[0m\n\u001b[1;32m    321\u001b[0m \u001b[38;5;28;01mdef\u001b[39;00m \u001b[38;5;21moptimize\u001b[39m(\n\u001b[1;32m    322\u001b[0m     \u001b[38;5;28mself\u001b[39m,\n\u001b[1;32m    323\u001b[0m     func: ObjectiveFuncType,\n\u001b[0;32m   (...)\u001b[0m\n\u001b[1;32m    330\u001b[0m     show_progress_bar: \u001b[38;5;28mbool\u001b[39m \u001b[38;5;241m=\u001b[39m \u001b[38;5;28;01mFalse\u001b[39;00m,\n\u001b[1;32m    331\u001b[0m ) \u001b[38;5;241m-\u001b[39m\u001b[38;5;241m>\u001b[39m \u001b[38;5;28;01mNone\u001b[39;00m:\n\u001b[1;32m    332\u001b[0m     \u001b[38;5;124;03m\"\"\"Optimize an objective function.\u001b[39;00m\n\u001b[1;32m    333\u001b[0m \n\u001b[1;32m    334\u001b[0m \u001b[38;5;124;03m    Optimization is done by choosing a suitable set of hyperparameter values from a given\u001b[39;00m\n\u001b[0;32m   (...)\u001b[0m\n\u001b[1;32m    422\u001b[0m \u001b[38;5;124;03m            If nested invocation of this method occurs.\u001b[39;00m\n\u001b[1;32m    423\u001b[0m \u001b[38;5;124;03m    \"\"\"\u001b[39;00m\n\u001b[0;32m--> 425\u001b[0m     \u001b[43m_optimize\u001b[49m\u001b[43m(\u001b[49m\n\u001b[1;32m    426\u001b[0m \u001b[43m        \u001b[49m\u001b[43mstudy\u001b[49m\u001b[38;5;241;43m=\u001b[39;49m\u001b[38;5;28;43mself\u001b[39;49m\u001b[43m,\u001b[49m\n\u001b[1;32m    427\u001b[0m \u001b[43m        \u001b[49m\u001b[43mfunc\u001b[49m\u001b[38;5;241;43m=\u001b[39;49m\u001b[43mfunc\u001b[49m\u001b[43m,\u001b[49m\n\u001b[1;32m    428\u001b[0m \u001b[43m        \u001b[49m\u001b[43mn_trials\u001b[49m\u001b[38;5;241;43m=\u001b[39;49m\u001b[43mn_trials\u001b[49m\u001b[43m,\u001b[49m\n\u001b[1;32m    429\u001b[0m \u001b[43m        \u001b[49m\u001b[43mtimeout\u001b[49m\u001b[38;5;241;43m=\u001b[39;49m\u001b[43mtimeout\u001b[49m\u001b[43m,\u001b[49m\n\u001b[1;32m    430\u001b[0m \u001b[43m        \u001b[49m\u001b[43mn_jobs\u001b[49m\u001b[38;5;241;43m=\u001b[39;49m\u001b[43mn_jobs\u001b[49m\u001b[43m,\u001b[49m\n\u001b[1;32m    431\u001b[0m \u001b[43m        \u001b[49m\u001b[43mcatch\u001b[49m\u001b[38;5;241;43m=\u001b[39;49m\u001b[38;5;28;43mtuple\u001b[39;49m\u001b[43m(\u001b[49m\u001b[43mcatch\u001b[49m\u001b[43m)\u001b[49m\u001b[43m \u001b[49m\u001b[38;5;28;43;01mif\u001b[39;49;00m\u001b[43m \u001b[49m\u001b[38;5;28;43misinstance\u001b[39;49m\u001b[43m(\u001b[49m\u001b[43mcatch\u001b[49m\u001b[43m,\u001b[49m\u001b[43m \u001b[49m\u001b[43mIterable\u001b[49m\u001b[43m)\u001b[49m\u001b[43m \u001b[49m\u001b[38;5;28;43;01melse\u001b[39;49;00m\u001b[43m \u001b[49m\u001b[43m(\u001b[49m\u001b[43mcatch\u001b[49m\u001b[43m,\u001b[49m\u001b[43m)\u001b[49m\u001b[43m,\u001b[49m\n\u001b[1;32m    432\u001b[0m \u001b[43m        \u001b[49m\u001b[43mcallbacks\u001b[49m\u001b[38;5;241;43m=\u001b[39;49m\u001b[43mcallbacks\u001b[49m\u001b[43m,\u001b[49m\n\u001b[1;32m    433\u001b[0m \u001b[43m        \u001b[49m\u001b[43mgc_after_trial\u001b[49m\u001b[38;5;241;43m=\u001b[39;49m\u001b[43mgc_after_trial\u001b[49m\u001b[43m,\u001b[49m\n\u001b[1;32m    434\u001b[0m \u001b[43m        \u001b[49m\u001b[43mshow_progress_bar\u001b[49m\u001b[38;5;241;43m=\u001b[39;49m\u001b[43mshow_progress_bar\u001b[49m\u001b[43m,\u001b[49m\n\u001b[1;32m    435\u001b[0m \u001b[43m    \u001b[49m\u001b[43m)\u001b[49m\n",
      "File \u001b[0;32m~/.pyenv/versions/3.10.6/envs/lewagon/lib/python3.10/site-packages/optuna/study/_optimize.py:85\u001b[0m, in \u001b[0;36m_optimize\u001b[0;34m(study, func, n_trials, timeout, n_jobs, catch, callbacks, gc_after_trial, show_progress_bar)\u001b[0m\n\u001b[1;32m     82\u001b[0m time_start \u001b[38;5;241m=\u001b[39m datetime\u001b[38;5;241m.\u001b[39mdatetime\u001b[38;5;241m.\u001b[39mnow()\n\u001b[1;32m     83\u001b[0m futures: Set[Future] \u001b[38;5;241m=\u001b[39m \u001b[38;5;28mset\u001b[39m()\n\u001b[0;32m---> 85\u001b[0m \u001b[38;5;28;01mwith\u001b[39;00m ThreadPoolExecutor(max_workers\u001b[38;5;241m=\u001b[39mn_jobs) \u001b[38;5;28;01mas\u001b[39;00m executor:\n\u001b[1;32m     86\u001b[0m     \u001b[38;5;28;01mfor\u001b[39;00m n_submitted_trials \u001b[38;5;129;01min\u001b[39;00m itertools\u001b[38;5;241m.\u001b[39mcount():\n\u001b[1;32m     87\u001b[0m         \u001b[38;5;28;01mif\u001b[39;00m study\u001b[38;5;241m.\u001b[39m_stop_flag:\n",
      "File \u001b[0;32m~/.pyenv/versions/3.10.6/lib/python3.10/concurrent/futures/_base.py:649\u001b[0m, in \u001b[0;36mExecutor.__exit__\u001b[0;34m(self, exc_type, exc_val, exc_tb)\u001b[0m\n\u001b[1;32m    648\u001b[0m \u001b[38;5;28;01mdef\u001b[39;00m \u001b[38;5;21m__exit__\u001b[39m(\u001b[38;5;28mself\u001b[39m, exc_type, exc_val, exc_tb):\n\u001b[0;32m--> 649\u001b[0m     \u001b[38;5;28;43mself\u001b[39;49m\u001b[38;5;241;43m.\u001b[39;49m\u001b[43mshutdown\u001b[49m\u001b[43m(\u001b[49m\u001b[43mwait\u001b[49m\u001b[38;5;241;43m=\u001b[39;49m\u001b[38;5;28;43;01mTrue\u001b[39;49;00m\u001b[43m)\u001b[49m\n\u001b[1;32m    650\u001b[0m     \u001b[38;5;28;01mreturn\u001b[39;00m \u001b[38;5;28;01mFalse\u001b[39;00m\n",
      "File \u001b[0;32m~/.pyenv/versions/3.10.6/lib/python3.10/concurrent/futures/thread.py:235\u001b[0m, in \u001b[0;36mThreadPoolExecutor.shutdown\u001b[0;34m(self, wait, cancel_futures)\u001b[0m\n\u001b[1;32m    233\u001b[0m \u001b[38;5;28;01mif\u001b[39;00m wait:\n\u001b[1;32m    234\u001b[0m     \u001b[38;5;28;01mfor\u001b[39;00m t \u001b[38;5;129;01min\u001b[39;00m \u001b[38;5;28mself\u001b[39m\u001b[38;5;241m.\u001b[39m_threads:\n\u001b[0;32m--> 235\u001b[0m         \u001b[43mt\u001b[49m\u001b[38;5;241;43m.\u001b[39;49m\u001b[43mjoin\u001b[49m\u001b[43m(\u001b[49m\u001b[43m)\u001b[49m\n",
      "File \u001b[0;32m~/.pyenv/versions/3.10.6/lib/python3.10/threading.py:1096\u001b[0m, in \u001b[0;36mThread.join\u001b[0;34m(self, timeout)\u001b[0m\n\u001b[1;32m   1093\u001b[0m     \u001b[38;5;28;01mraise\u001b[39;00m \u001b[38;5;167;01mRuntimeError\u001b[39;00m(\u001b[38;5;124m\"\u001b[39m\u001b[38;5;124mcannot join current thread\u001b[39m\u001b[38;5;124m\"\u001b[39m)\n\u001b[1;32m   1095\u001b[0m \u001b[38;5;28;01mif\u001b[39;00m timeout \u001b[38;5;129;01mis\u001b[39;00m \u001b[38;5;28;01mNone\u001b[39;00m:\n\u001b[0;32m-> 1096\u001b[0m     \u001b[38;5;28;43mself\u001b[39;49m\u001b[38;5;241;43m.\u001b[39;49m\u001b[43m_wait_for_tstate_lock\u001b[49m\u001b[43m(\u001b[49m\u001b[43m)\u001b[49m\n\u001b[1;32m   1097\u001b[0m \u001b[38;5;28;01melse\u001b[39;00m:\n\u001b[1;32m   1098\u001b[0m     \u001b[38;5;66;03m# the behavior of a negative timeout isn't documented, but\u001b[39;00m\n\u001b[1;32m   1099\u001b[0m     \u001b[38;5;66;03m# historically .join(timeout=x) for x<0 has acted as if timeout=0\u001b[39;00m\n\u001b[1;32m   1100\u001b[0m     \u001b[38;5;28mself\u001b[39m\u001b[38;5;241m.\u001b[39m_wait_for_tstate_lock(timeout\u001b[38;5;241m=\u001b[39m\u001b[38;5;28mmax\u001b[39m(timeout, \u001b[38;5;241m0\u001b[39m))\n",
      "File \u001b[0;32m~/.pyenv/versions/3.10.6/lib/python3.10/threading.py:1116\u001b[0m, in \u001b[0;36mThread._wait_for_tstate_lock\u001b[0;34m(self, block, timeout)\u001b[0m\n\u001b[1;32m   1113\u001b[0m     \u001b[38;5;28;01mreturn\u001b[39;00m\n\u001b[1;32m   1115\u001b[0m \u001b[38;5;28;01mtry\u001b[39;00m:\n\u001b[0;32m-> 1116\u001b[0m     \u001b[38;5;28;01mif\u001b[39;00m \u001b[43mlock\u001b[49m\u001b[38;5;241;43m.\u001b[39;49m\u001b[43macquire\u001b[49m\u001b[43m(\u001b[49m\u001b[43mblock\u001b[49m\u001b[43m,\u001b[49m\u001b[43m \u001b[49m\u001b[43mtimeout\u001b[49m\u001b[43m)\u001b[49m:\n\u001b[1;32m   1117\u001b[0m         lock\u001b[38;5;241m.\u001b[39mrelease()\n\u001b[1;32m   1118\u001b[0m         \u001b[38;5;28mself\u001b[39m\u001b[38;5;241m.\u001b[39m_stop()\n",
      "\u001b[0;31mKeyboardInterrupt\u001b[0m: "
     ]
    }
   ],
   "source": [
    "study = optuna.create_study(direction=\"maximize\")\n",
    "study.optimize(objective, n_trials=100, n_jobs=-1)"
   ]
  },
  {
   "cell_type": "code",
   "execution_count": null,
   "id": "fa6f9d55",
   "metadata": {
    "id": "fa6f9d55"
   },
   "outputs": [],
   "source": []
  }
 ],
 "metadata": {
  "accelerator": "GPU",
  "colab": {
   "gpuType": "T4",
   "provenance": []
  },
  "kernelspec": {
   "display_name": "Python 3 (ipykernel)",
   "language": "python",
   "name": "python3"
  },
  "language_info": {
   "codemirror_mode": {
    "name": "ipython",
    "version": 3
   },
   "file_extension": ".py",
   "mimetype": "text/x-python",
   "name": "python",
   "nbconvert_exporter": "python",
   "pygments_lexer": "ipython3",
   "version": "3.10.6"
  },
  "toc": {
   "base_numbering": 1,
   "nav_menu": {},
   "number_sections": true,
   "sideBar": true,
   "skip_h1_title": false,
   "title_cell": "Table of Contents",
   "title_sidebar": "Contents",
   "toc_cell": false,
   "toc_position": {},
   "toc_section_display": true,
   "toc_window_display": false
  },
  "widgets": {
   "application/vnd.jupyter.widget-state+json": {
    "04033ca5017b41fba7003fc889f4bdf8": {
     "model_module": "@jupyter-widgets/controls",
     "model_module_version": "1.5.0",
     "model_name": "DescriptionStyleModel",
     "state": {
      "_model_module": "@jupyter-widgets/controls",
      "_model_module_version": "1.5.0",
      "_model_name": "DescriptionStyleModel",
      "_view_count": null,
      "_view_module": "@jupyter-widgets/base",
      "_view_module_version": "1.2.0",
      "_view_name": "StyleView",
      "description_width": ""
     }
    },
    "04d59491a2cc4804b0dc61869cbd2a2e": {
     "model_module": "@jupyter-widgets/base",
     "model_module_version": "1.2.0",
     "model_name": "LayoutModel",
     "state": {
      "_model_module": "@jupyter-widgets/base",
      "_model_module_version": "1.2.0",
      "_model_name": "LayoutModel",
      "_view_count": null,
      "_view_module": "@jupyter-widgets/base",
      "_view_module_version": "1.2.0",
      "_view_name": "LayoutView",
      "align_content": null,
      "align_items": null,
      "align_self": null,
      "border": null,
      "bottom": null,
      "display": null,
      "flex": null,
      "flex_flow": null,
      "grid_area": null,
      "grid_auto_columns": null,
      "grid_auto_flow": null,
      "grid_auto_rows": null,
      "grid_column": null,
      "grid_gap": null,
      "grid_row": null,
      "grid_template_areas": null,
      "grid_template_columns": null,
      "grid_template_rows": null,
      "height": null,
      "justify_content": null,
      "justify_items": null,
      "left": null,
      "margin": null,
      "max_height": null,
      "max_width": null,
      "min_height": null,
      "min_width": null,
      "object_fit": null,
      "object_position": null,
      "order": null,
      "overflow": null,
      "overflow_x": null,
      "overflow_y": null,
      "padding": null,
      "right": null,
      "top": null,
      "visibility": null,
      "width": null
     }
    },
    "08aec74cc2404698aea8feeff114fb2f": {
     "model_module": "@jupyter-widgets/controls",
     "model_module_version": "1.5.0",
     "model_name": "HTMLModel",
     "state": {
      "_dom_classes": [],
      "_model_module": "@jupyter-widgets/controls",
      "_model_module_version": "1.5.0",
      "_model_name": "HTMLModel",
      "_view_count": null,
      "_view_module": "@jupyter-widgets/controls",
      "_view_module_version": "1.5.0",
      "_view_name": "HTMLView",
      "description": "",
      "description_tooltip": null,
      "layout": "IPY_MODEL_f5b101ac050c4591a002b7a0efa413f0",
      "placeholder": "​",
      "style": "IPY_MODEL_f5e72248f3ad42058c133563602b68e8",
      "value": " 28.0/28.0 [00:00&lt;00:00, 2.11kB/s]"
     }
    },
    "1449b836776944ad9a73e9d17cd42aa0": {
     "model_module": "@jupyter-widgets/controls",
     "model_module_version": "1.5.0",
     "model_name": "DescriptionStyleModel",
     "state": {
      "_model_module": "@jupyter-widgets/controls",
      "_model_module_version": "1.5.0",
      "_model_name": "DescriptionStyleModel",
      "_view_count": null,
      "_view_module": "@jupyter-widgets/base",
      "_view_module_version": "1.2.0",
      "_view_name": "StyleView",
      "description_width": ""
     }
    },
    "1f62eae509ab45d5b6dcc0573f7766d2": {
     "model_module": "@jupyter-widgets/controls",
     "model_module_version": "1.5.0",
     "model_name": "HTMLModel",
     "state": {
      "_dom_classes": [],
      "_model_module": "@jupyter-widgets/controls",
      "_model_module_version": "1.5.0",
      "_model_name": "HTMLModel",
      "_view_count": null,
      "_view_module": "@jupyter-widgets/controls",
      "_view_module_version": "1.5.0",
      "_view_name": "HTMLView",
      "description": "",
      "description_tooltip": null,
      "layout": "IPY_MODEL_bac6f361b95b4604bd79e85bcad80573",
      "placeholder": "​",
      "style": "IPY_MODEL_04033ca5017b41fba7003fc889f4bdf8",
      "value": "Downloading (…)solve/main/vocab.txt: 100%"
     }
    },
    "2020c90118624e4a8d13a9305cdb82bd": {
     "model_module": "@jupyter-widgets/controls",
     "model_module_version": "1.5.0",
     "model_name": "DescriptionStyleModel",
     "state": {
      "_model_module": "@jupyter-widgets/controls",
      "_model_module_version": "1.5.0",
      "_model_name": "DescriptionStyleModel",
      "_view_count": null,
      "_view_module": "@jupyter-widgets/base",
      "_view_module_version": "1.2.0",
      "_view_name": "StyleView",
      "description_width": ""
     }
    },
    "28f4bdee2f3f4a78964aacd6faad56d0": {
     "model_module": "@jupyter-widgets/controls",
     "model_module_version": "1.5.0",
     "model_name": "ProgressStyleModel",
     "state": {
      "_model_module": "@jupyter-widgets/controls",
      "_model_module_version": "1.5.0",
      "_model_name": "ProgressStyleModel",
      "_view_count": null,
      "_view_module": "@jupyter-widgets/base",
      "_view_module_version": "1.2.0",
      "_view_name": "StyleView",
      "bar_color": null,
      "description_width": ""
     }
    },
    "2a0bc281916c4a859ca12877996371a1": {
     "model_module": "@jupyter-widgets/base",
     "model_module_version": "1.2.0",
     "model_name": "LayoutModel",
     "state": {
      "_model_module": "@jupyter-widgets/base",
      "_model_module_version": "1.2.0",
      "_model_name": "LayoutModel",
      "_view_count": null,
      "_view_module": "@jupyter-widgets/base",
      "_view_module_version": "1.2.0",
      "_view_name": "LayoutView",
      "align_content": null,
      "align_items": null,
      "align_self": null,
      "border": null,
      "bottom": null,
      "display": null,
      "flex": null,
      "flex_flow": null,
      "grid_area": null,
      "grid_auto_columns": null,
      "grid_auto_flow": null,
      "grid_auto_rows": null,
      "grid_column": null,
      "grid_gap": null,
      "grid_row": null,
      "grid_template_areas": null,
      "grid_template_columns": null,
      "grid_template_rows": null,
      "height": null,
      "justify_content": null,
      "justify_items": null,
      "left": null,
      "margin": null,
      "max_height": null,
      "max_width": null,
      "min_height": null,
      "min_width": null,
      "object_fit": null,
      "object_position": null,
      "order": null,
      "overflow": null,
      "overflow_x": null,
      "overflow_y": null,
      "padding": null,
      "right": null,
      "top": null,
      "visibility": null,
      "width": null
     }
    },
    "2b7874d07e7043dd94d31d14c486d856": {
     "model_module": "@jupyter-widgets/controls",
     "model_module_version": "1.5.0",
     "model_name": "HBoxModel",
     "state": {
      "_dom_classes": [],
      "_model_module": "@jupyter-widgets/controls",
      "_model_module_version": "1.5.0",
      "_model_name": "HBoxModel",
      "_view_count": null,
      "_view_module": "@jupyter-widgets/controls",
      "_view_module_version": "1.5.0",
      "_view_name": "HBoxView",
      "box_style": "",
      "children": [
       "IPY_MODEL_6661094482a34ac8b80ee1b6346c9baa",
       "IPY_MODEL_2e6430bac7cd4d6dbb1da84b45a31b15",
       "IPY_MODEL_7e348f84aa80445da95f9a12d0ba2bb5"
      ],
      "layout": "IPY_MODEL_04d59491a2cc4804b0dc61869cbd2a2e"
     }
    },
    "2e6430bac7cd4d6dbb1da84b45a31b15": {
     "model_module": "@jupyter-widgets/controls",
     "model_module_version": "1.5.0",
     "model_name": "FloatProgressModel",
     "state": {
      "_dom_classes": [],
      "_model_module": "@jupyter-widgets/controls",
      "_model_module_version": "1.5.0",
      "_model_name": "FloatProgressModel",
      "_view_count": null,
      "_view_module": "@jupyter-widgets/controls",
      "_view_module_version": "1.5.0",
      "_view_name": "ProgressView",
      "bar_style": "success",
      "description": "",
      "description_tooltip": null,
      "layout": "IPY_MODEL_ad2636fd287849ef8f336c24dd2db722",
      "max": 267954768,
      "min": 0,
      "orientation": "horizontal",
      "style": "IPY_MODEL_af4ea900a4564854b6c979b27b6773ce",
      "value": 267954768
     }
    },
    "36e7bbf085a64eefac3ee48c7e21d23c": {
     "model_module": "@jupyter-widgets/base",
     "model_module_version": "1.2.0",
     "model_name": "LayoutModel",
     "state": {
      "_model_module": "@jupyter-widgets/base",
      "_model_module_version": "1.2.0",
      "_model_name": "LayoutModel",
      "_view_count": null,
      "_view_module": "@jupyter-widgets/base",
      "_view_module_version": "1.2.0",
      "_view_name": "LayoutView",
      "align_content": null,
      "align_items": null,
      "align_self": null,
      "border": null,
      "bottom": null,
      "display": null,
      "flex": null,
      "flex_flow": null,
      "grid_area": null,
      "grid_auto_columns": null,
      "grid_auto_flow": null,
      "grid_auto_rows": null,
      "grid_column": null,
      "grid_gap": null,
      "grid_row": null,
      "grid_template_areas": null,
      "grid_template_columns": null,
      "grid_template_rows": null,
      "height": null,
      "justify_content": null,
      "justify_items": null,
      "left": null,
      "margin": null,
      "max_height": null,
      "max_width": null,
      "min_height": null,
      "min_width": null,
      "object_fit": null,
      "object_position": null,
      "order": null,
      "overflow": null,
      "overflow_x": null,
      "overflow_y": null,
      "padding": null,
      "right": null,
      "top": null,
      "visibility": null,
      "width": null
     }
    },
    "37b2e389fee84d069542d7bc7f2da6a2": {
     "model_module": "@jupyter-widgets/base",
     "model_module_version": "1.2.0",
     "model_name": "LayoutModel",
     "state": {
      "_model_module": "@jupyter-widgets/base",
      "_model_module_version": "1.2.0",
      "_model_name": "LayoutModel",
      "_view_count": null,
      "_view_module": "@jupyter-widgets/base",
      "_view_module_version": "1.2.0",
      "_view_name": "LayoutView",
      "align_content": null,
      "align_items": null,
      "align_self": null,
      "border": null,
      "bottom": null,
      "display": null,
      "flex": null,
      "flex_flow": null,
      "grid_area": null,
      "grid_auto_columns": null,
      "grid_auto_flow": null,
      "grid_auto_rows": null,
      "grid_column": null,
      "grid_gap": null,
      "grid_row": null,
      "grid_template_areas": null,
      "grid_template_columns": null,
      "grid_template_rows": null,
      "height": null,
      "justify_content": null,
      "justify_items": null,
      "left": null,
      "margin": null,
      "max_height": null,
      "max_width": null,
      "min_height": null,
      "min_width": null,
      "object_fit": null,
      "object_position": null,
      "order": null,
      "overflow": null,
      "overflow_x": null,
      "overflow_y": null,
      "padding": null,
      "right": null,
      "top": null,
      "visibility": null,
      "width": null
     }
    },
    "407748f4b56a42ba971242cb2dec48d8": {
     "model_module": "@jupyter-widgets/controls",
     "model_module_version": "1.5.0",
     "model_name": "ProgressStyleModel",
     "state": {
      "_model_module": "@jupyter-widgets/controls",
      "_model_module_version": "1.5.0",
      "_model_name": "ProgressStyleModel",
      "_view_count": null,
      "_view_module": "@jupyter-widgets/base",
      "_view_module_version": "1.2.0",
      "_view_name": "StyleView",
      "bar_color": null,
      "description_width": ""
     }
    },
    "4322081787d8459baf90c63e102ab2cc": {
     "model_module": "@jupyter-widgets/controls",
     "model_module_version": "1.5.0",
     "model_name": "HTMLModel",
     "state": {
      "_dom_classes": [],
      "_model_module": "@jupyter-widgets/controls",
      "_model_module_version": "1.5.0",
      "_model_name": "HTMLModel",
      "_view_count": null,
      "_view_module": "@jupyter-widgets/controls",
      "_view_module_version": "1.5.0",
      "_view_name": "HTMLView",
      "description": "",
      "description_tooltip": null,
      "layout": "IPY_MODEL_ca04977355724a07a3caac87a7a3b493",
      "placeholder": "​",
      "style": "IPY_MODEL_6da949f95f3b4640a9e6dc876ee35994",
      "value": " 232k/232k [00:00&lt;00:00, 4.86MB/s]"
     }
    },
    "4c84dea57b754e928a0b1d0e97e796e1": {
     "model_module": "@jupyter-widgets/controls",
     "model_module_version": "1.5.0",
     "model_name": "HTMLModel",
     "state": {
      "_dom_classes": [],
      "_model_module": "@jupyter-widgets/controls",
      "_model_module_version": "1.5.0",
      "_model_name": "HTMLModel",
      "_view_count": null,
      "_view_module": "@jupyter-widgets/controls",
      "_view_module_version": "1.5.0",
      "_view_name": "HTMLView",
      "description": "",
      "description_tooltip": null,
      "layout": "IPY_MODEL_7c67d5289ca74aa9b73720cb7dcfb095",
      "placeholder": "​",
      "style": "IPY_MODEL_7297db4cd2664089839214953369dd19",
      "value": "Downloading (…)lve/main/config.json: 100%"
     }
    },
    "5562fde60f534b6ca447a2bea5ee2f08": {
     "model_module": "@jupyter-widgets/controls",
     "model_module_version": "1.5.0",
     "model_name": "DescriptionStyleModel",
     "state": {
      "_model_module": "@jupyter-widgets/controls",
      "_model_module_version": "1.5.0",
      "_model_name": "DescriptionStyleModel",
      "_view_count": null,
      "_view_module": "@jupyter-widgets/base",
      "_view_module_version": "1.2.0",
      "_view_name": "StyleView",
      "description_width": ""
     }
    },
    "5fac26664adc45eaae555950f173f082": {
     "model_module": "@jupyter-widgets/controls",
     "model_module_version": "1.5.0",
     "model_name": "HTMLModel",
     "state": {
      "_dom_classes": [],
      "_model_module": "@jupyter-widgets/controls",
      "_model_module_version": "1.5.0",
      "_model_name": "HTMLModel",
      "_view_count": null,
      "_view_module": "@jupyter-widgets/controls",
      "_view_module_version": "1.5.0",
      "_view_name": "HTMLView",
      "description": "",
      "description_tooltip": null,
      "layout": "IPY_MODEL_ddfb4c7937524fc4bfeb796f09326657",
      "placeholder": "​",
      "style": "IPY_MODEL_1449b836776944ad9a73e9d17cd42aa0",
      "value": " 483/483 [00:00&lt;00:00, 36.8kB/s]"
     }
    },
    "638c7cafdb2f42b8ad41c16449844759": {
     "model_module": "@jupyter-widgets/controls",
     "model_module_version": "1.5.0",
     "model_name": "ProgressStyleModel",
     "state": {
      "_model_module": "@jupyter-widgets/controls",
      "_model_module_version": "1.5.0",
      "_model_name": "ProgressStyleModel",
      "_view_count": null,
      "_view_module": "@jupyter-widgets/base",
      "_view_module_version": "1.2.0",
      "_view_name": "StyleView",
      "bar_color": null,
      "description_width": ""
     }
    },
    "6661094482a34ac8b80ee1b6346c9baa": {
     "model_module": "@jupyter-widgets/controls",
     "model_module_version": "1.5.0",
     "model_name": "HTMLModel",
     "state": {
      "_dom_classes": [],
      "_model_module": "@jupyter-widgets/controls",
      "_model_module_version": "1.5.0",
      "_model_name": "HTMLModel",
      "_view_count": null,
      "_view_module": "@jupyter-widgets/controls",
      "_view_module_version": "1.5.0",
      "_view_name": "HTMLView",
      "description": "",
      "description_tooltip": null,
      "layout": "IPY_MODEL_934978082aff46539ef243dbab9d51fe",
      "placeholder": "​",
      "style": "IPY_MODEL_7fc9797fd2fe40fa97108d4b3ff03da7",
      "value": "Downloading model.safetensors: 100%"
     }
    },
    "6cb2e6f88d3349449eb8005eb9bd6a56": {
     "model_module": "@jupyter-widgets/controls",
     "model_module_version": "1.5.0",
     "model_name": "HTMLModel",
     "state": {
      "_dom_classes": [],
      "_model_module": "@jupyter-widgets/controls",
      "_model_module_version": "1.5.0",
      "_model_name": "HTMLModel",
      "_view_count": null,
      "_view_module": "@jupyter-widgets/controls",
      "_view_module_version": "1.5.0",
      "_view_name": "HTMLView",
      "description": "",
      "description_tooltip": null,
      "layout": "IPY_MODEL_a1daf39b031548ae88f092d3ff06e786",
      "placeholder": "​",
      "style": "IPY_MODEL_5562fde60f534b6ca447a2bea5ee2f08",
      "value": "Downloading (…)okenizer_config.json: 100%"
     }
    },
    "6da949f95f3b4640a9e6dc876ee35994": {
     "model_module": "@jupyter-widgets/controls",
     "model_module_version": "1.5.0",
     "model_name": "DescriptionStyleModel",
     "state": {
      "_model_module": "@jupyter-widgets/controls",
      "_model_module_version": "1.5.0",
      "_model_name": "DescriptionStyleModel",
      "_view_count": null,
      "_view_module": "@jupyter-widgets/base",
      "_view_module_version": "1.2.0",
      "_view_name": "StyleView",
      "description_width": ""
     }
    },
    "7297db4cd2664089839214953369dd19": {
     "model_module": "@jupyter-widgets/controls",
     "model_module_version": "1.5.0",
     "model_name": "DescriptionStyleModel",
     "state": {
      "_model_module": "@jupyter-widgets/controls",
      "_model_module_version": "1.5.0",
      "_model_name": "DescriptionStyleModel",
      "_view_count": null,
      "_view_module": "@jupyter-widgets/base",
      "_view_module_version": "1.2.0",
      "_view_name": "StyleView",
      "description_width": ""
     }
    },
    "7c67d5289ca74aa9b73720cb7dcfb095": {
     "model_module": "@jupyter-widgets/base",
     "model_module_version": "1.2.0",
     "model_name": "LayoutModel",
     "state": {
      "_model_module": "@jupyter-widgets/base",
      "_model_module_version": "1.2.0",
      "_model_name": "LayoutModel",
      "_view_count": null,
      "_view_module": "@jupyter-widgets/base",
      "_view_module_version": "1.2.0",
      "_view_name": "LayoutView",
      "align_content": null,
      "align_items": null,
      "align_self": null,
      "border": null,
      "bottom": null,
      "display": null,
      "flex": null,
      "flex_flow": null,
      "grid_area": null,
      "grid_auto_columns": null,
      "grid_auto_flow": null,
      "grid_auto_rows": null,
      "grid_column": null,
      "grid_gap": null,
      "grid_row": null,
      "grid_template_areas": null,
      "grid_template_columns": null,
      "grid_template_rows": null,
      "height": null,
      "justify_content": null,
      "justify_items": null,
      "left": null,
      "margin": null,
      "max_height": null,
      "max_width": null,
      "min_height": null,
      "min_width": null,
      "object_fit": null,
      "object_position": null,
      "order": null,
      "overflow": null,
      "overflow_x": null,
      "overflow_y": null,
      "padding": null,
      "right": null,
      "top": null,
      "visibility": null,
      "width": null
     }
    },
    "7e348f84aa80445da95f9a12d0ba2bb5": {
     "model_module": "@jupyter-widgets/controls",
     "model_module_version": "1.5.0",
     "model_name": "HTMLModel",
     "state": {
      "_dom_classes": [],
      "_model_module": "@jupyter-widgets/controls",
      "_model_module_version": "1.5.0",
      "_model_name": "HTMLModel",
      "_view_count": null,
      "_view_module": "@jupyter-widgets/controls",
      "_view_module_version": "1.5.0",
      "_view_name": "HTMLView",
      "description": "",
      "description_tooltip": null,
      "layout": "IPY_MODEL_2a0bc281916c4a859ca12877996371a1",
      "placeholder": "​",
      "style": "IPY_MODEL_2020c90118624e4a8d13a9305cdb82bd",
      "value": " 268M/268M [00:03&lt;00:00, 82.0MB/s]"
     }
    },
    "7fa6a83a15854582ab026b58715572b6": {
     "model_module": "@jupyter-widgets/controls",
     "model_module_version": "1.5.0",
     "model_name": "FloatProgressModel",
     "state": {
      "_dom_classes": [],
      "_model_module": "@jupyter-widgets/controls",
      "_model_module_version": "1.5.0",
      "_model_name": "FloatProgressModel",
      "_view_count": null,
      "_view_module": "@jupyter-widgets/controls",
      "_view_module_version": "1.5.0",
      "_view_name": "ProgressView",
      "bar_style": "success",
      "description": "",
      "description_tooltip": null,
      "layout": "IPY_MODEL_db5cedf3e1e14c808191de2194fc7765",
      "max": 28,
      "min": 0,
      "orientation": "horizontal",
      "style": "IPY_MODEL_28f4bdee2f3f4a78964aacd6faad56d0",
      "value": 28
     }
    },
    "7fc9797fd2fe40fa97108d4b3ff03da7": {
     "model_module": "@jupyter-widgets/controls",
     "model_module_version": "1.5.0",
     "model_name": "DescriptionStyleModel",
     "state": {
      "_model_module": "@jupyter-widgets/controls",
      "_model_module_version": "1.5.0",
      "_model_name": "DescriptionStyleModel",
      "_view_count": null,
      "_view_module": "@jupyter-widgets/base",
      "_view_module_version": "1.2.0",
      "_view_name": "StyleView",
      "description_width": ""
     }
    },
    "85c1888657534ad294235cd7a8cc04a6": {
     "model_module": "@jupyter-widgets/controls",
     "model_module_version": "1.5.0",
     "model_name": "FloatProgressModel",
     "state": {
      "_dom_classes": [],
      "_model_module": "@jupyter-widgets/controls",
      "_model_module_version": "1.5.0",
      "_model_name": "FloatProgressModel",
      "_view_count": null,
      "_view_module": "@jupyter-widgets/controls",
      "_view_module_version": "1.5.0",
      "_view_name": "ProgressView",
      "bar_style": "success",
      "description": "",
      "description_tooltip": null,
      "layout": "IPY_MODEL_36e7bbf085a64eefac3ee48c7e21d23c",
      "max": 231508,
      "min": 0,
      "orientation": "horizontal",
      "style": "IPY_MODEL_638c7cafdb2f42b8ad41c16449844759",
      "value": 231508
     }
    },
    "883c463a4e5048dca480b2a14396fad7": {
     "model_module": "@jupyter-widgets/base",
     "model_module_version": "1.2.0",
     "model_name": "LayoutModel",
     "state": {
      "_model_module": "@jupyter-widgets/base",
      "_model_module_version": "1.2.0",
      "_model_name": "LayoutModel",
      "_view_count": null,
      "_view_module": "@jupyter-widgets/base",
      "_view_module_version": "1.2.0",
      "_view_name": "LayoutView",
      "align_content": null,
      "align_items": null,
      "align_self": null,
      "border": null,
      "bottom": null,
      "display": null,
      "flex": null,
      "flex_flow": null,
      "grid_area": null,
      "grid_auto_columns": null,
      "grid_auto_flow": null,
      "grid_auto_rows": null,
      "grid_column": null,
      "grid_gap": null,
      "grid_row": null,
      "grid_template_areas": null,
      "grid_template_columns": null,
      "grid_template_rows": null,
      "height": null,
      "justify_content": null,
      "justify_items": null,
      "left": null,
      "margin": null,
      "max_height": null,
      "max_width": null,
      "min_height": null,
      "min_width": null,
      "object_fit": null,
      "object_position": null,
      "order": null,
      "overflow": null,
      "overflow_x": null,
      "overflow_y": null,
      "padding": null,
      "right": null,
      "top": null,
      "visibility": null,
      "width": null
     }
    },
    "92068f5e627b41cfaa6f4c5ac7fc14a5": {
     "model_module": "@jupyter-widgets/base",
     "model_module_version": "1.2.0",
     "model_name": "LayoutModel",
     "state": {
      "_model_module": "@jupyter-widgets/base",
      "_model_module_version": "1.2.0",
      "_model_name": "LayoutModel",
      "_view_count": null,
      "_view_module": "@jupyter-widgets/base",
      "_view_module_version": "1.2.0",
      "_view_name": "LayoutView",
      "align_content": null,
      "align_items": null,
      "align_self": null,
      "border": null,
      "bottom": null,
      "display": null,
      "flex": null,
      "flex_flow": null,
      "grid_area": null,
      "grid_auto_columns": null,
      "grid_auto_flow": null,
      "grid_auto_rows": null,
      "grid_column": null,
      "grid_gap": null,
      "grid_row": null,
      "grid_template_areas": null,
      "grid_template_columns": null,
      "grid_template_rows": null,
      "height": null,
      "justify_content": null,
      "justify_items": null,
      "left": null,
      "margin": null,
      "max_height": null,
      "max_width": null,
      "min_height": null,
      "min_width": null,
      "object_fit": null,
      "object_position": null,
      "order": null,
      "overflow": null,
      "overflow_x": null,
      "overflow_y": null,
      "padding": null,
      "right": null,
      "top": null,
      "visibility": null,
      "width": null
     }
    },
    "934978082aff46539ef243dbab9d51fe": {
     "model_module": "@jupyter-widgets/base",
     "model_module_version": "1.2.0",
     "model_name": "LayoutModel",
     "state": {
      "_model_module": "@jupyter-widgets/base",
      "_model_module_version": "1.2.0",
      "_model_name": "LayoutModel",
      "_view_count": null,
      "_view_module": "@jupyter-widgets/base",
      "_view_module_version": "1.2.0",
      "_view_name": "LayoutView",
      "align_content": null,
      "align_items": null,
      "align_self": null,
      "border": null,
      "bottom": null,
      "display": null,
      "flex": null,
      "flex_flow": null,
      "grid_area": null,
      "grid_auto_columns": null,
      "grid_auto_flow": null,
      "grid_auto_rows": null,
      "grid_column": null,
      "grid_gap": null,
      "grid_row": null,
      "grid_template_areas": null,
      "grid_template_columns": null,
      "grid_template_rows": null,
      "height": null,
      "justify_content": null,
      "justify_items": null,
      "left": null,
      "margin": null,
      "max_height": null,
      "max_width": null,
      "min_height": null,
      "min_width": null,
      "object_fit": null,
      "object_position": null,
      "order": null,
      "overflow": null,
      "overflow_x": null,
      "overflow_y": null,
      "padding": null,
      "right": null,
      "top": null,
      "visibility": null,
      "width": null
     }
    },
    "a1daf39b031548ae88f092d3ff06e786": {
     "model_module": "@jupyter-widgets/base",
     "model_module_version": "1.2.0",
     "model_name": "LayoutModel",
     "state": {
      "_model_module": "@jupyter-widgets/base",
      "_model_module_version": "1.2.0",
      "_model_name": "LayoutModel",
      "_view_count": null,
      "_view_module": "@jupyter-widgets/base",
      "_view_module_version": "1.2.0",
      "_view_name": "LayoutView",
      "align_content": null,
      "align_items": null,
      "align_self": null,
      "border": null,
      "bottom": null,
      "display": null,
      "flex": null,
      "flex_flow": null,
      "grid_area": null,
      "grid_auto_columns": null,
      "grid_auto_flow": null,
      "grid_auto_rows": null,
      "grid_column": null,
      "grid_gap": null,
      "grid_row": null,
      "grid_template_areas": null,
      "grid_template_columns": null,
      "grid_template_rows": null,
      "height": null,
      "justify_content": null,
      "justify_items": null,
      "left": null,
      "margin": null,
      "max_height": null,
      "max_width": null,
      "min_height": null,
      "min_width": null,
      "object_fit": null,
      "object_position": null,
      "order": null,
      "overflow": null,
      "overflow_x": null,
      "overflow_y": null,
      "padding": null,
      "right": null,
      "top": null,
      "visibility": null,
      "width": null
     }
    },
    "ad2636fd287849ef8f336c24dd2db722": {
     "model_module": "@jupyter-widgets/base",
     "model_module_version": "1.2.0",
     "model_name": "LayoutModel",
     "state": {
      "_model_module": "@jupyter-widgets/base",
      "_model_module_version": "1.2.0",
      "_model_name": "LayoutModel",
      "_view_count": null,
      "_view_module": "@jupyter-widgets/base",
      "_view_module_version": "1.2.0",
      "_view_name": "LayoutView",
      "align_content": null,
      "align_items": null,
      "align_self": null,
      "border": null,
      "bottom": null,
      "display": null,
      "flex": null,
      "flex_flow": null,
      "grid_area": null,
      "grid_auto_columns": null,
      "grid_auto_flow": null,
      "grid_auto_rows": null,
      "grid_column": null,
      "grid_gap": null,
      "grid_row": null,
      "grid_template_areas": null,
      "grid_template_columns": null,
      "grid_template_rows": null,
      "height": null,
      "justify_content": null,
      "justify_items": null,
      "left": null,
      "margin": null,
      "max_height": null,
      "max_width": null,
      "min_height": null,
      "min_width": null,
      "object_fit": null,
      "object_position": null,
      "order": null,
      "overflow": null,
      "overflow_x": null,
      "overflow_y": null,
      "padding": null,
      "right": null,
      "top": null,
      "visibility": null,
      "width": null
     }
    },
    "af4ea900a4564854b6c979b27b6773ce": {
     "model_module": "@jupyter-widgets/controls",
     "model_module_version": "1.5.0",
     "model_name": "ProgressStyleModel",
     "state": {
      "_model_module": "@jupyter-widgets/controls",
      "_model_module_version": "1.5.0",
      "_model_name": "ProgressStyleModel",
      "_view_count": null,
      "_view_module": "@jupyter-widgets/base",
      "_view_module_version": "1.2.0",
      "_view_name": "StyleView",
      "bar_color": null,
      "description_width": ""
     }
    },
    "bac6f361b95b4604bd79e85bcad80573": {
     "model_module": "@jupyter-widgets/base",
     "model_module_version": "1.2.0",
     "model_name": "LayoutModel",
     "state": {
      "_model_module": "@jupyter-widgets/base",
      "_model_module_version": "1.2.0",
      "_model_name": "LayoutModel",
      "_view_count": null,
      "_view_module": "@jupyter-widgets/base",
      "_view_module_version": "1.2.0",
      "_view_name": "LayoutView",
      "align_content": null,
      "align_items": null,
      "align_self": null,
      "border": null,
      "bottom": null,
      "display": null,
      "flex": null,
      "flex_flow": null,
      "grid_area": null,
      "grid_auto_columns": null,
      "grid_auto_flow": null,
      "grid_auto_rows": null,
      "grid_column": null,
      "grid_gap": null,
      "grid_row": null,
      "grid_template_areas": null,
      "grid_template_columns": null,
      "grid_template_rows": null,
      "height": null,
      "justify_content": null,
      "justify_items": null,
      "left": null,
      "margin": null,
      "max_height": null,
      "max_width": null,
      "min_height": null,
      "min_width": null,
      "object_fit": null,
      "object_position": null,
      "order": null,
      "overflow": null,
      "overflow_x": null,
      "overflow_y": null,
      "padding": null,
      "right": null,
      "top": null,
      "visibility": null,
      "width": null
     }
    },
    "bae49b7cf8bf4d958ba754428373a115": {
     "model_module": "@jupyter-widgets/controls",
     "model_module_version": "1.5.0",
     "model_name": "HBoxModel",
     "state": {
      "_dom_classes": [],
      "_model_module": "@jupyter-widgets/controls",
      "_model_module_version": "1.5.0",
      "_model_name": "HBoxModel",
      "_view_count": null,
      "_view_module": "@jupyter-widgets/controls",
      "_view_module_version": "1.5.0",
      "_view_name": "HBoxView",
      "box_style": "",
      "children": [
       "IPY_MODEL_4c84dea57b754e928a0b1d0e97e796e1",
       "IPY_MODEL_d21006e022b54e80b4791fb2ca06b650",
       "IPY_MODEL_5fac26664adc45eaae555950f173f082"
      ],
      "layout": "IPY_MODEL_37b2e389fee84d069542d7bc7f2da6a2"
     }
    },
    "bffa77b90b5d448db986a3035f3ac078": {
     "model_module": "@jupyter-widgets/controls",
     "model_module_version": "1.5.0",
     "model_name": "HBoxModel",
     "state": {
      "_dom_classes": [],
      "_model_module": "@jupyter-widgets/controls",
      "_model_module_version": "1.5.0",
      "_model_name": "HBoxModel",
      "_view_count": null,
      "_view_module": "@jupyter-widgets/controls",
      "_view_module_version": "1.5.0",
      "_view_name": "HBoxView",
      "box_style": "",
      "children": [
       "IPY_MODEL_1f62eae509ab45d5b6dcc0573f7766d2",
       "IPY_MODEL_85c1888657534ad294235cd7a8cc04a6",
       "IPY_MODEL_4322081787d8459baf90c63e102ab2cc"
      ],
      "layout": "IPY_MODEL_92068f5e627b41cfaa6f4c5ac7fc14a5"
     }
    },
    "c8498bacc1f94f19b21dbfda74e7a9bc": {
     "model_module": "@jupyter-widgets/controls",
     "model_module_version": "1.5.0",
     "model_name": "HBoxModel",
     "state": {
      "_dom_classes": [],
      "_model_module": "@jupyter-widgets/controls",
      "_model_module_version": "1.5.0",
      "_model_name": "HBoxModel",
      "_view_count": null,
      "_view_module": "@jupyter-widgets/controls",
      "_view_module_version": "1.5.0",
      "_view_name": "HBoxView",
      "box_style": "",
      "children": [
       "IPY_MODEL_6cb2e6f88d3349449eb8005eb9bd6a56",
       "IPY_MODEL_7fa6a83a15854582ab026b58715572b6",
       "IPY_MODEL_08aec74cc2404698aea8feeff114fb2f"
      ],
      "layout": "IPY_MODEL_883c463a4e5048dca480b2a14396fad7"
     }
    },
    "ca04977355724a07a3caac87a7a3b493": {
     "model_module": "@jupyter-widgets/base",
     "model_module_version": "1.2.0",
     "model_name": "LayoutModel",
     "state": {
      "_model_module": "@jupyter-widgets/base",
      "_model_module_version": "1.2.0",
      "_model_name": "LayoutModel",
      "_view_count": null,
      "_view_module": "@jupyter-widgets/base",
      "_view_module_version": "1.2.0",
      "_view_name": "LayoutView",
      "align_content": null,
      "align_items": null,
      "align_self": null,
      "border": null,
      "bottom": null,
      "display": null,
      "flex": null,
      "flex_flow": null,
      "grid_area": null,
      "grid_auto_columns": null,
      "grid_auto_flow": null,
      "grid_auto_rows": null,
      "grid_column": null,
      "grid_gap": null,
      "grid_row": null,
      "grid_template_areas": null,
      "grid_template_columns": null,
      "grid_template_rows": null,
      "height": null,
      "justify_content": null,
      "justify_items": null,
      "left": null,
      "margin": null,
      "max_height": null,
      "max_width": null,
      "min_height": null,
      "min_width": null,
      "object_fit": null,
      "object_position": null,
      "order": null,
      "overflow": null,
      "overflow_x": null,
      "overflow_y": null,
      "padding": null,
      "right": null,
      "top": null,
      "visibility": null,
      "width": null
     }
    },
    "d21006e022b54e80b4791fb2ca06b650": {
     "model_module": "@jupyter-widgets/controls",
     "model_module_version": "1.5.0",
     "model_name": "FloatProgressModel",
     "state": {
      "_dom_classes": [],
      "_model_module": "@jupyter-widgets/controls",
      "_model_module_version": "1.5.0",
      "_model_name": "FloatProgressModel",
      "_view_count": null,
      "_view_module": "@jupyter-widgets/controls",
      "_view_module_version": "1.5.0",
      "_view_name": "ProgressView",
      "bar_style": "success",
      "description": "",
      "description_tooltip": null,
      "layout": "IPY_MODEL_e1527eb61cc94649bd2276fb48d8d194",
      "max": 483,
      "min": 0,
      "orientation": "horizontal",
      "style": "IPY_MODEL_407748f4b56a42ba971242cb2dec48d8",
      "value": 483
     }
    },
    "db5cedf3e1e14c808191de2194fc7765": {
     "model_module": "@jupyter-widgets/base",
     "model_module_version": "1.2.0",
     "model_name": "LayoutModel",
     "state": {
      "_model_module": "@jupyter-widgets/base",
      "_model_module_version": "1.2.0",
      "_model_name": "LayoutModel",
      "_view_count": null,
      "_view_module": "@jupyter-widgets/base",
      "_view_module_version": "1.2.0",
      "_view_name": "LayoutView",
      "align_content": null,
      "align_items": null,
      "align_self": null,
      "border": null,
      "bottom": null,
      "display": null,
      "flex": null,
      "flex_flow": null,
      "grid_area": null,
      "grid_auto_columns": null,
      "grid_auto_flow": null,
      "grid_auto_rows": null,
      "grid_column": null,
      "grid_gap": null,
      "grid_row": null,
      "grid_template_areas": null,
      "grid_template_columns": null,
      "grid_template_rows": null,
      "height": null,
      "justify_content": null,
      "justify_items": null,
      "left": null,
      "margin": null,
      "max_height": null,
      "max_width": null,
      "min_height": null,
      "min_width": null,
      "object_fit": null,
      "object_position": null,
      "order": null,
      "overflow": null,
      "overflow_x": null,
      "overflow_y": null,
      "padding": null,
      "right": null,
      "top": null,
      "visibility": null,
      "width": null
     }
    },
    "ddfb4c7937524fc4bfeb796f09326657": {
     "model_module": "@jupyter-widgets/base",
     "model_module_version": "1.2.0",
     "model_name": "LayoutModel",
     "state": {
      "_model_module": "@jupyter-widgets/base",
      "_model_module_version": "1.2.0",
      "_model_name": "LayoutModel",
      "_view_count": null,
      "_view_module": "@jupyter-widgets/base",
      "_view_module_version": "1.2.0",
      "_view_name": "LayoutView",
      "align_content": null,
      "align_items": null,
      "align_self": null,
      "border": null,
      "bottom": null,
      "display": null,
      "flex": null,
      "flex_flow": null,
      "grid_area": null,
      "grid_auto_columns": null,
      "grid_auto_flow": null,
      "grid_auto_rows": null,
      "grid_column": null,
      "grid_gap": null,
      "grid_row": null,
      "grid_template_areas": null,
      "grid_template_columns": null,
      "grid_template_rows": null,
      "height": null,
      "justify_content": null,
      "justify_items": null,
      "left": null,
      "margin": null,
      "max_height": null,
      "max_width": null,
      "min_height": null,
      "min_width": null,
      "object_fit": null,
      "object_position": null,
      "order": null,
      "overflow": null,
      "overflow_x": null,
      "overflow_y": null,
      "padding": null,
      "right": null,
      "top": null,
      "visibility": null,
      "width": null
     }
    },
    "e1527eb61cc94649bd2276fb48d8d194": {
     "model_module": "@jupyter-widgets/base",
     "model_module_version": "1.2.0",
     "model_name": "LayoutModel",
     "state": {
      "_model_module": "@jupyter-widgets/base",
      "_model_module_version": "1.2.0",
      "_model_name": "LayoutModel",
      "_view_count": null,
      "_view_module": "@jupyter-widgets/base",
      "_view_module_version": "1.2.0",
      "_view_name": "LayoutView",
      "align_content": null,
      "align_items": null,
      "align_self": null,
      "border": null,
      "bottom": null,
      "display": null,
      "flex": null,
      "flex_flow": null,
      "grid_area": null,
      "grid_auto_columns": null,
      "grid_auto_flow": null,
      "grid_auto_rows": null,
      "grid_column": null,
      "grid_gap": null,
      "grid_row": null,
      "grid_template_areas": null,
      "grid_template_columns": null,
      "grid_template_rows": null,
      "height": null,
      "justify_content": null,
      "justify_items": null,
      "left": null,
      "margin": null,
      "max_height": null,
      "max_width": null,
      "min_height": null,
      "min_width": null,
      "object_fit": null,
      "object_position": null,
      "order": null,
      "overflow": null,
      "overflow_x": null,
      "overflow_y": null,
      "padding": null,
      "right": null,
      "top": null,
      "visibility": null,
      "width": null
     }
    },
    "f5b101ac050c4591a002b7a0efa413f0": {
     "model_module": "@jupyter-widgets/base",
     "model_module_version": "1.2.0",
     "model_name": "LayoutModel",
     "state": {
      "_model_module": "@jupyter-widgets/base",
      "_model_module_version": "1.2.0",
      "_model_name": "LayoutModel",
      "_view_count": null,
      "_view_module": "@jupyter-widgets/base",
      "_view_module_version": "1.2.0",
      "_view_name": "LayoutView",
      "align_content": null,
      "align_items": null,
      "align_self": null,
      "border": null,
      "bottom": null,
      "display": null,
      "flex": null,
      "flex_flow": null,
      "grid_area": null,
      "grid_auto_columns": null,
      "grid_auto_flow": null,
      "grid_auto_rows": null,
      "grid_column": null,
      "grid_gap": null,
      "grid_row": null,
      "grid_template_areas": null,
      "grid_template_columns": null,
      "grid_template_rows": null,
      "height": null,
      "justify_content": null,
      "justify_items": null,
      "left": null,
      "margin": null,
      "max_height": null,
      "max_width": null,
      "min_height": null,
      "min_width": null,
      "object_fit": null,
      "object_position": null,
      "order": null,
      "overflow": null,
      "overflow_x": null,
      "overflow_y": null,
      "padding": null,
      "right": null,
      "top": null,
      "visibility": null,
      "width": null
     }
    },
    "f5e72248f3ad42058c133563602b68e8": {
     "model_module": "@jupyter-widgets/controls",
     "model_module_version": "1.5.0",
     "model_name": "DescriptionStyleModel",
     "state": {
      "_model_module": "@jupyter-widgets/controls",
      "_model_module_version": "1.5.0",
      "_model_name": "DescriptionStyleModel",
      "_view_count": null,
      "_view_module": "@jupyter-widgets/base",
      "_view_module_version": "1.2.0",
      "_view_name": "StyleView",
      "description_width": ""
     }
    }
   }
  }
 },
 "nbformat": 4,
 "nbformat_minor": 5
}

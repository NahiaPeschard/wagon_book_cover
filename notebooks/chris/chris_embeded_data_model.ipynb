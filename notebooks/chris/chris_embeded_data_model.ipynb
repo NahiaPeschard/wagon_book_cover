{
 "cells": [
  {
   "cell_type": "code",
   "execution_count": 1,
   "id": "cf9743cc",
   "metadata": {},
   "outputs": [
    {
     "name": "stderr",
     "output_type": "stream",
     "text": [
      "2023-06-18 08:34:14.698208: I tensorflow/tsl/cuda/cudart_stub.cc:28] Could not find cuda drivers on your machine, GPU will not be used.\n",
      "2023-06-18 08:34:15.045135: I tensorflow/tsl/cuda/cudart_stub.cc:28] Could not find cuda drivers on your machine, GPU will not be used.\n",
      "2023-06-18 08:34:15.047000: I tensorflow/core/platform/cpu_feature_guard.cc:182] This TensorFlow binary is optimized to use available CPU instructions in performance-critical operations.\n",
      "To enable the following instructions: AVX2 FMA, in other operations, rebuild TensorFlow with the appropriate compiler flags.\n",
      "2023-06-18 08:34:16.625688: W tensorflow/compiler/tf2tensorrt/utils/py_utils.cc:38] TF-TRT Warning: Could not find TensorRT\n"
     ]
    }
   ],
   "source": [
    "import pandas as pd\n",
    "import matplotlib.pyplot as plt\n",
    "\n",
    "from tensorflow.keras.layers import Normalization\n",
    "\n",
    "from tensorflow.keras import layers, Sequential\n",
    "from tensorflow.keras.callbacks import EarlyStopping\n",
    "from tensorflow.keras.utils import to_categorical"
   ]
  },
  {
   "cell_type": "code",
   "execution_count": 2,
   "id": "a0d2f87e",
   "metadata": {},
   "outputs": [],
   "source": [
    "def plot_history(history, title='', axs=None, exp_name=\"\"):\n",
    "    if axs is not None:\n",
    "        ax1, ax2 = axs\n",
    "    else:\n",
    "        f, (ax1, ax2) = plt.subplots(1, 2, figsize=(12, 4))\n",
    "\n",
    "    if len(exp_name) > 0 and exp_name[0] != '_':\n",
    "        exp_name = '_' + exp_name\n",
    "    ax1.plot(history.history['loss'], label = 'train' + exp_name)\n",
    "    ax1.plot(history.history['val_loss'], label = 'val' + exp_name)\n",
    "    ax1.set_ylim(0., 5)\n",
    "    ax1.set_title('loss')\n",
    "    ax1.legend()\n",
    "\n",
    "    ax2.plot(history.history['accuracy'], label='train accuracy'  + exp_name)\n",
    "    ax2.plot(history.history['val_accuracy'], label='val accuracy'  + exp_name)\n",
    "    ax2.set_ylim(0., 1.0)\n",
    "    ax2.set_title('Accuracy')\n",
    "    ax2.legend()\n",
    "    return (ax1, ax2)"
   ]
  },
  {
   "cell_type": "code",
   "execution_count": null,
   "id": "d229af74",
   "metadata": {},
   "outputs": [],
   "source": [
    "X_train = pd.read_csv(\"../raw_data/embeded_data/embedding_train.csv\", dtype=\"float16\")\n",
    "\n",
    "normalizer = Normalization(axis=-1)\n",
    "\n",
    "X_train = normalizer.fit_transform(X_train)\n",
    "\n",
    "y_train = pd.read_csv(\"../raw_data/train_y.csv\", delimiter=\" \", index_col=\"Id\")['Genre_id']\n",
    "\n",
    "y_train_cat = to_categorical(y_train, num_classes=30)\n",
    "\n",
    "del y_train"
   ]
  },
  {
   "cell_type": "code",
   "execution_count": null,
   "id": "8bc446b4",
   "metadata": {},
   "outputs": [],
   "source": [
    "def initialize_model():\n",
    "    model = Sequential()\n",
    "    \n",
    "    model.add(layers.Dense(10000, activation=\"relu\", input_dim=26889))\n",
    "    \n",
    "    model.add(layers.Dense(1000, activation=\"relu\"))\n",
    "    \n",
    "    model.add(layers.Dense(100, activation=\"relu\"))\n",
    "    \n",
    "    model.add(layers.Dense(30, activation=\"softmax\"))\n",
    "\n",
    "    model.compile(loss=\"categorical_crossentropy\", optimizer=\"rmsprop\", metrics=[\"accuracy\"])\n",
    "\n",
    "    return model"
   ]
  },
  {
   "cell_type": "code",
   "execution_count": null,
   "id": "29c1fc18",
   "metadata": {},
   "outputs": [],
   "source": [
    "model_cnn = initialize_model()\n",
    "\n",
    "es = EarlyStopping(patience=10, restore_best_weights=True, monitor=\"val_accuracy\")\n",
    "\n",
    "history = model_cnn.fit(X_train, y_train_cat,\n",
    "              epochs=1000,\n",
    "              batch_size=32,\n",
    "              validation_split=0.3,\n",
    "              callbacks=[es]\n",
    "             )\n",
    "\n",
    "del X_train, y_train_cat\n",
    "\n",
    "\n",
    "X_test = pd.read_csv(\"../raw_data/embeded_data/embedding_test.csv\")\n",
    "X_test = normalizer.transform(X_test)\n",
    "\n",
    "y_test = pd.read_csv(\"../raw_data/test_y.csv\", delimiter=\" \", index_col=\"Id\")['Genre_id']\n",
    "y_test_cat = to_categorical(y_test, num_classes=30)\n",
    "\n",
    "del y_test\n",
    "\n",
    "res = model_cnn.evaluate(X_test, y_test_cat, verbose=0)\n",
    "\n",
    "print(f'The accuracy evaluated on the test set is of {res[1]*100:.3f}%')"
   ]
  },
  {
   "cell_type": "code",
   "execution_count": null,
   "id": "0c18b0e2",
   "metadata": {},
   "outputs": [],
   "source": [
    "plot_history(history)"
   ]
  },
  {
   "cell_type": "code",
   "execution_count": null,
   "id": "35fd2913",
   "metadata": {},
   "outputs": [],
   "source": []
  },
  {
   "cell_type": "code",
   "execution_count": null,
   "id": "b295e9de",
   "metadata": {},
   "outputs": [],
   "source": []
  }
 ],
 "metadata": {
  "kernelspec": {
   "display_name": "Python 3 (ipykernel)",
   "language": "python",
   "name": "python3"
  },
  "language_info": {
   "codemirror_mode": {
    "name": "ipython",
    "version": 3
   },
   "file_extension": ".py",
   "mimetype": "text/x-python",
   "name": "python",
   "nbconvert_exporter": "python",
   "pygments_lexer": "ipython3",
   "version": "3.10.6"
  },
  "toc": {
   "base_numbering": 1,
   "nav_menu": {},
   "number_sections": true,
   "sideBar": true,
   "skip_h1_title": false,
   "title_cell": "Table of Contents",
   "title_sidebar": "Contents",
   "toc_cell": false,
   "toc_position": {},
   "toc_section_display": true,
   "toc_window_display": false
  }
 },
 "nbformat": 4,
 "nbformat_minor": 5
}

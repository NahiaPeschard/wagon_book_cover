{
 "cells": [
  {
   "cell_type": "code",
   "execution_count": 74,
   "id": "085d1045",
   "metadata": {},
   "outputs": [],
   "source": [
    "import numpy as np\n",
    "import pandas as pd\n",
    "import matplotlib.pyplot as plt\n",
    "import matplotlib.patches as patches\n",
    "import matplotlib.image as mpimg\n",
    "import os\n",
    "\n",
    "from PIL import Image\n",
    "from matplotlib.offsetbox import OffsetImage, AnnotationBbox\n",
    "\n",
    "import cv2\n",
    "import extcolors\n",
    "\n",
    "from multiprocessing import Pool\n",
    "\n",
    "from colormap import rgb2hex"
   ]
  },
  {
   "cell_type": "code",
   "execution_count": 6,
   "id": "619daf8f",
   "metadata": {},
   "outputs": [
    {
     "data": {
      "text/plain": [
       "([((4, 5, 7), 13360),\n",
       "  ((214, 208, 194), 4628),\n",
       "  ((10, 10, 44), 4521),\n",
       "  ((137, 120, 77), 3069),\n",
       "  ((39, 39, 39), 2357),\n",
       "  ((255, 255, 255), 2314),\n",
       "  ((204, 175, 119), 2303),\n",
       "  ((82, 82, 84), 2120),\n",
       "  ((203, 188, 157), 1909),\n",
       "  ((151, 151, 151), 1795),\n",
       "  ((194, 21, 23), 1393),\n",
       "  ((145, 128, 108), 1205)],\n",
       " 50176)"
      ]
     },
     "execution_count": 6,
     "metadata": {},
     "output_type": "execute_result"
    }
   ],
   "source": [
    "image_name=\"000755303X.jpg\"\n",
    "image_path = os.path.join(\"..\", \"..\", \"raw_data\", \"Images\", image_name)\n",
    "colors_x = extcolors.extract_from_path(image_path, tolerance = 12, limit = 12)\n",
    "colors_x"
   ]
  },
  {
   "cell_type": "code",
   "execution_count": 15,
   "id": "a89c0784",
   "metadata": {},
   "outputs": [],
   "source": [
    "output_features = np.array([])\n",
    "pixels = []\n",
    "for color in colors_x[0]:\n",
    "    pixels.append(color[0])"
   ]
  },
  {
   "cell_type": "code",
   "execution_count": 67,
   "id": "b53c61f3",
   "metadata": {},
   "outputs": [
    {
     "data": {
      "text/plain": [
       "array([0.01568627, 0.01960784, 0.02745098, 0.83921569, 0.81568627,\n",
       "       0.76078431, 0.03921569, 0.03921569, 0.17254902, 0.5372549 ,\n",
       "       0.47058824, 0.30196078, 0.15294118, 0.15294118, 0.15294118,\n",
       "       1.        , 1.        , 1.        , 0.8       , 0.68627451,\n",
       "       0.46666667, 0.32156863, 0.32156863, 0.32941176, 0.79607843,\n",
       "       0.7372549 , 0.61568627, 0.59215686, 0.59215686, 0.59215686,\n",
       "       0.76078431, 0.08235294, 0.09019608, 0.56862745, 0.50196078,\n",
       "       0.42352941])"
      ]
     },
     "execution_count": 67,
     "metadata": {},
     "output_type": "execute_result"
    }
   ],
   "source": [
    "pixels_np = np.array(pixels) / 255.0\n",
    "np.append(output_features, pixels_np.flatten())"
   ]
  },
  {
   "cell_type": "code",
   "execution_count": 79,
   "id": "2dddcf70",
   "metadata": {},
   "outputs": [],
   "source": [
    "def preprocess_image(image_info):\n",
    "    image_name, image_path = image_info\n",
    "    full_path = os.path.join(image_path, image_name)\n",
    "    colors_x = extcolors.extract_from_path(full_path, tolerance=12, limit=12)\n",
    "    pixels = [color[0] for color in colors_x[0]]\n",
    "    pixels_np = np.array(pixels) / 255.0\n",
    "    return pixels_np.flatten()\n",
    "\n",
    "def preprocess_images(batch_images, image_path):\n",
    "    image_info = [(image_name, image_path) for image_name in batch_images]\n",
    "    \n",
    "    with Pool() as pool:\n",
    "        output_features = pool.map(preprocess_image, image_info)\n",
    "    \n",
    "    return output_features"
   ]
  },
  {
   "cell_type": "code",
   "execution_count": 81,
   "id": "9506a4ec",
   "metadata": {},
   "outputs": [],
   "source": [
    "X_train = pd.read_csv(\"../../raw_data/test_x.csv\", delimiter=\" \", index_col=\"Id\")\n",
    "\n",
    "batch_size = 1000\n",
    "image_path = \"../../raw_data/Images/\"\n",
    "\n",
    "output_file_path = \"../../raw_data/embeded_data/color_pallets_test.csv\"\n",
    "\n",
    "file_exists = os.path.isfile(output_file_path)\n",
    "\n",
    "if file_exists:\n",
    "    with open(output_file_path) as f:\n",
    "        print(sum(1 for line in f))\n",
    "        saved_batches = int(sum(1 for line in f)/batch_size)\n",
    "        start_point = batch_size * saved_batches\n",
    "else:\n",
    "    start_point = 0\n",
    "\n",
    "for i in range(start_point, len(X_train), batch_size):\n",
    "    output_features = np.array([])\n",
    "    \n",
    "    batch_images = X_train.iloc[i:i + batch_size][\"Image_name\"].values\n",
    "    \n",
    "    output_features = preprocess_images(batch_images, image_path)\n",
    "    \n",
    "    if file_exists:\n",
    "        pd.DataFrame(output_features).to_csv(output_file_path, mode='a', header=False, index=False)\n",
    "    else:\n",
    "        pd.DataFrame(output_features).to_csv(output_file_path, header=True, index=False)\n",
    "        file_exists = True\n",
    "        "
   ]
  },
  {
   "cell_type": "code",
   "execution_count": null,
   "id": "01f21061",
   "metadata": {},
   "outputs": [],
   "source": [
    "pd.DataFrame(preprocess_images([\"1622782992.jpg\", \"1622730321.jpg\"], \"../../raw_data/Images/\")).to_csv(output_file_path, header=True, index=False)"
   ]
  },
  {
   "cell_type": "code",
   "execution_count": null,
   "id": "8530170c",
   "metadata": {},
   "outputs": [],
   "source": []
  },
  {
   "cell_type": "code",
   "execution_count": null,
   "id": "4b23da29",
   "metadata": {},
   "outputs": [],
   "source": []
  },
  {
   "cell_type": "code",
   "execution_count": null,
   "id": "8402bef4",
   "metadata": {},
   "outputs": [],
   "source": []
  }
 ],
 "metadata": {
  "kernelspec": {
   "display_name": "Python 3 (ipykernel)",
   "language": "python",
   "name": "python3"
  },
  "language_info": {
   "codemirror_mode": {
    "name": "ipython",
    "version": 3
   },
   "file_extension": ".py",
   "mimetype": "text/x-python",
   "name": "python",
   "nbconvert_exporter": "python",
   "pygments_lexer": "ipython3",
   "version": "3.10.6"
  },
  "toc": {
   "base_numbering": 1,
   "nav_menu": {},
   "number_sections": true,
   "sideBar": true,
   "skip_h1_title": false,
   "title_cell": "Table of Contents",
   "title_sidebar": "Contents",
   "toc_cell": false,
   "toc_position": {},
   "toc_section_display": true,
   "toc_window_display": false
  }
 },
 "nbformat": 4,
 "nbformat_minor": 5
}

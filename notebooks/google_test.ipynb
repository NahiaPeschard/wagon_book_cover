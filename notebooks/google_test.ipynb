{
 "cells": [
  {
   "cell_type": "code",
   "execution_count": 7,
   "metadata": {},
   "outputs": [],
   "source": [
    "from google.cloud import vision\n",
    "import io\n",
    "import pandas as pd\n",
    "import os\n",
    "import cv2"
   ]
  },
  {
   "cell_type": "code",
   "execution_count": 2,
   "metadata": {},
   "outputs": [],
   "source": [
    "# authenticate client\n",
    "client = vision.ImageAnnotatorClient.from_service_account_json('/Users/ellipalaiologou/Dropbox/le_wagon/celtic-parser-384710-c9531212aed8.json')"
   ]
  },
  {
   "cell_type": "code",
   "execution_count": 5,
   "metadata": {},
   "outputs": [],
   "source": [
    "X = pd.read_csv(\"../raw_data/train_x.csv\", delimiter=\" \", index_col=\"Id\")"
   ]
  },
  {
   "cell_type": "code",
   "execution_count": 8,
   "metadata": {},
   "outputs": [],
   "source": [
    "image_path = os.path.join(\"../raw_data/Images/\", X['Image_name'][1])\n",
    "image = cv2.imread(image_path)"
   ]
  },
  {
   "cell_type": "code",
   "execution_count": 9,
   "metadata": {},
   "outputs": [],
   "source": [
    "with io.open(image_path, 'rb') as image_file:\n",
    "    content = image_file.read()\n",
    "\n",
    "image = vision.Image(content=content)"
   ]
  },
  {
   "cell_type": "code",
   "execution_count": 14,
   "metadata": {},
   "outputs": [
    {
     "name": "stdout",
     "output_type": "stream",
     "text": [
      "Title: Maghets\n",
      "Pulling Together\n",
      "Pushing Apart\n"
     ]
    }
   ],
   "source": [
    "response = client.text_detection(image=image)\n",
    "texts = response.text_annotations\n",
    "text_content = ''\n",
    "\n",
    "if texts:\n",
    "    title = texts[0].description\n",
    "else:\n",
    "    title = '' \n",
    "    \n",
    "print('Title:', title)\n"
   ]
  },
  {
   "cell_type": "code",
   "execution_count": 24,
   "metadata": {},
   "outputs": [],
   "source": [
    "# Create an empty DataFrame to store the extracted text\n",
    "data = []\n",
    "\n",
    "for i in range(len(X['Image_name'])):\n",
    "    image_path = os.path.join(\"../raw_data/Images/\", X['Image_name'][i])\n",
    "    with io.open(image_path, 'rb') as image_file:\n",
    "        content = image_file.read()\n",
    "\n",
    "    image = vision.Image(content=content)\n",
    "    response = client.text_detection(image=image)\n",
    "    texts = response.text_annotations\n",
    "\n",
    "    if texts:\n",
    "        title = texts[0].description.replace('\\n', ' ')\n",
    "    else:\n",
    "        title = ''\n",
    "        \n",
    "    title = title.strip() \n",
    "\n",
    "    # Append the extracted text to the DataFrame\n",
    "    data.append({'Image_name': X['Image_name'][i], 'Title': title})\n",
    "\n",
    "# Print the DataFrame with the extracted text\n",
    "df = pd.DataFrame(data)\n",
    "\n",
    "print(df) "
   ]
  },
  {
   "cell_type": "code",
   "execution_count": 19,
   "metadata": {},
   "outputs": [
    {
     "data": {
      "text/plain": [
       "{'Image_name': '1491522666.jpg',\n",
       " 'Title': 'AUDIOBOOK\\nMP3-CD\\nInsert Transfer Listen!\\nTREES ANTER * No\\nAn\\nAmish Gathering\\nс\\nLIFE IN LANCASTER COUNTY\\nDETH WIRE\\nKATHERINE\\nH'}"
      ]
     },
     "execution_count": 19,
     "metadata": {},
     "output_type": "execute_result"
    }
   ],
   "source": [
    "data[3]"
   ]
  },
  {
   "cell_type": "code",
   "execution_count": null,
   "metadata": {},
   "outputs": [],
   "source": []
  }
 ],
 "metadata": {
  "kernelspec": {
   "display_name": "lewagon",
   "language": "python",
   "name": "python3"
  },
  "language_info": {
   "codemirror_mode": {
    "name": "ipython",
    "version": 3
   },
   "file_extension": ".py",
   "mimetype": "text/x-python",
   "name": "python",
   "nbconvert_exporter": "python",
   "pygments_lexer": "ipython3",
   "version": "3.10.6"
  },
  "orig_nbformat": 4
 },
 "nbformat": 4,
 "nbformat_minor": 2
}

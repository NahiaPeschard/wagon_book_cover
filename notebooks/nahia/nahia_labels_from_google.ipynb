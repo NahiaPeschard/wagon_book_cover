{
 "cells": [
  {
   "cell_type": "code",
   "execution_count": 18,
   "metadata": {},
   "outputs": [],
   "source": [
    "import os\n",
    "import io\n",
    "import pandas as pd\n",
    "import numpy as np\n",
    "\n",
    "# Viz imports\n",
    "import matplotlib.pyplot as plt\n",
    "\n",
    "# Image processing imports\n",
    "from PIL import Image\n",
    "from google.cloud import vision\n",
    "import cv2"
   ]
  },
  {
   "cell_type": "code",
   "execution_count": 2,
   "metadata": {},
   "outputs": [],
   "source": [
    "# Authenticate client \n",
    "client = vision.ImageAnnotatorClient.from_service_account_json('/Users/nahiapeschard/code/fresh-office-384710-40d49749ad5a.json')"
   ]
  },
  {
   "attachments": {},
   "cell_type": "markdown",
   "metadata": {},
   "source": [
    "# Loading and splitting data"
   ]
  },
  {
   "cell_type": "code",
   "execution_count": 5,
   "metadata": {},
   "outputs": [],
   "source": [
    "X_train = pd.read_csv(\"../../raw_data/train_x.csv\", delimiter=\" \", index_col=\"Id\")"
   ]
  },
  {
   "cell_type": "code",
   "execution_count": 16,
   "metadata": {},
   "outputs": [
    {
     "data": {
      "text/plain": [
       "(51300, 2)"
      ]
     },
     "execution_count": 16,
     "metadata": {},
     "output_type": "execute_result"
    }
   ],
   "source": [
    "X_train.shape"
   ]
  },
  {
   "cell_type": "code",
   "execution_count": 6,
   "metadata": {},
   "outputs": [
    {
     "data": {
      "text/html": [
       "<div>\n",
       "<style scoped>\n",
       "    .dataframe tbody tr th:only-of-type {\n",
       "        vertical-align: middle;\n",
       "    }\n",
       "\n",
       "    .dataframe tbody tr th {\n",
       "        vertical-align: top;\n",
       "    }\n",
       "\n",
       "    .dataframe thead th {\n",
       "        text-align: right;\n",
       "    }\n",
       "</style>\n",
       "<table border=\"1\" class=\"dataframe\">\n",
       "  <thead>\n",
       "    <tr style=\"text-align: right;\">\n",
       "      <th></th>\n",
       "      <th>Image_name</th>\n",
       "      <th>Title</th>\n",
       "    </tr>\n",
       "    <tr>\n",
       "      <th>Id</th>\n",
       "      <th></th>\n",
       "      <th></th>\n",
       "    </tr>\n",
       "  </thead>\n",
       "  <tbody>\n",
       "    <tr>\n",
       "      <th>0</th>\n",
       "      <td>1588345297.jpg</td>\n",
       "      <td>With Schwarzkopf: Life Lessons of The Bear</td>\n",
       "    </tr>\n",
       "    <tr>\n",
       "      <th>1</th>\n",
       "      <td>1404803335.jpg</td>\n",
       "      <td>Magnets: Pulling Together, Pushing Apart (Amaz...</td>\n",
       "    </tr>\n",
       "    <tr>\n",
       "      <th>2</th>\n",
       "      <td>1446276082.jpg</td>\n",
       "      <td>Energy Security (SAGE Library of International...</td>\n",
       "    </tr>\n",
       "    <tr>\n",
       "      <th>3</th>\n",
       "      <td>1491522666.jpg</td>\n",
       "      <td>An Amish Gathering: Life in Lancaster County</td>\n",
       "    </tr>\n",
       "    <tr>\n",
       "      <th>4</th>\n",
       "      <td>0970096410.jpg</td>\n",
       "      <td>City of Rocks Idaho: A Climber's Guide (Region...</td>\n",
       "    </tr>\n",
       "  </tbody>\n",
       "</table>\n",
       "</div>"
      ],
      "text/plain": [
       "        Image_name                                              Title\n",
       "Id                                                                   \n",
       "0   1588345297.jpg         With Schwarzkopf: Life Lessons of The Bear\n",
       "1   1404803335.jpg  Magnets: Pulling Together, Pushing Apart (Amaz...\n",
       "2   1446276082.jpg  Energy Security (SAGE Library of International...\n",
       "3   1491522666.jpg       An Amish Gathering: Life in Lancaster County\n",
       "4   0970096410.jpg  City of Rocks Idaho: A Climber's Guide (Region..."
      ]
     },
     "execution_count": 6,
     "metadata": {},
     "output_type": "execute_result"
    }
   ],
   "source": [
    "X_train.head()"
   ]
  },
  {
   "cell_type": "code",
   "execution_count": 19,
   "metadata": {},
   "outputs": [],
   "source": [
    "X_train_chunks = np.split(X_train, 100)"
   ]
  },
  {
   "cell_type": "code",
   "execution_count": 58,
   "metadata": {},
   "outputs": [],
   "source": [
    "X_test = pd.read_csv(\"../../raw_data/test_x.csv\", delimiter=\" \", index_col=\"Id\")"
   ]
  },
  {
   "cell_type": "code",
   "execution_count": 59,
   "metadata": {},
   "outputs": [
    {
     "data": {
      "text/plain": [
       "(5700, 2)"
      ]
     },
     "execution_count": 59,
     "metadata": {},
     "output_type": "execute_result"
    }
   ],
   "source": [
    "X_test.shape"
   ]
  },
  {
   "cell_type": "code",
   "execution_count": 60,
   "metadata": {},
   "outputs": [
    {
     "data": {
      "text/html": [
       "<div>\n",
       "<style scoped>\n",
       "    .dataframe tbody tr th:only-of-type {\n",
       "        vertical-align: middle;\n",
       "    }\n",
       "\n",
       "    .dataframe tbody tr th {\n",
       "        vertical-align: top;\n",
       "    }\n",
       "\n",
       "    .dataframe thead th {\n",
       "        text-align: right;\n",
       "    }\n",
       "</style>\n",
       "<table border=\"1\" class=\"dataframe\">\n",
       "  <thead>\n",
       "    <tr style=\"text-align: right;\">\n",
       "      <th></th>\n",
       "      <th>Image_name</th>\n",
       "      <th>Title</th>\n",
       "    </tr>\n",
       "    <tr>\n",
       "      <th>Id</th>\n",
       "      <th></th>\n",
       "      <th></th>\n",
       "    </tr>\n",
       "  </thead>\n",
       "  <tbody>\n",
       "    <tr>\n",
       "      <th>0</th>\n",
       "      <td>044310073X.jpg</td>\n",
       "      <td>Oral and Maxillofacial Surgery: An Objective-B...</td>\n",
       "    </tr>\n",
       "    <tr>\n",
       "      <th>1</th>\n",
       "      <td>1438005687.jpg</td>\n",
       "      <td>Barron's GRE, 21st Edition</td>\n",
       "    </tr>\n",
       "    <tr>\n",
       "      <th>2</th>\n",
       "      <td>0060750715.jpg</td>\n",
       "      <td>George Balanchine: The Ballet Maker (Eminent L...</td>\n",
       "    </tr>\n",
       "    <tr>\n",
       "      <th>3</th>\n",
       "      <td>1580237959.jpg</td>\n",
       "      <td>A Partner in Holiness: Deepening Mindfulness, ...</td>\n",
       "    </tr>\n",
       "    <tr>\n",
       "      <th>4</th>\n",
       "      <td>0135137829.jpg</td>\n",
       "      <td>Construction Scheduling: Principles and Practi...</td>\n",
       "    </tr>\n",
       "  </tbody>\n",
       "</table>\n",
       "</div>"
      ],
      "text/plain": [
       "        Image_name                                              Title\n",
       "Id                                                                   \n",
       "0   044310073X.jpg  Oral and Maxillofacial Surgery: An Objective-B...\n",
       "1   1438005687.jpg                         Barron's GRE, 21st Edition\n",
       "2   0060750715.jpg  George Balanchine: The Ballet Maker (Eminent L...\n",
       "3   1580237959.jpg  A Partner in Holiness: Deepening Mindfulness, ...\n",
       "4   0135137829.jpg  Construction Scheduling: Principles and Practi..."
      ]
     },
     "execution_count": 60,
     "metadata": {},
     "output_type": "execute_result"
    }
   ],
   "source": [
    "X_test.head()"
   ]
  },
  {
   "cell_type": "code",
   "execution_count": 61,
   "metadata": {},
   "outputs": [],
   "source": [
    "X_test_chunks = np.split(X_test, 10)"
   ]
  },
  {
   "attachments": {},
   "cell_type": "markdown",
   "metadata": {},
   "source": [
    "# API calls"
   ]
  },
  {
   "cell_type": "code",
   "execution_count": 30,
   "metadata": {},
   "outputs": [],
   "source": [
    "def detect_labels(path):\n",
    "    output_labels = []\n",
    "    \"\"\"Detects labels in the file.\"\"\"\n",
    "    from google.cloud import vision\n",
    "\n",
    "    client = vision.ImageAnnotatorClient()\n",
    "\n",
    "    with io.open(path, \"rb\") as image_file:\n",
    "        content = image_file.read()\n",
    "\n",
    "    image = vision.Image(content=content)\n",
    "\n",
    "    response = client.label_detection(image=image)\n",
    "    labels = response.label_annotations\n",
    "\n",
    "    for label in labels:\n",
    "        output_labels.append(label.description)\n",
    "\n",
    "    if response.error.message:\n",
    "        raise Exception(\n",
    "            \"{}\\nFor more info on error messages, check: \"\n",
    "            \"https://cloud.google.com/apis/design/errors\".format(response.error.message)\n",
    "        )\n",
    "    return output_labels"
   ]
  },
  {
   "cell_type": "code",
   "execution_count": 57,
   "metadata": {},
   "outputs": [
    {
     "name": "stdout",
     "output_type": "stream",
     "text": [
      "Processing batch 17\n",
      "Processing batch 18\n",
      "Processing batch 19\n",
      "Processing batch 20\n",
      "Processing batch 21\n",
      "Processing batch 22\n",
      "Processing batch 23\n",
      "Processing batch 24\n",
      "Processing batch 25\n",
      "Processing batch 26\n",
      "Processing batch 27\n",
      "Processing batch 28\n",
      "Processing batch 29\n",
      "Processing batch 30\n",
      "Processing batch 31\n",
      "Processing batch 32\n",
      "Processing batch 33\n",
      "Processing batch 34\n",
      "Processing batch 35\n",
      "Processing batch 36\n",
      "Processing batch 37\n",
      "Processing batch 38\n",
      "Processing batch 39\n",
      "Processing batch 40\n",
      "Processing batch 41\n",
      "Processing batch 42\n",
      "Processing batch 43\n",
      "Processing batch 44\n",
      "Processing batch 45\n",
      "Processing batch 46\n",
      "Processing batch 47\n",
      "Processing batch 48\n",
      "Processing batch 49\n",
      "Processing batch 50\n",
      "Processing batch 51\n",
      "Processing batch 52\n",
      "Processing batch 53\n",
      "Processing batch 54\n",
      "Processing batch 55\n",
      "Processing batch 56\n",
      "Processing batch 57\n",
      "Processing batch 58\n",
      "Processing batch 59\n",
      "Processing batch 60\n",
      "Processing batch 61\n",
      "Processing batch 62\n",
      "Processing batch 63\n",
      "Processing batch 64\n",
      "Processing batch 65\n",
      "Processing batch 66\n",
      "Processing batch 67\n",
      "Processing batch 68\n",
      "Processing batch 69\n",
      "Processing batch 70\n",
      "Processing batch 71\n",
      "Processing batch 72\n",
      "Processing batch 73\n",
      "Processing batch 74\n",
      "Processing batch 75\n",
      "Processing batch 76\n",
      "Processing batch 77\n",
      "Processing batch 78\n",
      "Processing batch 79\n",
      "Processing batch 80\n",
      "Processing batch 81\n",
      "Processing batch 82\n",
      "Processing batch 83\n",
      "Processing batch 84\n",
      "Processing batch 85\n",
      "Processing batch 86\n",
      "Processing batch 87\n",
      "Processing batch 88\n",
      "Processing batch 89\n",
      "Processing batch 90\n",
      "Processing batch 91\n",
      "Processing batch 92\n",
      "Processing batch 93\n",
      "Processing batch 94\n",
      "Processing batch 95\n",
      "Processing batch 96\n",
      "Processing batch 97\n",
      "Processing batch 98\n",
      "Processing batch 99\n"
     ]
    }
   ],
   "source": [
    "# Create an empty DataFrame to store the extracted text\n",
    "for i in range(17, 100):\n",
    "    print(f\"Processing batch {i}\")\n",
    "    data = []\n",
    "    X_train_chunks_i = X_train_chunks[i].reset_index()\n",
    "    for j in range(len(X_train_chunks_i)):\n",
    "        image_path = os.path.join(\"../../raw_data/Images/\", X_train_chunks_i['Image_name'][j])\n",
    "        labels = detect_labels(image_path)\n",
    "        data.append({'Image_name': X_train_chunks_i['Image_name'][j], 'Google_labels': labels})\n",
    "\n",
    "    df = pd.DataFrame(data)\n",
    "    df.to_csv(f\"../../raw_data/Labels_csv/X_train_batch_{i}.csv\")"
   ]
  },
  {
   "cell_type": "code",
   "execution_count": 62,
   "metadata": {},
   "outputs": [
    {
     "name": "stdout",
     "output_type": "stream",
     "text": [
      "Processing batch 0\n",
      "Processing batch 1\n",
      "Processing batch 2\n",
      "Processing batch 3\n",
      "Processing batch 4\n",
      "Processing batch 5\n",
      "Processing batch 6\n",
      "Processing batch 7\n",
      "Processing batch 8\n",
      "Processing batch 9\n"
     ]
    }
   ],
   "source": [
    "# Create an empty DataFrame to store the extracted text\n",
    "for i in range(10):\n",
    "    print(f\"Processing batch {i}\")\n",
    "    data = []\n",
    "    X_test_chunks_i = X_test_chunks[i].reset_index()\n",
    "    for j in range(len(X_test_chunks_i)):\n",
    "        image_path = os.path.join(\"../../raw_data/Images/\", X_test_chunks_i['Image_name'][j])\n",
    "        labels = detect_labels(image_path)\n",
    "        data.append({'Image_name': X_test_chunks_i['Image_name'][j], 'Google_labels': labels})\n",
    "\n",
    "    df = pd.DataFrame(data)\n",
    "    df.to_csv(f\"../../raw_data/Labels_csv/X_test_batch_{i}.csv\")"
   ]
  },
  {
   "cell_type": "code",
   "execution_count": 67,
   "metadata": {},
   "outputs": [
    {
     "name": "stdout",
     "output_type": "stream",
     "text": [
      "(5700, 3)\n"
     ]
    },
    {
     "data": {
      "text/html": [
       "<div>\n",
       "<style scoped>\n",
       "    .dataframe tbody tr th:only-of-type {\n",
       "        vertical-align: middle;\n",
       "    }\n",
       "\n",
       "    .dataframe tbody tr th {\n",
       "        vertical-align: top;\n",
       "    }\n",
       "\n",
       "    .dataframe thead th {\n",
       "        text-align: right;\n",
       "    }\n",
       "</style>\n",
       "<table border=\"1\" class=\"dataframe\">\n",
       "  <thead>\n",
       "    <tr style=\"text-align: right;\">\n",
       "      <th></th>\n",
       "      <th>index</th>\n",
       "      <th>Image_name</th>\n",
       "      <th>Google_labels</th>\n",
       "    </tr>\n",
       "  </thead>\n",
       "  <tbody>\n",
       "    <tr>\n",
       "      <th>0</th>\n",
       "      <td>0</td>\n",
       "      <td>044310073X.jpg</td>\n",
       "      <td>['Liquid', 'Font', 'Automotive lighting', 'Geo...</td>\n",
       "    </tr>\n",
       "    <tr>\n",
       "      <th>1</th>\n",
       "      <td>1</td>\n",
       "      <td>1438005687.jpg</td>\n",
       "      <td>['Product', 'Font', 'Publication', 'Recipe', '...</td>\n",
       "    </tr>\n",
       "    <tr>\n",
       "      <th>2</th>\n",
       "      <td>2</td>\n",
       "      <td>0060750715.jpg</td>\n",
       "      <td>['Sleeve', 'Tie', 'Gesture', 'Font', 'Book', '...</td>\n",
       "    </tr>\n",
       "    <tr>\n",
       "      <th>3</th>\n",
       "      <td>3</td>\n",
       "      <td>1580237959.jpg</td>\n",
       "      <td>['Font', 'Poster', 'Event', 'Advertising', 'El...</td>\n",
       "    </tr>\n",
       "    <tr>\n",
       "      <th>4</th>\n",
       "      <td>4</td>\n",
       "      <td>0135137829.jpg</td>\n",
       "      <td>['Computer', 'Personal computer', 'Laptop', 'F...</td>\n",
       "    </tr>\n",
       "  </tbody>\n",
       "</table>\n",
       "</div>"
      ],
      "text/plain": [
       "   index      Image_name                                      Google_labels\n",
       "0      0  044310073X.jpg  ['Liquid', 'Font', 'Automotive lighting', 'Geo...\n",
       "1      1  1438005687.jpg  ['Product', 'Font', 'Publication', 'Recipe', '...\n",
       "2      2  0060750715.jpg  ['Sleeve', 'Tie', 'Gesture', 'Font', 'Book', '...\n",
       "3      3  1580237959.jpg  ['Font', 'Poster', 'Event', 'Advertising', 'El...\n",
       "4      4  0135137829.jpg  ['Computer', 'Personal computer', 'Laptop', 'F..."
      ]
     },
     "execution_count": 67,
     "metadata": {},
     "output_type": "execute_result"
    }
   ],
   "source": [
    "X_test_google_labels = pd.read_csv(\"../../raw_data/Labels_csv/X_test_batch_0.csv\", index_col=0)\n",
    "\n",
    "for i in range(1, 10):\n",
    "    X_test_google_labels_temp = pd.read_csv(f\"../../raw_data/Labels_csv/X_test_batch_{i}.csv\", index_col=0)\n",
    "    X_test_google_labels = pd.concat([X_test_google_labels, X_test_google_labels_temp], axis=0)\n",
    "\n",
    "X_test_google_labels = X_test_google_labels.reset_index()"
   ]
  },
  {
   "cell_type": "code",
   "execution_count": 69,
   "metadata": {},
   "outputs": [
    {
     "name": "stdout",
     "output_type": "stream",
     "text": [
      "(5700, 2)\n"
     ]
    },
    {
     "data": {
      "text/html": [
       "<div>\n",
       "<style scoped>\n",
       "    .dataframe tbody tr th:only-of-type {\n",
       "        vertical-align: middle;\n",
       "    }\n",
       "\n",
       "    .dataframe tbody tr th {\n",
       "        vertical-align: top;\n",
       "    }\n",
       "\n",
       "    .dataframe thead th {\n",
       "        text-align: right;\n",
       "    }\n",
       "</style>\n",
       "<table border=\"1\" class=\"dataframe\">\n",
       "  <thead>\n",
       "    <tr style=\"text-align: right;\">\n",
       "      <th></th>\n",
       "      <th>Image_name</th>\n",
       "      <th>Google_labels</th>\n",
       "    </tr>\n",
       "  </thead>\n",
       "  <tbody>\n",
       "    <tr>\n",
       "      <th>5695</th>\n",
       "      <td>0399174680.jpg</td>\n",
       "      <td>['Sky', 'Building', 'Property', 'Cloud', 'Plan...</td>\n",
       "    </tr>\n",
       "    <tr>\n",
       "      <th>5696</th>\n",
       "      <td>1939454654.jpg</td>\n",
       "      <td>['Azure', 'Font', 'Aqua', 'Book', 'Electric bl...</td>\n",
       "    </tr>\n",
       "    <tr>\n",
       "      <th>5697</th>\n",
       "      <td>1604601604.jpg</td>\n",
       "      <td>['Building', 'Property', 'Window', 'Wheel', 'F...</td>\n",
       "    </tr>\n",
       "    <tr>\n",
       "      <th>5698</th>\n",
       "      <td>0399166726.jpg</td>\n",
       "      <td>['Tire', 'Product', 'Font', 'Automotive tire',...</td>\n",
       "    </tr>\n",
       "    <tr>\n",
       "      <th>5699</th>\n",
       "      <td>0062073508.jpg</td>\n",
       "      <td>['Poster', 'Font', 'Publication', 'Advertising...</td>\n",
       "    </tr>\n",
       "  </tbody>\n",
       "</table>\n",
       "</div>"
      ],
      "text/plain": [
       "          Image_name                                      Google_labels\n",
       "5695  0399174680.jpg  ['Sky', 'Building', 'Property', 'Cloud', 'Plan...\n",
       "5696  1939454654.jpg  ['Azure', 'Font', 'Aqua', 'Book', 'Electric bl...\n",
       "5697  1604601604.jpg  ['Building', 'Property', 'Window', 'Wheel', 'F...\n",
       "5698  0399166726.jpg  ['Tire', 'Product', 'Font', 'Automotive tire',...\n",
       "5699  0062073508.jpg  ['Poster', 'Font', 'Publication', 'Advertising..."
      ]
     },
     "execution_count": 69,
     "metadata": {},
     "output_type": "execute_result"
    }
   ],
   "source": [
    "X_test_google_labels = X_test_google_labels.drop(columns=['index'])\n",
    "print(X_test_google_labels.shape)\n",
    "X_test_google_labels.tail()"
   ]
  },
  {
   "cell_type": "code",
   "execution_count": 70,
   "metadata": {},
   "outputs": [],
   "source": [
    "X_test_google_labels.to_csv(f\"../../raw_data/Labels_csv/X_test_google_labels.csv\")"
   ]
  },
  {
   "cell_type": "code",
   "execution_count": 71,
   "metadata": {},
   "outputs": [],
   "source": [
    "X_train_google_labels = pd.read_csv(\"../../raw_data/Labels_csv/X_train_batch_0.csv\", index_col=0)\n",
    "\n",
    "for i in range(1, 100):\n",
    "    X_train_google_labels_temp = pd.read_csv(f\"../../raw_data/Labels_csv/X_train_batch_{i}.csv\", index_col=0)\n",
    "    X_train_google_labels = pd.concat([X_train_google_labels, X_train_google_labels_temp], axis=0)\n",
    "\n",
    "X_train_google_labels = X_train_google_labels.reset_index()\n",
    "X_train_google_labels = X_train_google_labels.drop(columns=['index'])"
   ]
  },
  {
   "cell_type": "code",
   "execution_count": 72,
   "metadata": {},
   "outputs": [
    {
     "name": "stdout",
     "output_type": "stream",
     "text": [
      "(51300, 2)\n"
     ]
    },
    {
     "data": {
      "text/html": [
       "<div>\n",
       "<style scoped>\n",
       "    .dataframe tbody tr th:only-of-type {\n",
       "        vertical-align: middle;\n",
       "    }\n",
       "\n",
       "    .dataframe tbody tr th {\n",
       "        vertical-align: top;\n",
       "    }\n",
       "\n",
       "    .dataframe thead th {\n",
       "        text-align: right;\n",
       "    }\n",
       "</style>\n",
       "<table border=\"1\" class=\"dataframe\">\n",
       "  <thead>\n",
       "    <tr style=\"text-align: right;\">\n",
       "      <th></th>\n",
       "      <th>Image_name</th>\n",
       "      <th>Google_labels</th>\n",
       "    </tr>\n",
       "  </thead>\n",
       "  <tbody>\n",
       "    <tr>\n",
       "      <th>51295</th>\n",
       "      <td>0399176055.jpg</td>\n",
       "      <td>['Amber', 'Font', 'Publication', 'Automotive e...</td>\n",
       "    </tr>\n",
       "    <tr>\n",
       "      <th>51296</th>\n",
       "      <td>0719816629.jpg</td>\n",
       "      <td>['Font', 'Rectangle', 'Electric blue', 'Signag...</td>\n",
       "    </tr>\n",
       "    <tr>\n",
       "      <th>51297</th>\n",
       "      <td>0385353596.jpg</td>\n",
       "      <td>['Liquid', 'Drinkware', 'Bottle', 'Fluid', 'Gl...</td>\n",
       "    </tr>\n",
       "    <tr>\n",
       "      <th>51298</th>\n",
       "      <td>1475988559.jpg</td>\n",
       "      <td>['Atmosphere', 'Windmill', 'Sky', 'Wind farm',...</td>\n",
       "    </tr>\n",
       "    <tr>\n",
       "      <th>51299</th>\n",
       "      <td>045147483X.jpg</td>\n",
       "      <td>['Motor vehicle', 'Publication', 'Poster', 'Ve...</td>\n",
       "    </tr>\n",
       "  </tbody>\n",
       "</table>\n",
       "</div>"
      ],
      "text/plain": [
       "           Image_name                                      Google_labels\n",
       "51295  0399176055.jpg  ['Amber', 'Font', 'Publication', 'Automotive e...\n",
       "51296  0719816629.jpg  ['Font', 'Rectangle', 'Electric blue', 'Signag...\n",
       "51297  0385353596.jpg  ['Liquid', 'Drinkware', 'Bottle', 'Fluid', 'Gl...\n",
       "51298  1475988559.jpg  ['Atmosphere', 'Windmill', 'Sky', 'Wind farm',...\n",
       "51299  045147483X.jpg  ['Motor vehicle', 'Publication', 'Poster', 'Ve..."
      ]
     },
     "execution_count": 72,
     "metadata": {},
     "output_type": "execute_result"
    }
   ],
   "source": [
    "print(X_train_google_labels.shape)\n",
    "X_train_google_labels.tail()"
   ]
  },
  {
   "cell_type": "code",
   "execution_count": 73,
   "metadata": {},
   "outputs": [],
   "source": [
    "X_train_google_labels.to_csv(f\"../../raw_data/Labels_csv/X_train_google_labels.csv\")"
   ]
  },
  {
   "attachments": {},
   "cell_type": "markdown",
   "metadata": {},
   "source": [
    "# Concatenating"
   ]
  },
  {
   "cell_type": "code",
   "execution_count": 45,
   "metadata": {},
   "outputs": [],
   "source": [
    "df_concat = pd.read_csv(\"../../raw_data/Labels_csv/X_train_batch_0.csv\")\n",
    "for i in range(1, 10):\n",
    "    X_train_batch_temp = pd.read_csv(f\"../../raw_data/Labels_csv/X_train_batch_{i}.csv\")\n",
    "    df_concat = pd.concat([df_concat, X_train_batch_temp], axis=0)"
   ]
  },
  {
   "cell_type": "code",
   "execution_count": 50,
   "metadata": {},
   "outputs": [],
   "source": [
    "df_concat = df_concat.reset_index()"
   ]
  },
  {
   "cell_type": "code",
   "execution_count": 53,
   "metadata": {},
   "outputs": [],
   "source": [
    "df_concat = df_concat.drop(columns=['index', 'Unnamed: 0'])"
   ]
  },
  {
   "cell_type": "code",
   "execution_count": 54,
   "metadata": {},
   "outputs": [
    {
     "data": {
      "text/html": [
       "<div>\n",
       "<style scoped>\n",
       "    .dataframe tbody tr th:only-of-type {\n",
       "        vertical-align: middle;\n",
       "    }\n",
       "\n",
       "    .dataframe tbody tr th {\n",
       "        vertical-align: top;\n",
       "    }\n",
       "\n",
       "    .dataframe thead th {\n",
       "        text-align: right;\n",
       "    }\n",
       "</style>\n",
       "<table border=\"1\" class=\"dataframe\">\n",
       "  <thead>\n",
       "    <tr style=\"text-align: right;\">\n",
       "      <th></th>\n",
       "      <th>Image_name</th>\n",
       "      <th>Google_labels</th>\n",
       "    </tr>\n",
       "  </thead>\n",
       "  <tbody>\n",
       "    <tr>\n",
       "      <th>0</th>\n",
       "      <td>1588345297.jpg</td>\n",
       "      <td>['Publication', 'Font', 'Book', 'Terrestrial p...</td>\n",
       "    </tr>\n",
       "    <tr>\n",
       "      <th>1</th>\n",
       "      <td>1404803335.jpg</td>\n",
       "      <td>['Automotive lighting', 'Font', 'Rectangle', '...</td>\n",
       "    </tr>\n",
       "    <tr>\n",
       "      <th>2</th>\n",
       "      <td>1446276082.jpg</td>\n",
       "      <td>['Rectangle', 'Book', 'Font', 'Publication', '...</td>\n",
       "    </tr>\n",
       "    <tr>\n",
       "      <th>3</th>\n",
       "      <td>1491522666.jpg</td>\n",
       "      <td>['Plant', 'Font', 'Publication', 'Book', 'Rect...</td>\n",
       "    </tr>\n",
       "    <tr>\n",
       "      <th>4</th>\n",
       "      <td>0970096410.jpg</td>\n",
       "      <td>['Cloud', 'Sky', 'World', 'Natural landscape',...</td>\n",
       "    </tr>\n",
       "  </tbody>\n",
       "</table>\n",
       "</div>"
      ],
      "text/plain": [
       "       Image_name                                      Google_labels\n",
       "0  1588345297.jpg  ['Publication', 'Font', 'Book', 'Terrestrial p...\n",
       "1  1404803335.jpg  ['Automotive lighting', 'Font', 'Rectangle', '...\n",
       "2  1446276082.jpg  ['Rectangle', 'Book', 'Font', 'Publication', '...\n",
       "3  1491522666.jpg  ['Plant', 'Font', 'Publication', 'Book', 'Rect...\n",
       "4  0970096410.jpg  ['Cloud', 'Sky', 'World', 'Natural landscape',..."
      ]
     },
     "execution_count": 54,
     "metadata": {},
     "output_type": "execute_result"
    }
   ],
   "source": [
    "df_concat.head()"
   ]
  },
  {
   "cell_type": "code",
   "execution_count": 55,
   "metadata": {},
   "outputs": [
    {
     "data": {
      "text/plain": [
       "(5130, 2)"
      ]
     },
     "execution_count": 55,
     "metadata": {},
     "output_type": "execute_result"
    }
   ],
   "source": [
    "df_concat.shape"
   ]
  },
  {
   "cell_type": "code",
   "execution_count": 56,
   "metadata": {},
   "outputs": [],
   "source": [
    "df_concat.to_csv(f\"../../raw_data/Labels_csv/X_train_batch_10%.csv\")"
   ]
  },
  {
   "cell_type": "code",
   "execution_count": null,
   "metadata": {},
   "outputs": [],
   "source": []
  }
 ],
 "metadata": {
  "kernelspec": {
   "display_name": "lewagon",
   "language": "python",
   "name": "python3"
  },
  "language_info": {
   "codemirror_mode": {
    "name": "ipython",
    "version": 3
   },
   "file_extension": ".py",
   "mimetype": "text/x-python",
   "name": "python",
   "nbconvert_exporter": "python",
   "pygments_lexer": "ipython3",
   "version": "3.10.6"
  },
  "orig_nbformat": 4
 },
 "nbformat": 4,
 "nbformat_minor": 2
}

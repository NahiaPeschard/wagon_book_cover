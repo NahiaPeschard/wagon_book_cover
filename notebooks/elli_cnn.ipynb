{
 "cells": [
  {
   "attachments": {},
   "cell_type": "markdown",
   "metadata": {},
   "source": [
    "# First CNN model"
   ]
  },
  {
   "cell_type": "code",
   "execution_count": 58,
   "metadata": {},
   "outputs": [],
   "source": [
    "import pandas as pd\n",
    "from pathlib import Path\n",
    "import numpy as np\n",
    "from PIL import Image\n",
    "import os\n",
    "from tensorflow.keras.utils import to_categorical\n",
    "from tensorflow.keras import layers\n",
    "from tensorflow.keras import models\n",
    "from tensorflow.keras.callbacks import EarlyStopping"
   ]
  },
  {
   "cell_type": "code",
   "execution_count": 13,
   "metadata": {},
   "outputs": [],
   "source": [
    "def preprocess_images(X: pd.DataFrame, resize_size: tuple)-> np.ndarray:\n",
    "    \"\"\"\n",
    "    INPUT\n",
    "    X: the DataFrame from which we want to retrieve the image names in the 'Image_name' column\n",
    "\n",
    "    resize_size: a tuple to which dimensions the images should be resized\n",
    "    For example (100, 100) resizes the images to 100 x 100 pixels\n",
    "\n",
    "    OUTPUT\n",
    "    A numpy array of shape (number of images, pixel length, pixel height, color channels)\n",
    "    \"\"\"\n",
    "\n",
    "    output = []\n",
    "\n",
    "    for image_name in X['Image_name']:\n",
    "        image_path = os.path.join(\"../raw_data/Images/\", image_name)\n",
    "        image = Image.open(image_path)\n",
    "        image = image.resize(resize_size) # Resizing for speed purposes\n",
    "        image_array = np.array(image)\n",
    "        output.append(image_array)\n",
    "\n",
    "    return np.array(output)"
   ]
  },
  {
   "cell_type": "code",
   "execution_count": 14,
   "metadata": {},
   "outputs": [],
   "source": [
    "def get_data(cache_path: Path) -> pd.DataFrame:\n",
    "    \"\"\"Retrieve data from `cache_path`\"\"\"\n",
    "    df = pd.read_csv(cache_path, delimiter=\" \", index_col=\"Id\")\n",
    "    return df"
   ]
  },
  {
   "cell_type": "code",
   "execution_count": 16,
   "metadata": {},
   "outputs": [],
   "source": [
    "X_train = get_data(\"../raw_data/train_x.csv\")\n",
    "y_train = get_data(\"../raw_data/train_y.csv\")\n",
    "\n",
    "X_test = get_data(\"../raw_data/test_x.csv\")\n",
    "y_test = get_data(\"../raw_data/test_y.csv\")\n",
    "\n",
    "current_directory = os.getcwd()\n",
    "parent_directory = os.path.dirname(current_directory)\n",
    "images_folder = os.path.join(parent_directory, 'raw_data', 'Images')\n",
    "images_filenames = os.listdir(images_folder)"
   ]
  },
  {
   "cell_type": "code",
   "execution_count": 10,
   "metadata": {},
   "outputs": [
    {
     "name": "stdout",
     "output_type": "stream",
     "text": [
      "((51300, 2), (51300, 2)) ((5700, 2), (5700, 2))\n"
     ]
    }
   ],
   "source": [
    "print((X_train.shape, y_train.shape), (X_test.shape, y_test.shape))"
   ]
  },
  {
   "cell_type": "code",
   "execution_count": 19,
   "metadata": {},
   "outputs": [],
   "source": [
    "def preprocess_images(X: pd.DataFrame, resize_size: tuple)-> np.ndarray:\n",
    "    \"\"\"\n",
    "    INPUT\n",
    "    X: the DataFrame from which we want to retrieve the image names in the 'Image_name' column\n",
    "\n",
    "    resize_size: a tuple to which dimensions the images should be resized\n",
    "    For example (100, 100) resizes the images to 100 x 100 pixels\n",
    "\n",
    "    OUTPUT\n",
    "    A numpy array of shape (number of images, pixel length, pixel height, color channels)\n",
    "    \"\"\"\n",
    "\n",
    "    output = []\n",
    "\n",
    "    for image_name in X['Image_name']:\n",
    "        image_path = os.path.join(\"../raw_data/Images/\", image_name)\n",
    "        image = Image.open(image_path)\n",
    "        image = image.resize(resize_size) # Resizing for speed purposes\n",
    "        image_array = np.array(image)\n",
    "        output.append(image_array)\n",
    "\n",
    "    return np.array(output)"
   ]
  },
  {
   "attachments": {},
   "cell_type": "markdown",
   "metadata": {},
   "source": [
    "images_train, images_test = get_data(\"../raw_data/Images/\")\n"
   ]
  },
  {
   "cell_type": "code",
   "execution_count": 31,
   "metadata": {},
   "outputs": [],
   "source": [
    "X_train = preprocess_images(X_train, (100,100))"
   ]
  },
  {
   "cell_type": "code",
   "execution_count": 39,
   "metadata": {},
   "outputs": [],
   "source": [
    "X_test = preprocess_images(X_test, (100,100))"
   ]
  },
  {
   "cell_type": "code",
   "execution_count": 32,
   "metadata": {},
   "outputs": [
    {
     "data": {
      "text/plain": [
       "(51300, 100, 100, 3)"
      ]
     },
     "execution_count": 32,
     "metadata": {},
     "output_type": "execute_result"
    }
   ],
   "source": [
    "X_train.shape"
   ]
  },
  {
   "cell_type": "code",
   "execution_count": 33,
   "metadata": {},
   "outputs": [
    {
     "data": {
      "text/plain": [
       "array([[[[202, 196, 172],\n",
       "         [200, 194, 170],\n",
       "         [195, 189, 165],\n",
       "         ...,\n",
       "         [196, 190, 168],\n",
       "         [196, 190, 168],\n",
       "         [196, 190, 168]],\n",
       "\n",
       "        [[205, 199, 175],\n",
       "         [201, 195, 171],\n",
       "         [199, 193, 169],\n",
       "         ...,\n",
       "         [195, 189, 167],\n",
       "         [195, 189, 167],\n",
       "         [196, 190, 168]],\n",
       "\n",
       "        [[203, 197, 173],\n",
       "         [203, 197, 173],\n",
       "         [203, 197, 173],\n",
       "         ...,\n",
       "         [193, 187, 165],\n",
       "         [195, 189, 167],\n",
       "         [196, 190, 168]],\n",
       "\n",
       "        ...,\n",
       "\n",
       "        [[ 91,  96,  73],\n",
       "         [ 87,  92,  69],\n",
       "         [ 88,  93,  70],\n",
       "         ...,\n",
       "         [ 96, 101,  78],\n",
       "         [ 96, 101,  78],\n",
       "         [ 96, 101,  78]],\n",
       "\n",
       "        [[ 92,  97,  74],\n",
       "         [ 87,  92,  69],\n",
       "         [ 91,  96,  73],\n",
       "         ...,\n",
       "         [ 95, 100,  77],\n",
       "         [ 95, 100,  77],\n",
       "         [ 95, 100,  77]],\n",
       "\n",
       "        [[ 90,  95,  72],\n",
       "         [ 89,  94,  71],\n",
       "         [ 92,  97,  74],\n",
       "         ...,\n",
       "         [ 94,  99,  76],\n",
       "         [ 94,  99,  76],\n",
       "         [ 94,  99,  76]]],\n",
       "\n",
       "\n",
       "       [[[118, 191, 226],\n",
       "         [113, 186, 221],\n",
       "         [113, 186, 222],\n",
       "         ...,\n",
       "         [106, 189, 230],\n",
       "         [115, 185, 222],\n",
       "         [144, 202, 228]],\n",
       "\n",
       "        [[114, 187, 222],\n",
       "         [109, 182, 217],\n",
       "         [109, 182, 218],\n",
       "         ...,\n",
       "         [102, 185, 226],\n",
       "         [109, 180, 216],\n",
       "         [140, 198, 226]],\n",
       "\n",
       "        [[113, 186, 221],\n",
       "         [108, 181, 217],\n",
       "         [108, 182, 219],\n",
       "         ...,\n",
       "         [100, 184, 225],\n",
       "         [108, 179, 215],\n",
       "         [141, 199, 226]],\n",
       "\n",
       "        ...,\n",
       "\n",
       "        [[105, 188, 229],\n",
       "         [101, 184, 225],\n",
       "         [102, 185, 226],\n",
       "         ...,\n",
       "         [ 90, 189, 226],\n",
       "         [108, 181, 226],\n",
       "         [144, 193, 236]],\n",
       "\n",
       "        [[112, 183, 219],\n",
       "         [108, 179, 215],\n",
       "         [109, 180, 216],\n",
       "         ...,\n",
       "         [104, 185, 214],\n",
       "         [111, 177, 210],\n",
       "         [148, 193, 229]],\n",
       "\n",
       "        [[143, 202, 227],\n",
       "         [139, 197, 225],\n",
       "         [140, 198, 225],\n",
       "         ...,\n",
       "         [146, 201, 223],\n",
       "         [142, 199, 218],\n",
       "         [166, 210, 227]]],\n",
       "\n",
       "\n",
       "       [[[127,  77,  62],\n",
       "         [144,  27,  29],\n",
       "         [150,  25,  24],\n",
       "         ...,\n",
       "         [136,  30,  26],\n",
       "         [135,  28,  25],\n",
       "         [139,  33,  29]],\n",
       "\n",
       "        [[131,  62,  50],\n",
       "         [136,   2,   7],\n",
       "         [144,   4,   5],\n",
       "         ...,\n",
       "         [127,   5,   7],\n",
       "         [128,   5,   7],\n",
       "         [134,  11,  13]],\n",
       "\n",
       "        [[144,  58,  50],\n",
       "         [149,   0,   6],\n",
       "         [159,   3,   5],\n",
       "         ...,\n",
       "         [137,   1,   7],\n",
       "         [137,   1,   7],\n",
       "         [143,   7,  12]],\n",
       "\n",
       "        ...,\n",
       "\n",
       "        [[113,  57,  53],\n",
       "         [124,   0,   5],\n",
       "         [139,   3,   1],\n",
       "         ...,\n",
       "         [135,   4,   4],\n",
       "         [133,   3,   3],\n",
       "         [139,   9,   9]],\n",
       "\n",
       "        [[114,  59,  55],\n",
       "         [123,   0,   4],\n",
       "         [137,   2,   0],\n",
       "         ...,\n",
       "         [133,   2,   3],\n",
       "         [132,   2,   2],\n",
       "         [138,   8,   8]],\n",
       "\n",
       "        [[118,  62,  58],\n",
       "         [130,   6,  11],\n",
       "         [147,  11,   9],\n",
       "         ...,\n",
       "         [140,   9,   9],\n",
       "         [138,   9,   9],\n",
       "         [144,  14,  14]]],\n",
       "\n",
       "\n",
       "       ...,\n",
       "\n",
       "\n",
       "       [[[ 66,  67,  72],\n",
       "         [ 12,  15,  20],\n",
       "         [ 20,  23,  30],\n",
       "         ...,\n",
       "         [ 20,  24,  35],\n",
       "         [ 20,  24,  35],\n",
       "         [ 20,  24,  35]],\n",
       "\n",
       "        [[ 66,  68,  73],\n",
       "         [ 13,  16,  21],\n",
       "         [ 21,  24,  31],\n",
       "         ...,\n",
       "         [ 22,  26,  37],\n",
       "         [ 22,  26,  37],\n",
       "         [ 22,  26,  37]],\n",
       "\n",
       "        [[ 67,  68,  73],\n",
       "         [ 14,  17,  22],\n",
       "         [ 22,  25,  31],\n",
       "         ...,\n",
       "         [ 23,  27,  38],\n",
       "         [ 23,  27,  38],\n",
       "         [ 23,  27,  38]],\n",
       "\n",
       "        ...,\n",
       "\n",
       "        [[ 68,  68,  72],\n",
       "         [ 12,  13,  17],\n",
       "         [ 18,  19,  23],\n",
       "         ...,\n",
       "         [ 19,  18,  23],\n",
       "         [ 19,  18,  23],\n",
       "         [ 19,  18,  23]],\n",
       "\n",
       "        [[ 68,  68,  72],\n",
       "         [ 12,  13,  17],\n",
       "         [ 18,  19,  23],\n",
       "         ...,\n",
       "         [ 19,  18,  23],\n",
       "         [ 19,  18,  23],\n",
       "         [ 19,  18,  23]],\n",
       "\n",
       "        [[ 68,  68,  72],\n",
       "         [ 12,  13,  17],\n",
       "         [ 18,  19,  23],\n",
       "         ...,\n",
       "         [ 19,  18,  23],\n",
       "         [ 19,  18,  23],\n",
       "         [ 19,  18,  23]]],\n",
       "\n",
       "\n",
       "       [[[ 62,  61,  59],\n",
       "         [ 62,  61,  59],\n",
       "         [ 62,  61,  59],\n",
       "         ...,\n",
       "         [ 62,  61,  59],\n",
       "         [ 62,  61,  59],\n",
       "         [ 62,  61,  59]],\n",
       "\n",
       "        [[ 61,  60,  58],\n",
       "         [ 61,  60,  58],\n",
       "         [ 61,  60,  58],\n",
       "         ...,\n",
       "         [ 61,  60,  58],\n",
       "         [ 61,  60,  58],\n",
       "         [ 61,  60,  58]],\n",
       "\n",
       "        [[ 60,  59,  57],\n",
       "         [ 60,  59,  57],\n",
       "         [ 60,  59,  57],\n",
       "         ...,\n",
       "         [ 60,  59,  57],\n",
       "         [ 60,  59,  57],\n",
       "         [ 60,  59,  57]],\n",
       "\n",
       "        ...,\n",
       "\n",
       "        [[ 56,  52,  51],\n",
       "         [ 56,  52,  51],\n",
       "         [ 56,  52,  51],\n",
       "         ...,\n",
       "         [ 56,  52,  51],\n",
       "         [ 56,  52,  51],\n",
       "         [ 56,  52,  51]],\n",
       "\n",
       "        [[ 56,  52,  51],\n",
       "         [ 56,  52,  51],\n",
       "         [ 56,  52,  51],\n",
       "         ...,\n",
       "         [ 56,  52,  51],\n",
       "         [ 56,  52,  51],\n",
       "         [ 56,  52,  51]],\n",
       "\n",
       "        [[ 56,  52,  51],\n",
       "         [ 56,  52,  51],\n",
       "         [ 56,  52,  51],\n",
       "         ...,\n",
       "         [ 56,  52,  51],\n",
       "         [ 56,  52,  51],\n",
       "         [ 56,  52,  51]]],\n",
       "\n",
       "\n",
       "       [[[225,  67,  40],\n",
       "         [236,  78,  51],\n",
       "         [221,  63,  36],\n",
       "         ...,\n",
       "         [231,  73,  46],\n",
       "         [224,  66,  39],\n",
       "         [225,  67,  40]],\n",
       "\n",
       "        [[220,  62,  35],\n",
       "         [239,  81,  54],\n",
       "         [224,  66,  39],\n",
       "         ...,\n",
       "         [227,  69,  42],\n",
       "         [228,  70,  43],\n",
       "         [228,  70,  43]],\n",
       "\n",
       "        [[223,  65,  38],\n",
       "         [231,  73,  46],\n",
       "         [229,  71,  44],\n",
       "         ...,\n",
       "         [230,  72,  45],\n",
       "         [228,  70,  43],\n",
       "         [224,  66,  39]],\n",
       "\n",
       "        ...,\n",
       "\n",
       "        [[220,  66,  40],\n",
       "         [224,  70,  44],\n",
       "         [217,  63,  37],\n",
       "         ...,\n",
       "         [227,  73,  45],\n",
       "         [218,  65,  38],\n",
       "         [214,  63,  36]],\n",
       "\n",
       "        [[216,  62,  36],\n",
       "         [220,  66,  40],\n",
       "         [220,  66,  40],\n",
       "         ...,\n",
       "         [227,  73,  45],\n",
       "         [216,  62,  35],\n",
       "         [214,  63,  36]],\n",
       "\n",
       "        [[229,  75,  49],\n",
       "         [217,  63,  37],\n",
       "         [218,  64,  38],\n",
       "         ...,\n",
       "         [227,  73,  45],\n",
       "         [214,  60,  34],\n",
       "         [214,  63,  36]]]], dtype=uint8)"
      ]
     },
     "execution_count": 33,
     "metadata": {},
     "output_type": "execute_result"
    }
   ],
   "source": [
    "X_train"
   ]
  },
  {
   "cell_type": "code",
   "execution_count": 34,
   "metadata": {},
   "outputs": [
    {
     "ename": "KeyError",
     "evalue": "'Genre_id'",
     "output_type": "error",
     "traceback": [
      "\u001b[0;31m---------------------------------------------------------------------------\u001b[0m",
      "\u001b[0;31mKeyError\u001b[0m                                  Traceback (most recent call last)",
      "File \u001b[0;32m~/.pyenv/versions/3.10.6/envs/lewagon/lib/python3.10/site-packages/pandas/core/indexes/base.py:3629\u001b[0m, in \u001b[0;36mIndex.get_loc\u001b[0;34m(self, key, method, tolerance)\u001b[0m\n\u001b[1;32m   3628\u001b[0m \u001b[39mtry\u001b[39;00m:\n\u001b[0;32m-> 3629\u001b[0m     \u001b[39mreturn\u001b[39;00m \u001b[39mself\u001b[39;49m\u001b[39m.\u001b[39;49m_engine\u001b[39m.\u001b[39;49mget_loc(casted_key)\n\u001b[1;32m   3630\u001b[0m \u001b[39mexcept\u001b[39;00m \u001b[39mKeyError\u001b[39;00m \u001b[39mas\u001b[39;00m err:\n",
      "File \u001b[0;32m~/.pyenv/versions/3.10.6/envs/lewagon/lib/python3.10/site-packages/pandas/_libs/index.pyx:136\u001b[0m, in \u001b[0;36mpandas._libs.index.IndexEngine.get_loc\u001b[0;34m()\u001b[0m\n",
      "File \u001b[0;32m~/.pyenv/versions/3.10.6/envs/lewagon/lib/python3.10/site-packages/pandas/_libs/index.pyx:144\u001b[0m, in \u001b[0;36mpandas._libs.index.IndexEngine.get_loc\u001b[0;34m()\u001b[0m\n",
      "File \u001b[0;32mpandas/_libs/index_class_helper.pxi:41\u001b[0m, in \u001b[0;36mpandas._libs.index.Int64Engine._check_type\u001b[0;34m()\u001b[0m\n",
      "\u001b[0;31mKeyError\u001b[0m: 'Genre_id'",
      "\nThe above exception was the direct cause of the following exception:\n",
      "\u001b[0;31mKeyError\u001b[0m                                  Traceback (most recent call last)",
      "\u001b[1;32m/Users/ellipalaiologou/code/NahiaPeschard/wagon_book_cover/notebooks/elli_cnn.ipynb Cell 12\u001b[0m in \u001b[0;36m1\n\u001b[0;32m----> <a href='vscode-notebook-cell:/Users/ellipalaiologou/code/NahiaPeschard/wagon_book_cover/notebooks/elli_cnn.ipynb#X20sZmlsZQ%3D%3D?line=0'>1</a>\u001b[0m y_train \u001b[39m=\u001b[39m y_train[\u001b[39m'\u001b[39;49m\u001b[39mGenre_id\u001b[39;49m\u001b[39m'\u001b[39;49m]\n",
      "File \u001b[0;32m~/.pyenv/versions/3.10.6/envs/lewagon/lib/python3.10/site-packages/pandas/core/series.py:958\u001b[0m, in \u001b[0;36mSeries.__getitem__\u001b[0;34m(self, key)\u001b[0m\n\u001b[1;32m    955\u001b[0m     \u001b[39mreturn\u001b[39;00m \u001b[39mself\u001b[39m\u001b[39m.\u001b[39m_values[key]\n\u001b[1;32m    957\u001b[0m \u001b[39melif\u001b[39;00m key_is_scalar:\n\u001b[0;32m--> 958\u001b[0m     \u001b[39mreturn\u001b[39;00m \u001b[39mself\u001b[39;49m\u001b[39m.\u001b[39;49m_get_value(key)\n\u001b[1;32m    960\u001b[0m \u001b[39mif\u001b[39;00m is_hashable(key):\n\u001b[1;32m    961\u001b[0m     \u001b[39m# Otherwise index.get_value will raise InvalidIndexError\u001b[39;00m\n\u001b[1;32m    962\u001b[0m     \u001b[39mtry\u001b[39;00m:\n\u001b[1;32m    963\u001b[0m         \u001b[39m# For labels that don't resolve as scalars like tuples and frozensets\u001b[39;00m\n",
      "File \u001b[0;32m~/.pyenv/versions/3.10.6/envs/lewagon/lib/python3.10/site-packages/pandas/core/series.py:1069\u001b[0m, in \u001b[0;36mSeries._get_value\u001b[0;34m(self, label, takeable)\u001b[0m\n\u001b[1;32m   1066\u001b[0m     \u001b[39mreturn\u001b[39;00m \u001b[39mself\u001b[39m\u001b[39m.\u001b[39m_values[label]\n\u001b[1;32m   1068\u001b[0m \u001b[39m# Similar to Index.get_value, but we do not fall back to positional\u001b[39;00m\n\u001b[0;32m-> 1069\u001b[0m loc \u001b[39m=\u001b[39m \u001b[39mself\u001b[39;49m\u001b[39m.\u001b[39;49mindex\u001b[39m.\u001b[39;49mget_loc(label)\n\u001b[1;32m   1070\u001b[0m \u001b[39mreturn\u001b[39;00m \u001b[39mself\u001b[39m\u001b[39m.\u001b[39mindex\u001b[39m.\u001b[39m_get_values_for_loc(\u001b[39mself\u001b[39m, loc, label)\n",
      "File \u001b[0;32m~/.pyenv/versions/3.10.6/envs/lewagon/lib/python3.10/site-packages/pandas/core/indexes/base.py:3631\u001b[0m, in \u001b[0;36mIndex.get_loc\u001b[0;34m(self, key, method, tolerance)\u001b[0m\n\u001b[1;32m   3629\u001b[0m     \u001b[39mreturn\u001b[39;00m \u001b[39mself\u001b[39m\u001b[39m.\u001b[39m_engine\u001b[39m.\u001b[39mget_loc(casted_key)\n\u001b[1;32m   3630\u001b[0m \u001b[39mexcept\u001b[39;00m \u001b[39mKeyError\u001b[39;00m \u001b[39mas\u001b[39;00m err:\n\u001b[0;32m-> 3631\u001b[0m     \u001b[39mraise\u001b[39;00m \u001b[39mKeyError\u001b[39;00m(key) \u001b[39mfrom\u001b[39;00m \u001b[39merr\u001b[39;00m\n\u001b[1;32m   3632\u001b[0m \u001b[39mexcept\u001b[39;00m \u001b[39mTypeError\u001b[39;00m:\n\u001b[1;32m   3633\u001b[0m     \u001b[39m# If we have a listlike key, _check_indexing_error will raise\u001b[39;00m\n\u001b[1;32m   3634\u001b[0m     \u001b[39m#  InvalidIndexError. Otherwise we fall through and re-raise\u001b[39;00m\n\u001b[1;32m   3635\u001b[0m     \u001b[39m#  the TypeError.\u001b[39;00m\n\u001b[1;32m   3636\u001b[0m     \u001b[39mself\u001b[39m\u001b[39m.\u001b[39m_check_indexing_error(key)\n",
      "\u001b[0;31mKeyError\u001b[0m: 'Genre_id'"
     ]
    }
   ],
   "source": [
    "y_train = y_train['Genre_id']"
   ]
  },
  {
   "cell_type": "code",
   "execution_count": 35,
   "metadata": {},
   "outputs": [
    {
     "data": {
      "text/plain": [
       "Id\n",
       "0         1\n",
       "1         4\n",
       "2        10\n",
       "3         9\n",
       "4        26\n",
       "         ..\n",
       "51295    17\n",
       "51296    17\n",
       "51297    17\n",
       "51298    17\n",
       "51299    17\n",
       "Name: Genre_id, Length: 51300, dtype: int64"
      ]
     },
     "execution_count": 35,
     "metadata": {},
     "output_type": "execute_result"
    }
   ],
   "source": [
    "y_train"
   ]
  },
  {
   "cell_type": "code",
   "execution_count": 46,
   "metadata": {},
   "outputs": [],
   "source": [
    "y_test = y_test['Genre_id']"
   ]
  },
  {
   "cell_type": "code",
   "execution_count": 36,
   "metadata": {},
   "outputs": [
    {
     "data": {
      "text/plain": [
       "((51300, 100, 100, 3), (51300,))"
      ]
     },
     "execution_count": 36,
     "metadata": {},
     "output_type": "execute_result"
    }
   ],
   "source": [
    "(X_train.shape, y_train.shape)"
   ]
  },
  {
   "attachments": {},
   "cell_type": "markdown",
   "metadata": {},
   "source": [
    "## Normalise train and test data - **add this to preprocessing**"
   ]
  },
  {
   "cell_type": "code",
   "execution_count": 40,
   "metadata": {},
   "outputs": [],
   "source": [
    "X_train = X_train / 255\n",
    "X_test = X_test / 255"
   ]
  },
  {
   "cell_type": "code",
   "execution_count": 41,
   "metadata": {},
   "outputs": [
    {
     "name": "stdout",
     "output_type": "stream",
     "text": [
      "(51300, 100, 100, 3)\n",
      "(5700, 100, 100, 3)\n"
     ]
    }
   ],
   "source": [
    "print(X_train.shape)\n",
    "print(X_test.shape)"
   ]
  },
  {
   "attachments": {},
   "cell_type": "markdown",
   "metadata": {},
   "source": [
    "## One-Hot-Encode target y - **add this to preprocessing**"
   ]
  },
  {
   "cell_type": "code",
   "execution_count": 47,
   "metadata": {},
   "outputs": [
    {
     "data": {
      "text/plain": [
       "Id\n",
       "0       16\n",
       "1       28\n",
       "2        1\n",
       "3       21\n",
       "4        0\n",
       "        ..\n",
       "5695    17\n",
       "5696    17\n",
       "5697    17\n",
       "5698    17\n",
       "5699    17\n",
       "Name: Genre_id, Length: 5700, dtype: int64"
      ]
     },
     "execution_count": 47,
     "metadata": {},
     "output_type": "execute_result"
    }
   ],
   "source": [
    "y_test "
   ]
  },
  {
   "cell_type": "code",
   "execution_count": 48,
   "metadata": {},
   "outputs": [
    {
     "data": {
      "text/plain": [
       "30"
      ]
     },
     "execution_count": 48,
     "metadata": {},
     "output_type": "execute_result"
    }
   ],
   "source": [
    "len(np.unique(y_test))"
   ]
  },
  {
   "cell_type": "code",
   "execution_count": 49,
   "metadata": {},
   "outputs": [],
   "source": [
    "y_train_cat = to_categorical(y_train, num_classes=30)\n",
    "y_test_cat = to_categorical(y_test, num_classes=30)"
   ]
  },
  {
   "cell_type": "code",
   "execution_count": 52,
   "metadata": {},
   "outputs": [
    {
     "data": {
      "text/plain": [
       "((51300, 30), (5700, 30))"
      ]
     },
     "execution_count": 52,
     "metadata": {},
     "output_type": "execute_result"
    }
   ],
   "source": [
    "y_train_cat.shape, y_test_cat.shape"
   ]
  },
  {
   "cell_type": "code",
   "execution_count": 61,
   "metadata": {},
   "outputs": [
    {
     "data": {
      "text/plain": [
       "((51300, 100, 100, 3), (51300, 30))"
      ]
     },
     "execution_count": 61,
     "metadata": {},
     "output_type": "execute_result"
    }
   ],
   "source": [
    "X_train.shape, y_train_cat.shape"
   ]
  },
  {
   "attachments": {},
   "cell_type": "markdown",
   "metadata": {},
   "source": [
    "## CNN - dummy model"
   ]
  },
  {
   "cell_type": "code",
   "execution_count": 65,
   "metadata": {},
   "outputs": [],
   "source": [
    "def initialize_model():\n",
    "\n",
    "    model = models.Sequential()\n",
    "\n",
    "    ### First Convolution & MaxPooling\n",
    "    model.add(layers.Conv2D(8, (4,4), input_shape=(100, 100, 3), activation='relu', padding='same'))\n",
    "    model.add(layers.MaxPool2D(pool_size=(2,2)))\n",
    "    \n",
    "    ### Second Convolution & MaxPooling\n",
    "    model.add(layers.Conv2D(16, (3,3), input_shape=(100, 100, 3), activation='relu', padding='same'))\n",
    "    model.add(layers.MaxPool2D(pool_size=(2,2)))\n",
    "    \n",
    "    ### Flattening\n",
    "    model.add(layers.Flatten())\n",
    "    \n",
    "    ### One Fully Connected layer - \"Fully Connected\" is equivalent to saying \"Dense\"\n",
    "    model.add(layers.Dense(30, activation='relu'))\n",
    "    \n",
    "    ### Last layer - Classification Layer with 10 outputs corresponding to 10 digits\n",
    "    model.add(layers.Dense(30, activation='softmax'))\n",
    "    \n",
    "    ### Model compilation\n",
    "    model.compile(loss='categorical_crossentropy',\n",
    "                 optimizer='adam',\n",
    "                 metrics=['accuracy'])\n",
    "    \n",
    "    return model"
   ]
  },
  {
   "cell_type": "code",
   "execution_count": 66,
   "metadata": {},
   "outputs": [
    {
     "name": "stdout",
     "output_type": "stream",
     "text": [
      "Model: \"sequential_4\"\n",
      "_________________________________________________________________\n",
      " Layer (type)                Output Shape              Param #   \n",
      "=================================================================\n",
      " conv2d_8 (Conv2D)           (None, 100, 100, 8)       392       \n",
      "                                                                 \n",
      " max_pooling2d_8 (MaxPoolin  (None, 50, 50, 8)         0         \n",
      " g2D)                                                            \n",
      "                                                                 \n",
      " conv2d_9 (Conv2D)           (None, 50, 50, 16)        1168      \n",
      "                                                                 \n",
      " max_pooling2d_9 (MaxPoolin  (None, 25, 25, 16)        0         \n",
      " g2D)                                                            \n",
      "                                                                 \n",
      " flatten_4 (Flatten)         (None, 10000)             0         \n",
      "                                                                 \n",
      " dense_8 (Dense)             (None, 10)                100010    \n",
      "                                                                 \n",
      " dense_9 (Dense)             (None, 10)                110       \n",
      "                                                                 \n",
      "=================================================================\n",
      "Total params: 101680 (397.19 KB)\n",
      "Trainable params: 101680 (397.19 KB)\n",
      "Non-trainable params: 0 (0.00 Byte)\n",
      "_________________________________________________________________\n"
     ]
    }
   ],
   "source": [
    "model = initialize_model()\n",
    "model.summary()"
   ]
  },
  {
   "cell_type": "code",
   "execution_count": 67,
   "metadata": {},
   "outputs": [],
   "source": [
    "model = initialize_model()\n",
    "es = EarlyStopping(patience=10, restore_best_weights=True)\n",
    "\n",
    "model.fit(X_train, y_train_cat,\n",
    "         validation_split = 0.2,\n",
    "         epochs=5, \n",
    "         batch_size=250,\n",
    "         verbose=1, \n",
    "         callbacks=[es])"
   ]
  },
  {
   "cell_type": "code",
   "execution_count": null,
   "metadata": {},
   "outputs": [],
   "source": []
  }
 ],
 "metadata": {
  "kernelspec": {
   "display_name": "lewagon",
   "language": "python",
   "name": "python3"
  },
  "language_info": {
   "codemirror_mode": {
    "name": "ipython",
    "version": 3
   },
   "file_extension": ".py",
   "mimetype": "text/x-python",
   "name": "python",
   "nbconvert_exporter": "python",
   "pygments_lexer": "ipython3",
   "version": "3.10.6"
  },
  "orig_nbformat": 4
 },
 "nbformat": 4,
 "nbformat_minor": 2
}

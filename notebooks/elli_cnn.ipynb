{
 "cells": [
  {
   "attachments": {},
   "cell_type": "markdown",
   "metadata": {},
   "source": [
    "# First CNN model"
   ]
  },
  {
   "cell_type": "code",
   "execution_count": 49,
   "metadata": {},
   "outputs": [],
   "source": [
    "import pandas as pd\n",
    "from pathlib import Path\n",
    "import numpy as np\n",
    "from PIL import Image\n",
    "import os\n",
    "from tensorflow.keras.utils import to_categorical\n",
    "from tensorflow.keras import layers\n",
    "from tensorflow.keras import models\n",
    "from tensorflow.keras.callbacks import EarlyStopping\n",
    "import matplotlib.pyplot as plt\n"
   ]
  },
  {
   "cell_type": "code",
   "execution_count": 3,
   "metadata": {},
   "outputs": [],
   "source": [
    "def preprocess_images(X: pd.DataFrame, resize_size: tuple)-> np.ndarray:\n",
    "    \"\"\"\n",
    "    INPUT\n",
    "    X: the DataFrame from which we want to retrieve the image names in the 'Image_name' column\n",
    "\n",
    "    resize_size: a tuple to which dimensions the images should be resized\n",
    "    For example (100, 100) resizes the images to 100 x 100 pixels\n",
    "\n",
    "    OUTPUT\n",
    "    A numpy array of shape (number of images, pixel length, pixel height, color channels)\n",
    "    \"\"\"\n",
    "\n",
    "    output = []\n",
    "\n",
    "    for image_name in X['Image_name']:\n",
    "        image_path = os.path.join(\"../raw_data/Images/\", image_name)\n",
    "        image = Image.open(image_path)\n",
    "        image = image.resize(resize_size) # Resizing for speed purposes\n",
    "        image_array = np.array(image)\n",
    "        output.append(image_array)\n",
    "\n",
    "    return np.array(output)"
   ]
  },
  {
   "cell_type": "code",
   "execution_count": 4,
   "metadata": {},
   "outputs": [],
   "source": [
    "def get_data(cache_path: Path) -> pd.DataFrame:\n",
    "    \"\"\"Retrieve data from `cache_path`\"\"\"\n",
    "    df = pd.read_csv(cache_path, delimiter=\" \", index_col=\"Id\")\n",
    "    return df"
   ]
  },
  {
   "cell_type": "code",
   "execution_count": 5,
   "metadata": {},
   "outputs": [],
   "source": [
    "X_train = get_data(\"../raw_data/train_x.csv\")\n",
    "y_train = get_data(\"../raw_data/train_y.csv\")\n",
    "\n",
    "X_test = get_data(\"../raw_data/test_x.csv\")\n",
    "y_test = get_data(\"../raw_data/test_y.csv\")\n",
    "\n",
    "current_directory = os.getcwd()\n",
    "parent_directory = os.path.dirname(current_directory)\n",
    "images_folder = os.path.join(parent_directory, 'raw_data', 'Images')\n",
    "images_filenames = os.listdir(images_folder)"
   ]
  },
  {
   "cell_type": "code",
   "execution_count": 6,
   "metadata": {},
   "outputs": [
    {
     "name": "stdout",
     "output_type": "stream",
     "text": [
      "((51300, 2), (51300, 2)) ((5700, 2), (5700, 2))\n"
     ]
    }
   ],
   "source": [
    "print((X_train.shape, y_train.shape), (X_test.shape, y_test.shape))"
   ]
  },
  {
   "cell_type": "code",
   "execution_count": 7,
   "metadata": {},
   "outputs": [],
   "source": [
    "def preprocess_images(X: pd.DataFrame, resize_size: tuple)-> np.ndarray:\n",
    "    \"\"\"\n",
    "    INPUT\n",
    "    X: the DataFrame from which we want to retrieve the image names in the 'Image_name' column\n",
    "\n",
    "    resize_size: a tuple to which dimensions the images should be resized\n",
    "    For example (100, 100) resizes the images to 100 x 100 pixels\n",
    "\n",
    "    OUTPUT\n",
    "    A numpy array of shape (number of images, pixel length, pixel height, color channels)\n",
    "    \"\"\"\n",
    "\n",
    "    output = []\n",
    "\n",
    "    for image_name in X['Image_name']:\n",
    "        image_path = os.path.join(\"../raw_data/Images/\", image_name)\n",
    "        image = Image.open(image_path)\n",
    "        image = image.resize(resize_size) # Resizing for speed purposes\n",
    "        image_array = np.array(image)\n",
    "        output.append(image_array)\n",
    "\n",
    "    return np.array(output)"
   ]
  },
  {
   "attachments": {},
   "cell_type": "markdown",
   "metadata": {},
   "source": [
    "images_train, images_test = get_data(\"../raw_data/Images/\")\n"
   ]
  },
  {
   "cell_type": "code",
   "execution_count": 8,
   "metadata": {},
   "outputs": [],
   "source": [
    "X_train = preprocess_images(X_train, (100,100))"
   ]
  },
  {
   "cell_type": "code",
   "execution_count": 9,
   "metadata": {},
   "outputs": [],
   "source": [
    "X_test = preprocess_images(X_test, (100,100))"
   ]
  },
  {
   "cell_type": "code",
   "execution_count": 10,
   "metadata": {},
   "outputs": [
    {
     "data": {
      "text/plain": [
       "(51300, 100, 100, 3)"
      ]
     },
     "execution_count": 10,
     "metadata": {},
     "output_type": "execute_result"
    }
   ],
   "source": [
    "X_train.shape"
   ]
  },
  {
   "cell_type": "code",
   "execution_count": 11,
   "metadata": {},
   "outputs": [
    {
     "data": {
      "text/plain": [
       "array([[[[202, 196, 172],\n",
       "         [200, 194, 170],\n",
       "         [195, 189, 165],\n",
       "         ...,\n",
       "         [196, 190, 168],\n",
       "         [196, 190, 168],\n",
       "         [196, 190, 168]],\n",
       "\n",
       "        [[205, 199, 175],\n",
       "         [201, 195, 171],\n",
       "         [199, 193, 169],\n",
       "         ...,\n",
       "         [195, 189, 167],\n",
       "         [195, 189, 167],\n",
       "         [196, 190, 168]],\n",
       "\n",
       "        [[203, 197, 173],\n",
       "         [203, 197, 173],\n",
       "         [203, 197, 173],\n",
       "         ...,\n",
       "         [193, 187, 165],\n",
       "         [195, 189, 167],\n",
       "         [196, 190, 168]],\n",
       "\n",
       "        ...,\n",
       "\n",
       "        [[ 91,  96,  73],\n",
       "         [ 87,  92,  69],\n",
       "         [ 88,  93,  70],\n",
       "         ...,\n",
       "         [ 96, 101,  78],\n",
       "         [ 96, 101,  78],\n",
       "         [ 96, 101,  78]],\n",
       "\n",
       "        [[ 92,  97,  74],\n",
       "         [ 87,  92,  69],\n",
       "         [ 91,  96,  73],\n",
       "         ...,\n",
       "         [ 95, 100,  77],\n",
       "         [ 95, 100,  77],\n",
       "         [ 95, 100,  77]],\n",
       "\n",
       "        [[ 90,  95,  72],\n",
       "         [ 89,  94,  71],\n",
       "         [ 92,  97,  74],\n",
       "         ...,\n",
       "         [ 94,  99,  76],\n",
       "         [ 94,  99,  76],\n",
       "         [ 94,  99,  76]]],\n",
       "\n",
       "\n",
       "       [[[118, 191, 226],\n",
       "         [113, 186, 221],\n",
       "         [113, 186, 222],\n",
       "         ...,\n",
       "         [106, 189, 230],\n",
       "         [115, 185, 222],\n",
       "         [144, 202, 228]],\n",
       "\n",
       "        [[114, 187, 222],\n",
       "         [109, 182, 217],\n",
       "         [109, 182, 218],\n",
       "         ...,\n",
       "         [102, 185, 226],\n",
       "         [109, 180, 216],\n",
       "         [140, 198, 226]],\n",
       "\n",
       "        [[113, 186, 221],\n",
       "         [108, 181, 217],\n",
       "         [108, 182, 219],\n",
       "         ...,\n",
       "         [100, 184, 225],\n",
       "         [108, 179, 215],\n",
       "         [141, 199, 226]],\n",
       "\n",
       "        ...,\n",
       "\n",
       "        [[105, 188, 229],\n",
       "         [101, 184, 225],\n",
       "         [102, 185, 226],\n",
       "         ...,\n",
       "         [ 90, 189, 226],\n",
       "         [108, 181, 226],\n",
       "         [144, 193, 236]],\n",
       "\n",
       "        [[112, 183, 219],\n",
       "         [108, 179, 215],\n",
       "         [109, 180, 216],\n",
       "         ...,\n",
       "         [104, 185, 214],\n",
       "         [111, 177, 210],\n",
       "         [148, 193, 229]],\n",
       "\n",
       "        [[143, 202, 227],\n",
       "         [139, 197, 225],\n",
       "         [140, 198, 225],\n",
       "         ...,\n",
       "         [146, 201, 223],\n",
       "         [142, 199, 218],\n",
       "         [166, 210, 227]]],\n",
       "\n",
       "\n",
       "       [[[127,  77,  62],\n",
       "         [144,  27,  29],\n",
       "         [150,  25,  24],\n",
       "         ...,\n",
       "         [136,  30,  26],\n",
       "         [135,  28,  25],\n",
       "         [139,  33,  29]],\n",
       "\n",
       "        [[131,  62,  50],\n",
       "         [136,   2,   7],\n",
       "         [144,   4,   5],\n",
       "         ...,\n",
       "         [127,   5,   7],\n",
       "         [128,   5,   7],\n",
       "         [134,  11,  13]],\n",
       "\n",
       "        [[144,  58,  50],\n",
       "         [149,   0,   6],\n",
       "         [159,   3,   5],\n",
       "         ...,\n",
       "         [137,   1,   7],\n",
       "         [137,   1,   7],\n",
       "         [143,   7,  12]],\n",
       "\n",
       "        ...,\n",
       "\n",
       "        [[113,  57,  53],\n",
       "         [124,   0,   5],\n",
       "         [139,   3,   1],\n",
       "         ...,\n",
       "         [135,   4,   4],\n",
       "         [133,   3,   3],\n",
       "         [139,   9,   9]],\n",
       "\n",
       "        [[114,  59,  55],\n",
       "         [123,   0,   4],\n",
       "         [137,   2,   0],\n",
       "         ...,\n",
       "         [133,   2,   3],\n",
       "         [132,   2,   2],\n",
       "         [138,   8,   8]],\n",
       "\n",
       "        [[118,  62,  58],\n",
       "         [130,   6,  11],\n",
       "         [147,  11,   9],\n",
       "         ...,\n",
       "         [140,   9,   9],\n",
       "         [138,   9,   9],\n",
       "         [144,  14,  14]]],\n",
       "\n",
       "\n",
       "       ...,\n",
       "\n",
       "\n",
       "       [[[ 66,  67,  72],\n",
       "         [ 12,  15,  20],\n",
       "         [ 20,  23,  30],\n",
       "         ...,\n",
       "         [ 20,  24,  35],\n",
       "         [ 20,  24,  35],\n",
       "         [ 20,  24,  35]],\n",
       "\n",
       "        [[ 66,  68,  73],\n",
       "         [ 13,  16,  21],\n",
       "         [ 21,  24,  31],\n",
       "         ...,\n",
       "         [ 22,  26,  37],\n",
       "         [ 22,  26,  37],\n",
       "         [ 22,  26,  37]],\n",
       "\n",
       "        [[ 67,  68,  73],\n",
       "         [ 14,  17,  22],\n",
       "         [ 22,  25,  31],\n",
       "         ...,\n",
       "         [ 23,  27,  38],\n",
       "         [ 23,  27,  38],\n",
       "         [ 23,  27,  38]],\n",
       "\n",
       "        ...,\n",
       "\n",
       "        [[ 68,  68,  72],\n",
       "         [ 12,  13,  17],\n",
       "         [ 18,  19,  23],\n",
       "         ...,\n",
       "         [ 19,  18,  23],\n",
       "         [ 19,  18,  23],\n",
       "         [ 19,  18,  23]],\n",
       "\n",
       "        [[ 68,  68,  72],\n",
       "         [ 12,  13,  17],\n",
       "         [ 18,  19,  23],\n",
       "         ...,\n",
       "         [ 19,  18,  23],\n",
       "         [ 19,  18,  23],\n",
       "         [ 19,  18,  23]],\n",
       "\n",
       "        [[ 68,  68,  72],\n",
       "         [ 12,  13,  17],\n",
       "         [ 18,  19,  23],\n",
       "         ...,\n",
       "         [ 19,  18,  23],\n",
       "         [ 19,  18,  23],\n",
       "         [ 19,  18,  23]]],\n",
       "\n",
       "\n",
       "       [[[ 62,  61,  59],\n",
       "         [ 62,  61,  59],\n",
       "         [ 62,  61,  59],\n",
       "         ...,\n",
       "         [ 62,  61,  59],\n",
       "         [ 62,  61,  59],\n",
       "         [ 62,  61,  59]],\n",
       "\n",
       "        [[ 61,  60,  58],\n",
       "         [ 61,  60,  58],\n",
       "         [ 61,  60,  58],\n",
       "         ...,\n",
       "         [ 61,  60,  58],\n",
       "         [ 61,  60,  58],\n",
       "         [ 61,  60,  58]],\n",
       "\n",
       "        [[ 60,  59,  57],\n",
       "         [ 60,  59,  57],\n",
       "         [ 60,  59,  57],\n",
       "         ...,\n",
       "         [ 60,  59,  57],\n",
       "         [ 60,  59,  57],\n",
       "         [ 60,  59,  57]],\n",
       "\n",
       "        ...,\n",
       "\n",
       "        [[ 56,  52,  51],\n",
       "         [ 56,  52,  51],\n",
       "         [ 56,  52,  51],\n",
       "         ...,\n",
       "         [ 56,  52,  51],\n",
       "         [ 56,  52,  51],\n",
       "         [ 56,  52,  51]],\n",
       "\n",
       "        [[ 56,  52,  51],\n",
       "         [ 56,  52,  51],\n",
       "         [ 56,  52,  51],\n",
       "         ...,\n",
       "         [ 56,  52,  51],\n",
       "         [ 56,  52,  51],\n",
       "         [ 56,  52,  51]],\n",
       "\n",
       "        [[ 56,  52,  51],\n",
       "         [ 56,  52,  51],\n",
       "         [ 56,  52,  51],\n",
       "         ...,\n",
       "         [ 56,  52,  51],\n",
       "         [ 56,  52,  51],\n",
       "         [ 56,  52,  51]]],\n",
       "\n",
       "\n",
       "       [[[225,  67,  40],\n",
       "         [236,  78,  51],\n",
       "         [221,  63,  36],\n",
       "         ...,\n",
       "         [231,  73,  46],\n",
       "         [224,  66,  39],\n",
       "         [225,  67,  40]],\n",
       "\n",
       "        [[220,  62,  35],\n",
       "         [239,  81,  54],\n",
       "         [224,  66,  39],\n",
       "         ...,\n",
       "         [227,  69,  42],\n",
       "         [228,  70,  43],\n",
       "         [228,  70,  43]],\n",
       "\n",
       "        [[223,  65,  38],\n",
       "         [231,  73,  46],\n",
       "         [229,  71,  44],\n",
       "         ...,\n",
       "         [230,  72,  45],\n",
       "         [228,  70,  43],\n",
       "         [224,  66,  39]],\n",
       "\n",
       "        ...,\n",
       "\n",
       "        [[220,  66,  40],\n",
       "         [224,  70,  44],\n",
       "         [217,  63,  37],\n",
       "         ...,\n",
       "         [227,  73,  45],\n",
       "         [218,  65,  38],\n",
       "         [214,  63,  36]],\n",
       "\n",
       "        [[216,  62,  36],\n",
       "         [220,  66,  40],\n",
       "         [220,  66,  40],\n",
       "         ...,\n",
       "         [227,  73,  45],\n",
       "         [216,  62,  35],\n",
       "         [214,  63,  36]],\n",
       "\n",
       "        [[229,  75,  49],\n",
       "         [217,  63,  37],\n",
       "         [218,  64,  38],\n",
       "         ...,\n",
       "         [227,  73,  45],\n",
       "         [214,  60,  34],\n",
       "         [214,  63,  36]]]], dtype=uint8)"
      ]
     },
     "execution_count": 11,
     "metadata": {},
     "output_type": "execute_result"
    }
   ],
   "source": [
    "X_train"
   ]
  },
  {
   "cell_type": "code",
   "execution_count": 12,
   "metadata": {},
   "outputs": [],
   "source": [
    "y_train = y_train['Genre_id']"
   ]
  },
  {
   "cell_type": "code",
   "execution_count": 13,
   "metadata": {},
   "outputs": [
    {
     "data": {
      "text/plain": [
       "Id\n",
       "0         1\n",
       "1         4\n",
       "2        10\n",
       "3         9\n",
       "4        26\n",
       "         ..\n",
       "51295    17\n",
       "51296    17\n",
       "51297    17\n",
       "51298    17\n",
       "51299    17\n",
       "Name: Genre_id, Length: 51300, dtype: int64"
      ]
     },
     "execution_count": 13,
     "metadata": {},
     "output_type": "execute_result"
    }
   ],
   "source": [
    "y_train"
   ]
  },
  {
   "cell_type": "code",
   "execution_count": 14,
   "metadata": {},
   "outputs": [],
   "source": [
    "y_test = y_test['Genre_id']"
   ]
  },
  {
   "cell_type": "code",
   "execution_count": 15,
   "metadata": {},
   "outputs": [
    {
     "data": {
      "text/plain": [
       "((51300, 100, 100, 3), (51300,))"
      ]
     },
     "execution_count": 15,
     "metadata": {},
     "output_type": "execute_result"
    }
   ],
   "source": [
    "(X_train.shape, y_train.shape)"
   ]
  },
  {
   "attachments": {},
   "cell_type": "markdown",
   "metadata": {},
   "source": [
    "## Normalise train and test data - **add this to preprocessing**"
   ]
  },
  {
   "cell_type": "code",
   "execution_count": 16,
   "metadata": {},
   "outputs": [],
   "source": [
    "X_train = X_train / 255\n",
    "X_test = X_test / 255"
   ]
  },
  {
   "cell_type": "code",
   "execution_count": 17,
   "metadata": {},
   "outputs": [
    {
     "name": "stdout",
     "output_type": "stream",
     "text": [
      "(51300, 100, 100, 3)\n",
      "(5700, 100, 100, 3)\n"
     ]
    }
   ],
   "source": [
    "print(X_train.shape)\n",
    "print(X_test.shape)"
   ]
  },
  {
   "attachments": {},
   "cell_type": "markdown",
   "metadata": {},
   "source": [
    "## One-Hot-Encode target y - **add this to preprocessing**"
   ]
  },
  {
   "cell_type": "code",
   "execution_count": 18,
   "metadata": {},
   "outputs": [
    {
     "data": {
      "text/plain": [
       "Id\n",
       "0       16\n",
       "1       28\n",
       "2        1\n",
       "3       21\n",
       "4        0\n",
       "        ..\n",
       "5695    17\n",
       "5696    17\n",
       "5697    17\n",
       "5698    17\n",
       "5699    17\n",
       "Name: Genre_id, Length: 5700, dtype: int64"
      ]
     },
     "execution_count": 18,
     "metadata": {},
     "output_type": "execute_result"
    }
   ],
   "source": [
    "y_test "
   ]
  },
  {
   "cell_type": "code",
   "execution_count": 19,
   "metadata": {},
   "outputs": [
    {
     "data": {
      "text/plain": [
       "30"
      ]
     },
     "execution_count": 19,
     "metadata": {},
     "output_type": "execute_result"
    }
   ],
   "source": [
    "len(np.unique(y_test))"
   ]
  },
  {
   "cell_type": "code",
   "execution_count": 20,
   "metadata": {},
   "outputs": [],
   "source": [
    "y_train_cat = to_categorical(y_train, num_classes=30)\n",
    "y_test_cat = to_categorical(y_test, num_classes=30)"
   ]
  },
  {
   "cell_type": "code",
   "execution_count": 21,
   "metadata": {},
   "outputs": [
    {
     "data": {
      "text/plain": [
       "((51300, 30), (5700, 30))"
      ]
     },
     "execution_count": 21,
     "metadata": {},
     "output_type": "execute_result"
    }
   ],
   "source": [
    "y_train_cat.shape, y_test_cat.shape"
   ]
  },
  {
   "cell_type": "code",
   "execution_count": 22,
   "metadata": {},
   "outputs": [
    {
     "data": {
      "text/plain": [
       "((51300, 100, 100, 3), (51300, 30))"
      ]
     },
     "execution_count": 22,
     "metadata": {},
     "output_type": "execute_result"
    }
   ],
   "source": [
    "X_train.shape, y_train_cat.shape"
   ]
  },
  {
   "attachments": {},
   "cell_type": "markdown",
   "metadata": {},
   "source": [
    "## CNN - dummy model"
   ]
  },
  {
   "cell_type": "code",
   "execution_count": 26,
   "metadata": {},
   "outputs": [],
   "source": [
    "def initialize_model():\n",
    "    model = models.Sequential()\n",
    "    \n",
    "    # Convolution 1 & MaxPooling\n",
    "    model.add(layers.Conv2D(8, (4,4), input_shape=(100, 100, 3), padding='same', activation=\"relu\"))\n",
    "    model.add(layers.MaxPool2D(pool_size=(2,2)))\n",
    "    \n",
    "    # Convolution 2 & MaxPooling\n",
    "    model.add(layers.Conv2D(32, (3,3), padding='same', activation=\"relu\"))\n",
    "    model.add(layers.MaxPool2D(pool_size=(2,2)))\n",
    "    \n",
    "    # Convolution 3 & MaxPooling\n",
    "    model.add(layers.Conv2D(64, (3,3), padding='same', activation=\"relu\"))\n",
    "    model.add(layers.MaxPool2D(pool_size=(2,2)))\n",
    "    \n",
    "    # Convolution 4 & MaxPooling\n",
    "    model.add(layers.Conv2D(64, (2,2), padding='same', activation=\"relu\"))\n",
    "    model.add(layers.MaxPool2D(pool_size=(2,2)))\n",
    "    \n",
    "    # Flattening\n",
    "    model.add(layers.Flatten())\n",
    "    \n",
    "    # Hidden Dense layer\n",
    "    model.add(layers.Dense(60, activation='relu'))\n",
    "    model.add(layers.Dropout(rate=0.2))\n",
    "    \n",
    "    ### Last layer - Classification Layer with 30 outputs corresponding to 30 digits\n",
    "    model.add(layers.Dense(30, activation='softmax'))\n",
    "    \n",
    "    ## Model compilation\n",
    "    model.compile(loss='categorical_crossentropy',\n",
    "                 optimizer='adam',\n",
    "                 metrics=['accuracy'])\n",
    "    \n",
    "    return model"
   ]
  },
  {
   "cell_type": "code",
   "execution_count": 27,
   "metadata": {},
   "outputs": [
    {
     "name": "stdout",
     "output_type": "stream",
     "text": [
      "Model: \"sequential_2\"\n",
      "_________________________________________________________________\n",
      " Layer (type)                Output Shape              Param #   \n",
      "=================================================================\n",
      " conv2d_8 (Conv2D)           (None, 100, 100, 8)       392       \n",
      "                                                                 \n",
      " max_pooling2d_8 (MaxPoolin  (None, 50, 50, 8)         0         \n",
      " g2D)                                                            \n",
      "                                                                 \n",
      " conv2d_9 (Conv2D)           (None, 50, 50, 32)        2336      \n",
      "                                                                 \n",
      " max_pooling2d_9 (MaxPoolin  (None, 25, 25, 32)        0         \n",
      " g2D)                                                            \n",
      "                                                                 \n",
      " conv2d_10 (Conv2D)          (None, 25, 25, 64)        18496     \n",
      "                                                                 \n",
      " max_pooling2d_10 (MaxPooli  (None, 12, 12, 64)        0         \n",
      " ng2D)                                                           \n",
      "                                                                 \n",
      " conv2d_11 (Conv2D)          (None, 12, 12, 64)        16448     \n",
      "                                                                 \n",
      " max_pooling2d_11 (MaxPooli  (None, 6, 6, 64)          0         \n",
      " ng2D)                                                           \n",
      "                                                                 \n",
      " flatten_2 (Flatten)         (None, 2304)              0         \n",
      "                                                                 \n",
      " dense_4 (Dense)             (None, 60)                138300    \n",
      "                                                                 \n",
      " dropout_2 (Dropout)         (None, 60)                0         \n",
      "                                                                 \n",
      " dense_5 (Dense)             (None, 30)                1830      \n",
      "                                                                 \n",
      "=================================================================\n",
      "Total params: 177802 (694.54 KB)\n",
      "Trainable params: 177802 (694.54 KB)\n",
      "Non-trainable params: 0 (0.00 Byte)\n",
      "_________________________________________________________________\n"
     ]
    }
   ],
   "source": [
    "model = initialize_model()\n",
    "model.summary()"
   ]
  },
  {
   "cell_type": "code",
   "execution_count": 28,
   "metadata": {},
   "outputs": [
    {
     "name": "stdout",
     "output_type": "stream",
     "text": [
      "Epoch 1/5\n",
      "165/165 [==============================] - 68s 407ms/step - loss: 3.3527 - accuracy: 0.0506 - val_loss: 3.8345 - val_accuracy: 0.0013\n",
      "Epoch 2/5\n",
      "165/165 [==============================] - 62s 379ms/step - loss: 3.2776 - accuracy: 0.0713 - val_loss: 3.7585 - val_accuracy: 0.0100\n",
      "Epoch 3/5\n",
      "165/165 [==============================] - 60s 365ms/step - loss: 3.2072 - accuracy: 0.0944 - val_loss: 3.8047 - val_accuracy: 0.0340\n",
      "Epoch 4/5\n",
      "165/165 [==============================] - 59s 355ms/step - loss: 3.1491 - accuracy: 0.1092 - val_loss: 3.5287 - val_accuracy: 0.0683\n",
      "Epoch 5/5\n",
      "165/165 [==============================] - 55s 331ms/step - loss: 3.1052 - accuracy: 0.1240 - val_loss: 3.6179 - val_accuracy: 0.0431\n"
     ]
    },
    {
     "data": {
      "text/plain": [
       "<keras.src.callbacks.History at 0x28b16f520>"
      ]
     },
     "execution_count": 28,
     "metadata": {},
     "output_type": "execute_result"
    }
   ],
   "source": [
    "model = initialize_model()\n",
    "es = EarlyStopping(patience=10, restore_best_weights=True)\n",
    "\n",
    "model.fit(X_train, y_train_cat,\n",
    "         validation_split = 0.2,\n",
    "         epochs=5, \n",
    "         batch_size=250,\n",
    "         verbose=1, \n",
    "         callbacks=[es])"
   ]
  },
  {
   "cell_type": "code",
   "execution_count": 29,
   "metadata": {},
   "outputs": [
    {
     "name": "stdout",
     "output_type": "stream",
     "text": [
      "179/179 [==============================] - 2s 13ms/step - loss: 3.2168 - accuracy: 0.1075\n"
     ]
    },
    {
     "data": {
      "text/plain": [
       "0.10754386335611343"
      ]
     },
     "execution_count": 29,
     "metadata": {},
     "output_type": "execute_result"
    }
   ],
   "source": [
    "model.evaluate(X_test, y_test_cat)[1]"
   ]
  },
  {
   "attachments": {},
   "cell_type": "markdown",
   "metadata": {},
   "source": [
    "10.8% accuracy in first model"
   ]
  },
  {
   "attachments": {},
   "cell_type": "markdown",
   "metadata": {},
   "source": [
    "## Improving the CNN"
   ]
  },
  {
   "cell_type": "code",
   "execution_count": 41,
   "metadata": {},
   "outputs": [
    {
     "name": "stdout",
     "output_type": "stream",
     "text": [
      "------------------ Before -----------------\n",
      "(51300, 100, 100, 3) (5700, 100, 100, 3)\n",
      "\n",
      "--- After applying the reduction factor ---\n",
      "(5130, 100, 100, 3) (570, 100, 100, 3)\n",
      "\n",
      "-------------------------------------------\n"
     ]
    },
    {
     "data": {
      "text/plain": [
       "{0.0: 148770, 1.0: 5130}"
      ]
     },
     "execution_count": 41,
     "metadata": {},
     "output_type": "execute_result"
    }
   ],
   "source": [
    "# Considering only 1/10th of the 50_000 images\n",
    "reduction_factor = 10\n",
    "\n",
    "# Choosing the random indices of small train set and small test set\n",
    "idx_train =  np.random.choice(len(X_train), round(len(X_train)/reduction_factor), replace=False)\n",
    "idx_test =  np.random.choice(len(X_test), round(len(X_test)/reduction_factor), replace=False)\n",
    "\n",
    "# Collecting the two subsamples images_train_small and images_test_small from images_train and images_test\n",
    "X_train_small = X_train[idx_train]\n",
    "X_test_small = X_test[idx_test]\n",
    "# and their corresponding labels\n",
    "y_train_small = y_train_cat[idx_train]\n",
    "y_test_small = y_test_cat[idx_test]\n",
    "\n",
    "print(\"------------------ Before -----------------\")\n",
    "print(X_train.shape, X_test.shape)\n",
    "\n",
    "print(\"\")\n",
    "\n",
    "print(\"--- After applying the reduction factor ---\")\n",
    "print(X_train_small.shape, X_test_small.shape)\n",
    "\n",
    "print(\"\")\n",
    "print(\"-\"*43)\n",
    "\n",
    "unique, counts = np.unique(y_train_small, return_counts=True)\n",
    "dict(zip(unique, counts))"
   ]
  },
  {
   "cell_type": "code",
   "execution_count": 42,
   "metadata": {},
   "outputs": [
    {
     "data": {
      "text/plain": [
       "((51300, 100, 100, 3), (5130, 100, 100, 3), (5130, 30))"
      ]
     },
     "execution_count": 42,
     "metadata": {},
     "output_type": "execute_result"
    }
   ],
   "source": [
    "X_train.shape, X_train_small.shape, y_train_small.shape"
   ]
  },
  {
   "cell_type": "code",
   "execution_count": 43,
   "metadata": {},
   "outputs": [],
   "source": [
    "def initialize_model():\n",
    "    '''instanciate and return the CNN architecture of your choice with less than 150,000 params'''\n",
    "    model = models.Sequential()\n",
    "    model.add(layers.Conv2D(16, (3,3), input_shape=(100, 100, 3), padding='same', strides=(1,1), activation='relu'))\n",
    "    model.add(layers.MaxPool2D(pool_size=(2,2)))\n",
    "    model.add(layers.Conv2D(32, (2,2), padding='same', strides=(1,1), activation='relu'))\n",
    "    model.add(layers.MaxPool2D(pool_size=(2,2)))\n",
    "    model.add(layers.Conv2D(64, (2,2), padding='same', strides=(1,1), activation='relu'))\n",
    "    model.add(layers.MaxPool2D(pool_size=(2,2)))\n",
    "    \n",
    "    model.add(layers.Flatten())\n",
    "\n",
    "    model.add(layers.Dense(50, activation='relu'))\n",
    "    model.add(layers.Dropout(rate=0.2))\n",
    "    \n",
    "    model.add(layers.Dense(30, activation='softmax'))\n",
    "    \n",
    "    # compile model\n",
    "    model.compile(loss='categorical_crossentropy',\n",
    "                  optimizer='adam',\n",
    "                  metrics=['accuracy'])\n",
    "    \n",
    "    return model"
   ]
  },
  {
   "cell_type": "code",
   "execution_count": 45,
   "metadata": {},
   "outputs": [
    {
     "name": "stdout",
     "output_type": "stream",
     "text": [
      "Epoch 1/50\n",
      "1283/1283 [==============================] - 68s 53ms/step - loss: 3.3323 - accuracy: 0.0559 - val_loss: 3.7759 - val_accuracy: 0.0196\n",
      "Epoch 2/50\n",
      "1283/1283 [==============================] - 58s 45ms/step - loss: 3.2242 - accuracy: 0.0867 - val_loss: 3.6021 - val_accuracy: 0.0508\n",
      "Epoch 3/50\n",
      "1283/1283 [==============================] - 59s 46ms/step - loss: 3.1382 - accuracy: 0.1097 - val_loss: 3.6029 - val_accuracy: 0.0691\n",
      "Epoch 4/50\n",
      "1283/1283 [==============================] - 56s 44ms/step - loss: 3.0768 - accuracy: 0.1241 - val_loss: 3.5496 - val_accuracy: 0.0612\n",
      "Epoch 5/50\n",
      "1283/1283 [==============================] - 58s 45ms/step - loss: 3.0239 - accuracy: 0.1366 - val_loss: 3.5050 - val_accuracy: 0.0638\n",
      "Epoch 6/50\n",
      "1283/1283 [==============================] - 55s 43ms/step - loss: 2.9669 - accuracy: 0.1500 - val_loss: 3.5308 - val_accuracy: 0.0685\n",
      "Epoch 7/50\n",
      "1283/1283 [==============================] - 57s 44ms/step - loss: 2.9105 - accuracy: 0.1602 - val_loss: 3.5838 - val_accuracy: 0.0701\n",
      "Epoch 8/50\n",
      "1283/1283 [==============================] - 58s 45ms/step - loss: 2.8460 - accuracy: 0.1749 - val_loss: 3.6534 - val_accuracy: 0.0643\n",
      "Epoch 9/50\n",
      "1283/1283 [==============================] - 60s 47ms/step - loss: 2.7967 - accuracy: 0.1858 - val_loss: 3.6993 - val_accuracy: 0.0734\n",
      "Epoch 10/50\n",
      "1283/1283 [==============================] - 55s 43ms/step - loss: 2.7325 - accuracy: 0.1976 - val_loss: 3.7920 - val_accuracy: 0.0677\n"
     ]
    }
   ],
   "source": [
    "model = initialize_model()\n",
    "\n",
    "es = EarlyStopping(patience=5, restore_best_weights=True)\n",
    "\n",
    "history = model.fit(X_train, y_train_cat,\n",
    "         validation_split = 0.2,\n",
    "         epochs=50, \n",
    "         batch_size=32,\n",
    "         verbose=1, \n",
    "         callbacks=[es])"
   ]
  },
  {
   "cell_type": "code",
   "execution_count": 47,
   "metadata": {},
   "outputs": [],
   "source": [
    "def plot_history(history, title='', axs=None, exp_name=\"\"):\n",
    "    if axs is not None:\n",
    "        ax1, ax2 = axs\n",
    "    else:\n",
    "        f, (ax1, ax2) = plt.subplots(1, 2, figsize=(12, 4))\n",
    "    \n",
    "    if len(exp_name) > 0 and exp_name[0] != '_':\n",
    "        exp_name = '_' + exp_name\n",
    "    ax1.plot(history.history['loss'], label = 'train' + exp_name)\n",
    "    ax1.plot(history.history['val_loss'], label = 'val' + exp_name)\n",
    "    ax1.set_ylim(0., 2.2)\n",
    "    ax1.set_title('loss')\n",
    "    ax1.legend()\n",
    "\n",
    "    ax2.plot(history.history['accuracy'], label='train accuracy'  + exp_name)\n",
    "    ax2.plot(history.history['val_accuracy'], label='val accuracy'  + exp_name)\n",
    "    ax2.set_ylim(0.25, 1.)\n",
    "    ax2.set_title('Accuracy')\n",
    "    ax2.legend()\n",
    "    return (ax1, ax2)"
   ]
  },
  {
   "cell_type": "code",
   "execution_count": 50,
   "metadata": {},
   "outputs": [
    {
     "data": {
      "text/plain": [
       "(<AxesSubplot:title={'center':'loss'}>,\n",
       " <AxesSubplot:title={'center':'Accuracy'}>)"
      ]
     },
     "execution_count": 50,
     "metadata": {},
     "output_type": "execute_result"
    },
    {
     "data": {
      "image/png": "[encoded data removed]",
      "text/plain": [
       "<Figure size 1200x400 with 2 Axes>"
      ]
     },
     "metadata": {},
     "output_type": "display_data"
    }
   ],
   "source": [
    "plot_history(history)"
   ]
  },
  {
   "cell_type": "code",
   "execution_count": 46,
   "metadata": {},
   "outputs": [
    {
     "name": "stdout",
     "output_type": "stream",
     "text": [
      "179/179 [==============================] - 2s 13ms/step - loss: 3.1592 - accuracy: 0.1249\n"
     ]
    },
    {
     "data": {
      "text/plain": [
       "0.12491228431463242"
      ]
     },
     "execution_count": 46,
     "metadata": {},
     "output_type": "execute_result"
    }
   ],
   "source": [
    "model.evaluate(X_test, y_test_cat)[1]"
   ]
  },
  {
   "cell_type": "code",
   "execution_count": null,
   "metadata": {},
   "outputs": [],
   "source": []
  }
 ],
 "metadata": {
  "kernelspec": {
   "display_name": "lewagon",
   "language": "python",
   "name": "python3"
  },
  "language_info": {
   "codemirror_mode": {
    "name": "ipython",
    "version": 3
   },
   "file_extension": ".py",
   "mimetype": "text/x-python",
   "name": "python",
   "nbconvert_exporter": "python",
   "pygments_lexer": "ipython3",
   "version": "3.10.6"
  },
  "orig_nbformat": 4
 },
 "nbformat": 4,
 "nbformat_minor": 2
}

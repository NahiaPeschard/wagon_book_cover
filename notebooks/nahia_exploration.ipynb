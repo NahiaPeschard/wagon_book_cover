{
 "cells": [
  {
   "cell_type": "code",
   "execution_count": 114,
   "metadata": {},
   "outputs": [],
   "source": [
    "import pandas as pd\n",
    "import seaborn as sns\n",
    "import matplotlib.pyplot as plt"
   ]
  },
  {
   "attachments": {},
   "cell_type": "markdown",
   "metadata": {},
   "source": [
    "# Importing train datasets"
   ]
  },
  {
   "cell_type": "code",
   "execution_count": 38,
   "metadata": {},
   "outputs": [],
   "source": [
    "X_train = pd.read_csv(\"../raw_data/train_x.csv\", delimiter=\" \", index_col=\"Id\")\n",
    "y_train = pd.read_csv(\"../raw_data/train_y.csv\", delimiter=\" \", index_col=\"Id\")"
   ]
  },
  {
   "cell_type": "code",
   "execution_count": 39,
   "metadata": {},
   "outputs": [
    {
     "data": {
      "text/html": [
       "<div>\n",
       "<style scoped>\n",
       "    .dataframe tbody tr th:only-of-type {\n",
       "        vertical-align: middle;\n",
       "    }\n",
       "\n",
       "    .dataframe tbody tr th {\n",
       "        vertical-align: top;\n",
       "    }\n",
       "\n",
       "    .dataframe thead th {\n",
       "        text-align: right;\n",
       "    }\n",
       "</style>\n",
       "<table border=\"1\" class=\"dataframe\">\n",
       "  <thead>\n",
       "    <tr style=\"text-align: right;\">\n",
       "      <th></th>\n",
       "      <th>Image_name</th>\n",
       "      <th>Title</th>\n",
       "    </tr>\n",
       "    <tr>\n",
       "      <th>Id</th>\n",
       "      <th></th>\n",
       "      <th></th>\n",
       "    </tr>\n",
       "  </thead>\n",
       "  <tbody>\n",
       "    <tr>\n",
       "      <th>51295</th>\n",
       "      <td>0399176055.jpg</td>\n",
       "      <td>Extreme Prey</td>\n",
       "    </tr>\n",
       "    <tr>\n",
       "      <th>51296</th>\n",
       "      <td>0719816629.jpg</td>\n",
       "      <td>The Crime Writer's Guide to Police Practice an...</td>\n",
       "    </tr>\n",
       "    <tr>\n",
       "      <th>51297</th>\n",
       "      <td>0385353596.jpg</td>\n",
       "      <td>The Jezebel Remedy: A novel</td>\n",
       "    </tr>\n",
       "    <tr>\n",
       "      <th>51298</th>\n",
       "      <td>1475988559.jpg</td>\n",
       "      <td>Startup</td>\n",
       "    </tr>\n",
       "    <tr>\n",
       "      <th>51299</th>\n",
       "      <td>045147483X.jpg</td>\n",
       "      <td>Killer Takeout: A Key West Food Critic Mystery</td>\n",
       "    </tr>\n",
       "  </tbody>\n",
       "</table>\n",
       "</div>"
      ],
      "text/plain": [
       "           Image_name                                              Title\n",
       "Id                                                                      \n",
       "51295  0399176055.jpg                                       Extreme Prey\n",
       "51296  0719816629.jpg  The Crime Writer's Guide to Police Practice an...\n",
       "51297  0385353596.jpg                        The Jezebel Remedy: A novel\n",
       "51298  1475988559.jpg                                            Startup\n",
       "51299  045147483X.jpg     Killer Takeout: A Key West Food Critic Mystery"
      ]
     },
     "execution_count": 39,
     "metadata": {},
     "output_type": "execute_result"
    }
   ],
   "source": [
    "X_train.tail()"
   ]
  },
  {
   "cell_type": "code",
   "execution_count": 101,
   "metadata": {},
   "outputs": [
    {
     "data": {
      "text/html": [
       "<div>\n",
       "<style scoped>\n",
       "    .dataframe tbody tr th:only-of-type {\n",
       "        vertical-align: middle;\n",
       "    }\n",
       "\n",
       "    .dataframe tbody tr th {\n",
       "        vertical-align: top;\n",
       "    }\n",
       "\n",
       "    .dataframe thead th {\n",
       "        text-align: right;\n",
       "    }\n",
       "</style>\n",
       "<table border=\"1\" class=\"dataframe\">\n",
       "  <thead>\n",
       "    <tr style=\"text-align: right;\">\n",
       "      <th></th>\n",
       "      <th>Genre_id</th>\n",
       "      <th>Genre_name</th>\n",
       "    </tr>\n",
       "    <tr>\n",
       "      <th>Id</th>\n",
       "      <th></th>\n",
       "      <th></th>\n",
       "    </tr>\n",
       "  </thead>\n",
       "  <tbody>\n",
       "    <tr>\n",
       "      <th>0</th>\n",
       "      <td>1</td>\n",
       "      <td>Biographies &amp; Memoirs</td>\n",
       "    </tr>\n",
       "    <tr>\n",
       "      <th>1</th>\n",
       "      <td>4</td>\n",
       "      <td>Children's Books</td>\n",
       "    </tr>\n",
       "    <tr>\n",
       "      <th>2</th>\n",
       "      <td>10</td>\n",
       "      <td>Engineering &amp; Transportation</td>\n",
       "    </tr>\n",
       "    <tr>\n",
       "      <th>3</th>\n",
       "      <td>9</td>\n",
       "      <td>Christian Books &amp; Bibles</td>\n",
       "    </tr>\n",
       "    <tr>\n",
       "      <th>4</th>\n",
       "      <td>26</td>\n",
       "      <td>Sports &amp; Outdoors</td>\n",
       "    </tr>\n",
       "  </tbody>\n",
       "</table>\n",
       "</div>"
      ],
      "text/plain": [
       "    Genre_id                    Genre_name\n",
       "Id                                        \n",
       "0          1         Biographies & Memoirs\n",
       "1          4              Children's Books\n",
       "2         10  Engineering & Transportation\n",
       "3          9      Christian Books & Bibles\n",
       "4         26             Sports & Outdoors"
      ]
     },
     "execution_count": 101,
     "metadata": {},
     "output_type": "execute_result"
    }
   ],
   "source": [
    "y_train.head()"
   ]
  },
  {
   "attachments": {},
   "cell_type": "markdown",
   "metadata": {},
   "source": [
    "# Genres listing"
   ]
  },
  {
   "cell_type": "code",
   "execution_count": 25,
   "metadata": {},
   "outputs": [
    {
     "data": {
      "text/plain": [
       "30"
      ]
     },
     "execution_count": 25,
     "metadata": {},
     "output_type": "execute_result"
    }
   ],
   "source": [
    "y_train.Genre_name.nunique()"
   ]
  },
  {
   "cell_type": "code",
   "execution_count": 63,
   "metadata": {},
   "outputs": [],
   "source": [
    "genre_dict = y_train.set_index('Genre_id')['Genre_name'].to_dict()"
   ]
  },
  {
   "cell_type": "code",
   "execution_count": 64,
   "metadata": {},
   "outputs": [
    {
     "data": {
      "text/plain": [
       "{1: 'Biographies & Memoirs',\n",
       " 4: \"Children's Books\",\n",
       " 10: 'Engineering & Transportation',\n",
       " 9: 'Christian Books & Bibles',\n",
       " 26: 'Sports & Outdoors',\n",
       " 11: 'Health, Fitness & Dieting',\n",
       " 16: 'Medical Books',\n",
       " 23: 'Science & Math',\n",
       " 29: 'Travel',\n",
       " 2: 'Business & Money',\n",
       " 7: 'Cookbooks, Food & Wine',\n",
       " 19: 'Politics & Social Sciences',\n",
       " 8: 'Crafts, Hobbies & Home',\n",
       " 21: 'Religion & Spirituality',\n",
       " 15: 'Literature & Fiction',\n",
       " 13: 'Humor & Entertainment',\n",
       " 14: 'Law',\n",
       " 6: 'Computers & Technology',\n",
       " 28: 'Test Preparation',\n",
       " 0: 'Arts & Photography',\n",
       " 18: 'Parenting & Relationships',\n",
       " 22: 'Romance',\n",
       " 12: 'History',\n",
       " 5: 'Comics & Graphic Novels',\n",
       " 20: 'Reference',\n",
       " 27: 'Teen & Young Adult',\n",
       " 25: 'Self-Help',\n",
       " 3: 'Calendars',\n",
       " 24: 'Science Fiction & Fantasy',\n",
       " 17: 'Mystery, Thriller & Suspense'}"
      ]
     },
     "execution_count": 64,
     "metadata": {},
     "output_type": "execute_result"
    }
   ],
   "source": [
    "genre_dict"
   ]
  },
  {
   "cell_type": "code",
   "execution_count": 73,
   "metadata": {},
   "outputs": [],
   "source": [
    "fiction = [4, 15, 22, 5, 27, 24, 17]"
   ]
  },
  {
   "cell_type": "code",
   "execution_count": 74,
   "metadata": {},
   "outputs": [],
   "source": [
    "fiction_dict = {}"
   ]
  },
  {
   "cell_type": "code",
   "execution_count": 75,
   "metadata": {},
   "outputs": [],
   "source": [
    "for genre in genre_dict.keys():\n",
    "    if genre in fiction:\n",
    "        fiction_dict[genre] = [genre_dict[genre], 1]\n",
    "    else:\n",
    "        fiction_dict[genre]= [genre_dict[genre], 0]"
   ]
  },
  {
   "cell_type": "code",
   "execution_count": 76,
   "metadata": {},
   "outputs": [
    {
     "data": {
      "text/plain": [
       "{1: ['Biographies & Memoirs', 0],\n",
       " 4: [\"Children's Books\", 1],\n",
       " 10: ['Engineering & Transportation', 0],\n",
       " 9: ['Christian Books & Bibles', 0],\n",
       " 26: ['Sports & Outdoors', 0],\n",
       " 11: ['Health, Fitness & Dieting', 0],\n",
       " 16: ['Medical Books', 0],\n",
       " 23: ['Science & Math', 0],\n",
       " 29: ['Travel', 0],\n",
       " 2: ['Business & Money', 0],\n",
       " 7: ['Cookbooks, Food & Wine', 0],\n",
       " 19: ['Politics & Social Sciences', 0],\n",
       " 8: ['Crafts, Hobbies & Home', 0],\n",
       " 21: ['Religion & Spirituality', 0],\n",
       " 15: ['Literature & Fiction', 1],\n",
       " 13: ['Humor & Entertainment', 0],\n",
       " 14: ['Law', 0],\n",
       " 6: ['Computers & Technology', 0],\n",
       " 28: ['Test Preparation', 0],\n",
       " 0: ['Arts & Photography', 0],\n",
       " 18: ['Parenting & Relationships', 0],\n",
       " 22: ['Romance', 1],\n",
       " 12: ['History', 0],\n",
       " 5: ['Comics & Graphic Novels', 1],\n",
       " 20: ['Reference', 0],\n",
       " 27: ['Teen & Young Adult', 1],\n",
       " 25: ['Self-Help', 0],\n",
       " 3: ['Calendars', 0],\n",
       " 24: ['Science Fiction & Fantasy', 1],\n",
       " 17: ['Mystery, Thriller & Suspense', 1]}"
      ]
     },
     "execution_count": 76,
     "metadata": {},
     "output_type": "execute_result"
    }
   ],
   "source": [
    "fiction_dict"
   ]
  },
  {
   "cell_type": "code",
   "execution_count": 77,
   "metadata": {},
   "outputs": [
    {
     "data": {
      "text/html": [
       "<div>\n",
       "<style scoped>\n",
       "    .dataframe tbody tr th:only-of-type {\n",
       "        vertical-align: middle;\n",
       "    }\n",
       "\n",
       "    .dataframe tbody tr th {\n",
       "        vertical-align: top;\n",
       "    }\n",
       "\n",
       "    .dataframe thead th {\n",
       "        text-align: right;\n",
       "    }\n",
       "</style>\n",
       "<table border=\"1\" class=\"dataframe\">\n",
       "  <thead>\n",
       "    <tr style=\"text-align: right;\">\n",
       "      <th></th>\n",
       "      <th>0</th>\n",
       "      <th>1</th>\n",
       "    </tr>\n",
       "  </thead>\n",
       "  <tbody>\n",
       "    <tr>\n",
       "      <th>1</th>\n",
       "      <td>Biographies &amp; Memoirs</td>\n",
       "      <td>0</td>\n",
       "    </tr>\n",
       "    <tr>\n",
       "      <th>4</th>\n",
       "      <td>Children's Books</td>\n",
       "      <td>1</td>\n",
       "    </tr>\n",
       "    <tr>\n",
       "      <th>10</th>\n",
       "      <td>Engineering &amp; Transportation</td>\n",
       "      <td>0</td>\n",
       "    </tr>\n",
       "    <tr>\n",
       "      <th>9</th>\n",
       "      <td>Christian Books &amp; Bibles</td>\n",
       "      <td>0</td>\n",
       "    </tr>\n",
       "    <tr>\n",
       "      <th>26</th>\n",
       "      <td>Sports &amp; Outdoors</td>\n",
       "      <td>0</td>\n",
       "    </tr>\n",
       "  </tbody>\n",
       "</table>\n",
       "</div>"
      ],
      "text/plain": [
       "                               0  1\n",
       "1          Biographies & Memoirs  0\n",
       "4               Children's Books  1\n",
       "10  Engineering & Transportation  0\n",
       "9       Christian Books & Bibles  0\n",
       "26             Sports & Outdoors  0"
      ]
     },
     "execution_count": 77,
     "metadata": {},
     "output_type": "execute_result"
    }
   ],
   "source": [
    "genre_df = pd.DataFrame.from_dict(fiction_dict, orient='index')\n",
    "genre_df.head()"
   ]
  },
  {
   "attachments": {},
   "cell_type": "markdown",
   "metadata": {},
   "source": []
  },
  {
   "cell_type": "code",
   "execution_count": 78,
   "metadata": {},
   "outputs": [],
   "source": [
    "genre_df = genre_df.rename(columns={\n",
    "    genre_df.columns[0]: 'Genre_name',\n",
    "    genre_df.columns[1]: 'is_fiction',\n",
    "})"
   ]
  },
  {
   "cell_type": "code",
   "execution_count": 79,
   "metadata": {},
   "outputs": [
    {
     "data": {
      "text/html": [
       "<div>\n",
       "<style scoped>\n",
       "    .dataframe tbody tr th:only-of-type {\n",
       "        vertical-align: middle;\n",
       "    }\n",
       "\n",
       "    .dataframe tbody tr th {\n",
       "        vertical-align: top;\n",
       "    }\n",
       "\n",
       "    .dataframe thead th {\n",
       "        text-align: right;\n",
       "    }\n",
       "</style>\n",
       "<table border=\"1\" class=\"dataframe\">\n",
       "  <thead>\n",
       "    <tr style=\"text-align: right;\">\n",
       "      <th></th>\n",
       "      <th>Genre_name</th>\n",
       "      <th>is_fiction</th>\n",
       "    </tr>\n",
       "  </thead>\n",
       "  <tbody>\n",
       "    <tr>\n",
       "      <th>1</th>\n",
       "      <td>Biographies &amp; Memoirs</td>\n",
       "      <td>0</td>\n",
       "    </tr>\n",
       "    <tr>\n",
       "      <th>4</th>\n",
       "      <td>Children's Books</td>\n",
       "      <td>1</td>\n",
       "    </tr>\n",
       "    <tr>\n",
       "      <th>10</th>\n",
       "      <td>Engineering &amp; Transportation</td>\n",
       "      <td>0</td>\n",
       "    </tr>\n",
       "    <tr>\n",
       "      <th>9</th>\n",
       "      <td>Christian Books &amp; Bibles</td>\n",
       "      <td>0</td>\n",
       "    </tr>\n",
       "    <tr>\n",
       "      <th>26</th>\n",
       "      <td>Sports &amp; Outdoors</td>\n",
       "      <td>0</td>\n",
       "    </tr>\n",
       "  </tbody>\n",
       "</table>\n",
       "</div>"
      ],
      "text/plain": [
       "                      Genre_name  is_fiction\n",
       "1          Biographies & Memoirs           0\n",
       "4               Children's Books           1\n",
       "10  Engineering & Transportation           0\n",
       "9       Christian Books & Bibles           0\n",
       "26             Sports & Outdoors           0"
      ]
     },
     "execution_count": 79,
     "metadata": {},
     "output_type": "execute_result"
    }
   ],
   "source": [
    "genre_df.head()"
   ]
  },
  {
   "cell_type": "code",
   "execution_count": 80,
   "metadata": {},
   "outputs": [
    {
     "data": {
      "text/html": [
       "<div>\n",
       "<style scoped>\n",
       "    .dataframe tbody tr th:only-of-type {\n",
       "        vertical-align: middle;\n",
       "    }\n",
       "\n",
       "    .dataframe tbody tr th {\n",
       "        vertical-align: top;\n",
       "    }\n",
       "\n",
       "    .dataframe thead th {\n",
       "        text-align: right;\n",
       "    }\n",
       "</style>\n",
       "<table border=\"1\" class=\"dataframe\">\n",
       "  <thead>\n",
       "    <tr style=\"text-align: right;\">\n",
       "      <th></th>\n",
       "      <th>Genre_name</th>\n",
       "      <th>is_fiction</th>\n",
       "    </tr>\n",
       "  </thead>\n",
       "  <tbody>\n",
       "    <tr>\n",
       "      <th>4</th>\n",
       "      <td>Children's Books</td>\n",
       "      <td>1</td>\n",
       "    </tr>\n",
       "    <tr>\n",
       "      <th>15</th>\n",
       "      <td>Literature &amp; Fiction</td>\n",
       "      <td>1</td>\n",
       "    </tr>\n",
       "    <tr>\n",
       "      <th>22</th>\n",
       "      <td>Romance</td>\n",
       "      <td>1</td>\n",
       "    </tr>\n",
       "    <tr>\n",
       "      <th>5</th>\n",
       "      <td>Comics &amp; Graphic Novels</td>\n",
       "      <td>1</td>\n",
       "    </tr>\n",
       "    <tr>\n",
       "      <th>27</th>\n",
       "      <td>Teen &amp; Young Adult</td>\n",
       "      <td>1</td>\n",
       "    </tr>\n",
       "    <tr>\n",
       "      <th>24</th>\n",
       "      <td>Science Fiction &amp; Fantasy</td>\n",
       "      <td>1</td>\n",
       "    </tr>\n",
       "    <tr>\n",
       "      <th>17</th>\n",
       "      <td>Mystery, Thriller &amp; Suspense</td>\n",
       "      <td>1</td>\n",
       "    </tr>\n",
       "  </tbody>\n",
       "</table>\n",
       "</div>"
      ],
      "text/plain": [
       "                      Genre_name  is_fiction\n",
       "4               Children's Books           1\n",
       "15          Literature & Fiction           1\n",
       "22                       Romance           1\n",
       "5        Comics & Graphic Novels           1\n",
       "27            Teen & Young Adult           1\n",
       "24     Science Fiction & Fantasy           1\n",
       "17  Mystery, Thriller & Suspense           1"
      ]
     },
     "execution_count": 80,
     "metadata": {},
     "output_type": "execute_result"
    }
   ],
   "source": [
    "genre_df[genre_df['is_fiction'] == 1]"
   ]
  },
  {
   "cell_type": "code",
   "execution_count": 91,
   "metadata": {},
   "outputs": [
    {
     "data": {
      "text/plain": [
       "23"
      ]
     },
     "execution_count": 91,
     "metadata": {},
     "output_type": "execute_result"
    }
   ],
   "source": [
    "len(genre_df[genre_df['is_fiction'] == 0])"
   ]
  },
  {
   "cell_type": "code",
   "execution_count": 94,
   "metadata": {},
   "outputs": [],
   "source": [
    "non_fiction_dict = {\n",
    "    9: 'Religion & Spirituality', \n",
    "    21: 'Religion & Spirituality', \n",
    "    1: 'Biographies & Memoirs',\n",
    "    29: 'Travel',\n",
    "    13: 'Humor & Entertainment',\n",
    "    0: 'Arts & Photography',\n",
    "    3: 'Arts & Photography',\n",
    "    26: 'Self-Help',\n",
    "    11: 'Self-Help',\n",
    "    2: 'Self-Help',\n",
    "    7: 'Self-Help',\n",
    "    8: 'Self-Help',\n",
    "    18: 'Self-Help',\n",
    "    25: 'Self-Help',\n",
    "    10: 'Academic', \n",
    "    16: 'Academic', \n",
    "    23: 'Academic', \n",
    "    19: 'Academic', \n",
    "    14: 'Academic',\n",
    "    6: 'Academic',\n",
    "    28: 'Academic',\n",
    "    12: 'Academic',\n",
    "    20: 'Academic'\n",
    "}"
   ]
  },
  {
   "cell_type": "code",
   "execution_count": 97,
   "metadata": {},
   "outputs": [
    {
     "data": {
      "text/plain": [
       "23"
      ]
     },
     "execution_count": 97,
     "metadata": {},
     "output_type": "execute_result"
    }
   ],
   "source": [
    "len(non_fiction_dict)"
   ]
  },
  {
   "cell_type": "code",
   "execution_count": 95,
   "metadata": {},
   "outputs": [],
   "source": [
    "genre_df['non_fiction_umbrella'] = genre_df.index.map(non_fiction_dict)"
   ]
  },
  {
   "cell_type": "code",
   "execution_count": 106,
   "metadata": {},
   "outputs": [
    {
     "data": {
      "text/html": [
       "<div>\n",
       "<style scoped>\n",
       "    .dataframe tbody tr th:only-of-type {\n",
       "        vertical-align: middle;\n",
       "    }\n",
       "\n",
       "    .dataframe tbody tr th {\n",
       "        vertical-align: top;\n",
       "    }\n",
       "\n",
       "    .dataframe thead th {\n",
       "        text-align: right;\n",
       "    }\n",
       "</style>\n",
       "<table border=\"1\" class=\"dataframe\">\n",
       "  <thead>\n",
       "    <tr style=\"text-align: right;\">\n",
       "      <th></th>\n",
       "      <th>Genre_name</th>\n",
       "      <th>is_fiction</th>\n",
       "      <th>non_fiction_umbrella</th>\n",
       "    </tr>\n",
       "  </thead>\n",
       "  <tbody>\n",
       "    <tr>\n",
       "      <th>1</th>\n",
       "      <td>Biographies &amp; Memoirs</td>\n",
       "      <td>0</td>\n",
       "      <td>Biographies &amp; Memoirs</td>\n",
       "    </tr>\n",
       "    <tr>\n",
       "      <th>4</th>\n",
       "      <td>Children's Books</td>\n",
       "      <td>1</td>\n",
       "      <td>NaN</td>\n",
       "    </tr>\n",
       "    <tr>\n",
       "      <th>10</th>\n",
       "      <td>Engineering &amp; Transportation</td>\n",
       "      <td>0</td>\n",
       "      <td>Academic</td>\n",
       "    </tr>\n",
       "    <tr>\n",
       "      <th>9</th>\n",
       "      <td>Christian Books &amp; Bibles</td>\n",
       "      <td>0</td>\n",
       "      <td>Religion &amp; Spirituality</td>\n",
       "    </tr>\n",
       "    <tr>\n",
       "      <th>26</th>\n",
       "      <td>Sports &amp; Outdoors</td>\n",
       "      <td>0</td>\n",
       "      <td>Self-Help</td>\n",
       "    </tr>\n",
       "    <tr>\n",
       "      <th>11</th>\n",
       "      <td>Health, Fitness &amp; Dieting</td>\n",
       "      <td>0</td>\n",
       "      <td>Self-Help</td>\n",
       "    </tr>\n",
       "    <tr>\n",
       "      <th>16</th>\n",
       "      <td>Medical Books</td>\n",
       "      <td>0</td>\n",
       "      <td>Academic</td>\n",
       "    </tr>\n",
       "    <tr>\n",
       "      <th>23</th>\n",
       "      <td>Science &amp; Math</td>\n",
       "      <td>0</td>\n",
       "      <td>Academic</td>\n",
       "    </tr>\n",
       "    <tr>\n",
       "      <th>29</th>\n",
       "      <td>Travel</td>\n",
       "      <td>0</td>\n",
       "      <td>Travel</td>\n",
       "    </tr>\n",
       "    <tr>\n",
       "      <th>2</th>\n",
       "      <td>Business &amp; Money</td>\n",
       "      <td>0</td>\n",
       "      <td>Self-Help</td>\n",
       "    </tr>\n",
       "    <tr>\n",
       "      <th>7</th>\n",
       "      <td>Cookbooks, Food &amp; Wine</td>\n",
       "      <td>0</td>\n",
       "      <td>Self-Help</td>\n",
       "    </tr>\n",
       "    <tr>\n",
       "      <th>19</th>\n",
       "      <td>Politics &amp; Social Sciences</td>\n",
       "      <td>0</td>\n",
       "      <td>Academic</td>\n",
       "    </tr>\n",
       "    <tr>\n",
       "      <th>8</th>\n",
       "      <td>Crafts, Hobbies &amp; Home</td>\n",
       "      <td>0</td>\n",
       "      <td>Self-Help</td>\n",
       "    </tr>\n",
       "    <tr>\n",
       "      <th>21</th>\n",
       "      <td>Religion &amp; Spirituality</td>\n",
       "      <td>0</td>\n",
       "      <td>Religion &amp; Spirituality</td>\n",
       "    </tr>\n",
       "    <tr>\n",
       "      <th>15</th>\n",
       "      <td>Literature &amp; Fiction</td>\n",
       "      <td>1</td>\n",
       "      <td>NaN</td>\n",
       "    </tr>\n",
       "    <tr>\n",
       "      <th>13</th>\n",
       "      <td>Humor &amp; Entertainment</td>\n",
       "      <td>0</td>\n",
       "      <td>Humor &amp; Entertainment</td>\n",
       "    </tr>\n",
       "    <tr>\n",
       "      <th>14</th>\n",
       "      <td>Law</td>\n",
       "      <td>0</td>\n",
       "      <td>Academic</td>\n",
       "    </tr>\n",
       "    <tr>\n",
       "      <th>6</th>\n",
       "      <td>Computers &amp; Technology</td>\n",
       "      <td>0</td>\n",
       "      <td>Academic</td>\n",
       "    </tr>\n",
       "    <tr>\n",
       "      <th>28</th>\n",
       "      <td>Test Preparation</td>\n",
       "      <td>0</td>\n",
       "      <td>Academic</td>\n",
       "    </tr>\n",
       "    <tr>\n",
       "      <th>0</th>\n",
       "      <td>Arts &amp; Photography</td>\n",
       "      <td>0</td>\n",
       "      <td>Arts &amp; Photography</td>\n",
       "    </tr>\n",
       "    <tr>\n",
       "      <th>18</th>\n",
       "      <td>Parenting &amp; Relationships</td>\n",
       "      <td>0</td>\n",
       "      <td>Self-Help</td>\n",
       "    </tr>\n",
       "    <tr>\n",
       "      <th>22</th>\n",
       "      <td>Romance</td>\n",
       "      <td>1</td>\n",
       "      <td>NaN</td>\n",
       "    </tr>\n",
       "    <tr>\n",
       "      <th>12</th>\n",
       "      <td>History</td>\n",
       "      <td>0</td>\n",
       "      <td>Academic</td>\n",
       "    </tr>\n",
       "    <tr>\n",
       "      <th>5</th>\n",
       "      <td>Comics &amp; Graphic Novels</td>\n",
       "      <td>1</td>\n",
       "      <td>NaN</td>\n",
       "    </tr>\n",
       "    <tr>\n",
       "      <th>20</th>\n",
       "      <td>Reference</td>\n",
       "      <td>0</td>\n",
       "      <td>Academic</td>\n",
       "    </tr>\n",
       "    <tr>\n",
       "      <th>27</th>\n",
       "      <td>Teen &amp; Young Adult</td>\n",
       "      <td>1</td>\n",
       "      <td>NaN</td>\n",
       "    </tr>\n",
       "    <tr>\n",
       "      <th>25</th>\n",
       "      <td>Self-Help</td>\n",
       "      <td>0</td>\n",
       "      <td>Self-Help</td>\n",
       "    </tr>\n",
       "    <tr>\n",
       "      <th>3</th>\n",
       "      <td>Calendars</td>\n",
       "      <td>0</td>\n",
       "      <td>Arts &amp; Photography</td>\n",
       "    </tr>\n",
       "    <tr>\n",
       "      <th>24</th>\n",
       "      <td>Science Fiction &amp; Fantasy</td>\n",
       "      <td>1</td>\n",
       "      <td>NaN</td>\n",
       "    </tr>\n",
       "    <tr>\n",
       "      <th>17</th>\n",
       "      <td>Mystery, Thriller &amp; Suspense</td>\n",
       "      <td>1</td>\n",
       "      <td>NaN</td>\n",
       "    </tr>\n",
       "  </tbody>\n",
       "</table>\n",
       "</div>"
      ],
      "text/plain": [
       "                      Genre_name  is_fiction     non_fiction_umbrella\n",
       "1          Biographies & Memoirs           0    Biographies & Memoirs\n",
       "4               Children's Books           1                      NaN\n",
       "10  Engineering & Transportation           0                 Academic\n",
       "9       Christian Books & Bibles           0  Religion & Spirituality\n",
       "26             Sports & Outdoors           0                Self-Help\n",
       "11     Health, Fitness & Dieting           0                Self-Help\n",
       "16                 Medical Books           0                 Academic\n",
       "23                Science & Math           0                 Academic\n",
       "29                        Travel           0                   Travel\n",
       "2               Business & Money           0                Self-Help\n",
       "7         Cookbooks, Food & Wine           0                Self-Help\n",
       "19    Politics & Social Sciences           0                 Academic\n",
       "8         Crafts, Hobbies & Home           0                Self-Help\n",
       "21       Religion & Spirituality           0  Religion & Spirituality\n",
       "15          Literature & Fiction           1                      NaN\n",
       "13         Humor & Entertainment           0    Humor & Entertainment\n",
       "14                           Law           0                 Academic\n",
       "6         Computers & Technology           0                 Academic\n",
       "28              Test Preparation           0                 Academic\n",
       "0             Arts & Photography           0       Arts & Photography\n",
       "18     Parenting & Relationships           0                Self-Help\n",
       "22                       Romance           1                      NaN\n",
       "12                       History           0                 Academic\n",
       "5        Comics & Graphic Novels           1                      NaN\n",
       "20                     Reference           0                 Academic\n",
       "27            Teen & Young Adult           1                      NaN\n",
       "25                     Self-Help           0                Self-Help\n",
       "3                      Calendars           0       Arts & Photography\n",
       "24     Science Fiction & Fantasy           1                      NaN\n",
       "17  Mystery, Thriller & Suspense           1                      NaN"
      ]
     },
     "execution_count": 106,
     "metadata": {},
     "output_type": "execute_result"
    }
   ],
   "source": [
    "genre_df"
   ]
  },
  {
   "attachments": {},
   "cell_type": "markdown",
   "metadata": {},
   "source": [
    "# Checking class imbalance according to categories"
   ]
  },
  {
   "cell_type": "code",
   "execution_count": 112,
   "metadata": {},
   "outputs": [
    {
     "data": {
      "text/html": [
       "<div>\n",
       "<style scoped>\n",
       "    .dataframe tbody tr th:only-of-type {\n",
       "        vertical-align: middle;\n",
       "    }\n",
       "\n",
       "    .dataframe tbody tr th {\n",
       "        vertical-align: top;\n",
       "    }\n",
       "\n",
       "    .dataframe thead th {\n",
       "        text-align: right;\n",
       "    }\n",
       "</style>\n",
       "<table border=\"1\" class=\"dataframe\">\n",
       "  <thead>\n",
       "    <tr style=\"text-align: right;\">\n",
       "      <th></th>\n",
       "      <th>Genre_id</th>\n",
       "      <th>Genre_name</th>\n",
       "      <th>is_fiction</th>\n",
       "      <th>non_fiction_umbrella</th>\n",
       "    </tr>\n",
       "    <tr>\n",
       "      <th>Id</th>\n",
       "      <th></th>\n",
       "      <th></th>\n",
       "      <th></th>\n",
       "      <th></th>\n",
       "    </tr>\n",
       "  </thead>\n",
       "  <tbody>\n",
       "    <tr>\n",
       "      <th>0</th>\n",
       "      <td>1</td>\n",
       "      <td>Biographies &amp; Memoirs</td>\n",
       "      <td>0</td>\n",
       "      <td>Biographies &amp; Memoirs</td>\n",
       "    </tr>\n",
       "    <tr>\n",
       "      <th>1</th>\n",
       "      <td>4</td>\n",
       "      <td>Children's Books</td>\n",
       "      <td>1</td>\n",
       "      <td>NaN</td>\n",
       "    </tr>\n",
       "    <tr>\n",
       "      <th>2</th>\n",
       "      <td>10</td>\n",
       "      <td>Engineering &amp; Transportation</td>\n",
       "      <td>0</td>\n",
       "      <td>Academic</td>\n",
       "    </tr>\n",
       "    <tr>\n",
       "      <th>3</th>\n",
       "      <td>9</td>\n",
       "      <td>Christian Books &amp; Bibles</td>\n",
       "      <td>0</td>\n",
       "      <td>Religion &amp; Spirituality</td>\n",
       "    </tr>\n",
       "    <tr>\n",
       "      <th>4</th>\n",
       "      <td>26</td>\n",
       "      <td>Sports &amp; Outdoors</td>\n",
       "      <td>0</td>\n",
       "      <td>Self-Help</td>\n",
       "    </tr>\n",
       "  </tbody>\n",
       "</table>\n",
       "</div>"
      ],
      "text/plain": [
       "    Genre_id                    Genre_name  is_fiction  \\\n",
       "Id                                                       \n",
       "0          1         Biographies & Memoirs           0   \n",
       "1          4              Children's Books           1   \n",
       "2         10  Engineering & Transportation           0   \n",
       "3          9      Christian Books & Bibles           0   \n",
       "4         26             Sports & Outdoors           0   \n",
       "\n",
       "       non_fiction_umbrella  \n",
       "Id                           \n",
       "0     Biographies & Memoirs  \n",
       "1                       NaN  \n",
       "2                  Academic  \n",
       "3   Religion & Spirituality  \n",
       "4                 Self-Help  "
      ]
     },
     "execution_count": 112,
     "metadata": {},
     "output_type": "execute_result"
    }
   ],
   "source": [
    "y_train_with_umbrella = y_train[['Genre_id']].merge(genre_df, left_on='Genre_id', right_index=True).sort_index()\n",
    "y_train_with_umbrella.head()"
   ]
  },
  {
   "cell_type": "code",
   "execution_count": 131,
   "metadata": {},
   "outputs": [
    {
     "data": {
      "image/png": "[encoded data removed]",
      "text/plain": [
       "<Figure size 1000x500 with 1 Axes>"
      ]
     },
     "metadata": {},
     "output_type": "display_data"
    }
   ],
   "source": [
    "plt.figure(figsize=(10, 5))\n",
    "sns.countplot(y=\"Genre_id\", data=y_train_with_umbrella, color='black');"
   ]
  },
  {
   "cell_type": "code",
   "execution_count": 132,
   "metadata": {},
   "outputs": [
    {
     "data": {
      "image/png": "[encoded data removed]",
      "text/plain": [
       "<Figure size 1000x500 with 1 Axes>"
      ]
     },
     "metadata": {},
     "output_type": "display_data"
    }
   ],
   "source": [
    "plt.figure(figsize=(10, 5))\n",
    "sns.countplot(x=\"Genre_id\", data=y_train_with_umbrella, color='black');"
   ]
  },
  {
   "cell_type": "code",
   "execution_count": 133,
   "metadata": {},
   "outputs": [
    {
     "data": {
      "image/png": "[encoded data removed]",
      "text/plain": [
       "<Figure size 1000x500 with 1 Axes>"
      ]
     },
     "metadata": {},
     "output_type": "display_data"
    }
   ],
   "source": [
    "plt.figure(figsize=(10, 5))\n",
    "sns.countplot(y=\"non_fiction_umbrella\", data=y_train_with_umbrella, color='black');"
   ]
  },
  {
   "cell_type": "code",
   "execution_count": null,
   "metadata": {},
   "outputs": [],
   "source": []
  }
 ],
 "metadata": {
  "kernelspec": {
   "display_name": "lewagon",
   "language": "python",
   "name": "python3"
  },
  "language_info": {
   "codemirror_mode": {
    "name": "ipython",
    "version": 3
   },
   "file_extension": ".py",
   "mimetype": "text/x-python",
   "name": "python",
   "nbconvert_exporter": "python",
   "pygments_lexer": "ipython3",
   "version": "3.10.6"
  },
  "orig_nbformat": 4
 },
 "nbformat": 4,
 "nbformat_minor": 2
}
